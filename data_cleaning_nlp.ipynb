{
 "cells": [
  {
   "cell_type": "code",
   "execution_count": 1,
   "metadata": {},
   "outputs": [],
   "source": [
    "#importing libraries\n",
    "\n",
    "%matplotlib inline\n",
    "import matplotlib.pyplot as plt\n",
    "import numpy as np\n",
    "import pandas as pd"
   ]
  },
  {
   "cell_type": "code",
   "execution_count": 2,
   "metadata": {},
   "outputs": [],
   "source": [
    "pd.options.display.max_rows = 100000 #setting row boundary length\n",
    "pd.options.display.max_columns = 100000 #setting column bundary length"
   ]
  },
  {
   "cell_type": "code",
   "execution_count": 3,
   "metadata": {},
   "outputs": [
    {
     "name": "stdout",
     "output_type": "stream",
     "text": [
      "s3://adl-core-sagemaker-studio/external/User/csv_from_edh/Data_13Aug2021.csv\n"
     ]
    },
    {
     "ename": "KeyboardInterrupt",
     "evalue": "",
     "output_type": "error",
     "traceback": [
      "\u001b[0;31m---------------------------------------------------------------------------\u001b[0m",
      "\u001b[0;31mKeyboardInterrupt\u001b[0m                         Traceback (most recent call last)",
      "\u001b[0;32m<ipython-input-3-994349393e60>\u001b[0m in \u001b[0;36m<module>\u001b[0;34m\u001b[0m\n\u001b[1;32m      4\u001b[0m \u001b[0mdata_location\u001b[0m \u001b[0;34m=\u001b[0m \u001b[0;34m's3://{}/{}'\u001b[0m\u001b[0;34m.\u001b[0m\u001b[0mformat\u001b[0m\u001b[0;34m(\u001b[0m\u001b[0mbucket\u001b[0m\u001b[0;34m,\u001b[0m \u001b[0mdata_key\u001b[0m\u001b[0;34m)\u001b[0m\u001b[0;34m\u001b[0m\u001b[0;34m\u001b[0m\u001b[0m\n\u001b[1;32m      5\u001b[0m \u001b[0mprint\u001b[0m\u001b[0;34m(\u001b[0m\u001b[0mdata_location\u001b[0m\u001b[0;34m)\u001b[0m\u001b[0;34m\u001b[0m\u001b[0;34m\u001b[0m\u001b[0m\n\u001b[0;32m----> 6\u001b[0;31m \u001b[0mdf\u001b[0m\u001b[0;34m=\u001b[0m\u001b[0mpd\u001b[0m\u001b[0;34m.\u001b[0m\u001b[0mread_csv\u001b[0m\u001b[0;34m(\u001b[0m\u001b[0mdata_location\u001b[0m\u001b[0;34m)\u001b[0m\u001b[0;34m\u001b[0m\u001b[0;34m\u001b[0m\u001b[0m\n\u001b[0m",
      "\u001b[0;32m/opt/conda/lib/python3.7/site-packages/pandas/util/_decorators.py\u001b[0m in \u001b[0;36mwrapper\u001b[0;34m(*args, **kwargs)\u001b[0m\n\u001b[1;32m    309\u001b[0m                     \u001b[0mstacklevel\u001b[0m\u001b[0;34m=\u001b[0m\u001b[0mstacklevel\u001b[0m\u001b[0;34m,\u001b[0m\u001b[0;34m\u001b[0m\u001b[0;34m\u001b[0m\u001b[0m\n\u001b[1;32m    310\u001b[0m                 )\n\u001b[0;32m--> 311\u001b[0;31m             \u001b[0;32mreturn\u001b[0m \u001b[0mfunc\u001b[0m\u001b[0;34m(\u001b[0m\u001b[0;34m*\u001b[0m\u001b[0margs\u001b[0m\u001b[0;34m,\u001b[0m \u001b[0;34m**\u001b[0m\u001b[0mkwargs\u001b[0m\u001b[0;34m)\u001b[0m\u001b[0;34m\u001b[0m\u001b[0;34m\u001b[0m\u001b[0m\n\u001b[0m\u001b[1;32m    312\u001b[0m \u001b[0;34m\u001b[0m\u001b[0m\n\u001b[1;32m    313\u001b[0m         \u001b[0;32mreturn\u001b[0m \u001b[0mwrapper\u001b[0m\u001b[0;34m\u001b[0m\u001b[0;34m\u001b[0m\u001b[0m\n",
      "\u001b[0;32m/opt/conda/lib/python3.7/site-packages/pandas/io/parsers/readers.py\u001b[0m in \u001b[0;36mread_csv\u001b[0;34m(filepath_or_buffer, sep, delimiter, header, names, index_col, usecols, squeeze, prefix, mangle_dupe_cols, dtype, engine, converters, true_values, false_values, skipinitialspace, skiprows, skipfooter, nrows, na_values, keep_default_na, na_filter, verbose, skip_blank_lines, parse_dates, infer_datetime_format, keep_date_col, date_parser, dayfirst, cache_dates, iterator, chunksize, compression, thousands, decimal, lineterminator, quotechar, quoting, doublequote, escapechar, comment, encoding, encoding_errors, dialect, error_bad_lines, warn_bad_lines, on_bad_lines, delim_whitespace, low_memory, memory_map, float_precision, storage_options)\u001b[0m\n\u001b[1;32m    584\u001b[0m     \u001b[0mkwds\u001b[0m\u001b[0;34m.\u001b[0m\u001b[0mupdate\u001b[0m\u001b[0;34m(\u001b[0m\u001b[0mkwds_defaults\u001b[0m\u001b[0;34m)\u001b[0m\u001b[0;34m\u001b[0m\u001b[0;34m\u001b[0m\u001b[0m\n\u001b[1;32m    585\u001b[0m \u001b[0;34m\u001b[0m\u001b[0m\n\u001b[0;32m--> 586\u001b[0;31m     \u001b[0;32mreturn\u001b[0m \u001b[0m_read\u001b[0m\u001b[0;34m(\u001b[0m\u001b[0mfilepath_or_buffer\u001b[0m\u001b[0;34m,\u001b[0m \u001b[0mkwds\u001b[0m\u001b[0;34m)\u001b[0m\u001b[0;34m\u001b[0m\u001b[0;34m\u001b[0m\u001b[0m\n\u001b[0m\u001b[1;32m    587\u001b[0m \u001b[0;34m\u001b[0m\u001b[0m\n\u001b[1;32m    588\u001b[0m \u001b[0;34m\u001b[0m\u001b[0m\n",
      "\u001b[0;32m/opt/conda/lib/python3.7/site-packages/pandas/io/parsers/readers.py\u001b[0m in \u001b[0;36m_read\u001b[0;34m(filepath_or_buffer, kwds)\u001b[0m\n\u001b[1;32m    486\u001b[0m \u001b[0;34m\u001b[0m\u001b[0m\n\u001b[1;32m    487\u001b[0m     \u001b[0;32mwith\u001b[0m \u001b[0mparser\u001b[0m\u001b[0;34m:\u001b[0m\u001b[0;34m\u001b[0m\u001b[0;34m\u001b[0m\u001b[0m\n\u001b[0;32m--> 488\u001b[0;31m         \u001b[0;32mreturn\u001b[0m \u001b[0mparser\u001b[0m\u001b[0;34m.\u001b[0m\u001b[0mread\u001b[0m\u001b[0;34m(\u001b[0m\u001b[0mnrows\u001b[0m\u001b[0;34m)\u001b[0m\u001b[0;34m\u001b[0m\u001b[0;34m\u001b[0m\u001b[0m\n\u001b[0m\u001b[1;32m    489\u001b[0m \u001b[0;34m\u001b[0m\u001b[0m\n\u001b[1;32m    490\u001b[0m \u001b[0;34m\u001b[0m\u001b[0m\n",
      "\u001b[0;32m/opt/conda/lib/python3.7/site-packages/pandas/io/parsers/readers.py\u001b[0m in \u001b[0;36mread\u001b[0;34m(self, nrows)\u001b[0m\n\u001b[1;32m   1045\u001b[0m     \u001b[0;32mdef\u001b[0m \u001b[0mread\u001b[0m\u001b[0;34m(\u001b[0m\u001b[0mself\u001b[0m\u001b[0;34m,\u001b[0m \u001b[0mnrows\u001b[0m\u001b[0;34m=\u001b[0m\u001b[0;32mNone\u001b[0m\u001b[0;34m)\u001b[0m\u001b[0;34m:\u001b[0m\u001b[0;34m\u001b[0m\u001b[0;34m\u001b[0m\u001b[0m\n\u001b[1;32m   1046\u001b[0m         \u001b[0mnrows\u001b[0m \u001b[0;34m=\u001b[0m \u001b[0mvalidate_integer\u001b[0m\u001b[0;34m(\u001b[0m\u001b[0;34m\"nrows\"\u001b[0m\u001b[0;34m,\u001b[0m \u001b[0mnrows\u001b[0m\u001b[0;34m)\u001b[0m\u001b[0;34m\u001b[0m\u001b[0;34m\u001b[0m\u001b[0m\n\u001b[0;32m-> 1047\u001b[0;31m         \u001b[0mindex\u001b[0m\u001b[0;34m,\u001b[0m \u001b[0mcolumns\u001b[0m\u001b[0;34m,\u001b[0m \u001b[0mcol_dict\u001b[0m \u001b[0;34m=\u001b[0m \u001b[0mself\u001b[0m\u001b[0;34m.\u001b[0m\u001b[0m_engine\u001b[0m\u001b[0;34m.\u001b[0m\u001b[0mread\u001b[0m\u001b[0;34m(\u001b[0m\u001b[0mnrows\u001b[0m\u001b[0;34m)\u001b[0m\u001b[0;34m\u001b[0m\u001b[0;34m\u001b[0m\u001b[0m\n\u001b[0m\u001b[1;32m   1048\u001b[0m \u001b[0;34m\u001b[0m\u001b[0m\n\u001b[1;32m   1049\u001b[0m         \u001b[0;32mif\u001b[0m \u001b[0mindex\u001b[0m \u001b[0;32mis\u001b[0m \u001b[0;32mNone\u001b[0m\u001b[0;34m:\u001b[0m\u001b[0;34m\u001b[0m\u001b[0;34m\u001b[0m\u001b[0m\n",
      "\u001b[0;32m/opt/conda/lib/python3.7/site-packages/pandas/io/parsers/c_parser_wrapper.py\u001b[0m in \u001b[0;36mread\u001b[0;34m(self, nrows)\u001b[0m\n\u001b[1;32m    221\u001b[0m         \u001b[0;32mtry\u001b[0m\u001b[0;34m:\u001b[0m\u001b[0;34m\u001b[0m\u001b[0;34m\u001b[0m\u001b[0m\n\u001b[1;32m    222\u001b[0m             \u001b[0;32mif\u001b[0m \u001b[0mself\u001b[0m\u001b[0;34m.\u001b[0m\u001b[0mlow_memory\u001b[0m\u001b[0;34m:\u001b[0m\u001b[0;34m\u001b[0m\u001b[0;34m\u001b[0m\u001b[0m\n\u001b[0;32m--> 223\u001b[0;31m                 \u001b[0mchunks\u001b[0m \u001b[0;34m=\u001b[0m \u001b[0mself\u001b[0m\u001b[0;34m.\u001b[0m\u001b[0m_reader\u001b[0m\u001b[0;34m.\u001b[0m\u001b[0mread_low_memory\u001b[0m\u001b[0;34m(\u001b[0m\u001b[0mnrows\u001b[0m\u001b[0;34m)\u001b[0m\u001b[0;34m\u001b[0m\u001b[0;34m\u001b[0m\u001b[0m\n\u001b[0m\u001b[1;32m    224\u001b[0m                 \u001b[0;31m# destructive to chunks\u001b[0m\u001b[0;34m\u001b[0m\u001b[0;34m\u001b[0m\u001b[0;34m\u001b[0m\u001b[0m\n\u001b[1;32m    225\u001b[0m                 \u001b[0mdata\u001b[0m \u001b[0;34m=\u001b[0m \u001b[0m_concatenate_chunks\u001b[0m\u001b[0;34m(\u001b[0m\u001b[0mchunks\u001b[0m\u001b[0;34m)\u001b[0m\u001b[0;34m\u001b[0m\u001b[0;34m\u001b[0m\u001b[0m\n",
      "\u001b[0;32m/opt/conda/lib/python3.7/site-packages/pandas/_libs/parsers.pyx\u001b[0m in \u001b[0;36mpandas._libs.parsers.TextReader.read_low_memory\u001b[0;34m()\u001b[0m\n",
      "\u001b[0;32m/opt/conda/lib/python3.7/site-packages/pandas/_libs/parsers.pyx\u001b[0m in \u001b[0;36mpandas._libs.parsers.TextReader._read_rows\u001b[0;34m()\u001b[0m\n",
      "\u001b[0;32m/opt/conda/lib/python3.7/site-packages/pandas/_libs/parsers.pyx\u001b[0m in \u001b[0;36mpandas._libs.parsers.TextReader._tokenize_rows\u001b[0;34m()\u001b[0m\n",
      "\u001b[0;32m/opt/conda/lib/python3.7/site-packages/pandas/_libs/parsers.pyx\u001b[0m in \u001b[0;36mpandas._libs.parsers.raise_parser_error\u001b[0;34m()\u001b[0m\n",
      "\u001b[0;32m/opt/conda/lib/python3.7/site-packages/s3fs/core.py\u001b[0m in \u001b[0;36m_fetch_range\u001b[0;34m(self, start, end)\u001b[0m\n\u001b[1;32m   1941\u001b[0m                 \u001b[0mstart\u001b[0m\u001b[0;34m,\u001b[0m\u001b[0;34m\u001b[0m\u001b[0;34m\u001b[0m\u001b[0m\n\u001b[1;32m   1942\u001b[0m                 \u001b[0mend\u001b[0m\u001b[0;34m,\u001b[0m\u001b[0;34m\u001b[0m\u001b[0;34m\u001b[0m\u001b[0m\n\u001b[0;32m-> 1943\u001b[0;31m                 \u001b[0mreq_kw\u001b[0m\u001b[0;34m=\u001b[0m\u001b[0mself\u001b[0m\u001b[0;34m.\u001b[0m\u001b[0mreq_kw\u001b[0m\u001b[0;34m,\u001b[0m\u001b[0;34m\u001b[0m\u001b[0;34m\u001b[0m\u001b[0m\n\u001b[0m\u001b[1;32m   1944\u001b[0m             )\n\u001b[1;32m   1945\u001b[0m \u001b[0;34m\u001b[0m\u001b[0m\n",
      "\u001b[0;32m/opt/conda/lib/python3.7/site-packages/s3fs/core.py\u001b[0m in \u001b[0;36m_fetch_range\u001b[0;34m(fs, bucket, key, version_id, start, end, req_kw)\u001b[0m\n\u001b[1;32m   2084\u001b[0m         \u001b[0;34m**\u001b[0m\u001b[0mreq_kw\u001b[0m\u001b[0;34m,\u001b[0m\u001b[0;34m\u001b[0m\u001b[0;34m\u001b[0m\u001b[0m\n\u001b[1;32m   2085\u001b[0m     )\n\u001b[0;32m-> 2086\u001b[0;31m     \u001b[0;32mreturn\u001b[0m \u001b[0msync\u001b[0m\u001b[0;34m(\u001b[0m\u001b[0mfs\u001b[0m\u001b[0;34m.\u001b[0m\u001b[0mloop\u001b[0m\u001b[0;34m,\u001b[0m \u001b[0mresp\u001b[0m\u001b[0;34m[\u001b[0m\u001b[0;34m\"Body\"\u001b[0m\u001b[0;34m]\u001b[0m\u001b[0;34m.\u001b[0m\u001b[0mread\u001b[0m\u001b[0;34m)\u001b[0m\u001b[0;34m\u001b[0m\u001b[0;34m\u001b[0m\u001b[0m\n\u001b[0m",
      "\u001b[0;32m/opt/conda/lib/python3.7/site-packages/fsspec/asyn.py\u001b[0m in \u001b[0;36msync\u001b[0;34m(loop, func, timeout, *args, **kwargs)\u001b[0m\n\u001b[1;32m     57\u001b[0m     \u001b[0;32mwhile\u001b[0m \u001b[0;32mTrue\u001b[0m\u001b[0;34m:\u001b[0m\u001b[0;34m\u001b[0m\u001b[0;34m\u001b[0m\u001b[0m\n\u001b[1;32m     58\u001b[0m         \u001b[0;31m# this loops allows thread to get interrupted\u001b[0m\u001b[0;34m\u001b[0m\u001b[0;34m\u001b[0m\u001b[0;34m\u001b[0m\u001b[0m\n\u001b[0;32m---> 59\u001b[0;31m         \u001b[0;32mif\u001b[0m \u001b[0mevent\u001b[0m\u001b[0;34m.\u001b[0m\u001b[0mwait\u001b[0m\u001b[0;34m(\u001b[0m\u001b[0;36m1\u001b[0m\u001b[0;34m)\u001b[0m\u001b[0;34m:\u001b[0m\u001b[0;34m\u001b[0m\u001b[0;34m\u001b[0m\u001b[0m\n\u001b[0m\u001b[1;32m     60\u001b[0m             \u001b[0;32mbreak\u001b[0m\u001b[0;34m\u001b[0m\u001b[0;34m\u001b[0m\u001b[0m\n\u001b[1;32m     61\u001b[0m         \u001b[0;32mif\u001b[0m \u001b[0mtimeout\u001b[0m \u001b[0;32mis\u001b[0m \u001b[0;32mnot\u001b[0m \u001b[0;32mNone\u001b[0m\u001b[0;34m:\u001b[0m\u001b[0;34m\u001b[0m\u001b[0;34m\u001b[0m\u001b[0m\n",
      "\u001b[0;32m/opt/conda/lib/python3.7/threading.py\u001b[0m in \u001b[0;36mwait\u001b[0;34m(self, timeout)\u001b[0m\n\u001b[1;32m    550\u001b[0m             \u001b[0msignaled\u001b[0m \u001b[0;34m=\u001b[0m \u001b[0mself\u001b[0m\u001b[0;34m.\u001b[0m\u001b[0m_flag\u001b[0m\u001b[0;34m\u001b[0m\u001b[0;34m\u001b[0m\u001b[0m\n\u001b[1;32m    551\u001b[0m             \u001b[0;32mif\u001b[0m \u001b[0;32mnot\u001b[0m \u001b[0msignaled\u001b[0m\u001b[0;34m:\u001b[0m\u001b[0;34m\u001b[0m\u001b[0;34m\u001b[0m\u001b[0m\n\u001b[0;32m--> 552\u001b[0;31m                 \u001b[0msignaled\u001b[0m \u001b[0;34m=\u001b[0m \u001b[0mself\u001b[0m\u001b[0;34m.\u001b[0m\u001b[0m_cond\u001b[0m\u001b[0;34m.\u001b[0m\u001b[0mwait\u001b[0m\u001b[0;34m(\u001b[0m\u001b[0mtimeout\u001b[0m\u001b[0;34m)\u001b[0m\u001b[0;34m\u001b[0m\u001b[0;34m\u001b[0m\u001b[0m\n\u001b[0m\u001b[1;32m    553\u001b[0m             \u001b[0;32mreturn\u001b[0m \u001b[0msignaled\u001b[0m\u001b[0;34m\u001b[0m\u001b[0;34m\u001b[0m\u001b[0m\n\u001b[1;32m    554\u001b[0m \u001b[0;34m\u001b[0m\u001b[0m\n",
      "\u001b[0;32m/opt/conda/lib/python3.7/threading.py\u001b[0m in \u001b[0;36mwait\u001b[0;34m(self, timeout)\u001b[0m\n\u001b[1;32m    298\u001b[0m             \u001b[0;32melse\u001b[0m\u001b[0;34m:\u001b[0m\u001b[0;34m\u001b[0m\u001b[0;34m\u001b[0m\u001b[0m\n\u001b[1;32m    299\u001b[0m                 \u001b[0;32mif\u001b[0m \u001b[0mtimeout\u001b[0m \u001b[0;34m>\u001b[0m \u001b[0;36m0\u001b[0m\u001b[0;34m:\u001b[0m\u001b[0;34m\u001b[0m\u001b[0;34m\u001b[0m\u001b[0m\n\u001b[0;32m--> 300\u001b[0;31m                     \u001b[0mgotit\u001b[0m \u001b[0;34m=\u001b[0m \u001b[0mwaiter\u001b[0m\u001b[0;34m.\u001b[0m\u001b[0macquire\u001b[0m\u001b[0;34m(\u001b[0m\u001b[0;32mTrue\u001b[0m\u001b[0;34m,\u001b[0m \u001b[0mtimeout\u001b[0m\u001b[0;34m)\u001b[0m\u001b[0;34m\u001b[0m\u001b[0;34m\u001b[0m\u001b[0m\n\u001b[0m\u001b[1;32m    301\u001b[0m                 \u001b[0;32melse\u001b[0m\u001b[0;34m:\u001b[0m\u001b[0;34m\u001b[0m\u001b[0;34m\u001b[0m\u001b[0m\n\u001b[1;32m    302\u001b[0m                     \u001b[0mgotit\u001b[0m \u001b[0;34m=\u001b[0m \u001b[0mwaiter\u001b[0m\u001b[0;34m.\u001b[0m\u001b[0macquire\u001b[0m\u001b[0;34m(\u001b[0m\u001b[0;32mFalse\u001b[0m\u001b[0;34m)\u001b[0m\u001b[0;34m\u001b[0m\u001b[0;34m\u001b[0m\u001b[0m\n",
      "\u001b[0;31mKeyboardInterrupt\u001b[0m: "
     ]
    }
   ],
   "source": [
    "#Reading S3 bucket data, i.e. CSV file\n",
    "bucket='adl-core-sagemaker-studio/external/User/csv_from_edh'\n",
    "data_key = 'Data_13Aug2021.csv'\n",
    "data_location = 's3://{}/{}'.format(bucket, data_key)\n",
    "print(data_location)\n",
    "df=pd.read_csv(data_location)"
   ]
  },
  {
   "cell_type": "code",
   "execution_count": null,
   "metadata": {},
   "outputs": [
    {
     "name": "stderr",
     "output_type": "stream",
     "text": [
      "/opt/conda/lib/python3.7/site-packages/IPython/core/interactiveshell.py:3331: DtypeWarning: Columns (86,121,129,197) have mixed types.Specify dtype option on import or set low_memory=False.\n",
      "  exec(code_obj, self.user_global_ns, self.user_ns)\n"
     ]
    }
   ],
   "source": [
    "df=pd.read_csv('s3://adl-core-sagemaker-studio/external/User/csv_from_edh/Data_13Aug2021.csv')"
   ]
  },
  {
   "cell_type": "code",
   "execution_count": null,
   "metadata": {},
   "outputs": [],
   "source": [
    "df.head()"
   ]
  },
  {
   "cell_type": "code",
   "execution_count": 13,
   "metadata": {},
   "outputs": [
    {
     "data": {
      "text/plain": [
       "(247794, 208)"
      ]
     },
     "execution_count": 13,
     "metadata": {},
     "output_type": "execute_result"
    }
   ],
   "source": [
    "#display shape of the dataframe\n",
    "df.shape"
   ]
  },
  {
   "cell_type": "code",
   "execution_count": 14,
   "metadata": {},
   "outputs": [],
   "source": [
    "df = df.drop_duplicates()"
   ]
  },
  {
   "cell_type": "code",
   "execution_count": 18,
   "metadata": {},
   "outputs": [
    {
     "data": {
      "text/plain": [
       "rnk                                                       247794\n",
       "contactid                                                 247794\n",
       "transcript                                                247794\n",
       "cnt                                                       247794\n",
       "call_dur_sec                                              247794\n",
       "client_key                                                247794\n",
       "implementation_key                                        247794\n",
       "agent_key                                                 247794\n",
       "participant_key                                           247794\n",
       "team_key                                                  247794\n",
       "team_id                                                   247794\n",
       "access_direct_session_id                                       0\n",
       "service_center_interaction_id                             224134\n",
       "agent_id                                                  247794\n",
       "person_id                                                 247794\n",
       "person_internal_id                                        247794\n",
       "person_id_new                                             247794\n",
       "capis_platform_id                                         247794\n",
       "capis_client_id                                           247794\n",
       "is_enterprise_client_flag                                 247794\n",
       "call_unique_date_gmt_time_zone                            247794\n",
       "call_unique_date_cst_time_zone                            247794\n",
       "previous_call_unique_date_cst_time_zone                   231753\n",
       "call_unique_date_agent_time_zone                          247794\n",
       "call_unique_timestamp_gmt_time_zone                       247794\n",
       "call_unique_timestamp_cst_time_zone                       247794\n",
       "previous_call_unique_timestamp_cst_time_zone              231753\n",
       "call_unique_timestamp_agent_time_zone                     247794\n",
       "half_hourly_interval                                      247794\n",
       "call_unique_id                                            247794\n",
       "queue                                                     247794\n",
       "connection_id                                             247794\n",
       "call_leg_sequence                                         247794\n",
       "call_queue_number                                         247794\n",
       "call_begin_date_gmt_time_zone                             247794\n",
       "call_begin_date_cst_time_zone                             247794\n",
       "call_begin_date_agent_time_zone                           247794\n",
       "call_begin_timestamp_gmt_time_zone                        247794\n",
       "call_begin_timestamp_cst_time_zone                        247794\n",
       "call_begin_timestamp_agent_time_zone                      247794\n",
       "call_end_date_gmt_time_zone                               247794\n",
       "call_end_date_cst_time_zone                               247794\n",
       "call_end_date_agent_time_zone                             247794\n",
       "call_end_timestamp_gmt_time_zone                          247794\n",
       "call_end_timestamp_cst_time_zone                          247794\n",
       "call_end_timestamp_agent_time_zone                        247794\n",
       "queue_domain                                              236078\n",
       "queue_domain_code                                         236078\n",
       "queue_service                                              34855\n",
       "queue_service_description                                  34855\n",
       "domain_line_of_business_code                              236078\n",
       "domain_line_of_business_description                       236078\n",
       "queue_location                                            234285\n",
       "queue_is_hrbpo                                            236078\n",
       "cspro_original_interaction_id                             224134\n",
       "cspro_primary_topic                                       247794\n",
       "cspro_primary_topic_2                                     132299\n",
       "cspro_primary_topic_3                                      43260\n",
       "cspro_primary_subtopic                                    244373\n",
       "cspro_primary_subtopic_2                                  132851\n",
       "cspro_primary_subtopic_3                                   43561\n",
       "service_connect_case_reason_level_1                            0\n",
       "service_connect_case_reason_level_2                            0\n",
       "service_connect_case_reason_level_3                            0\n",
       "service_connect_case_reason_level_4                            0\n",
       "service_connect_case_reason_level_5                            0\n",
       "service_connect_case_reason_level_6                            0\n",
       "service_connect_case_reason_level_7                            0\n",
       "call_tracker_topic                                             0\n",
       "call_tracker_subtopic                                          0\n",
       "service_center_location                                   247754\n",
       "capis_platform_name                                       247794\n",
       "capis_client_name                                         247754\n",
       "cspro_call_comment                                        247794\n",
       "cspro_comment_repeatable_code                             247794\n",
       "cspro_interaction_sequence                                224134\n",
       "cspr_start_security_level_code                            224134\n",
       "cspr_end_security_level_code                              224134\n",
       "cspr_agent_cass_code                                      224134\n",
       "cspr_discussion_code                                      224134\n",
       "cspr_document_change_code                                 224134\n",
       "cspr_transfer_note_text                                   247794\n",
       "cspr_event_change_code                                    224134\n",
       "repeat_caller_alert_code                                   18112\n",
       "cspr_call_type_code                                       247794\n",
       "cspr_pass_fail_code                                        54281\n",
       "cspr_outbound_call_result_code                                12\n",
       "cspr_security_method_code                                 224027\n",
       "cspr_process_name                                          26516\n",
       "call_tracker_security_override_reason_code                     0\n",
       "call_tracker_security_override_reason_description              0\n",
       "caller_type_description                                   247794\n",
       "caller_type_code                                          224134\n",
       "channel                                                   224134\n",
       "channel_application_code                                  247794\n",
       "channel_type_code                                         247794\n",
       "caller_mood                                               224134\n",
       "call_leg_disposition                                      247794\n",
       "call_status                                               235985\n",
       "team_name                                                 247245\n",
       "source_system_code                                        247794\n",
       "agent_name                                                247794\n",
       "agent_time_zone                                           247794\n",
       "agent_location_detailed                                   247794\n",
       "agent_location                                            247794\n",
       "agent_is_manager_flag                                     247794\n",
       "associate_is_agent_flag                                   247794\n",
       "agent_job_code                                            247794\n",
       "agent_jobcode_description                                 247794\n",
       "agent_employment_status                                   247794\n",
       "agent_lan_id                                              247792\n",
       "agent_hire_date                                           247794\n",
       "agent_extension                                           247247\n",
       "call_direction                                            247794\n",
       "call_mode                                                 247794\n",
       "genesys_call_type                                         247794\n",
       "line_of_business                                          247754\n",
       "dialed_number_identification_service                       40117\n",
       "toll_free_number                                            3639\n",
       "dialed_number_identification_service_map_sub_client_id         0\n",
       "transfer_from_agent_id                                    115696\n",
       "transfer_from_dialed_number_identification_service        114285\n",
       "transfer_from_capis_platform_id                                0\n",
       "transfer_from_capis_client_id                                  0\n",
       "transfer_from_queue_number                                115697\n",
       "call_disposition                                          115697\n",
       "call_leg_transfer_disposition_description                 115697\n",
       "transfer_type                                             115697\n",
       "transfer_to_agent_id                                       63336\n",
       "transfer_to_dialed_number_identification_service          114285\n",
       "transfer_to_capis_platform_id                                  0\n",
       "transfer_to_capis_client_id                                    0\n",
       "transfer_to_queue_number                                  115697\n",
       "call_security_level_code                                  224134\n",
       "accessdirect_service_provider_id                               0\n",
       "accessdirect_service_provider_name                             0\n",
       "accessdirect_is_hewitt_provider                                0\n",
       "accessdirect_provisional_version_number                        0\n",
       "accessdirect_option_name                                       0\n",
       "cspro_reason_code                                           6301\n",
       "call_transfer_date_gmt_time_zone                          247794\n",
       "call_transfer_date_cst_time_zone                          247794\n",
       "call_transfer_date_agent_time_zone                        133067\n",
       "call_transfer_timestamp_gmt_time_zone                     247794\n",
       "call_transfer_timestamp_cst_time_zone                     247794\n",
       "call_transfer_timestamp_agent_time_zone                   133067\n",
       "agent_call_date_gmt_time_zone                             247794\n",
       "agent_call_date_cst_time_zone                             247794\n",
       "agent_call_date_agent_time_zone                           247794\n",
       "agent_call_timestamp_gmt_time_zone                        247794\n",
       "agent_call_timestamp_cst_time_zone                        247794\n",
       "agent_call_timestamp_agent_time_zone                      247794\n",
       "call_transfer_indicator                                   247794\n",
       "cspro_event_change_indicator                              247794\n",
       "cspro_call_recording_request_indicator                    247794\n",
       "call_abandoned_indicator                                  247794\n",
       "time_to_abandon                                           247794\n",
       "call_answered_indicator                                   247794\n",
       "agent_call_answer_indicator                               247794\n",
       "customer_service_only_transfered_indicator                247794\n",
       "call_internal_transfer_indicator                          247794\n",
       "call_external_transfer_indicator                          247794\n",
       "call_accessdirect_transfer_to_queue_indicator             247794\n",
       "call_secured_indicator                                    247794\n",
       "call_accessdirect_end_indicator                                0\n",
       "call_accessdirect_provider_aonhewitt_indicator                 0\n",
       "call_accessdirect_provider_other_indicator                     0\n",
       "call_accessdirect_session_indicator                            0\n",
       "call_service_center_short_call_indicator                  247794\n",
       "call_service_center_long_call_indicator                   247794\n",
       "call_recording_indicator                                  247794\n",
       "access_direct_recording_flag                              199349\n",
       "cspro_recording_flag                                      224134\n",
       "survey_offered_indicator                                  247794\n",
       "survey_election_indicator                                 247794\n",
       "case_creation_indicator                                   247794\n",
       "agent_internal_transfer_indicator                         247794\n",
       "call_leg_daily_sla_met_indicator                          247794\n",
       "call_leg_quarterly_sla_met_indicator                      247794\n",
       "call_leg_yearly_sla_met_indicator                         247794\n",
       "call_leg_daily_sla_met_description                        247794\n",
       "call_leg_quarterly_sla_met_description                    247794\n",
       "call_leg_yearly_sla_met_description                       247794\n",
       "agent_work_count                                          247794\n",
       "agent_call_dial_duration                                  247794\n",
       "agent_call_queue_duration                                 247794\n",
       "agent_call_duration                                       247794\n",
       "agent_call_hold_count                                     247794\n",
       "transfer_from_queue_duration                              112759\n",
       "transfer_to_queue_duration                                 55671\n",
       "call_wait_time                                            247794\n",
       "call_hold_time                                            247794\n",
       "call_work_time                                            247794\n",
       "call_ring_time                                            247794\n",
       "call_talk_time                                            247794\n",
       "call_handled_time                                         247794\n",
       "call_duration                                             247794\n",
       "call_leg_transfer_to_number                               114285\n",
       "duration                                                  247794\n",
       "accessdirect_exit_state                                        0\n",
       "accessdirect_exit_option                                       0\n",
       "outbound_call_leg_indicator                               247794\n",
       "load_timestamp                                            247794\n",
       "yy_mm_id_prtn                                             247794\n",
       "manager_id                                                247794\n",
       "manager_name                                              247794\n",
       "force_majeure_abandonment_rate_flag                       247794\n",
       "force_majeure_service_level_flag                          247794\n",
       "dtype: int64"
      ]
     },
     "execution_count": 18,
     "metadata": {},
     "output_type": "execute_result"
    }
   ],
   "source": [
    "df.count()"
   ]
  },
  {
   "cell_type": "code",
   "execution_count": 19,
   "metadata": {},
   "outputs": [
    {
     "name": "stdout",
     "output_type": "stream",
     "text": [
      "s3://adl-core-sagemaker-studio/external/User/csv_from_edh/Data_13Aug2021.csv\n"
     ]
    }
   ],
   "source": [
    "#Reading S3 bucket data, i.e. CSV file\n",
    "bucket='adl-core-sagemaker-studio/external/metadata/call_data_with_agent_id_joins'\n",
    "data_key = 'call_topic_mapping.csv'\n",
    "data_location1 = 's3://{}/{}'.format(bucket, data_key)\n",
    "print(data_location)\n",
    "df1=pd.read_csv(data_location1)"
   ]
  },
  {
   "cell_type": "code",
   "execution_count": 20,
   "metadata": {},
   "outputs": [
    {
     "data": {
      "text/plain": [
       "(13435, 4)"
      ]
     },
     "execution_count": 20,
     "metadata": {},
     "output_type": "execute_result"
    }
   ],
   "source": [
    "df1.shape"
   ]
  },
  {
   "cell_type": "code",
   "execution_count": 21,
   "metadata": {},
   "outputs": [
    {
     "data": {
      "text/html": [
       "<div>\n",
       "<style scoped>\n",
       "    .dataframe tbody tr th:only-of-type {\n",
       "        vertical-align: middle;\n",
       "    }\n",
       "\n",
       "    .dataframe tbody tr th {\n",
       "        vertical-align: top;\n",
       "    }\n",
       "\n",
       "    .dataframe thead th {\n",
       "        text-align: right;\n",
       "    }\n",
       "</style>\n",
       "<table border=\"1\" class=\"dataframe\">\n",
       "  <thead>\n",
       "    <tr style=\"text-align: right;\">\n",
       "      <th></th>\n",
       "      <th>CSPRO_PRIMARY_TOPIC/SECONDARY DRIVER</th>\n",
       "      <th>CSPRO_SUBTOPIC/TERTIARY DRIVER</th>\n",
       "      <th>PRIMARY DRIVER</th>\n",
       "      <th>business_process_domain</th>\n",
       "    </tr>\n",
       "  </thead>\n",
       "  <tbody>\n",
       "    <tr>\n",
       "      <th>0</th>\n",
       "      <td>ACCESS</td>\n",
       "      <td>COULD NOT AUTHENTICATE</td>\n",
       "      <td>Authentication</td>\n",
       "      <td>CIM</td>\n",
       "    </tr>\n",
       "    <tr>\n",
       "      <th>1</th>\n",
       "      <td>ACCESS</td>\n",
       "      <td>IVR/AD ISSUES</td>\n",
       "      <td>Authentication</td>\n",
       "      <td>CIM</td>\n",
       "    </tr>\n",
       "    <tr>\n",
       "      <th>2</th>\n",
       "      <td>ACCESS</td>\n",
       "      <td>PASSWORD ISSUES</td>\n",
       "      <td>Authentication</td>\n",
       "      <td>CIM</td>\n",
       "    </tr>\n",
       "    <tr>\n",
       "      <th>3</th>\n",
       "      <td>ACCESS</td>\n",
       "      <td>SECURITY QUESTIONS ISSUES</td>\n",
       "      <td>Authentication</td>\n",
       "      <td>CIM</td>\n",
       "    </tr>\n",
       "    <tr>\n",
       "      <th>4</th>\n",
       "      <td>ACCESS</td>\n",
       "      <td>SUBTOPIC -CALLER NOT AUTHORIZED</td>\n",
       "      <td>Authentication</td>\n",
       "      <td>CIM</td>\n",
       "    </tr>\n",
       "  </tbody>\n",
       "</table>\n",
       "</div>"
      ],
      "text/plain": [
       "  CSPRO_PRIMARY_TOPIC/SECONDARY DRIVER   CSPRO_SUBTOPIC/TERTIARY DRIVER  \\\n",
       "0                               ACCESS           COULD NOT AUTHENTICATE   \n",
       "1                               ACCESS                    IVR/AD ISSUES   \n",
       "2                               ACCESS                  PASSWORD ISSUES   \n",
       "3                               ACCESS        SECURITY QUESTIONS ISSUES   \n",
       "4                               ACCESS  SUBTOPIC -CALLER NOT AUTHORIZED   \n",
       "\n",
       "   PRIMARY DRIVER business_process_domain  \n",
       "0  Authentication                     CIM  \n",
       "1  Authentication                     CIM  \n",
       "2  Authentication                     CIM  \n",
       "3  Authentication                     CIM  \n",
       "4  Authentication                     CIM  "
      ]
     },
     "execution_count": 21,
     "metadata": {},
     "output_type": "execute_result"
    }
   ],
   "source": [
    "df1.head()"
   ]
  },
  {
   "cell_type": "code",
   "execution_count": 22,
   "metadata": {},
   "outputs": [],
   "source": [
    "df1.rename(columns = {'CSPRO_PRIMARY_TOPIC/SECONDARY DRIVER':'cspro_primary_topic',\n",
    "                            'CSPRO_SUBTOPIC/TERTIARY DRIVER':'cspro_primary_subtopic',\n",
    "                           'PRIMARY DRIVER':'primary driver'},inplace=True)"
   ]
  },
  {
   "cell_type": "code",
   "execution_count": 23,
   "metadata": {},
   "outputs": [
    {
     "data": {
      "text/html": [
       "<div>\n",
       "<style scoped>\n",
       "    .dataframe tbody tr th:only-of-type {\n",
       "        vertical-align: middle;\n",
       "    }\n",
       "\n",
       "    .dataframe tbody tr th {\n",
       "        vertical-align: top;\n",
       "    }\n",
       "\n",
       "    .dataframe thead th {\n",
       "        text-align: right;\n",
       "    }\n",
       "</style>\n",
       "<table border=\"1\" class=\"dataframe\">\n",
       "  <thead>\n",
       "    <tr style=\"text-align: right;\">\n",
       "      <th></th>\n",
       "      <th>cspro_primary_topic</th>\n",
       "      <th>cspro_primary_subtopic</th>\n",
       "      <th>primary driver</th>\n",
       "      <th>business_process_domain</th>\n",
       "    </tr>\n",
       "  </thead>\n",
       "  <tbody>\n",
       "    <tr>\n",
       "      <th>0</th>\n",
       "      <td>ACCESS</td>\n",
       "      <td>COULD NOT AUTHENTICATE</td>\n",
       "      <td>Authentication</td>\n",
       "      <td>CIM</td>\n",
       "    </tr>\n",
       "    <tr>\n",
       "      <th>1</th>\n",
       "      <td>ACCESS</td>\n",
       "      <td>IVR/AD ISSUES</td>\n",
       "      <td>Authentication</td>\n",
       "      <td>CIM</td>\n",
       "    </tr>\n",
       "    <tr>\n",
       "      <th>2</th>\n",
       "      <td>ACCESS</td>\n",
       "      <td>PASSWORD ISSUES</td>\n",
       "      <td>Authentication</td>\n",
       "      <td>CIM</td>\n",
       "    </tr>\n",
       "    <tr>\n",
       "      <th>3</th>\n",
       "      <td>ACCESS</td>\n",
       "      <td>SECURITY QUESTIONS ISSUES</td>\n",
       "      <td>Authentication</td>\n",
       "      <td>CIM</td>\n",
       "    </tr>\n",
       "    <tr>\n",
       "      <th>4</th>\n",
       "      <td>ACCESS</td>\n",
       "      <td>SUBTOPIC -CALLER NOT AUTHORIZED</td>\n",
       "      <td>Authentication</td>\n",
       "      <td>CIM</td>\n",
       "    </tr>\n",
       "  </tbody>\n",
       "</table>\n",
       "</div>"
      ],
      "text/plain": [
       "  cspro_primary_topic           cspro_primary_subtopic  primary driver  \\\n",
       "0              ACCESS           COULD NOT AUTHENTICATE  Authentication   \n",
       "1              ACCESS                    IVR/AD ISSUES  Authentication   \n",
       "2              ACCESS                  PASSWORD ISSUES  Authentication   \n",
       "3              ACCESS        SECURITY QUESTIONS ISSUES  Authentication   \n",
       "4              ACCESS  SUBTOPIC -CALLER NOT AUTHORIZED  Authentication   \n",
       "\n",
       "  business_process_domain  \n",
       "0                     CIM  \n",
       "1                     CIM  \n",
       "2                     CIM  \n",
       "3                     CIM  \n",
       "4                     CIM  "
      ]
     },
     "execution_count": 23,
     "metadata": {},
     "output_type": "execute_result"
    }
   ],
   "source": [
    "df1.head()"
   ]
  },
  {
   "cell_type": "code",
   "execution_count": 24,
   "metadata": {},
   "outputs": [],
   "source": [
    "df['cspro_primary_topic'] = df['cspro_primary_topic'].str.upper()\n",
    "df['cspro_primary_subtopic'] = df['cspro_primary_subtopic'].str.upper()\n",
    "df1['primary driver'] = df1['primary driver'].str.upper()\n",
    "df['cspro_primary_topic'] = df['cspro_primary_topic'].str.strip()\n",
    "df['cspro_primary_subtopic'] = df['cspro_primary_subtopic'].str.strip()\n",
    "df1['primary driver']=df1['primary driver'].str.strip()\n",
    "df1['cspro_primary_topic']=df1['cspro_primary_topic'].str.strip()\n",
    "df1['cspro_primary_subtopic']=df1['cspro_primary_subtopic'].str.strip()"
   ]
  },
  {
   "cell_type": "code",
   "execution_count": 25,
   "metadata": {},
   "outputs": [],
   "source": [
    "df = pd.merge(df, df1[['cspro_primary_topic','cspro_primary_subtopic','primary driver']], \n",
    "                    how=\"left\", \n",
    "                    left_on=['cspro_primary_topic','cspro_primary_subtopic'], \n",
    "                    right_on=['cspro_primary_topic','cspro_primary_subtopic']);"
   ]
  },
  {
   "cell_type": "code",
   "execution_count": 30,
   "metadata": {},
   "outputs": [
    {
     "data": {
      "text/plain": [
       "(269158, 209)"
      ]
     },
     "execution_count": 30,
     "metadata": {},
     "output_type": "execute_result"
    }
   ],
   "source": [
    "df.shape"
   ]
  },
  {
   "cell_type": "code",
   "execution_count": 26,
   "metadata": {},
   "outputs": [
    {
     "data": {
      "text/plain": [
       "110"
      ]
     },
     "execution_count": 26,
     "metadata": {},
     "output_type": "execute_result"
    }
   ],
   "source": [
    "df['primary driver'].nunique()"
   ]
  },
  {
   "cell_type": "code",
   "execution_count": 27,
   "metadata": {},
   "outputs": [
    {
     "data": {
      "text/plain": [
       "REFERRALS/TRANSFERS              45270\n",
       "SPENDING ACCOUNTS                24789\n",
       "ANNUAL ENROLLMENT                20954\n",
       "COBRA                            12779\n",
       "ENROLLMENT                        9874\n",
       "MEDICAL                           9819\n",
       "DB&P                              9499\n",
       "CASE MANAGEMENT                   8390\n",
       "LIFE EVENTS                       6498\n",
       "COMMUNICATIONS                    6294\n",
       "AUTHENTICATION                    6194\n",
       "CLAIMS/DISPUTES/APPEALS           5927\n",
       "PERSONAL DATA CHANGES             5835\n",
       "PLAN PROVISIONS/PROCEDURES        5742\n",
       "RETIREMENT                        5735\n",
       "CALL CONNECTION ISSUES            5266\n",
       "DEPENDENT VERIFICATION            4281\n",
       "NAVIGATION/TROUBLESHOOTING        3899\n",
       "DISTRIBUTIONS                     3699\n",
       "OFS                               2879\n",
       "LIFE INSURANCE                    2831\n",
       "DB COMMENCEMENT                   2785\n",
       "LEAVES                            2614\n",
       "MEDICARE                          2483\n",
       "OTHER BENEFITS/PROGRAMS           2471\n",
       "DEATH                             2447\n",
       "PAYROLL                           2407\n",
       "PRESCRIPTION DRUG                 2362\n",
       "ADVISORY SERVICES                 2102\n",
       "DENTAL                            2100\n",
       "ACCESS                            1967\n",
       "CONTRIBUTIONS                     1712\n",
       "MISDIRECTED CALL                  1609\n",
       "BENEFICIARIES                     1454\n",
       "TIME ENTRY                        1377\n",
       "TAXATION                          1341\n",
       "DIRECT DEPOSIT                    1262\n",
       "LOANS                             1193\n",
       "VISION                            1152\n",
       "TIME OFF                          1114\n",
       "BALANCES/STATEMENTS               1107\n",
       "CARRIER UPDATES                   1048\n",
       "ELIGIBILITY                        896\n",
       "TERMINATION                        855\n",
       "DEPENDENT ELIGIBILITY              836\n",
       "WITHDRAWALS                        823\n",
       "EMPLOYMENT DATA/STATUS ISSUES      807\n",
       "PAYCHECK INQUIRY                   771\n",
       "DISABILITY                         693\n",
       "TAX FORM INQUIRY                   677\n",
       "DB PAYMENT INQUIRY                 676\n",
       "CONFIRM COVERAGE                   658\n",
       "HARDSHIPS                          646\n",
       "NEW HIRE/REHIRE                    632\n",
       "BENEFIT ESTIMATE                   627\n",
       "LEARNING                           626\n",
       "ARHE                               619\n",
       "DEPENDENT DATA ISSUES              601\n",
       "TAX FORM REPRINT                   583\n",
       "ADVOCACY                           577\n",
       "JOB DATA MANAGEMENT                577\n",
       "DEDUCTIONS                         567\n",
       "EMPLOYEE RELATIONS                 551\n",
       "ROLLOVER                           540\n",
       "FEEDBACK                           510\n",
       "ABSENCE                            449\n",
       "VERIFICATIONS                      436\n",
       "WELLNESS                           426\n",
       "RMD                                376\n",
       "POLICY/PROCEDURE                   331\n",
       "EAP                                303\n",
       "UNDERPAY                           283\n",
       "RETIREE COVERAGE                   277\n",
       "INVESTMENTS                        264\n",
       "CREDITS AND SURCHARGES             245\n",
       "APPROVED THIRD PARTY PROCESS       233\n",
       "RECRUITING                         219\n",
       "LSW                                176\n",
       "OTHER CONTACTS                     146\n",
       "QMCSO                              137\n",
       "TESTING                            130\n",
       "GARNISHMENTS                       119\n",
       "SPECIAL PAY                        118\n",
       "QDRO                               118\n",
       "ACQUISITIONS/DIVESTITURES           93\n",
       "OVERPAYMENT                         92\n",
       "STOP PAY/REISSUE                    85\n",
       "PAY ADVICE REPRINT                  83\n",
       "PERFORMANCE MANAGEMENT              78\n",
       "NONQUALIFIED                        76\n",
       "OFF-CYCLE PAY                       58\n",
       "LEGAL                               52\n",
       "SEVERANCE                           49\n",
       "FRAUD                               48\n",
       "ACCOUNT NOT ON FILE                 41\n",
       "ER MANDATE                          36\n",
       "COMPENSATION                        28\n",
       "SELF DIRECTED WINDOW                27\n",
       "RETIREE BENEFITS                    25\n",
       "PERSONNEL RECORDS                   24\n",
       "WRONG ACCOUNT                       23\n",
       "WEB CHAT                            21\n",
       "PRIVACY                             15\n",
       "ROTH                                13\n",
       "REPORTING                           13\n",
       "DON'T MAP                           11\n",
       "APP                                  3\n",
       "PLAN FREEZE                          2\n",
       "PROXY                                1\n",
       "LOST PARTICIPANT SEARCH              1\n",
       "Name: primary driver, dtype: int64"
      ]
     },
     "execution_count": 27,
     "metadata": {},
     "output_type": "execute_result"
    }
   ],
   "source": [
    "df['primary driver'].value_counts()"
   ]
  },
  {
   "cell_type": "code",
   "execution_count": 15,
   "metadata": {},
   "outputs": [],
   "source": [
    "#picking only valid intents\n",
    "# df = df[df['cspro_primary_topic'].isin(valid_intents)]"
   ]
  },
  {
   "cell_type": "code",
   "execution_count": 31,
   "metadata": {},
   "outputs": [
    {
     "data": {
      "text/plain": [
       "(269158, 209)"
      ]
     },
     "execution_count": 31,
     "metadata": {},
     "output_type": "execute_result"
    }
   ],
   "source": [
    "df.shape"
   ]
  },
  {
   "cell_type": "code",
   "execution_count": 33,
   "metadata": {},
   "outputs": [],
   "source": [
    "#delete duplicate records, considering only 2 columns for check uniqueness\n",
    "# data = df\n",
    "data = df.drop_duplicates(subset=['transcript','primary driver'], keep=\"first\")"
   ]
  },
  {
   "cell_type": "code",
   "execution_count": 34,
   "metadata": {},
   "outputs": [
    {
     "data": {
      "text/plain": [
       "(250647, 209)"
      ]
     },
     "execution_count": 34,
     "metadata": {},
     "output_type": "execute_result"
    }
   ],
   "source": [
    "#shape/dimension of csv after removing duplicates\n",
    "data.shape"
   ]
  },
  {
   "cell_type": "code",
   "execution_count": 42,
   "metadata": {},
   "outputs": [
    {
     "data": {
      "text/plain": [
       "REFERRALS/TRANSFERS              41111\n",
       "SPENDING ACCOUNTS                22810\n",
       "ANNUAL ENROLLMENT                19306\n",
       "COBRA                            10898\n",
       "ENROLLMENT                        9616\n",
       "MEDICAL                           9418\n",
       "DB&P                              9332\n",
       "CASE MANAGEMENT                   7882\n",
       "LIFE EVENTS                       6060\n",
       "AUTHENTICATION                    6006\n",
       "COMMUNICATIONS                    5974\n",
       "PERSONAL DATA CHANGES             5640\n",
       "PLAN PROVISIONS/PROCEDURES        5606\n",
       "CLAIMS/DISPUTES/APPEALS           5578\n",
       "RETIREMENT                        5455\n",
       "CALL CONNECTION ISSUES            4984\n",
       "DEPENDENT VERIFICATION            3993\n",
       "NAVIGATION/TROUBLESHOOTING        3784\n",
       "DISTRIBUTIONS                     3647\n",
       "OFS                               2741\n",
       "LIFE INSURANCE                    2668\n",
       "DB COMMENCEMENT                   2658\n",
       "LEAVES                            2557\n",
       "OTHER BENEFITS/PROGRAMS           2391\n",
       "DEATH                             2363\n",
       "MEDICARE                          2295\n",
       "PAYROLL                           2257\n",
       "DENTAL                            1968\n",
       "PRESCRIPTION DRUG                 1965\n",
       "ADVISORY SERVICES                 1946\n",
       "CONTRIBUTIONS                     1660\n",
       "MISDIRECTED CALL                  1557\n",
       "ACCESS                            1496\n",
       "TAXATION                          1318\n",
       "BENEFICIARIES                     1287\n",
       "DIRECT DEPOSIT                    1252\n",
       "LOANS                             1187\n",
       "TIME OFF                          1110\n",
       "BALANCES/STATEMENTS               1102\n",
       "VISION                            1030\n",
       "TIME ENTRY                         981\n",
       "CARRIER UPDATES                    933\n",
       "ELIGIBILITY                        858\n",
       "DEPENDENT ELIGIBILITY              828\n",
       "TERMINATION                        828\n",
       "WITHDRAWALS                        816\n",
       "EMPLOYMENT DATA/STATUS ISSUES      785\n",
       "PAYCHECK INQUIRY                   758\n",
       "DB PAYMENT INQUIRY                 671\n",
       "HARDSHIPS                          643\n",
       "CONFIRM COVERAGE                   640\n",
       "TAX FORM INQUIRY                   615\n",
       "BENEFIT ESTIMATE                   614\n",
       "DEPENDENT DATA ISSUES              595\n",
       "ARHE                               574\n",
       "DEDUCTIONS                         565\n",
       "TAX FORM REPRINT                   564\n",
       "JOB DATA MANAGEMENT                564\n",
       "NEW HIRE/REHIRE                    561\n",
       "ADVOCACY                           543\n",
       "ROLLOVER                           532\n",
       "DISABILITY                         527\n",
       "EMPLOYEE RELATIONS                 509\n",
       "FEEDBACK                           494\n",
       "WELLNESS                           422\n",
       "VERIFICATIONS                      384\n",
       "RMD                                374\n",
       "ABSENCE                            370\n",
       "POLICY/PROCEDURE                   327\n",
       "LEARNING                           311\n",
       "UNDERPAY                           277\n",
       "RETIREE COVERAGE                   267\n",
       "INVESTMENTS                        262\n",
       "CREDITS AND SURCHARGES             235\n",
       "APPROVED THIRD PARTY PROCESS       227\n",
       "LSW                                176\n",
       "EAP                                173\n",
       "OTHER CONTACTS                     141\n",
       "QMCSO                              137\n",
       "RECRUITING                         136\n",
       "GARNISHMENTS                       119\n",
       "SPECIAL PAY                        118\n",
       "QDRO                               117\n",
       "STOP PAY/REISSUE                    85\n",
       "OVERPAYMENT                         85\n",
       "PAY ADVICE REPRINT                  83\n",
       "ACQUISITIONS/DIVESTITURES           77\n",
       "NONQUALIFIED                        73\n",
       "TESTING                             62\n",
       "OFF-CYCLE PAY                       56\n",
       "LEGAL                               52\n",
       "FRAUD                               46\n",
       "PERFORMANCE MANAGEMENT              45\n",
       "SEVERANCE                           45\n",
       "ER MANDATE                          36\n",
       "ACCOUNT NOT ON FILE                 33\n",
       "COMPENSATION                        28\n",
       "PERSONNEL RECORDS                   24\n",
       "WRONG ACCOUNT                       23\n",
       "RETIREE BENEFITS                    22\n",
       "WEB CHAT                            21\n",
       "SELF DIRECTED WINDOW                20\n",
       "PRIVACY                             15\n",
       "ROTH                                13\n",
       "REPORTING                           13\n",
       "DON'T MAP                            6\n",
       "APP                                  3\n",
       "PLAN FREEZE                          2\n",
       "LOST PARTICIPANT SEARCH              1\n",
       "PROXY                                1\n",
       "Name: primary driver, dtype: int64"
      ]
     },
     "execution_count": 42,
     "metadata": {},
     "output_type": "execute_result"
    }
   ],
   "source": [
    "data['primary driver'].value_counts()"
   ]
  },
  {
   "cell_type": "code",
   "execution_count": 37,
   "metadata": {},
   "outputs": [
    {
     "data": {
      "text/plain": [
       "0    B'\\n\\n\\n\\nagent: \\t \\ngood morning thank you f...\n",
       "1    B'\\n\\n\\n\\ncustomer: \\t \\nthank you for calling...\n",
       "2    B'\\n\\n\\n\\nagent: \\t \\nthank you for calling ex...\n",
       "3    B'\\n\\ncustomer: \\t \\nthank you actually for de...\n",
       "4    B'\\n\\n\\n\\nagent: \\t \\ngood morning thank you f...\n",
       "Name: transcript, dtype: object"
      ]
     },
     "execution_count": 37,
     "metadata": {},
     "output_type": "execute_result"
    }
   ],
   "source": [
    "#display the transcript data\n",
    "data['transcript'].head()"
   ]
  },
  {
   "cell_type": "code",
   "execution_count": 38,
   "metadata": {},
   "outputs": [
    {
     "name": "stderr",
     "output_type": "stream",
     "text": [
      "/opt/conda/lib/python3.7/site-packages/ipykernel_launcher.py:2: SettingWithCopyWarning: \n",
      "A value is trying to be set on a copy of a slice from a DataFrame.\n",
      "Try using .loc[row_indexer,col_indexer] = value instead\n",
      "\n",
      "See the caveats in the documentation: https://pandas.pydata.org/pandas-docs/stable/user_guide/indexing.html#returning-a-view-versus-a-copy\n",
      "  \n"
     ]
    }
   ],
   "source": [
    "#removing first 2 letters and last letter from the transcript\n",
    "data['transcript'] = data['transcript'].str[2:-1]"
   ]
  },
  {
   "cell_type": "code",
   "execution_count": 39,
   "metadata": {},
   "outputs": [
    {
     "data": {
      "text/plain": [
       "0    \\n\\n\\n\\nagent: \\t \\ngood morning thank you for...\n",
       "1    \\n\\n\\n\\ncustomer: \\t \\nthank you for calling a...\n",
       "2    \\n\\n\\n\\nagent: \\t \\nthank you for calling exte...\n",
       "3    \\n\\ncustomer: \\t \\nthank you actually for deep...\n",
       "4    \\n\\n\\n\\nagent: \\t \\ngood morning thank you for...\n",
       "Name: transcript, dtype: object"
      ]
     },
     "execution_count": 39,
     "metadata": {},
     "output_type": "execute_result"
    }
   ],
   "source": [
    "#display the transcript after removing the first 2 and last etter\n",
    "data['transcript'].head()"
   ]
  },
  {
   "cell_type": "code",
   "execution_count": 45,
   "metadata": {},
   "outputs": [
    {
     "data": {
      "text/plain": [
       "110"
      ]
     },
     "execution_count": 45,
     "metadata": {},
     "output_type": "execute_result"
    }
   ],
   "source": [
    "# total intents in the dataset\n",
    "data['primary driver'].nunique()"
   ]
  },
  {
   "cell_type": "code",
   "execution_count": 46,
   "metadata": {},
   "outputs": [
    {
     "data": {
      "text/plain": [
       "63"
      ]
     },
     "execution_count": 46,
     "metadata": {},
     "output_type": "execute_result"
    }
   ],
   "source": [
    "#total intents having frequency less than 50\n",
    "data[data.groupby('primary driver')['primary driver'].transform('size') > 500]['primary driver'].nunique()"
   ]
  },
  {
   "cell_type": "code",
   "execution_count": 47,
   "metadata": {},
   "outputs": [
    {
     "data": {
      "text/plain": [
       "primary driver\n",
       "1     2\n",
       "2     1\n",
       "3     1\n",
       "6     1\n",
       "13    2\n",
       "15    1\n",
       "20    1\n",
       "21    1\n",
       "22    1\n",
       "23    1\n",
       "Name: primary driver, dtype: int64"
      ]
     },
     "execution_count": 47,
     "metadata": {},
     "output_type": "execute_result"
    }
   ],
   "source": [
    "#code to display total count of intents(column 2) on the basis of their frequencies(column 1)\n",
    "vc_df = pd.DataFrame(data['primary driver'].value_counts())\n",
    "vc_df.iloc[:,0].groupby(vc_df.iloc[:,0]).count().head(10)"
   ]
  },
  {
   "cell_type": "code",
   "execution_count": 48,
   "metadata": {},
   "outputs": [],
   "source": [
    "# data = data[pd.notnull(data['cspro_primary_topic'])]\n",
    "# print(data['full_transcript'].head(10))\n",
    "# print(data['full_transcript'].apply(lambda x: len(x.split(' '))).sum())"
   ]
  },
  {
   "cell_type": "code",
   "execution_count": 49,
   "metadata": {},
   "outputs": [],
   "source": [
    "#import nltk libraries\n",
    "import nltk\n",
    "import re\n",
    "from nltk.stem.porter import PorterStemmer #used for stemming\n",
    "from nltk.stem import WordNetLemmatizer #used for lemmatization\n",
    "from nltk.tokenize import sent_tokenize #used for sentence tokenization\n",
    "ps = PorterStemmer()\n",
    "wordnet=WordNetLemmatizer()"
   ]
  },
  {
   "cell_type": "code",
   "execution_count": 116,
   "metadata": {},
   "outputs": [
    {
     "data": {
      "text/plain": [
       "['i',\n",
       " 'me',\n",
       " 'my',\n",
       " 'myself',\n",
       " 'we',\n",
       " 'our',\n",
       " 'ours',\n",
       " 'ourselves',\n",
       " 'you',\n",
       " \"you're\",\n",
       " \"you've\",\n",
       " \"you'll\",\n",
       " \"you'd\",\n",
       " 'your',\n",
       " 'yours',\n",
       " 'yourself',\n",
       " 'yourselves',\n",
       " 'he',\n",
       " 'him',\n",
       " 'his',\n",
       " 'himself',\n",
       " 'she',\n",
       " \"she's\",\n",
       " 'her',\n",
       " 'hers',\n",
       " 'herself',\n",
       " 'it',\n",
       " \"it's\",\n",
       " 'its',\n",
       " 'itself',\n",
       " 'they',\n",
       " 'them',\n",
       " 'their',\n",
       " 'theirs',\n",
       " 'themselves',\n",
       " 'what',\n",
       " 'which',\n",
       " 'who',\n",
       " 'whom',\n",
       " 'this',\n",
       " 'that',\n",
       " \"that'll\",\n",
       " 'these',\n",
       " 'those',\n",
       " 'am',\n",
       " 'is',\n",
       " 'are',\n",
       " 'was',\n",
       " 'were',\n",
       " 'be',\n",
       " 'been',\n",
       " 'being',\n",
       " 'have',\n",
       " 'has',\n",
       " 'had',\n",
       " 'having',\n",
       " 'do',\n",
       " 'does',\n",
       " 'did',\n",
       " 'doing',\n",
       " 'a',\n",
       " 'an',\n",
       " 'the',\n",
       " 'and',\n",
       " 'but',\n",
       " 'if',\n",
       " 'or',\n",
       " 'because',\n",
       " 'as',\n",
       " 'until',\n",
       " 'while',\n",
       " 'of',\n",
       " 'at',\n",
       " 'by',\n",
       " 'for',\n",
       " 'with',\n",
       " 'about',\n",
       " 'against',\n",
       " 'between',\n",
       " 'into',\n",
       " 'through',\n",
       " 'during',\n",
       " 'before',\n",
       " 'after',\n",
       " 'above',\n",
       " 'below',\n",
       " 'to',\n",
       " 'from',\n",
       " 'up',\n",
       " 'down',\n",
       " 'in',\n",
       " 'out',\n",
       " 'on',\n",
       " 'off',\n",
       " 'over',\n",
       " 'under',\n",
       " 'again',\n",
       " 'further',\n",
       " 'then',\n",
       " 'once',\n",
       " 'here',\n",
       " 'there',\n",
       " 'when',\n",
       " 'where',\n",
       " 'why',\n",
       " 'how',\n",
       " 'all',\n",
       " 'any',\n",
       " 'both',\n",
       " 'each',\n",
       " 'few',\n",
       " 'more',\n",
       " 'most',\n",
       " 'other',\n",
       " 'some',\n",
       " 'such',\n",
       " 'no',\n",
       " 'nor',\n",
       " 'not',\n",
       " 'only',\n",
       " 'own',\n",
       " 'same',\n",
       " 'so',\n",
       " 'than',\n",
       " 'too',\n",
       " 'very',\n",
       " 's',\n",
       " 't',\n",
       " 'can',\n",
       " 'will',\n",
       " 'just',\n",
       " 'don',\n",
       " \"don't\",\n",
       " 'should',\n",
       " \"should've\",\n",
       " 'now',\n",
       " 'd',\n",
       " 'll',\n",
       " 'm',\n",
       " 'o',\n",
       " 're',\n",
       " 've',\n",
       " 'y',\n",
       " 'ain',\n",
       " 'aren',\n",
       " \"aren't\",\n",
       " 'couldn',\n",
       " \"couldn't\",\n",
       " 'didn',\n",
       " \"didn't\",\n",
       " 'doesn',\n",
       " \"doesn't\",\n",
       " 'hadn',\n",
       " \"hadn't\",\n",
       " 'hasn',\n",
       " \"hasn't\",\n",
       " 'haven',\n",
       " \"haven't\",\n",
       " 'isn',\n",
       " \"isn't\",\n",
       " 'ma',\n",
       " 'mightn',\n",
       " \"mightn't\",\n",
       " 'mustn',\n",
       " \"mustn't\",\n",
       " 'needn',\n",
       " \"needn't\",\n",
       " 'shan',\n",
       " \"shan't\",\n",
       " 'shouldn',\n",
       " \"shouldn't\",\n",
       " 'wasn',\n",
       " \"wasn't\",\n",
       " 'weren',\n",
       " \"weren't\",\n",
       " 'won',\n",
       " \"won't\",\n",
       " 'wouldn',\n",
       " \"wouldn't\",\n",
       " '.',\n",
       " 'thank',\n",
       " 'thanks',\n",
       " 'would',\n",
       " 'could',\n",
       " 'should',\n",
       " 'must',\n",
       " 'might',\n",
       " 'redacted',\n",
       " 'agent',\n",
       " 'customer',\n",
       " 'um',\n",
       " 'umm',\n",
       " 'hm',\n",
       " 'hmm',\n",
       " 'yes',\n",
       " 'yeah',\n",
       " 'yep',\n",
       " 'hello',\n",
       " 'hey',\n",
       " 'hi',\n",
       " 'bye',\n",
       " 'yeah',\n",
       " 'oh',\n",
       " 'sir',\n",
       " 'okay',\n",
       " 'huh',\n",
       " 'uh',\n",
       " 'er',\n",
       " 'e',\n",
       " 'x',\n",
       " 'also']"
      ]
     },
     "execution_count": 116,
     "metadata": {},
     "output_type": "execute_result"
    }
   ],
   "source": [
    "lst_stopwords = nltk.corpus.stopwords.words(\"english\")\n",
    "lst_stopwords.append('.')\n",
    "lst_stopwords.append('thank')\n",
    "lst_stopwords.append('thanks')\n",
    "lst_stopwords.append('would')\n",
    "lst_stopwords.append('could')\n",
    "lst_stopwords.append('should')\n",
    "lst_stopwords.append('must')\n",
    "lst_stopwords.append('might')\n",
    "lst_stopwords.append('redacted')\n",
    "lst_stopwords.append('agent')\n",
    "lst_stopwords.append('customer')\n",
    "lst_stopwords.append('um')\n",
    "lst_stopwords.append('umm')\n",
    "lst_stopwords.append('hm')\n",
    "lst_stopwords.append('hmm')\n",
    "lst_stopwords.append('yes')\n",
    "lst_stopwords.append('yeah')\n",
    "lst_stopwords.append('yep')\n",
    "lst_stopwords.append('hello')\n",
    "lst_stopwords.append('hey')\n",
    "lst_stopwords.append('hi')\n",
    "lst_stopwords.append('bye')\n",
    "lst_stopwords.append('yeah')\n",
    "lst_stopwords.append('oh')\n",
    "lst_stopwords.append('sir')\n",
    "lst_stopwords.append('okay')\n",
    "lst_stopwords.append('huh')\n",
    "lst_stopwords.append('uh')\n",
    "lst_stopwords.append('er')\n",
    "lst_stopwords.append('e')\n",
    "lst_stopwords.append('x')\n",
    "lst_stopwords.append('also')\n",
    "lst_stopwords"
   ]
  },
  {
   "cell_type": "code",
   "execution_count": 134,
   "metadata": {},
   "outputs": [],
   "source": [
    "#function for data preprocessing\n",
    "def clean_text(text):\n",
    "    \"\"\"\n",
    "        text: a string\n",
    "        \n",
    "        return: modified initial string\n",
    "    \"\"\"\n",
    "    #stopwords hardcoded, need to remove going furthur\n",
    "    text = text.replace('\\\\nagent:','. ').replace('\\\\ncustomer:','. ').replace('\\\\n','').replace('\\\\t','').replace('`',\"'\")\n",
    "    sentences = nltk.sent_tokenize(text)\n",
    "    corpus = []\n",
    "    for i in range(len(sentences)):\n",
    "        script = re.sub('[^a-zA-Z]', ' ', sentences[i])\n",
    "        script = script.lower()\n",
    "        script = script.split()\n",
    "        script = [wordnet.lemmatize(word) for word in script if not word in set(lst_stopwords)]\n",
    "        if script:\n",
    "            script = ' '.join(script)\n",
    "            corpus.append(script)\n",
    "    return corpus"
   ]
  },
  {
   "cell_type": "code",
   "execution_count": 135,
   "metadata": {},
   "outputs": [
    {
     "data": {
      "text/plain": [
       "['good morning calling benefit center speaking ruby holman',\n",
       " 'ruby question increase contribution health saving account',\n",
       " 'happy assist like process easy question',\n",
       " 'know wanna hide like',\n",
       " 'provide last four digit social please',\n",
       " 'name account',\n",
       " 'scott mcdonald',\n",
       " 'much like',\n",
       " 'run dollar paycheck pay pay gert month',\n",
       " 'currently contribution dollar hundred dollar paycheck safely double tooth dollar per paycheck',\n",
       " 'great one moment',\n",
       " 'double date give tooth dollar per pay period let',\n",
       " 'fine fine',\n",
       " 'alrighty new begin date february',\n",
       " 'great possible online call',\n",
       " 'able online option change contribution',\n",
       " 'go ahead sorry',\n",
       " 'log benefit website think life side computer change chance eight contribution',\n",
       " 'love',\n",
       " 'help go health benefit website',\n",
       " 'dad eight com click manager mary center',\n",
       " 'give option know pay option change agency contribution',\n",
       " 'benefit sender alright check next time alright got',\n",
       " 'good',\n",
       " 'much',\n",
       " 'already',\n",
       " 'good day']"
      ]
     },
     "execution_count": 135,
     "metadata": {},
     "output_type": "execute_result"
    }
   ],
   "source": [
    "clean_text(data['transcript'][0])"
   ]
  },
  {
   "cell_type": "code",
   "execution_count": 137,
   "metadata": {},
   "outputs": [
    {
     "name": "stderr",
     "output_type": "stream",
     "text": [
      "/opt/conda/lib/python3.7/site-packages/ipykernel_launcher.py:2: SettingWithCopyWarning: \n",
      "A value is trying to be set on a copy of a slice from a DataFrame.\n",
      "Try using .loc[row_indexer,col_indexer] = value instead\n",
      "\n",
      "See the caveats in the documentation: https://pandas.pydata.org/pandas-docs/stable/user_guide/indexing.html#returning-a-view-versus-a-copy\n",
      "  \n"
     ]
    }
   ],
   "source": [
    "# #cleaning the whole dataset using the above logic\n",
    "data['transcript'] = data['transcript'].apply(clean_text)\n",
    "# print_plot(10)"
   ]
  },
  {
   "cell_type": "code",
   "execution_count": 138,
   "metadata": {},
   "outputs": [],
   "source": [
    "#exporting the data to csv file because of memory issue in AWS\n",
    "data.to_csv('dataset_after_cleaning_transcript.csv',index=False)"
   ]
  },
  {
   "cell_type": "code",
   "execution_count": 30,
   "metadata": {},
   "outputs": [],
   "source": [
    "# intents_to_exclude = data[data.groupby('cspro_primary_topic')['cspro_primary_topic'].transform('size') < 4]['cspro_primary_topic']"
   ]
  },
  {
   "cell_type": "code",
   "execution_count": 31,
   "metadata": {},
   "outputs": [],
   "source": [
    "# y = data['cspro_primary_topic']\n",
    "# X = data['full_transcript']"
   ]
  },
  {
   "cell_type": "code",
   "execution_count": 32,
   "metadata": {},
   "outputs": [],
   "source": [
    "#train_test_split method"
   ]
  },
  {
   "cell_type": "code",
   "execution_count": 33,
   "metadata": {},
   "outputs": [],
   "source": [
    "# balanced_data = data[data.groupby('cspro_primary_topic')['cspro_primary_topic'].transform('size') > 4]['cspro_primary_topic']"
   ]
  },
  {
   "cell_type": "code",
   "execution_count": 34,
   "metadata": {},
   "outputs": [],
   "source": [
    "# print(data['full_transcript'].apply(lambda x: len(x.split(' '))).sum())"
   ]
  }
 ],
 "metadata": {
  "instance_type": "ml.t3.medium",
  "kernelspec": {
   "display_name": "Python 3 (ipykernel)",
   "language": "python",
   "name": "python3"
  },
  "language_info": {
   "codemirror_mode": {
    "name": "ipython",
    "version": 3
   },
   "file_extension": ".py",
   "mimetype": "text/x-python",
   "name": "python",
   "nbconvert_exporter": "python",
   "pygments_lexer": "ipython3",
   "version": "3.9.12"
  }
 },
 "nbformat": 4,
 "nbformat_minor": 4
}
