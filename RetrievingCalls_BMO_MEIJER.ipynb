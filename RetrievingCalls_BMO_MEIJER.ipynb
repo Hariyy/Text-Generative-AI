{
 "cells": [
  {
   "cell_type": "code",
   "execution_count": 2,
   "metadata": {},
   "outputs": [],
   "source": [
    "import boto3\n",
    "import numpy as np\n",
    "import pandas as pd\n",
    "import warnings\n",
    "import matplotlib.pyplot as plt\n",
    "import re, datetime\n",
    "\n",
    "pd.set_option('display.max_columns',None)\n",
    "warnings.filterwarnings('ignore')"
   ]
  },
  {
   "cell_type": "code",
   "execution_count": 1,
   "metadata": {},
   "outputs": [
    {
     "data": {
      "text/plain": [
       "'/root/AWS_data/Data/V1.0'"
      ]
     },
     "execution_count": 1,
     "metadata": {},
     "output_type": "execute_result"
    }
   ],
   "source": [
    "pwd"
   ]
  },
  {
   "cell_type": "code",
   "execution_count": 3,
   "metadata": {},
   "outputs": [],
   "source": [
    "def extract_date(x):\n",
    "    x = x.split('Summed.wav')[1]\n",
    "    match = re.search('\\d{4}-\\d{2}-\\d{2}', x)\n",
    "    date = datetime.datetime.strptime(match.group(), '%Y-%m-%d').date()\n",
    "    return date\n",
    "    \n",
    "    \n",
    "def get_transcripts(s3_bucket=None,prefix_source=None,return_json=False,suffix_csv='.csv',date_lookup=None):\n",
    "    \n",
    "    s3 = boto3.resource('s3')\n",
    "    my_bucket_source = s3.Bucket(s3_bucket)\n",
    "    df_json = pd.DataFrame()\n",
    "    df_metadata = pd.DataFrame()\n",
    "    for bucket_object in my_bucket_source.objects.filter(Prefix=prefix_source):\n",
    "        if str(bucket_object.key).endswith('.json'):\n",
    "#             if date_lookup:\n",
    "#                 date_json = extract_date(bucket_object.key)\n",
    "#                 if date_json != pd.to_datetime(date_lookup):\n",
    "#                     continue\n",
    "            path = 's3://{}/{}'.format(bucket_object.bucket_name, bucket_object.key)\n",
    "            data = pd.read_json(path, lines=True)\n",
    "            data['sub_bucket'] = prefix_source\n",
    "            df_json = pd.concat([df_json, data], axis=0)\n",
    "        elif str(bucket_object.key).endswith(suffix_csv):\n",
    "            path = 's3://{}/{}'.format(bucket_object.bucket_name, bucket_object.key)\n",
    "            df_metadata = pd.read_csv(path)\n",
    "          \n",
    "    df_json['transcripts'] = df_json['results'].apply(lambda x: x['transcripts'][0]['transcript'])\n",
    "    df_json = df_json.reset_index(drop=True)\n",
    "    \n",
    "    if return_json:\n",
    "        return df_json, df_metadata\n",
    "    \n",
    "    df_json = df_json.drop(columns=['status', 'accountId'])\n",
    "    df_json[\"Date_jobName\"] = df_json.jobName.apply(lambda x: extract_date(x))\n",
    "    df_json.jobName = df_json.jobName.apply(lambda x: x.split('_')[1])\n",
    "    \n",
    "    if df_metadata.empty:\n",
    "        df_metadata = None\n",
    "        print(\"There is no metadata available with the jsons\")\n",
    "        \n",
    "    return df_json, df_metadata"
   ]
  },
  {
   "cell_type": "code",
   "execution_count": 1,
   "metadata": {},
   "outputs": [],
   "source": [
    "source1 = [f'calldata/bmo/2021-08-0{str(i)}' for i in range(2,10)]\n",
    "source2 = [f'calldata/bmo/2021-08-{str(i)}' for i in range(10,32)]\n",
    "source3 = [f'calldata/bmo/2020-08-0{str(i)}' for i in range(4,10)]\n",
    "source4 = [f'calldata/bmo/2020-08-{str(i)}' for i in range(10,32)]\n",
    "source5 = [f'calldata/bmo/2021-09-0{str(i)}' for i in range(1,10)]\n",
    "source6 = [f'calldata/bmo/2021-09-{str(i)}' for i in range(10,32)]\n",
    "source5 = [f'calldata/bmo/2021-10-0{str(i)}' for i in range(1,10)]\n",
    "source6 = [f'calldata/bmo/2021-10-{str(i)}' for i in range(10,32)]\n",
    "source7 = [f'calldata/bmo/2020-06-23']\n",
    "source8 = [f'calldata/bmo/2020-04-30']\n",
    "\n",
    "source9 = [f'calldata/meijer/2021-09-0{str(i)}' for i in range(1,10)]\n",
    "source10 = [f'calldata/meijer/2021-09-{str(i)}' for i in range(10,32)]\n",
    "source11 = [f'calldata/meijer/2021-10-0{str(i)}' for i in range(1,10)]\n",
    "source12 = [f'calldata/meijer/2021-10-{str(i)}' for i in range(10,32)]\n",
    "\n",
    "source13 = [f'calldata/cigna/2021-09-0{str(i)}' for i in range(1,10)]\n",
    "source14 = [f'calldata/cigna/2021-09-{str(i)}' for i in range(10,32)]\n",
    "source15 = [f'calldata/cigna/2021-10-0{str(i)}' for i in range(1,10)]\n",
    "source16 = [f'calldata/cigna/2021-10-{str(i)}' for i in range(10,32)]\n",
    "#source9 = [f'calldata/meijer/2021-0{str(j)}-0{str(i)}' for j in range(5,10) for i in range(1,11)]\n",
    "#source10 = [f'calldata/meijer/2021-0{str(j)}-{str(i)}' for j in range(5,10) for i in range(10,32)]\n",
    "# source5 = [f'calldata/bmo/2021-04-30']\n",
    "# source6 = [f'calldata/bmo/2021-06-23']\n",
    "source = source1 + source2 + source3 + source4 + source5 + source6 + source7 + source8 + source9 + source10 + source11 + source12 + source13 + source14 + source15 + source16"
   ]
  },
  {
   "cell_type": "markdown",
   "metadata": {},
   "source": [
    "source1 = [f'calldata/bmo/2021-08-0{str(i)}' for i in range(2,10)]\n",
    "source2 = [f'calldata/bmo/2021-08-{str(i)}' for i in range(10,32)]\n",
    "source3 = [f'calldata/bmo/2020-08-0{str(i)}' for i in range(4,10)] \n",
    "source4 = [f'calldata/bmo/2020-08-{str(i)}' for i in range(10,32)]\n",
    "source5 = [f'calldata/meijer/2021-0{str(j)}-0{str(i)}' for j in range(5,9) for i in range(1,10)]\n",
    "source6 = [f'calldata/meijer/2021-0{str(j)}-{str(i)}' for j in range(5,9) for i in range(10,32)]\n",
    "# source5 = [f'calldata/bmo/2021-04-30']\n",
    "# source6 = [f'calldata/bmo/2021-06-23']\n",
    "source = source1 + source2 + source3 + source4 + source5 + source6"
   ]
  },
  {
   "cell_type": "code",
   "execution_count": 10,
   "metadata": {},
   "outputs": [
    {
     "data": {
      "text/plain": [
       "31"
      ]
     },
     "execution_count": 10,
     "metadata": {},
     "output_type": "execute_result"
    }
   ],
   "source": [
    "len(source)"
   ]
  },
  {
   "cell_type": "code",
   "execution_count": 5,
   "metadata": {},
   "outputs": [],
   "source": [
    "concat_df_bmo_trans = pd.DataFrame()\n",
    "concat_df_bmo_meta = pd.DataFrame()\n",
    "counter = 0\n",
    "list_of_problematic_jsons = dict()\n",
    "\n",
    "for prefix_source in source:\n",
    "    try:\n",
    "        df_trans, df_meta = get_transcripts(s3_bucket='adl-core-sagemaker-studio', \n",
    "                                                prefix_source=prefix_source,\n",
    "                                                return_json=False,date_lookup='2021-07-02')\n",
    "\n",
    "        concat_df_bmo_trans = pd.concat([concat_df_bmo_trans, df_trans], axis=0)\n",
    "        concat_df_bmo_meta = pd.concat([concat_df_bmo_meta, df_meta], axis=0)\n",
    "\n",
    "        counter += 1\n",
    "        \n",
    "    except KeyError:\n",
    "        list_of_problematic_jsons[prefix_source] = list_of_problematic_jsons.get(prefix_source, counter)\n",
    "        \n",
    "    except Exception as es:\n",
    "        raise(es)"
   ]
  },
  {
   "cell_type": "markdown",
   "metadata": {},
   "source": [
    "## Directories Not available"
   ]
  },
  {
   "cell_type": "code",
   "execution_count": 6,
   "metadata": {
    "collapsed": true,
    "jupyter": {
     "outputs_hidden": true
    }
   },
   "outputs": [
    {
     "data": {
      "text/plain": [
       "{'calldata/cigna/2021-09-04': 3,\n",
       " 'calldata/cigna/2021-09-05': 3,\n",
       " 'calldata/cigna/2021-09-06': 3,\n",
       " 'calldata/cigna/2021-09-11': 7,\n",
       " 'calldata/cigna/2021-09-12': 7,\n",
       " 'calldata/cigna/2021-09-18': 12,\n",
       " 'calldata/cigna/2021-09-19': 12,\n",
       " 'calldata/cigna/2021-09-25': 17,\n",
       " 'calldata/cigna/2021-09-26': 17,\n",
       " 'calldata/cigna/2021-09-31': 21}"
      ]
     },
     "execution_count": 6,
     "metadata": {},
     "output_type": "execute_result"
    }
   ],
   "source": [
    "list_of_problematic_jsons #these are weekend dates"
   ]
  },
  {
   "cell_type": "code",
   "execution_count": 11,
   "metadata": {},
   "outputs": [
    {
     "data": {
      "text/plain": [
       "15265"
      ]
     },
     "execution_count": 11,
     "metadata": {},
     "output_type": "execute_result"
    }
   ],
   "source": [
    "len(concat_df_bmo_trans)"
   ]
  },
  {
   "cell_type": "code",
   "execution_count": 12,
   "metadata": {
    "collapsed": true,
    "jupyter": {
     "outputs_hidden": true
    }
   },
   "outputs": [
    {
     "data": {
      "text/html": [
       "<div>\n",
       "<style scoped>\n",
       "    .dataframe tbody tr th:only-of-type {\n",
       "        vertical-align: middle;\n",
       "    }\n",
       "\n",
       "    .dataframe tbody tr th {\n",
       "        vertical-align: top;\n",
       "    }\n",
       "\n",
       "    .dataframe thead th {\n",
       "        text-align: right;\n",
       "    }\n",
       "</style>\n",
       "<table border=\"1\" class=\"dataframe\">\n",
       "  <thead>\n",
       "    <tr style=\"text-align: right;\">\n",
       "      <th></th>\n",
       "      <th>jobName</th>\n",
       "      <th>isRedacted</th>\n",
       "      <th>results</th>\n",
       "      <th>sub_bucket</th>\n",
       "      <th>transcripts</th>\n",
       "      <th>Date_jobName</th>\n",
       "    </tr>\n",
       "  </thead>\n",
       "  <tbody>\n",
       "    <tr>\n",
       "      <th>0</th>\n",
       "      <td>7002934538939741288</td>\n",
       "      <td>True</td>\n",
       "      <td>{'transcripts': [{'transcript': 'Yes. Yes.'}],...</td>\n",
       "      <td>calldata/cigna/2021-09-01</td>\n",
       "      <td>Yes. Yes.</td>\n",
       "      <td>2021-09-07</td>\n",
       "    </tr>\n",
       "    <tr>\n",
       "      <th>1</th>\n",
       "      <td>7002935118760326394</td>\n",
       "      <td>True</td>\n",
       "      <td>{'transcripts': [{'transcript': 'Thank you for...</td>\n",
       "      <td>calldata/cigna/2021-09-01</td>\n",
       "      <td>Thank you for calling Cigna employee service C...</td>\n",
       "      <td>2021-09-07</td>\n",
       "    </tr>\n",
       "    <tr>\n",
       "      <th>2</th>\n",
       "      <td>7002935170299933960</td>\n",
       "      <td>True</td>\n",
       "      <td>{'transcripts': [{'transcript': 'Thanks for ca...</td>\n",
       "      <td>calldata/cigna/2021-09-01</td>\n",
       "      <td>Thanks for calling Cigna employee Service Cent...</td>\n",
       "      <td>2021-09-07</td>\n",
       "    </tr>\n",
       "    <tr>\n",
       "      <th>3</th>\n",
       "      <td>7002935363573462323</td>\n",
       "      <td>True</td>\n",
       "      <td>{'transcripts': [{'transcript': 'Hello, imagin...</td>\n",
       "      <td>calldata/cigna/2021-09-01</td>\n",
       "      <td>Hello, imagine.</td>\n",
       "      <td>2021-09-07</td>\n",
       "    </tr>\n",
       "    <tr>\n",
       "      <th>4</th>\n",
       "      <td>7002935651336271208</td>\n",
       "      <td>True</td>\n",
       "      <td>{'transcripts': [{'transcript': 'Thank you for...</td>\n",
       "      <td>calldata/cigna/2021-09-01</td>\n",
       "      <td>Thank you for calling Cigna Employee Service C...</td>\n",
       "      <td>2021-09-07</td>\n",
       "    </tr>\n",
       "    <tr>\n",
       "      <th>...</th>\n",
       "      <td>...</td>\n",
       "      <td>...</td>\n",
       "      <td>...</td>\n",
       "      <td>...</td>\n",
       "      <td>...</td>\n",
       "      <td>...</td>\n",
       "    </tr>\n",
       "    <tr>\n",
       "      <th>628</th>\n",
       "      <td>7013872154195330692</td>\n",
       "      <td>True</td>\n",
       "      <td>{'transcripts': [{'transcript': 'New york Life...</td>\n",
       "      <td>calldata/cigna/2021-09-30</td>\n",
       "      <td>New york Life Group benefits solution. Service...</td>\n",
       "      <td>2021-10-01</td>\n",
       "    </tr>\n",
       "    <tr>\n",
       "      <th>629</th>\n",
       "      <td>7013872489202779843</td>\n",
       "      <td>True</td>\n",
       "      <td>{'transcripts': [{'transcript': 'Thank you for...</td>\n",
       "      <td>calldata/cigna/2021-09-30</td>\n",
       "      <td>Thank you for calling Cigna employee service C...</td>\n",
       "      <td>2021-10-01</td>\n",
       "    </tr>\n",
       "    <tr>\n",
       "      <th>630</th>\n",
       "      <td>7013874537902180453</td>\n",
       "      <td>True</td>\n",
       "      <td>{'transcripts': [{'transcript': 'Thank you for...</td>\n",
       "      <td>calldata/cigna/2021-09-30</td>\n",
       "      <td>Thank you for calling Cigna employee service c...</td>\n",
       "      <td>2021-10-01</td>\n",
       "    </tr>\n",
       "    <tr>\n",
       "      <th>631</th>\n",
       "      <td>7013876212939426218</td>\n",
       "      <td>True</td>\n",
       "      <td>{'transcripts': [{'transcript': 'Thank you for...</td>\n",
       "      <td>calldata/cigna/2021-09-30</td>\n",
       "      <td>Thank you for calling Cigna employee service c...</td>\n",
       "      <td>2021-10-01</td>\n",
       "    </tr>\n",
       "    <tr>\n",
       "      <th>632</th>\n",
       "      <td>7013880795669531740</td>\n",
       "      <td>True</td>\n",
       "      <td>{'transcripts': [{'transcript': 'Thank you for...</td>\n",
       "      <td>calldata/cigna/2021-09-30</td>\n",
       "      <td>Thank you for calling Cigna Service Center. Yo...</td>\n",
       "      <td>2021-10-01</td>\n",
       "    </tr>\n",
       "  </tbody>\n",
       "</table>\n",
       "<p>15265 rows × 6 columns</p>\n",
       "</div>"
      ],
      "text/plain": [
       "                 jobName  isRedacted  \\\n",
       "0    7002934538939741288        True   \n",
       "1    7002935118760326394        True   \n",
       "2    7002935170299933960        True   \n",
       "3    7002935363573462323        True   \n",
       "4    7002935651336271208        True   \n",
       "..                   ...         ...   \n",
       "628  7013872154195330692        True   \n",
       "629  7013872489202779843        True   \n",
       "630  7013874537902180453        True   \n",
       "631  7013876212939426218        True   \n",
       "632  7013880795669531740        True   \n",
       "\n",
       "                                               results  \\\n",
       "0    {'transcripts': [{'transcript': 'Yes. Yes.'}],...   \n",
       "1    {'transcripts': [{'transcript': 'Thank you for...   \n",
       "2    {'transcripts': [{'transcript': 'Thanks for ca...   \n",
       "3    {'transcripts': [{'transcript': 'Hello, imagin...   \n",
       "4    {'transcripts': [{'transcript': 'Thank you for...   \n",
       "..                                                 ...   \n",
       "628  {'transcripts': [{'transcript': 'New york Life...   \n",
       "629  {'transcripts': [{'transcript': 'Thank you for...   \n",
       "630  {'transcripts': [{'transcript': 'Thank you for...   \n",
       "631  {'transcripts': [{'transcript': 'Thank you for...   \n",
       "632  {'transcripts': [{'transcript': 'Thank you for...   \n",
       "\n",
       "                    sub_bucket  \\\n",
       "0    calldata/cigna/2021-09-01   \n",
       "1    calldata/cigna/2021-09-01   \n",
       "2    calldata/cigna/2021-09-01   \n",
       "3    calldata/cigna/2021-09-01   \n",
       "4    calldata/cigna/2021-09-01   \n",
       "..                         ...   \n",
       "628  calldata/cigna/2021-09-30   \n",
       "629  calldata/cigna/2021-09-30   \n",
       "630  calldata/cigna/2021-09-30   \n",
       "631  calldata/cigna/2021-09-30   \n",
       "632  calldata/cigna/2021-09-30   \n",
       "\n",
       "                                           transcripts Date_jobName  \n",
       "0                                            Yes. Yes.   2021-09-07  \n",
       "1    Thank you for calling Cigna employee service C...   2021-09-07  \n",
       "2    Thanks for calling Cigna employee Service Cent...   2021-09-07  \n",
       "3                                      Hello, imagine.   2021-09-07  \n",
       "4    Thank you for calling Cigna Employee Service C...   2021-09-07  \n",
       "..                                                 ...          ...  \n",
       "628  New york Life Group benefits solution. Service...   2021-10-01  \n",
       "629  Thank you for calling Cigna employee service C...   2021-10-01  \n",
       "630  Thank you for calling Cigna employee service c...   2021-10-01  \n",
       "631  Thank you for calling Cigna employee service c...   2021-10-01  \n",
       "632  Thank you for calling Cigna Service Center. Yo...   2021-10-01  \n",
       "\n",
       "[15265 rows x 6 columns]"
      ]
     },
     "execution_count": 12,
     "metadata": {},
     "output_type": "execute_result"
    }
   ],
   "source": [
    "concat_df_bmo_trans"
   ]
  },
  {
   "cell_type": "code",
   "execution_count": 7,
   "metadata": {},
   "outputs": [
    {
     "data": {
      "text/plain": [
       "15328"
      ]
     },
     "execution_count": 7,
     "metadata": {},
     "output_type": "execute_result"
    }
   ],
   "source": [
    "len(concat_df_bmo_meta)"
   ]
  },
  {
   "cell_type": "code",
   "execution_count": 8,
   "metadata": {},
   "outputs": [
    {
     "data": {
      "text/plain": [
       "(15328, 37)"
      ]
     },
     "execution_count": 8,
     "metadata": {},
     "output_type": "execute_result"
    }
   ],
   "source": [
    "concat_df_bmo_meta.shape"
   ]
  },
  {
   "cell_type": "code",
   "execution_count": 9,
   "metadata": {},
   "outputs": [
    {
     "data": {
      "text/plain": [
       "Index(['Path', 'File Name', 'Status', 'Segment ID', 'Segment Start Time ',\n",
       "       'Segment Stop Time', 'Internal Segment Client Start Time',\n",
       "       'Internal Segment Client Stop Time', 'Participant Station',\n",
       "       'Segment UCID', 'Participant Trunk Group', 'Participant Trunk Number',\n",
       "       'Segment Dialed Number', 'Participant Phone-Number',\n",
       "       'Segment Call Direction Type ID', 'Participant Agent ID', 'Full Name',\n",
       "       'CallerType', 'CLIENT NAME', 'COBRAEnrollIndicator', 'ConnID',\n",
       "       'Cross Complete ID', 'DentalPlan', 'EmploymentStatus',\n",
       "       'Inbound_CLIENT ID', 'MedicalPlan', 'MedicareEnrollIndicator',\n",
       "       'nvcExportRule', 'Outbound_CLIENT_ID', 'PersonID', 'PrimarySubtopic',\n",
       "       'PrimaryTopic', 'Recording Channel', 'Recording Logger',\n",
       "       'Segment Duration', 'Skill', 'Universal ID'],\n",
       "      dtype='object')"
      ]
     },
     "execution_count": 9,
     "metadata": {},
     "output_type": "execute_result"
    }
   ],
   "source": [
    "concat_df_bmo_meta.columns"
   ]
  },
  {
   "cell_type": "code",
   "execution_count": 122,
   "metadata": {},
   "outputs": [
    {
     "data": {
      "text/plain": [
       "Index(['Path', 'File Name', 'Status', 'Segment ID', 'Segment Start Time ',\n",
       "       'Segment Stop Time', 'Internal Segment Client Start Time',\n",
       "       'Internal Segment Client Stop Time', 'Participant Station',\n",
       "       'Segment UCID', 'Participant Trunk Group', 'Participant Trunk Number',\n",
       "       'Segment Dialed Number', 'Participant Phone-Number',\n",
       "       'Segment Call Direction Type ID', 'Participant Agent ID', 'Full Name',\n",
       "       'CallerType', 'CLIENT NAME', 'COBRAEnrollIndicator', 'ConnID',\n",
       "       'Cross Complete ID', 'DentalPlan', 'EmploymentStatus',\n",
       "       'Inbound_CLIENT ID', 'MedicalPlan', 'MedicareEnrollIndicator',\n",
       "       'nvcExportRule', 'Outbound_CLIENT_ID', 'PersonID', 'PrimarySubtopic',\n",
       "       'PrimaryTopic', 'Recording Channel', 'Recording Logger',\n",
       "       'Segment Duration', 'Skill', 'Universal ID'],\n",
       "      dtype='object')"
      ]
     },
     "execution_count": 122,
     "metadata": {},
     "output_type": "execute_result"
    }
   ],
   "source": [
    "(concat_df_bmo_meta[concat_df_bmo_meta['Universal ID'].isin(['383103734','383119895','383104810','383101247','383097897','383137156','383129148','383098429','387255327'])]).columns"
   ]
  },
  {
   "cell_type": "code",
   "execution_count": 126,
   "metadata": {},
   "outputs": [],
   "source": [
    "((concat_df_bmo_meta[concat_df_bmo_meta['Universal ID'].isin(['383103734','383119895','383104810','383101247','383097897','383137156','383129148','383098429','387255327'])])[['Universal ID','Segment Start Time ','Segment Stop Time','PrimarySubtopic',\n",
    "       'PrimaryTopic']]).to_excel('seg_time.xlsx',index=False)"
   ]
  },
  {
   "cell_type": "code",
   "execution_count": 16,
   "metadata": {},
   "outputs": [
    {
     "data": {
      "text/html": [
       "<div>\n",
       "<style scoped>\n",
       "    .dataframe tbody tr th:only-of-type {\n",
       "        vertical-align: middle;\n",
       "    }\n",
       "\n",
       "    .dataframe tbody tr th {\n",
       "        vertical-align: top;\n",
       "    }\n",
       "\n",
       "    .dataframe thead th {\n",
       "        text-align: right;\n",
       "    }\n",
       "</style>\n",
       "<table border=\"1\" class=\"dataframe\">\n",
       "  <thead>\n",
       "    <tr style=\"text-align: right;\">\n",
       "      <th></th>\n",
       "      <th>jobName</th>\n",
       "      <th>isRedacted</th>\n",
       "      <th>results</th>\n",
       "      <th>sub_bucket</th>\n",
       "      <th>transcripts</th>\n",
       "      <th>Date_jobName</th>\n",
       "    </tr>\n",
       "  </thead>\n",
       "  <tbody>\n",
       "    <tr>\n",
       "      <th>0</th>\n",
       "      <td>6991817428750645949</td>\n",
       "      <td>True</td>\n",
       "      <td>{'transcripts': [{'transcript': 'Thank you for...</td>\n",
       "      <td>calldata/bmo/2021-08-02</td>\n",
       "      <td>Thank you for calling the benefit center. My n...</td>\n",
       "      <td>2021-08-16</td>\n",
       "    </tr>\n",
       "  </tbody>\n",
       "</table>\n",
       "</div>"
      ],
      "text/plain": [
       "               jobName isRedacted  \\\n",
       "0  6991817428750645949       True   \n",
       "\n",
       "                                             results               sub_bucket  \\\n",
       "0  {'transcripts': [{'transcript': 'Thank you for...  calldata/bmo/2021-08-02   \n",
       "\n",
       "                                         transcripts Date_jobName  \n",
       "0  Thank you for calling the benefit center. My n...   2021-08-16  "
      ]
     },
     "execution_count": 16,
     "metadata": {},
     "output_type": "execute_result"
    }
   ],
   "source": [
    "concat_df_bmo_trans.head(1)"
   ]
  },
  {
   "cell_type": "code",
   "execution_count": 17,
   "metadata": {},
   "outputs": [
    {
     "data": {
      "text/html": [
       "<div>\n",
       "<style scoped>\n",
       "    .dataframe tbody tr th:only-of-type {\n",
       "        vertical-align: middle;\n",
       "    }\n",
       "\n",
       "    .dataframe tbody tr th {\n",
       "        vertical-align: top;\n",
       "    }\n",
       "\n",
       "    .dataframe thead th {\n",
       "        text-align: right;\n",
       "    }\n",
       "</style>\n",
       "<table border=\"1\" class=\"dataframe\">\n",
       "  <thead>\n",
       "    <tr style=\"text-align: right;\">\n",
       "      <th></th>\n",
       "      <th>jobName</th>\n",
       "      <th>isRedacted</th>\n",
       "      <th>results</th>\n",
       "      <th>sub_bucket</th>\n",
       "      <th>transcripts</th>\n",
       "      <th>Date_jobName</th>\n",
       "    </tr>\n",
       "  </thead>\n",
       "  <tbody>\n",
       "    <tr>\n",
       "      <th>0</th>\n",
       "      <td>6991817428750645949</td>\n",
       "      <td>True</td>\n",
       "      <td>{'transcripts': [{'transcript': 'Thank you for...</td>\n",
       "      <td>calldata/bmo/2021-08-02</td>\n",
       "      <td>Thank you for calling the benefit center. My n...</td>\n",
       "      <td>2021-08-16</td>\n",
       "    </tr>\n",
       "    <tr>\n",
       "      <th>1</th>\n",
       "      <td>6991830133263897261</td>\n",
       "      <td>True</td>\n",
       "      <td>{'transcripts': [{'transcript': 'Hello? Hello?...</td>\n",
       "      <td>calldata/bmo/2021-08-02</td>\n",
       "      <td>Hello? Hello? No. Hello? I know. I know. I know.</td>\n",
       "      <td>2021-08-16</td>\n",
       "    </tr>\n",
       "    <tr>\n",
       "      <th>2</th>\n",
       "      <td>6991830468271346497</td>\n",
       "      <td>True</td>\n",
       "      <td>{'transcripts': [{'transcript': ''}], 'items':...</td>\n",
       "      <td>calldata/bmo/2021-08-02</td>\n",
       "      <td></td>\n",
       "      <td>2021-08-16</td>\n",
       "    </tr>\n",
       "    <tr>\n",
       "      <th>3</th>\n",
       "      <td>6991833839971669842</td>\n",
       "      <td>True</td>\n",
       "      <td>{'transcripts': [{'transcript': 'Thank you for...</td>\n",
       "      <td>calldata/bmo/2021-08-02</td>\n",
       "      <td>Thank you for calling Bmo Financial Group Bene...</td>\n",
       "      <td>2021-08-16</td>\n",
       "    </tr>\n",
       "    <tr>\n",
       "      <th>4</th>\n",
       "      <td>6991834252137536416</td>\n",
       "      <td>True</td>\n",
       "      <td>{'transcripts': [{'transcript': 'Thank you for...</td>\n",
       "      <td>calldata/bmo/2021-08-02</td>\n",
       "      <td>Thank you for calling Bmo Financial Group Bene...</td>\n",
       "      <td>2021-08-16</td>\n",
       "    </tr>\n",
       "  </tbody>\n",
       "</table>\n",
       "</div>"
      ],
      "text/plain": [
       "               jobName isRedacted  \\\n",
       "0  6991817428750645949       True   \n",
       "1  6991830133263897261       True   \n",
       "2  6991830468271346497       True   \n",
       "3  6991833839971669842       True   \n",
       "4  6991834252137536416       True   \n",
       "\n",
       "                                             results               sub_bucket  \\\n",
       "0  {'transcripts': [{'transcript': 'Thank you for...  calldata/bmo/2021-08-02   \n",
       "1  {'transcripts': [{'transcript': 'Hello? Hello?...  calldata/bmo/2021-08-02   \n",
       "2  {'transcripts': [{'transcript': ''}], 'items':...  calldata/bmo/2021-08-02   \n",
       "3  {'transcripts': [{'transcript': 'Thank you for...  calldata/bmo/2021-08-02   \n",
       "4  {'transcripts': [{'transcript': 'Thank you for...  calldata/bmo/2021-08-02   \n",
       "\n",
       "                                         transcripts Date_jobName  \n",
       "0  Thank you for calling the benefit center. My n...   2021-08-16  \n",
       "1   Hello? Hello? No. Hello? I know. I know. I know.   2021-08-16  \n",
       "2                                                      2021-08-16  \n",
       "3  Thank you for calling Bmo Financial Group Bene...   2021-08-16  \n",
       "4  Thank you for calling Bmo Financial Group Bene...   2021-08-16  "
      ]
     },
     "execution_count": 17,
     "metadata": {},
     "output_type": "execute_result"
    }
   ],
   "source": [
    "concat_df_bmo_trans.head()"
   ]
  },
  {
   "cell_type": "code",
   "execution_count": 18,
   "metadata": {},
   "outputs": [
    {
     "data": {
      "text/plain": [
       "'7011630336376378620'"
      ]
     },
     "execution_count": 18,
     "metadata": {},
     "output_type": "execute_result"
    }
   ],
   "source": [
    "concat_df_bmo_trans.jobName.max()"
   ]
  },
  {
   "cell_type": "code",
   "execution_count": 15,
   "metadata": {},
   "outputs": [],
   "source": [
    "# concat_df_bmo_trans = concat_df_bmo_trans[concat_df_bmo_trans['jobName'].astype(float).isin(segment_universal_ids['Segment ID'])]"
   ]
  },
  {
   "cell_type": "code",
   "execution_count": 20,
   "metadata": {},
   "outputs": [
    {
     "data": {
      "text/plain": [
       "59250"
      ]
     },
     "execution_count": 20,
     "metadata": {},
     "output_type": "execute_result"
    }
   ],
   "source": [
    "concat_df_bmo_meta[\"Segment ID\"].nunique()"
   ]
  },
  {
   "cell_type": "code",
   "execution_count": 21,
   "metadata": {},
   "outputs": [
    {
     "data": {
      "text/plain": [
       "59730"
      ]
     },
     "execution_count": 21,
     "metadata": {},
     "output_type": "execute_result"
    }
   ],
   "source": [
    "concat_df_bmo_meta[\"Segment ID\"].nunique() + concat_df_bmo_meta[\"Segment ID\"].isnull().sum()"
   ]
  },
  {
   "cell_type": "code",
   "execution_count": 22,
   "metadata": {},
   "outputs": [],
   "source": [
    "concat_df_bmo_meta[\"Segment Start Time \"] = pd.to_datetime(concat_df_bmo_meta[\"Segment Start Time \"])\n",
    "concat_df_bmo_meta[\"Segment Stop Time\"] = pd.to_datetime(concat_df_bmo_meta[\"Segment Stop Time\"])"
   ]
  },
  {
   "cell_type": "code",
   "execution_count": 23,
   "metadata": {},
   "outputs": [
    {
     "data": {
      "text/plain": [
       "Timestamp('2020-08-04 12:21:28.233000')"
      ]
     },
     "execution_count": 23,
     "metadata": {},
     "output_type": "execute_result"
    }
   ],
   "source": [
    "concat_df_bmo_meta[\"Segment Start Time \"].min()"
   ]
  },
  {
   "cell_type": "code",
   "execution_count": 24,
   "metadata": {},
   "outputs": [
    {
     "data": {
      "text/plain": [
       "Timestamp('2021-09-24 22:26:49.333000')"
      ]
     },
     "execution_count": 24,
     "metadata": {},
     "output_type": "execute_result"
    }
   ],
   "source": [
    "concat_df_bmo_meta[\"Segment Start Time \"].max()"
   ]
  },
  {
   "cell_type": "code",
   "execution_count": 25,
   "metadata": {},
   "outputs": [
    {
     "data": {
      "text/plain": [
       "69415"
      ]
     },
     "execution_count": 25,
     "metadata": {},
     "output_type": "execute_result"
    }
   ],
   "source": [
    "len(concat_df_bmo_trans)"
   ]
  },
  {
   "cell_type": "code",
   "execution_count": 26,
   "metadata": {},
   "outputs": [
    {
     "data": {
      "text/html": [
       "<div>\n",
       "<style scoped>\n",
       "    .dataframe tbody tr th:only-of-type {\n",
       "        vertical-align: middle;\n",
       "    }\n",
       "\n",
       "    .dataframe tbody tr th {\n",
       "        vertical-align: top;\n",
       "    }\n",
       "\n",
       "    .dataframe thead th {\n",
       "        text-align: right;\n",
       "    }\n",
       "</style>\n",
       "<table border=\"1\" class=\"dataframe\">\n",
       "  <thead>\n",
       "    <tr style=\"text-align: right;\">\n",
       "      <th></th>\n",
       "      <th>jobName</th>\n",
       "      <th>isRedacted</th>\n",
       "      <th>results</th>\n",
       "      <th>sub_bucket</th>\n",
       "      <th>transcripts</th>\n",
       "      <th>Date_jobName</th>\n",
       "    </tr>\n",
       "  </thead>\n",
       "  <tbody>\n",
       "    <tr>\n",
       "      <th>0</th>\n",
       "      <td>6991817428750645949</td>\n",
       "      <td>True</td>\n",
       "      <td>{'transcripts': [{'transcript': 'Thank you for...</td>\n",
       "      <td>calldata/bmo/2021-08-02</td>\n",
       "      <td>Thank you for calling the benefit center. My n...</td>\n",
       "      <td>2021-08-16</td>\n",
       "    </tr>\n",
       "  </tbody>\n",
       "</table>\n",
       "</div>"
      ],
      "text/plain": [
       "               jobName isRedacted  \\\n",
       "0  6991817428750645949       True   \n",
       "\n",
       "                                             results               sub_bucket  \\\n",
       "0  {'transcripts': [{'transcript': 'Thank you for...  calldata/bmo/2021-08-02   \n",
       "\n",
       "                                         transcripts Date_jobName  \n",
       "0  Thank you for calling the benefit center. My n...   2021-08-16  "
      ]
     },
     "execution_count": 26,
     "metadata": {},
     "output_type": "execute_result"
    }
   ],
   "source": [
    "concat_df_bmo_trans.head(1)"
   ]
  },
  {
   "cell_type": "code",
   "execution_count": 27,
   "metadata": {},
   "outputs": [
    {
     "data": {
      "text/plain": [
       "(69415, 6)"
      ]
     },
     "execution_count": 27,
     "metadata": {},
     "output_type": "execute_result"
    }
   ],
   "source": [
    "concat_df_bmo_trans.shape"
   ]
  },
  {
   "cell_type": "code",
   "execution_count": 28,
   "metadata": {
    "collapsed": true,
    "jupyter": {
     "outputs_hidden": true
    }
   },
   "outputs": [
    {
     "data": {
      "text/plain": [
       "array([datetime.date(2021, 8, 16), datetime.date(2021, 8, 18),\n",
       "       datetime.date(2021, 8, 19), datetime.date(2021, 8, 20),\n",
       "       datetime.date(2021, 8, 21), datetime.date(2021, 8, 24),\n",
       "       datetime.date(2021, 8, 25), datetime.date(2021, 8, 26),\n",
       "       datetime.date(2021, 8, 27), datetime.date(2021, 8, 28),\n",
       "       datetime.date(2021, 8, 31), datetime.date(2021, 9, 1),\n",
       "       datetime.date(2021, 7, 2), datetime.date(2021, 9, 2),\n",
       "       datetime.date(2021, 9, 3), datetime.date(2021, 9, 4),\n",
       "       datetime.date(2021, 9, 5), datetime.date(2021, 9, 6),\n",
       "       datetime.date(2021, 9, 9), datetime.date(2021, 9, 10),\n",
       "       datetime.date(2021, 9, 11), datetime.date(2021, 9, 12),\n",
       "       datetime.date(2021, 9, 13), datetime.date(2021, 9, 14),\n",
       "       datetime.date(2021, 9, 15), datetime.date(2021, 9, 16),\n",
       "       datetime.date(2021, 9, 17), datetime.date(2021, 9, 18),\n",
       "       datetime.date(2021, 9, 19), datetime.date(2021, 9, 20),\n",
       "       datetime.date(2021, 9, 21), datetime.date(2021, 9, 22),\n",
       "       datetime.date(2021, 9, 23), datetime.date(2021, 9, 24),\n",
       "       datetime.date(2021, 9, 25), datetime.date(2021, 9, 26),\n",
       "       datetime.date(2021, 9, 27), datetime.date(2021, 6, 30),\n",
       "       datetime.date(2021, 6, 4), datetime.date(2021, 6, 8),\n",
       "       datetime.date(2021, 6, 9), datetime.date(2021, 6, 10),\n",
       "       datetime.date(2021, 7, 3), datetime.date(2021, 7, 7),\n",
       "       datetime.date(2021, 7, 8), datetime.date(2021, 7, 9),\n",
       "       datetime.date(2021, 7, 10), datetime.date(2021, 8, 3),\n",
       "       datetime.date(2021, 8, 4), datetime.date(2021, 8, 5),\n",
       "       datetime.date(2021, 8, 6), datetime.date(2021, 8, 7),\n",
       "       datetime.date(2021, 8, 10), datetime.date(2021, 5, 26),\n",
       "       datetime.date(2021, 5, 25), datetime.date(2021, 5, 27),\n",
       "       datetime.date(2021, 6, 2), datetime.date(2021, 7, 1),\n",
       "       datetime.date(2021, 7, 14), datetime.date(2021, 7, 13),\n",
       "       datetime.date(2021, 7, 15), datetime.date(2021, 7, 16),\n",
       "       datetime.date(2021, 7, 17), datetime.date(2021, 7, 18),\n",
       "       datetime.date(2021, 7, 20), datetime.date(2021, 7, 21),\n",
       "       datetime.date(2021, 7, 22), datetime.date(2021, 7, 23),\n",
       "       datetime.date(2021, 7, 24), datetime.date(2021, 7, 27),\n",
       "       datetime.date(2021, 7, 28), datetime.date(2021, 7, 29),\n",
       "       datetime.date(2021, 7, 30), datetime.date(2021, 7, 31),\n",
       "       datetime.date(2021, 8, 11), datetime.date(2021, 8, 12),\n",
       "       datetime.date(2021, 8, 13), datetime.date(2021, 8, 14)],\n",
       "      dtype=object)"
      ]
     },
     "execution_count": 28,
     "metadata": {},
     "output_type": "execute_result"
    }
   ],
   "source": [
    "concat_df_bmo_trans.Date_jobName.unique()"
   ]
  },
  {
   "cell_type": "code",
   "execution_count": 29,
   "metadata": {},
   "outputs": [
    {
     "data": {
      "text/html": [
       "<div>\n",
       "<style scoped>\n",
       "    .dataframe tbody tr th:only-of-type {\n",
       "        vertical-align: middle;\n",
       "    }\n",
       "\n",
       "    .dataframe tbody tr th {\n",
       "        vertical-align: top;\n",
       "    }\n",
       "\n",
       "    .dataframe thead th {\n",
       "        text-align: right;\n",
       "    }\n",
       "</style>\n",
       "<table border=\"1\" class=\"dataframe\">\n",
       "  <thead>\n",
       "    <tr style=\"text-align: right;\">\n",
       "      <th></th>\n",
       "      <th>Segment ID</th>\n",
       "      <th>isRedacted</th>\n",
       "      <th>results</th>\n",
       "      <th>sub_bucket</th>\n",
       "      <th>transcripts</th>\n",
       "      <th>Date_jobName</th>\n",
       "    </tr>\n",
       "  </thead>\n",
       "  <tbody>\n",
       "    <tr>\n",
       "      <th>0</th>\n",
       "      <td>6.991817e+18</td>\n",
       "      <td>True</td>\n",
       "      <td>{'transcripts': [{'transcript': 'Thank you for...</td>\n",
       "      <td>calldata/bmo/2021-08-02</td>\n",
       "      <td>Thank you for calling the benefit center. My n...</td>\n",
       "      <td>2021-08-16</td>\n",
       "    </tr>\n",
       "  </tbody>\n",
       "</table>\n",
       "</div>"
      ],
      "text/plain": [
       "     Segment ID isRedacted                                            results  \\\n",
       "0  6.991817e+18       True  {'transcripts': [{'transcript': 'Thank you for...   \n",
       "\n",
       "                sub_bucket                                        transcripts  \\\n",
       "0  calldata/bmo/2021-08-02  Thank you for calling the benefit center. My n...   \n",
       "\n",
       "  Date_jobName  \n",
       "0   2021-08-16  "
      ]
     },
     "execution_count": 29,
     "metadata": {},
     "output_type": "execute_result"
    }
   ],
   "source": [
    "concat_df_bmo_trans[\"jobName\"] = concat_df_bmo_trans[\"jobName\"].astype('float')\n",
    "concat_df_bmo_trans = concat_df_bmo_trans.rename(columns={\"jobName\":\"Segment ID\"})\n",
    "concat_df_bmo_trans.head(1)"
   ]
  },
  {
   "cell_type": "code",
   "execution_count": 30,
   "metadata": {},
   "outputs": [
    {
     "data": {
      "text/plain": [
       "Index(['Segment ID', 'isRedacted', 'results', 'sub_bucket', 'transcripts',\n",
       "       'Date_jobName'],\n",
       "      dtype='object')"
      ]
     },
     "execution_count": 30,
     "metadata": {},
     "output_type": "execute_result"
    }
   ],
   "source": [
    "concat_df_bmo_trans.columns"
   ]
  },
  {
   "cell_type": "code",
   "execution_count": 31,
   "metadata": {},
   "outputs": [],
   "source": [
    "useful_meta_cols = ['File Name','Segment ID','Universal ID',\"Segment Start Time \",\"Segment Stop Time\",\"Segment Call Direction Type ID\",\n",
    "                    \"Segment Duration\",'PrimarySubtopic','PrimaryTopic']\n",
    "\n",
    "concat_df_bmo_trans = concat_df_bmo_trans.merge(concat_df_bmo_meta[useful_meta_cols],on=\"Segment ID\",copy=False)"
   ]
  },
  {
   "cell_type": "code",
   "execution_count": 26,
   "metadata": {},
   "outputs": [],
   "source": [
    "# concat_df_bmo_trans = concat_df_bmo_trans.merge(concat_df_bmo_trans.groupby('Universal ID',as_index=False)[\"Segment ID\"].count()\n",
    "#                         .rename(columns={'Segment ID':'Segment_Counts'}),\n",
    "#                         on=\"Universal ID\", copy=False)"
   ]
  },
  {
   "cell_type": "code",
   "execution_count": 32,
   "metadata": {},
   "outputs": [
    {
     "data": {
      "text/plain": [
       "3349"
      ]
     },
     "execution_count": 32,
     "metadata": {},
     "output_type": "execute_result"
    }
   ],
   "source": [
    "concat_df_bmo_trans[concat_df_bmo_trans['Universal ID']== -1.0]['transcripts'].count()"
   ]
  },
  {
   "cell_type": "code",
   "execution_count": 33,
   "metadata": {},
   "outputs": [
    {
     "data": {
      "text/plain": [
       "18146"
      ]
     },
     "execution_count": 33,
     "metadata": {},
     "output_type": "execute_result"
    }
   ],
   "source": [
    "concat_df_bmo_trans['PrimaryTopic'].count()"
   ]
  },
  {
   "cell_type": "code",
   "execution_count": 34,
   "metadata": {},
   "outputs": [],
   "source": [
    "concat_df_bmo_trans.drop(concat_df_bmo_trans.index[concat_df_bmo_trans[\"Segment Call Direction Type ID\"] == \"Outgoing\"], inplace=True)"
   ]
  },
  {
   "cell_type": "code",
   "execution_count": 35,
   "metadata": {},
   "outputs": [
    {
     "data": {
      "text/plain": [
       "Segment ID                        52010\n",
       "isRedacted                        41928\n",
       "results                           52010\n",
       "sub_bucket                        52010\n",
       "transcripts                       52010\n",
       "Date_jobName                      52010\n",
       "File Name                         52010\n",
       "Universal ID                      52010\n",
       "Segment Start Time                52010\n",
       "Segment Stop Time                 52010\n",
       "Segment Call Direction Type ID    52010\n",
       "Segment Duration                  52010\n",
       "PrimarySubtopic                   16472\n",
       "PrimaryTopic                      16472\n",
       "dtype: int64"
      ]
     },
     "execution_count": 35,
     "metadata": {},
     "output_type": "execute_result"
    }
   ],
   "source": [
    "concat_df_bmo_trans.count()"
   ]
  },
  {
   "cell_type": "code",
   "execution_count": 36,
   "metadata": {},
   "outputs": [],
   "source": [
    "from datetime import timedelta\n",
    "concat_df_bmo_trans = concat_df_bmo_trans[(concat_df_bmo_trans[\"Segment Stop Time\"] - concat_df_bmo_trans[\"Segment Start Time \"]) > timedelta(seconds=60)]"
   ]
  },
  {
   "cell_type": "code",
   "execution_count": 37,
   "metadata": {},
   "outputs": [
    {
     "data": {
      "text/plain": [
       "Segment ID                        44147\n",
       "isRedacted                        36055\n",
       "results                           44147\n",
       "sub_bucket                        44147\n",
       "transcripts                       44147\n",
       "Date_jobName                      44147\n",
       "File Name                         44147\n",
       "Universal ID                      44147\n",
       "Segment Start Time                44147\n",
       "Segment Stop Time                 44147\n",
       "Segment Call Direction Type ID    44147\n",
       "Segment Duration                  44147\n",
       "PrimarySubtopic                   14531\n",
       "PrimaryTopic                      14531\n",
       "dtype: int64"
      ]
     },
     "execution_count": 37,
     "metadata": {},
     "output_type": "execute_result"
    }
   ],
   "source": [
    "concat_df_bmo_trans.count()"
   ]
  },
  {
   "cell_type": "code",
   "execution_count": 38,
   "metadata": {},
   "outputs": [
    {
     "data": {
      "text/plain": [
       "44147"
      ]
     },
     "execution_count": 38,
     "metadata": {},
     "output_type": "execute_result"
    }
   ],
   "source": [
    "len(concat_df_bmo_trans)"
   ]
  },
  {
   "cell_type": "code",
   "execution_count": 39,
   "metadata": {},
   "outputs": [],
   "source": [
    "bmo_df = concat_df_bmo_trans.copy()"
   ]
  },
  {
   "cell_type": "code",
   "execution_count": 40,
   "metadata": {},
   "outputs": [
    {
     "data": {
      "text/plain": [
       "(2169, 14)"
      ]
     },
     "execution_count": 40,
     "metadata": {},
     "output_type": "execute_result"
    }
   ],
   "source": [
    "bmo_df[bmo_df['Universal ID']==-1].shape"
   ]
  },
  {
   "cell_type": "code",
   "execution_count": 65,
   "metadata": {},
   "outputs": [
    {
     "data": {
      "text/plain": [
       "(41978, 14)"
      ]
     },
     "execution_count": 65,
     "metadata": {},
     "output_type": "execute_result"
    }
   ],
   "source": [
    "new_df.shape"
   ]
  },
  {
   "cell_type": "code",
   "execution_count": 89,
   "metadata": {},
   "outputs": [],
   "source": [
    "new_df=bmo_df[~bmo_df['Universal ID'].isin([-1])]"
   ]
  },
  {
   "cell_type": "code",
   "execution_count": 52,
   "metadata": {},
   "outputs": [
    {
     "data": {
      "text/plain": [
       "(14531, 14)"
      ]
     },
     "execution_count": 52,
     "metadata": {},
     "output_type": "execute_result"
    }
   ],
   "source": [
    "new_df_notnull=new_df[~new_df['PrimarySubtopic'].isna()]\n",
    "new_df_notnull.shape"
   ]
  },
  {
   "cell_type": "code",
   "execution_count": 53,
   "metadata": {
    "collapsed": true,
    "jupyter": {
     "outputs_hidden": true
    }
   },
   "outputs": [
    {
     "data": {
      "text/html": [
       "<div>\n",
       "<style scoped>\n",
       "    .dataframe tbody tr th:only-of-type {\n",
       "        vertical-align: middle;\n",
       "    }\n",
       "\n",
       "    .dataframe tbody tr th {\n",
       "        vertical-align: top;\n",
       "    }\n",
       "\n",
       "    .dataframe thead th {\n",
       "        text-align: right;\n",
       "    }\n",
       "</style>\n",
       "<table border=\"1\" class=\"dataframe\">\n",
       "  <thead>\n",
       "    <tr style=\"text-align: right;\">\n",
       "      <th></th>\n",
       "      <th>Segment ID</th>\n",
       "      <th>isRedacted</th>\n",
       "      <th>results</th>\n",
       "      <th>sub_bucket</th>\n",
       "      <th>transcripts</th>\n",
       "      <th>Date_jobName</th>\n",
       "      <th>File Name</th>\n",
       "      <th>Universal ID</th>\n",
       "      <th>Segment Start Time</th>\n",
       "      <th>Segment Stop Time</th>\n",
       "      <th>Segment Call Direction Type ID</th>\n",
       "      <th>Segment Duration</th>\n",
       "      <th>PrimarySubtopic</th>\n",
       "      <th>PrimaryTopic</th>\n",
       "    </tr>\n",
       "  </thead>\n",
       "  <tbody>\n",
       "    <tr>\n",
       "      <th>248</th>\n",
       "      <td>6.992994e+18</td>\n",
       "      <td>True</td>\n",
       "      <td>{'transcripts': [{'transcript': 'new.'}], 'spe...</td>\n",
       "      <td>calldata/bmo/2021-08-05</td>\n",
       "      <td>new.</td>\n",
       "      <td>2021-08-16</td>\n",
       "      <td>NICE_6992994460243143133_Summed.wav</td>\n",
       "      <td>387474082.0</td>\n",
       "      <td>2021-08-05 17:10:01.003</td>\n",
       "      <td>2021-08-05 17:24:21.050</td>\n",
       "      <td>Incoming</td>\n",
       "      <td>00:14:20</td>\n",
       "      <td>Plan Provisions/Procedures</td>\n",
       "      <td>HW - Life Event/Qual Stat Chg</td>\n",
       "    </tr>\n",
       "    <tr>\n",
       "      <th>250</th>\n",
       "      <td>6.992994e+18</td>\n",
       "      <td>True</td>\n",
       "      <td>{'transcripts': [{'transcript': 'Hello, this i...</td>\n",
       "      <td>calldata/meijer/2021-08-05</td>\n",
       "      <td>Hello, this is I have the pleasure of assistan...</td>\n",
       "      <td>2021-08-07</td>\n",
       "      <td>NICE_6992994460243143133_Summed.wav</td>\n",
       "      <td>387474082.0</td>\n",
       "      <td>2021-08-05 17:10:01.003</td>\n",
       "      <td>2021-08-05 17:24:21.050</td>\n",
       "      <td>Incoming</td>\n",
       "      <td>00:14:20</td>\n",
       "      <td>Plan Provisions/Procedures</td>\n",
       "      <td>HW - Life Event/Qual Stat Chg</td>\n",
       "    </tr>\n",
       "    <tr>\n",
       "      <th>440</th>\n",
       "      <td>6.994424e+18</td>\n",
       "      <td>True</td>\n",
       "      <td>{'transcripts': [{'transcript': 'calling Bank ...</td>\n",
       "      <td>calldata/bmo/2021-08-09</td>\n",
       "      <td>calling Bank of Montreal, your speaking to May...</td>\n",
       "      <td>2021-08-16</td>\n",
       "      <td>NICE_6994423640335920977_Summed.wav</td>\n",
       "      <td>387625731.0</td>\n",
       "      <td>2021-08-09 13:36:06.193</td>\n",
       "      <td>2021-08-09 13:43:05.460</td>\n",
       "      <td>Incoming</td>\n",
       "      <td>00:06:59</td>\n",
       "      <td>ROE</td>\n",
       "      <td>Payroll - Ongoing Processing</td>\n",
       "    </tr>\n",
       "    <tr>\n",
       "      <th>446</th>\n",
       "      <td>6.994425e+18</td>\n",
       "      <td>True</td>\n",
       "      <td>{'transcripts': [{'transcript': '[PII] [PII] [...</td>\n",
       "      <td>calldata/bmo/2021-08-09</td>\n",
       "      <td>[PII] [PII] [PII] to continue in english, pres...</td>\n",
       "      <td>2021-08-16</td>\n",
       "      <td>NICE_6994425474286958893_Summed.wav</td>\n",
       "      <td>387625731.0</td>\n",
       "      <td>2021-08-09 13:43:05.460</td>\n",
       "      <td>2021-08-09 13:44:15.533</td>\n",
       "      <td>Incoming</td>\n",
       "      <td>00:01:10</td>\n",
       "      <td>ROE</td>\n",
       "      <td>Payroll - Ongoing Processing</td>\n",
       "    </tr>\n",
       "    <tr>\n",
       "      <th>491</th>\n",
       "      <td>6.994435e+18</td>\n",
       "      <td>True</td>\n",
       "      <td>{'transcripts': [{'transcript': 'how may I hel...</td>\n",
       "      <td>calldata/bmo/2021-08-09</td>\n",
       "      <td>how may I help you? Hi, I have a manager on th...</td>\n",
       "      <td>2021-08-16</td>\n",
       "      <td>NICE_6994435296877162789_Summed.wav</td>\n",
       "      <td>387630840.0</td>\n",
       "      <td>2021-08-09 14:21:13.427</td>\n",
       "      <td>2021-08-09 14:35:32.620</td>\n",
       "      <td>Incoming</td>\n",
       "      <td>00:14:19</td>\n",
       "      <td>Processed Transaction</td>\n",
       "      <td>DC - Loans</td>\n",
       "    </tr>\n",
       "    <tr>\n",
       "      <th>493</th>\n",
       "      <td>6.994435e+18</td>\n",
       "      <td>True</td>\n",
       "      <td>{'transcripts': [{'transcript': 'Good morning,...</td>\n",
       "      <td>calldata/meijer/2021-08-09</td>\n",
       "      <td>Good morning, this is [PII]. Hi [PII], my name...</td>\n",
       "      <td>2021-08-10</td>\n",
       "      <td>NICE_6994435296877162789_Summed.wav</td>\n",
       "      <td>387630840.0</td>\n",
       "      <td>2021-08-09 14:21:13.427</td>\n",
       "      <td>2021-08-09 14:35:32.620</td>\n",
       "      <td>Incoming</td>\n",
       "      <td>00:14:19</td>\n",
       "      <td>Processed Transaction</td>\n",
       "      <td>DC - Loans</td>\n",
       "    </tr>\n",
       "  </tbody>\n",
       "</table>\n",
       "</div>"
      ],
      "text/plain": [
       "       Segment ID isRedacted  \\\n",
       "248  6.992994e+18       True   \n",
       "250  6.992994e+18       True   \n",
       "440  6.994424e+18       True   \n",
       "446  6.994425e+18       True   \n",
       "491  6.994435e+18       True   \n",
       "493  6.994435e+18       True   \n",
       "\n",
       "                                               results  \\\n",
       "248  {'transcripts': [{'transcript': 'new.'}], 'spe...   \n",
       "250  {'transcripts': [{'transcript': 'Hello, this i...   \n",
       "440  {'transcripts': [{'transcript': 'calling Bank ...   \n",
       "446  {'transcripts': [{'transcript': '[PII] [PII] [...   \n",
       "491  {'transcripts': [{'transcript': 'how may I hel...   \n",
       "493  {'transcripts': [{'transcript': 'Good morning,...   \n",
       "\n",
       "                     sub_bucket  \\\n",
       "248     calldata/bmo/2021-08-05   \n",
       "250  calldata/meijer/2021-08-05   \n",
       "440     calldata/bmo/2021-08-09   \n",
       "446     calldata/bmo/2021-08-09   \n",
       "491     calldata/bmo/2021-08-09   \n",
       "493  calldata/meijer/2021-08-09   \n",
       "\n",
       "                                           transcripts Date_jobName  \\\n",
       "248                                               new.   2021-08-16   \n",
       "250  Hello, this is I have the pleasure of assistan...   2021-08-07   \n",
       "440  calling Bank of Montreal, your speaking to May...   2021-08-16   \n",
       "446  [PII] [PII] [PII] to continue in english, pres...   2021-08-16   \n",
       "491  how may I help you? Hi, I have a manager on th...   2021-08-16   \n",
       "493  Good morning, this is [PII]. Hi [PII], my name...   2021-08-10   \n",
       "\n",
       "                               File Name  Universal ID  \\\n",
       "248  NICE_6992994460243143133_Summed.wav   387474082.0   \n",
       "250  NICE_6992994460243143133_Summed.wav   387474082.0   \n",
       "440  NICE_6994423640335920977_Summed.wav   387625731.0   \n",
       "446  NICE_6994425474286958893_Summed.wav   387625731.0   \n",
       "491  NICE_6994435296877162789_Summed.wav   387630840.0   \n",
       "493  NICE_6994435296877162789_Summed.wav   387630840.0   \n",
       "\n",
       "        Segment Start Time        Segment Stop Time  \\\n",
       "248 2021-08-05 17:10:01.003 2021-08-05 17:24:21.050   \n",
       "250 2021-08-05 17:10:01.003 2021-08-05 17:24:21.050   \n",
       "440 2021-08-09 13:36:06.193 2021-08-09 13:43:05.460   \n",
       "446 2021-08-09 13:43:05.460 2021-08-09 13:44:15.533   \n",
       "491 2021-08-09 14:21:13.427 2021-08-09 14:35:32.620   \n",
       "493 2021-08-09 14:21:13.427 2021-08-09 14:35:32.620   \n",
       "\n",
       "    Segment Call Direction Type ID Segment Duration  \\\n",
       "248                       Incoming         00:14:20   \n",
       "250                       Incoming         00:14:20   \n",
       "440                       Incoming         00:06:59   \n",
       "446                       Incoming         00:01:10   \n",
       "491                       Incoming         00:14:19   \n",
       "493                       Incoming         00:14:19   \n",
       "\n",
       "                PrimarySubtopic                   PrimaryTopic  \n",
       "248  Plan Provisions/Procedures  HW - Life Event/Qual Stat Chg  \n",
       "250  Plan Provisions/Procedures  HW - Life Event/Qual Stat Chg  \n",
       "440                         ROE   Payroll - Ongoing Processing  \n",
       "446                         ROE   Payroll - Ongoing Processing  \n",
       "491       Processed Transaction                     DC - Loans  \n",
       "493       Processed Transaction                     DC - Loans  "
      ]
     },
     "execution_count": 53,
     "metadata": {},
     "output_type": "execute_result"
    }
   ],
   "source": [
    "new_df_notnull[new_df_notnull['Universal ID'].duplicated(keep=False)].head(6)"
   ]
  },
  {
   "cell_type": "code",
   "execution_count": 58,
   "metadata": {},
   "outputs": [],
   "source": [
    "new_df_notnull=new_df_notnull[~new_df_notnull['transcripts'].duplicated()]"
   ]
  },
  {
   "cell_type": "code",
   "execution_count": 61,
   "metadata": {},
   "outputs": [
    {
     "data": {
      "text/plain": [
       "(0, 14)"
      ]
     },
     "execution_count": 61,
     "metadata": {},
     "output_type": "execute_result"
    }
   ],
   "source": [
    "new_df_notnull[new_df_notnull['transcripts'].duplicated()].shape"
   ]
  },
  {
   "cell_type": "code",
   "execution_count": 90,
   "metadata": {},
   "outputs": [],
   "source": [
    "new_df_null=new_df[new_df['PrimarySubtopic'].isna()]"
   ]
  },
  {
   "cell_type": "code",
   "execution_count": 91,
   "metadata": {},
   "outputs": [
    {
     "data": {
      "text/plain": [
       "(27447, 14)"
      ]
     },
     "execution_count": 91,
     "metadata": {},
     "output_type": "execute_result"
    }
   ],
   "source": [
    "new_df_null.shape"
   ]
  },
  {
   "cell_type": "code",
   "execution_count": 92,
   "metadata": {},
   "outputs": [],
   "source": [
    "df1 = pd.read_csv(r's3://adl-core-sagemaker-studio/external/Athena_output/Unsaved/2021/09/09/b944ea8e-837c-43f5-852c-db3a1ce40b3e.csv')"
   ]
  },
  {
   "cell_type": "code",
   "execution_count": 93,
   "metadata": {},
   "outputs": [
    {
     "data": {
      "text/plain": [
       "Segment ID                            0\n",
       "isRedacted                         4842\n",
       "results                               0\n",
       "sub_bucket                            0\n",
       "transcripts                           0\n",
       "Date_jobName                          0\n",
       "File Name                             0\n",
       "Universal ID                          0\n",
       "Segment Start Time                    0\n",
       "Segment Stop Time                     0\n",
       "Segment Call Direction Type ID        0\n",
       "Segment Duration                      0\n",
       "PrimarySubtopic                   27447\n",
       "PrimaryTopic                      27447\n",
       "dtype: int64"
      ]
     },
     "execution_count": 93,
     "metadata": {},
     "output_type": "execute_result"
    }
   ],
   "source": [
    "new_df_null.isna().sum()"
   ]
  },
  {
   "cell_type": "code",
   "execution_count": 94,
   "metadata": {},
   "outputs": [],
   "source": [
    "df1 = df1.rename(columns={\"call_unique_id\":\"Universal ID\"})"
   ]
  },
  {
   "cell_type": "code",
   "execution_count": 95,
   "metadata": {},
   "outputs": [],
   "source": [
    "useful_meta_cols = ['Universal ID','cspro_primary_topic','cspro_primary_subtopic']\n",
    "\n",
    "new_df_null = new_df_null.merge(df1[useful_meta_cols],on=\"Universal ID\",copy=False)"
   ]
  },
  {
   "cell_type": "code",
   "execution_count": 96,
   "metadata": {},
   "outputs": [
    {
     "data": {
      "text/plain": [
       "Segment ID                           0\n",
       "isRedacted                        3282\n",
       "results                              0\n",
       "sub_bucket                           0\n",
       "transcripts                          0\n",
       "Date_jobName                         0\n",
       "File Name                            0\n",
       "Universal ID                         0\n",
       "Segment Start Time                   0\n",
       "Segment Stop Time                    0\n",
       "Segment Call Direction Type ID       0\n",
       "Segment Duration                     0\n",
       "PrimarySubtopic                   6101\n",
       "PrimaryTopic                      6101\n",
       "cspro_primary_topic                  0\n",
       "cspro_primary_subtopic               0\n",
       "dtype: int64"
      ]
     },
     "execution_count": 96,
     "metadata": {},
     "output_type": "execute_result"
    }
   ],
   "source": [
    "new_df_null.isna().sum()"
   ]
  },
  {
   "cell_type": "code",
   "execution_count": 98,
   "metadata": {},
   "outputs": [],
   "source": [
    "new_df_null.drop(columns = ['PrimarySubtopic','PrimaryTopic'],inplace = True)\n",
    "new_df_null = new_df_null.rename(columns={\"cspro_primary_topic\":\"PrimaryTopic\",\n",
    "                                             \"cspro_primary_subtopic\":\"PrimarySubtopic\"})"
   ]
  },
  {
   "cell_type": "code",
   "execution_count": 99,
   "metadata": {},
   "outputs": [],
   "source": [
    "new_df_null = new_df_null[new_df_null['transcripts'].notnull()]"
   ]
  },
  {
   "cell_type": "code",
   "execution_count": 101,
   "metadata": {},
   "outputs": [
    {
     "data": {
      "text/plain": [
       "(6101, 14)"
      ]
     },
     "execution_count": 101,
     "metadata": {},
     "output_type": "execute_result"
    }
   ],
   "source": [
    "new_df_null.shape"
   ]
  },
  {
   "cell_type": "code",
   "execution_count": 102,
   "metadata": {},
   "outputs": [
    {
     "data": {
      "text/plain": [
       "Segment ID                        12742\n",
       "isRedacted                         9731\n",
       "results                           12742\n",
       "sub_bucket                        12742\n",
       "transcripts                       12742\n",
       "Date_jobName                      12742\n",
       "File Name                         12742\n",
       "Universal ID                      12742\n",
       "Segment Start Time                12742\n",
       "Segment Stop Time                 12742\n",
       "Segment Call Direction Type ID    12742\n",
       "Segment Duration                  12742\n",
       "PrimarySubtopic                   12742\n",
       "PrimaryTopic                      12742\n",
       "dtype: int64"
      ]
     },
     "execution_count": 102,
     "metadata": {},
     "output_type": "execute_result"
    }
   ],
   "source": [
    "new_df_notnull.count()"
   ]
  },
  {
   "cell_type": "code",
   "execution_count": 103,
   "metadata": {},
   "outputs": [
    {
     "data": {
      "text/plain": [
       "Segment ID                        18843\n",
       "isRedacted                        12550\n",
       "results                           18843\n",
       "sub_bucket                        18843\n",
       "transcripts                       18843\n",
       "Date_jobName                      18843\n",
       "File Name                         18843\n",
       "Universal ID                      18843\n",
       "Segment Start Time                18843\n",
       "Segment Stop Time                 18843\n",
       "Segment Call Direction Type ID    18843\n",
       "Segment Duration                  18843\n",
       "PrimaryTopic                      18843\n",
       "PrimarySubtopic                   18843\n",
       "dtype: int64"
      ]
     },
     "execution_count": 103,
     "metadata": {},
     "output_type": "execute_result"
    }
   ],
   "source": [
    "df_with_topics = pd.concat([new_df_null,new_df_notnull])\n",
    "df_with_topics =df_with_topics[df_with_topics['transcripts'].notnull()]\n",
    "df_with_topics.count()"
   ]
  },
  {
   "cell_type": "code",
   "execution_count": 104,
   "metadata": {},
   "outputs": [
    {
     "data": {
      "text/plain": [
       "Segment ID                           0\n",
       "isRedacted                        6293\n",
       "results                              0\n",
       "sub_bucket                           0\n",
       "transcripts                          0\n",
       "Date_jobName                         0\n",
       "File Name                            0\n",
       "Universal ID                         0\n",
       "Segment Start Time                   0\n",
       "Segment Stop Time                    0\n",
       "Segment Call Direction Type ID       0\n",
       "Segment Duration                     0\n",
       "PrimaryTopic                         0\n",
       "PrimarySubtopic                      0\n",
       "dtype: int64"
      ]
     },
     "execution_count": 104,
     "metadata": {},
     "output_type": "execute_result"
    }
   ],
   "source": [
    "df_with_topics.isna().sum()"
   ]
  },
  {
   "cell_type": "code",
   "execution_count": 110,
   "metadata": {},
   "outputs": [
    {
     "data": {
      "text/html": [
       "<div>\n",
       "<style scoped>\n",
       "    .dataframe tbody tr th:only-of-type {\n",
       "        vertical-align: middle;\n",
       "    }\n",
       "\n",
       "    .dataframe tbody tr th {\n",
       "        vertical-align: top;\n",
       "    }\n",
       "\n",
       "    .dataframe thead th {\n",
       "        text-align: right;\n",
       "    }\n",
       "</style>\n",
       "<table border=\"1\" class=\"dataframe\">\n",
       "  <thead>\n",
       "    <tr style=\"text-align: right;\">\n",
       "      <th></th>\n",
       "      <th>Segment ID</th>\n",
       "      <th>isRedacted</th>\n",
       "      <th>results</th>\n",
       "      <th>sub_bucket</th>\n",
       "      <th>transcripts</th>\n",
       "      <th>Date_jobName</th>\n",
       "      <th>File Name</th>\n",
       "      <th>Universal ID</th>\n",
       "      <th>Segment Start Time</th>\n",
       "      <th>Segment Stop Time</th>\n",
       "      <th>Segment Call Direction Type ID</th>\n",
       "      <th>Segment Duration</th>\n",
       "      <th>PrimaryTopic</th>\n",
       "      <th>PrimarySubtopic</th>\n",
       "    </tr>\n",
       "  </thead>\n",
       "  <tbody>\n",
       "    <tr>\n",
       "      <th>150</th>\n",
       "      <td>6.993002e+18</td>\n",
       "      <td>True</td>\n",
       "      <td>{'transcripts': [{'transcript': ''}], 'items':...</td>\n",
       "      <td>calldata/bmo/2021-08-05</td>\n",
       "      <td></td>\n",
       "      <td>2021-08-16</td>\n",
       "      <td>NICE_6993002139304933694_Summed.wav</td>\n",
       "      <td>387476532.0</td>\n",
       "      <td>2021-08-05 17:39:49.153</td>\n",
       "      <td>2021-08-05 17:41:21.373</td>\n",
       "      <td>Incoming</td>\n",
       "      <td>00:01:32</td>\n",
       "      <td>HW</td>\n",
       "      <td>Spending Accounts</td>\n",
       "    </tr>\n",
       "    <tr>\n",
       "      <th>190</th>\n",
       "      <td>6.993371e+18</td>\n",
       "      <td>True</td>\n",
       "      <td>{'transcripts': [{'transcript': ''}], 'items':...</td>\n",
       "      <td>calldata/bmo/2021-08-06</td>\n",
       "      <td></td>\n",
       "      <td>2021-08-16</td>\n",
       "      <td>NICE_6993371390528268986_Summed.wav</td>\n",
       "      <td>387560640.0</td>\n",
       "      <td>2021-08-06 17:32:43.897</td>\n",
       "      <td>2021-08-06 17:35:20.963</td>\n",
       "      <td>Incoming</td>\n",
       "      <td>00:02:37</td>\n",
       "      <td>Automatically generated due to unexpected syst...</td>\n",
       "      <td>pay_inq</td>\n",
       "    </tr>\n",
       "    <tr>\n",
       "      <th>242</th>\n",
       "      <td>6.994435e+18</td>\n",
       "      <td>True</td>\n",
       "      <td>{'transcripts': [{'transcript': 'Thank you for...</td>\n",
       "      <td>calldata/bmo/2021-08-09</td>\n",
       "      <td>Thank you for calling Bmo HR See my name is, h...</td>\n",
       "      <td>2021-08-16</td>\n",
       "      <td>NICE_6994434661222002002_Summed.wav</td>\n",
       "      <td>387632682.0</td>\n",
       "      <td>2021-08-09 14:18:52.337</td>\n",
       "      <td>2021-08-09 14:21:33.527</td>\n",
       "      <td>Incoming</td>\n",
       "      <td>00:02:41</td>\n",
       "      <td>WFA - Job &amp; Comp Change</td>\n",
       "      <td>Policy/Procedures</td>\n",
       "    </tr>\n",
       "    <tr>\n",
       "      <th>243</th>\n",
       "      <td>6.994435e+18</td>\n",
       "      <td>True</td>\n",
       "      <td>{'transcripts': [{'transcript': 'thank you for...</td>\n",
       "      <td>calldata/bmo/2021-08-09</td>\n",
       "      <td>thank you for calling charge with Richard, can...</td>\n",
       "      <td>2021-08-16</td>\n",
       "      <td>NICE_6994434661222002002_Summed.wav</td>\n",
       "      <td>387632682.0</td>\n",
       "      <td>2021-08-09 14:18:52.337</td>\n",
       "      <td>2021-08-09 14:21:33.527</td>\n",
       "      <td>Incoming</td>\n",
       "      <td>00:02:41</td>\n",
       "      <td>WFA - Job &amp; Comp Change</td>\n",
       "      <td>Policy/Procedures</td>\n",
       "    </tr>\n",
       "    <tr>\n",
       "      <th>244</th>\n",
       "      <td>6.994435e+18</td>\n",
       "      <td>True</td>\n",
       "      <td>{'transcripts': [{'transcript': 'this is [PII]...</td>\n",
       "      <td>calldata/meijer/2021-08-09</td>\n",
       "      <td>this is [PII] who do I have the pleasure of sp...</td>\n",
       "      <td>2021-08-10</td>\n",
       "      <td>NICE_6994434661222002002_Summed.wav</td>\n",
       "      <td>387632682.0</td>\n",
       "      <td>2021-08-09 14:18:52.337</td>\n",
       "      <td>2021-08-09 14:21:33.527</td>\n",
       "      <td>Incoming</td>\n",
       "      <td>00:02:41</td>\n",
       "      <td>WFA - Job &amp; Comp Change</td>\n",
       "      <td>Policy/Procedures</td>\n",
       "    </tr>\n",
       "    <tr>\n",
       "      <th>...</th>\n",
       "      <td>...</td>\n",
       "      <td>...</td>\n",
       "      <td>...</td>\n",
       "      <td>...</td>\n",
       "      <td>...</td>\n",
       "      <td>...</td>\n",
       "      <td>...</td>\n",
       "      <td>...</td>\n",
       "      <td>...</td>\n",
       "      <td>...</td>\n",
       "      <td>...</td>\n",
       "      <td>...</td>\n",
       "      <td>...</td>\n",
       "      <td>...</td>\n",
       "    </tr>\n",
       "    <tr>\n",
       "      <th>44610</th>\n",
       "      <td>6.988189e+18</td>\n",
       "      <td>True</td>\n",
       "      <td>{'transcripts': [{'transcript': '[PII], are yo...</td>\n",
       "      <td>calldata/meijer/2021-07-23</td>\n",
       "      <td>[PII], are you there? Yes, I'm here. Alright, ...</td>\n",
       "      <td>2021-07-24</td>\n",
       "      <td>NICE_6988188911190218247_Summed.wav</td>\n",
       "      <td>386618481.0</td>\n",
       "      <td>2021-07-23 18:22:02.003</td>\n",
       "      <td>2021-07-23 18:24:55.867</td>\n",
       "      <td>Incoming</td>\n",
       "      <td>00:02:53</td>\n",
       "      <td>CM - External Referral</td>\n",
       "      <td>Carrier - Dental</td>\n",
       "    </tr>\n",
       "    <tr>\n",
       "      <th>44612</th>\n",
       "      <td>6.988189e+18</td>\n",
       "      <td>True</td>\n",
       "      <td>{'transcripts': [{'transcript': 'thank you for...</td>\n",
       "      <td>calldata/meijer/2021-07-23</td>\n",
       "      <td>thank you for calling my name is and may I hav...</td>\n",
       "      <td>2021-07-24</td>\n",
       "      <td>NICE_6988188911190218247_Summed.wav</td>\n",
       "      <td>386618481.0</td>\n",
       "      <td>2021-07-23 18:22:02.003</td>\n",
       "      <td>2021-07-23 18:24:55.867</td>\n",
       "      <td>Incoming</td>\n",
       "      <td>00:02:53</td>\n",
       "      <td>CM - External Referral</td>\n",
       "      <td>Carrier - Dental</td>\n",
       "    </tr>\n",
       "    <tr>\n",
       "      <th>45936</th>\n",
       "      <td>6.989966e+18</td>\n",
       "      <td>True</td>\n",
       "      <td>{'transcripts': [{'transcript': 'thank you for...</td>\n",
       "      <td>calldata/meijer/2021-07-28</td>\n",
       "      <td>thank you for calling Myers. My name is [PII]....</td>\n",
       "      <td>2021-07-29</td>\n",
       "      <td>NICE_6989965507232342534_Summed.wav</td>\n",
       "      <td>386867540.0</td>\n",
       "      <td>2021-07-28 13:16:14.003</td>\n",
       "      <td>2021-07-28 13:28:11.097</td>\n",
       "      <td>Incoming</td>\n",
       "      <td>00:11:57</td>\n",
       "      <td>DB - Payments</td>\n",
       "      <td>Withholding Changes/Questions</td>\n",
       "    </tr>\n",
       "    <tr>\n",
       "      <th>45938</th>\n",
       "      <td>6.989966e+18</td>\n",
       "      <td>True</td>\n",
       "      <td>{'transcripts': [{'transcript': 'Good morning,...</td>\n",
       "      <td>calldata/meijer/2021-07-28</td>\n",
       "      <td>Good morning, this is [PII], how can I help yo...</td>\n",
       "      <td>2021-07-29</td>\n",
       "      <td>NICE_6989965507232342534_Summed.wav</td>\n",
       "      <td>386867540.0</td>\n",
       "      <td>2021-07-28 13:16:14.003</td>\n",
       "      <td>2021-07-28 13:28:11.097</td>\n",
       "      <td>Incoming</td>\n",
       "      <td>00:11:57</td>\n",
       "      <td>DB - Payments</td>\n",
       "      <td>Withholding Changes/Questions</td>\n",
       "    </tr>\n",
       "    <tr>\n",
       "      <th>46834</th>\n",
       "      <td>6.990710e+18</td>\n",
       "      <td>True</td>\n",
       "      <td>{'transcripts': [{'transcript': 'Hello. Hello....</td>\n",
       "      <td>calldata/meijer/2021-07-30</td>\n",
       "      <td>Hello. Hello.</td>\n",
       "      <td>2021-07-31</td>\n",
       "      <td>NICE_6990709872649123455_Summed.wav</td>\n",
       "      <td>387039060.0</td>\n",
       "      <td>2021-07-30 13:24:39.327</td>\n",
       "      <td>2021-07-30 13:26:39.833</td>\n",
       "      <td>Incoming</td>\n",
       "      <td>00:02:00</td>\n",
       "      <td>CM - General</td>\n",
       "      <td>Disconnected Call</td>\n",
       "    </tr>\n",
       "  </tbody>\n",
       "</table>\n",
       "<p>103 rows × 14 columns</p>\n",
       "</div>"
      ],
      "text/plain": [
       "         Segment ID isRedacted  \\\n",
       "150    6.993002e+18       True   \n",
       "190    6.993371e+18       True   \n",
       "242    6.994435e+18       True   \n",
       "243    6.994435e+18       True   \n",
       "244    6.994435e+18       True   \n",
       "...             ...        ...   \n",
       "44610  6.988189e+18       True   \n",
       "44612  6.988189e+18       True   \n",
       "45936  6.989966e+18       True   \n",
       "45938  6.989966e+18       True   \n",
       "46834  6.990710e+18       True   \n",
       "\n",
       "                                                 results  \\\n",
       "150    {'transcripts': [{'transcript': ''}], 'items':...   \n",
       "190    {'transcripts': [{'transcript': ''}], 'items':...   \n",
       "242    {'transcripts': [{'transcript': 'Thank you for...   \n",
       "243    {'transcripts': [{'transcript': 'thank you for...   \n",
       "244    {'transcripts': [{'transcript': 'this is [PII]...   \n",
       "...                                                  ...   \n",
       "44610  {'transcripts': [{'transcript': '[PII], are yo...   \n",
       "44612  {'transcripts': [{'transcript': 'thank you for...   \n",
       "45936  {'transcripts': [{'transcript': 'thank you for...   \n",
       "45938  {'transcripts': [{'transcript': 'Good morning,...   \n",
       "46834  {'transcripts': [{'transcript': 'Hello. Hello....   \n",
       "\n",
       "                       sub_bucket  \\\n",
       "150       calldata/bmo/2021-08-05   \n",
       "190       calldata/bmo/2021-08-06   \n",
       "242       calldata/bmo/2021-08-09   \n",
       "243       calldata/bmo/2021-08-09   \n",
       "244    calldata/meijer/2021-08-09   \n",
       "...                           ...   \n",
       "44610  calldata/meijer/2021-07-23   \n",
       "44612  calldata/meijer/2021-07-23   \n",
       "45936  calldata/meijer/2021-07-28   \n",
       "45938  calldata/meijer/2021-07-28   \n",
       "46834  calldata/meijer/2021-07-30   \n",
       "\n",
       "                                             transcripts Date_jobName  \\\n",
       "150                                                        2021-08-16   \n",
       "190                                                        2021-08-16   \n",
       "242    Thank you for calling Bmo HR See my name is, h...   2021-08-16   \n",
       "243    thank you for calling charge with Richard, can...   2021-08-16   \n",
       "244    this is [PII] who do I have the pleasure of sp...   2021-08-10   \n",
       "...                                                  ...          ...   \n",
       "44610  [PII], are you there? Yes, I'm here. Alright, ...   2021-07-24   \n",
       "44612  thank you for calling my name is and may I hav...   2021-07-24   \n",
       "45936  thank you for calling Myers. My name is [PII]....   2021-07-29   \n",
       "45938  Good morning, this is [PII], how can I help yo...   2021-07-29   \n",
       "46834                                      Hello. Hello.   2021-07-31   \n",
       "\n",
       "                                 File Name  Universal ID  \\\n",
       "150    NICE_6993002139304933694_Summed.wav   387476532.0   \n",
       "190    NICE_6993371390528268986_Summed.wav   387560640.0   \n",
       "242    NICE_6994434661222002002_Summed.wav   387632682.0   \n",
       "243    NICE_6994434661222002002_Summed.wav   387632682.0   \n",
       "244    NICE_6994434661222002002_Summed.wav   387632682.0   \n",
       "...                                    ...           ...   \n",
       "44610  NICE_6988188911190218247_Summed.wav   386618481.0   \n",
       "44612  NICE_6988188911190218247_Summed.wav   386618481.0   \n",
       "45936  NICE_6989965507232342534_Summed.wav   386867540.0   \n",
       "45938  NICE_6989965507232342534_Summed.wav   386867540.0   \n",
       "46834  NICE_6990709872649123455_Summed.wav   387039060.0   \n",
       "\n",
       "          Segment Start Time        Segment Stop Time  \\\n",
       "150   2021-08-05 17:39:49.153 2021-08-05 17:41:21.373   \n",
       "190   2021-08-06 17:32:43.897 2021-08-06 17:35:20.963   \n",
       "242   2021-08-09 14:18:52.337 2021-08-09 14:21:33.527   \n",
       "243   2021-08-09 14:18:52.337 2021-08-09 14:21:33.527   \n",
       "244   2021-08-09 14:18:52.337 2021-08-09 14:21:33.527   \n",
       "...                       ...                     ...   \n",
       "44610 2021-07-23 18:22:02.003 2021-07-23 18:24:55.867   \n",
       "44612 2021-07-23 18:22:02.003 2021-07-23 18:24:55.867   \n",
       "45936 2021-07-28 13:16:14.003 2021-07-28 13:28:11.097   \n",
       "45938 2021-07-28 13:16:14.003 2021-07-28 13:28:11.097   \n",
       "46834 2021-07-30 13:24:39.327 2021-07-30 13:26:39.833   \n",
       "\n",
       "      Segment Call Direction Type ID Segment Duration  \\\n",
       "150                         Incoming         00:01:32   \n",
       "190                         Incoming         00:02:37   \n",
       "242                         Incoming         00:02:41   \n",
       "243                         Incoming         00:02:41   \n",
       "244                         Incoming         00:02:41   \n",
       "...                              ...              ...   \n",
       "44610                       Incoming         00:02:53   \n",
       "44612                       Incoming         00:02:53   \n",
       "45936                       Incoming         00:11:57   \n",
       "45938                       Incoming         00:11:57   \n",
       "46834                       Incoming         00:02:00   \n",
       "\n",
       "                                            PrimaryTopic  \\\n",
       "150                                                   HW   \n",
       "190    Automatically generated due to unexpected syst...   \n",
       "242                              WFA - Job & Comp Change   \n",
       "243                              WFA - Job & Comp Change   \n",
       "244                              WFA - Job & Comp Change   \n",
       "...                                                  ...   \n",
       "44610                             CM - External Referral   \n",
       "44612                             CM - External Referral   \n",
       "45936                                      DB - Payments   \n",
       "45938                                      DB - Payments   \n",
       "46834                                       CM - General   \n",
       "\n",
       "                     PrimarySubtopic  \n",
       "150                Spending Accounts  \n",
       "190                          pay_inq  \n",
       "242                Policy/Procedures  \n",
       "243                Policy/Procedures  \n",
       "244                Policy/Procedures  \n",
       "...                              ...  \n",
       "44610               Carrier - Dental  \n",
       "44612               Carrier - Dental  \n",
       "45936  Withholding Changes/Questions  \n",
       "45938  Withholding Changes/Questions  \n",
       "46834              Disconnected Call  \n",
       "\n",
       "[103 rows x 14 columns]"
      ]
     },
     "execution_count": 110,
     "metadata": {},
     "output_type": "execute_result"
    }
   ],
   "source": [
    "df_with_topics[df_with_topics['transcripts'].duplicated(keep=False)]"
   ]
  },
  {
   "cell_type": "code",
   "execution_count": 111,
   "metadata": {},
   "outputs": [
    {
     "data": {
      "text/plain": [
       "16428"
      ]
     },
     "execution_count": 111,
     "metadata": {},
     "output_type": "execute_result"
    }
   ],
   "source": [
    "df_with_topics[\"Universal ID\"].nunique()"
   ]
  },
  {
   "cell_type": "code",
   "execution_count": 112,
   "metadata": {},
   "outputs": [],
   "source": [
    "df_with_topics.to_excel(\"all_bmo_meijer_28sep2021.xlsx\",index=False)"
   ]
  },
  {
   "cell_type": "markdown",
   "metadata": {},
   "source": [
    "to_csv=pd.read_excel('s3://adl-core-sagemaker-studio/external/User/aws_call_data/BMO_Meijer_single_leg_noNull_17Sep2021.xlsx')"
   ]
  },
  {
   "cell_type": "markdown",
   "metadata": {},
   "source": [
    "to_csv.shape"
   ]
  },
  {
   "cell_type": "markdown",
   "metadata": {},
   "source": [
    "to_csv.to_csv('BMO_Meijer_single_leg_noNull_17Sep2021.csv')"
   ]
  },
  {
   "cell_type": "markdown",
   "metadata": {},
   "source": [
    "import boto3\n",
    "import os\n",
    "boto3.Session().resource('s3').Bucket('adl-core-sagemaker-studio').Object(os.path.join('external/User/aws_call_data/', 'BMO_Meijer_single_leg_noNull_17Sep2021.csv')).upload_file('BMO_Meijer_single_leg_noNull_17Sep2021.csv')\n"
   ]
  },
  {
   "cell_type": "code",
   "execution_count": 70,
   "metadata": {},
   "outputs": [],
   "source": [
    "import boto3\n",
    "import os\n",
    "boto3.Session().resource('s3').Bucket('adl-core-sagemaker-studio').Object(os.path.join('external/User/rhp/Aws_data/All_data/', 'all_bmo_meijer_28sep2021.xlsx')).upload_file('all_bmo_meijer_28sep2021.xlsx')\n"
   ]
  },
  {
   "cell_type": "code",
   "execution_count": 40,
   "metadata": {},
   "outputs": [
    {
     "data": {
      "text/html": [
       "<div>\n",
       "<style scoped>\n",
       "    .dataframe tbody tr th:only-of-type {\n",
       "        vertical-align: middle;\n",
       "    }\n",
       "\n",
       "    .dataframe tbody tr th {\n",
       "        vertical-align: top;\n",
       "    }\n",
       "\n",
       "    .dataframe thead th {\n",
       "        text-align: right;\n",
       "    }\n",
       "</style>\n",
       "<table border=\"1\" class=\"dataframe\">\n",
       "  <thead>\n",
       "    <tr style=\"text-align: right;\">\n",
       "      <th></th>\n",
       "      <th>Segment ID</th>\n",
       "      <th>isRedacted</th>\n",
       "      <th>results</th>\n",
       "      <th>sub_bucket</th>\n",
       "      <th>transcripts</th>\n",
       "      <th>Date_jobName</th>\n",
       "      <th>File Name</th>\n",
       "      <th>Universal ID</th>\n",
       "      <th>Segment Start Time</th>\n",
       "      <th>Segment Stop Time</th>\n",
       "      <th>Segment Call Direction Type ID</th>\n",
       "      <th>Segment Duration</th>\n",
       "      <th>PrimarySubtopic</th>\n",
       "      <th>PrimaryTopic</th>\n",
       "    </tr>\n",
       "  </thead>\n",
       "  <tbody>\n",
       "    <tr>\n",
       "      <th>0</th>\n",
       "      <td>6.991817e+18</td>\n",
       "      <td>True</td>\n",
       "      <td>{'transcripts': [{'transcript': 'Thank you for...</td>\n",
       "      <td>calldata/bmo/2021-08-02</td>\n",
       "      <td>Thank you for calling the benefit center. My n...</td>\n",
       "      <td>2021-08-16</td>\n",
       "      <td>NICE_6991817428750645949_Summed.wav</td>\n",
       "      <td>-1.0</td>\n",
       "      <td>2021-08-02 13:02:32.090</td>\n",
       "      <td>2021-08-02 13:19:56.160</td>\n",
       "      <td>Incoming</td>\n",
       "      <td>00:17:24</td>\n",
       "      <td>NaN</td>\n",
       "      <td>NaN</td>\n",
       "    </tr>\n",
       "  </tbody>\n",
       "</table>\n",
       "</div>"
      ],
      "text/plain": [
       "     Segment ID isRedacted                                            results  \\\n",
       "0  6.991817e+18       True  {'transcripts': [{'transcript': 'Thank you for...   \n",
       "\n",
       "                sub_bucket                                        transcripts  \\\n",
       "0  calldata/bmo/2021-08-02  Thank you for calling the benefit center. My n...   \n",
       "\n",
       "  Date_jobName                            File Name  Universal ID  \\\n",
       "0   2021-08-16  NICE_6991817428750645949_Summed.wav          -1.0   \n",
       "\n",
       "      Segment Start Time        Segment Stop Time  \\\n",
       "0 2021-08-02 13:02:32.090 2021-08-02 13:19:56.160   \n",
       "\n",
       "  Segment Call Direction Type ID Segment Duration PrimarySubtopic PrimaryTopic  \n",
       "0                       Incoming         00:17:24             NaN          NaN  "
      ]
     },
     "execution_count": 40,
     "metadata": {},
     "output_type": "execute_result"
    }
   ],
   "source": [
    "s3://adl-core-sagemaker-studio/external/User/rhp/Aws_data/All_data/"
   ]
  },
  {
   "cell_type": "code",
   "execution_count": null,
   "metadata": {},
   "outputs": [],
   "source": []
  },
  {
   "cell_type": "code",
   "execution_count": 41,
   "metadata": {},
   "outputs": [
    {
     "data": {
      "text/plain": [
       "36039"
      ]
     },
     "execution_count": 41,
     "metadata": {},
     "output_type": "execute_result"
    }
   ],
   "source": [
    "len(bmo_df)"
   ]
  },
  {
   "cell_type": "code",
   "execution_count": 94,
   "metadata": {},
   "outputs": [],
   "source": [
    "# one_segments_df = bmo_df.query(\"Segment_Counts == 1\")\n",
    "# multi_segments_df = bmo_df.query(\"Segment_Counts > 1\")"
   ]
  },
  {
   "cell_type": "code",
   "execution_count": 96,
   "metadata": {},
   "outputs": [],
   "source": [
    "# multi_segments_df.head(1)"
   ]
  },
  {
   "cell_type": "code",
   "execution_count": 97,
   "metadata": {},
   "outputs": [],
   "source": [
    "# print(f\"Total no. of trancripts Single segment calls: {len(one_segments_df)}\")\n",
    "# print(\"Total no. of unique calls with multiple segments: {}\".format(multi_segments_df[\"Universal ID\"].nunique()))\n",
    "# print(f\"The segments in multi-segment calls ranges from {multi_segments_df.Segment_Counts.min()} to {multi_segments_df.Segment_Counts.max()}\")"
   ]
  },
  {
   "cell_type": "code",
   "execution_count": 98,
   "metadata": {},
   "outputs": [],
   "source": [
    "# print(f\"Total no. of trancripts Single segment calls: {len(one_segments_df)}\")\n",
    "# print(f\"Total no. of trancripts Multiple segment calls: {len(multi_segments_df)}\")"
   ]
  },
  {
   "cell_type": "code",
   "execution_count": 42,
   "metadata": {},
   "outputs": [],
   "source": [
    "bmo_df.to_excel(\"all_bmo_meijer_data_17sep2021.xlsx\",index=False)"
   ]
  },
  {
   "cell_type": "code",
   "execution_count": 43,
   "metadata": {},
   "outputs": [
    {
     "data": {
      "text/plain": [
       "Segment ID                            0\n",
       "isRedacted                         8092\n",
       "results                               0\n",
       "sub_bucket                            0\n",
       "transcripts                           0\n",
       "Date_jobName                          0\n",
       "File Name                             0\n",
       "Universal ID                          0\n",
       "Segment Start Time                    0\n",
       "Segment Stop Time                     0\n",
       "Segment Call Direction Type ID        0\n",
       "Segment Duration                      0\n",
       "PrimarySubtopic                   24146\n",
       "PrimaryTopic                      24146\n",
       "dtype: int64"
      ]
     },
     "execution_count": 43,
     "metadata": {},
     "output_type": "execute_result"
    }
   ],
   "source": [
    "bmo_df.isna().sum()"
   ]
  },
  {
   "cell_type": "code",
   "execution_count": 6,
   "metadata": {},
   "outputs": [
    {
     "data": {
      "text/plain": [
       "(0, 14)"
      ]
     },
     "execution_count": 6,
     "metadata": {},
     "output_type": "execute_result"
    }
   ],
   "source": [
    "bmo_df.shape"
   ]
  },
  {
   "cell_type": "code",
   "execution_count": 52,
   "metadata": {},
   "outputs": [],
   "source": [
    "bmo_df=bmo_df[bmo_df['transcripts']!='']"
   ]
  },
  {
   "cell_type": "code",
   "execution_count": 53,
   "metadata": {},
   "outputs": [
    {
     "data": {
      "text/html": [
       "<div>\n",
       "<style scoped>\n",
       "    .dataframe tbody tr th:only-of-type {\n",
       "        vertical-align: middle;\n",
       "    }\n",
       "\n",
       "    .dataframe tbody tr th {\n",
       "        vertical-align: top;\n",
       "    }\n",
       "\n",
       "    .dataframe thead th {\n",
       "        text-align: right;\n",
       "    }\n",
       "</style>\n",
       "<table border=\"1\" class=\"dataframe\">\n",
       "  <thead>\n",
       "    <tr style=\"text-align: right;\">\n",
       "      <th></th>\n",
       "      <th>Segment ID</th>\n",
       "      <th>isRedacted</th>\n",
       "      <th>results</th>\n",
       "      <th>sub_bucket</th>\n",
       "      <th>transcripts</th>\n",
       "      <th>Date_jobName</th>\n",
       "      <th>File Name</th>\n",
       "      <th>Universal ID</th>\n",
       "      <th>Segment Start Time</th>\n",
       "      <th>Segment Stop Time</th>\n",
       "      <th>Segment Call Direction Type ID</th>\n",
       "      <th>Segment Duration</th>\n",
       "      <th>PrimarySubtopic</th>\n",
       "      <th>PrimaryTopic</th>\n",
       "    </tr>\n",
       "  </thead>\n",
       "  <tbody>\n",
       "    <tr>\n",
       "      <th>1121</th>\n",
       "      <td>6.994809e+18</td>\n",
       "      <td>True</td>\n",
       "      <td>{'transcripts': [{'transcript': 'Good morning....</td>\n",
       "      <td>calldata/meijer/2021-08-10</td>\n",
       "      <td>Good morning. This is [PII]. Uh Yes. My name i...</td>\n",
       "      <td>2021-08-11</td>\n",
       "      <td>NICE_6994809474427991867_Summed.wav</td>\n",
       "      <td>387738535.0</td>\n",
       "      <td>2021-08-10 14:33:13.993</td>\n",
       "      <td>2021-08-10 14:34:15.813</td>\n",
       "      <td>Incoming</td>\n",
       "      <td>00:01:01</td>\n",
       "      <td>Cashout vs. Rollover</td>\n",
       "      <td>CM - Retirement</td>\n",
       "    </tr>\n",
       "    <tr>\n",
       "      <th>29074</th>\n",
       "      <td>6.994808e+18</td>\n",
       "      <td>True</td>\n",
       "      <td>{'transcripts': [{'transcript': 'thank you for...</td>\n",
       "      <td>calldata/meijer/2021-08-10</td>\n",
       "      <td>thank you for calling the benefits center. My ...</td>\n",
       "      <td>2021-08-11</td>\n",
       "      <td>NICE_6994808439831608077_Summed.wav</td>\n",
       "      <td>387738535.0</td>\n",
       "      <td>2021-08-10 14:29:22.000</td>\n",
       "      <td>2021-08-10 14:33:14.133</td>\n",
       "      <td>Incoming</td>\n",
       "      <td>00:03:52</td>\n",
       "      <td>Cashout vs. Rollover</td>\n",
       "      <td>CM - Retirement</td>\n",
       "    </tr>\n",
       "    <tr>\n",
       "      <th>29083</th>\n",
       "      <td>6.994809e+18</td>\n",
       "      <td>True</td>\n",
       "      <td>{'transcripts': [{'transcript': 'Good morning....</td>\n",
       "      <td>calldata/meijer/2021-08-10</td>\n",
       "      <td>Good morning. This is uh yes. My name is [PII]...</td>\n",
       "      <td>2021-08-11</td>\n",
       "      <td>NICE_6994809483508661205_Summed.wav</td>\n",
       "      <td>387738535.0</td>\n",
       "      <td>2021-08-10 14:33:14.133</td>\n",
       "      <td>2021-08-10 14:34:15.950</td>\n",
       "      <td>Incoming</td>\n",
       "      <td>00:01:01</td>\n",
       "      <td>Cashout vs. Rollover</td>\n",
       "      <td>CM - Retirement</td>\n",
       "    </tr>\n",
       "  </tbody>\n",
       "</table>\n",
       "</div>"
      ],
      "text/plain": [
       "         Segment ID isRedacted  \\\n",
       "1121   6.994809e+18       True   \n",
       "29074  6.994808e+18       True   \n",
       "29083  6.994809e+18       True   \n",
       "\n",
       "                                                 results  \\\n",
       "1121   {'transcripts': [{'transcript': 'Good morning....   \n",
       "29074  {'transcripts': [{'transcript': 'thank you for...   \n",
       "29083  {'transcripts': [{'transcript': 'Good morning....   \n",
       "\n",
       "                       sub_bucket  \\\n",
       "1121   calldata/meijer/2021-08-10   \n",
       "29074  calldata/meijer/2021-08-10   \n",
       "29083  calldata/meijer/2021-08-10   \n",
       "\n",
       "                                             transcripts Date_jobName  \\\n",
       "1121   Good morning. This is [PII]. Uh Yes. My name i...   2021-08-11   \n",
       "29074  thank you for calling the benefits center. My ...   2021-08-11   \n",
       "29083  Good morning. This is uh yes. My name is [PII]...   2021-08-11   \n",
       "\n",
       "                                 File Name  Universal ID  \\\n",
       "1121   NICE_6994809474427991867_Summed.wav   387738535.0   \n",
       "29074  NICE_6994808439831608077_Summed.wav   387738535.0   \n",
       "29083  NICE_6994809483508661205_Summed.wav   387738535.0   \n",
       "\n",
       "          Segment Start Time        Segment Stop Time  \\\n",
       "1121  2021-08-10 14:33:13.993 2021-08-10 14:34:15.813   \n",
       "29074 2021-08-10 14:29:22.000 2021-08-10 14:33:14.133   \n",
       "29083 2021-08-10 14:33:14.133 2021-08-10 14:34:15.950   \n",
       "\n",
       "      Segment Call Direction Type ID Segment Duration       PrimarySubtopic  \\\n",
       "1121                        Incoming         00:01:01  Cashout vs. Rollover   \n",
       "29074                       Incoming         00:03:52  Cashout vs. Rollover   \n",
       "29083                       Incoming         00:01:01  Cashout vs. Rollover   \n",
       "\n",
       "          PrimaryTopic  \n",
       "1121   CM - Retirement  \n",
       "29074  CM - Retirement  \n",
       "29083  CM - Retirement  "
      ]
     },
     "execution_count": 53,
     "metadata": {},
     "output_type": "execute_result"
    }
   ],
   "source": [
    "bmo_df[bmo_df['Universal ID']==387738535.0]"
   ]
  },
  {
   "cell_type": "code",
   "execution_count": 54,
   "metadata": {},
   "outputs": [],
   "source": [
    "bmo_df=bmo_df[~bmo_df['Segment ID'].isin(segment_universal_ids['Segment ID'])]\n",
    "bmo_df.shape\n",
    "bmo_df.to_csv(\"all_bmo_meijer_100call_rmv.csv\",index=False)"
   ]
  },
  {
   "cell_type": "code",
   "execution_count": 40,
   "metadata": {},
   "outputs": [],
   "source": [
    "bmo_df[bmo_df['Segment ID'].isin(segment_universal_ids['Segment ID'])].to_csv(\"bmo_meijer_data_to_be_predicted.csv\",index=False)"
   ]
  },
  {
   "cell_type": "code",
   "execution_count": 1,
   "metadata": {},
   "outputs": [],
   "source": [
    "import pandas as pd\n",
    "df=pd.read_csv('all_bmo_meijer_100call_rmv.csv',low_memory=False)"
   ]
  },
  {
   "cell_type": "code",
   "execution_count": 2,
   "metadata": {},
   "outputs": [
    {
     "data": {
      "text/html": [
       "<div>\n",
       "<style scoped>\n",
       "    .dataframe tbody tr th:only-of-type {\n",
       "        vertical-align: middle;\n",
       "    }\n",
       "\n",
       "    .dataframe tbody tr th {\n",
       "        vertical-align: top;\n",
       "    }\n",
       "\n",
       "    .dataframe thead th {\n",
       "        text-align: right;\n",
       "    }\n",
       "</style>\n",
       "<table border=\"1\" class=\"dataframe\">\n",
       "  <thead>\n",
       "    <tr style=\"text-align: right;\">\n",
       "      <th></th>\n",
       "      <th>Segment ID</th>\n",
       "      <th>isRedacted</th>\n",
       "      <th>results</th>\n",
       "      <th>sub_bucket</th>\n",
       "      <th>transcripts</th>\n",
       "      <th>Date_jobName</th>\n",
       "      <th>File Name</th>\n",
       "      <th>Universal ID</th>\n",
       "      <th>Segment Start Time</th>\n",
       "      <th>Segment Stop Time</th>\n",
       "      <th>Segment Call Direction Type ID</th>\n",
       "      <th>Segment Duration</th>\n",
       "      <th>PrimarySubtopic</th>\n",
       "      <th>PrimaryTopic</th>\n",
       "    </tr>\n",
       "  </thead>\n",
       "  <tbody>\n",
       "    <tr>\n",
       "      <th>0</th>\n",
       "      <td>6.991817e+18</td>\n",
       "      <td>True</td>\n",
       "      <td>{'transcripts': [{'transcript': \"Thank you for...</td>\n",
       "      <td>calldata/bmo/2021-08-02</td>\n",
       "      <td>Thank you for calling the benefit center. My n...</td>\n",
       "      <td>2021-08-16</td>\n",
       "      <td>NICE_6991817428750645949_Summed.wav</td>\n",
       "      <td>-1.0</td>\n",
       "      <td>2021-08-02 13:02:32.090</td>\n",
       "      <td>2021-08-02 13:19:56.160</td>\n",
       "      <td>Incoming</td>\n",
       "      <td>00:17:24</td>\n",
       "      <td>NaN</td>\n",
       "      <td>NaN</td>\n",
       "    </tr>\n",
       "    <tr>\n",
       "      <th>1</th>\n",
       "      <td>6.992192e+18</td>\n",
       "      <td>True</td>\n",
       "      <td>{'transcripts': [{'transcript': \"Thank you for...</td>\n",
       "      <td>calldata/bmo/2021-08-03</td>\n",
       "      <td>Thank you for calling dependent verification s...</td>\n",
       "      <td>2021-08-16</td>\n",
       "      <td>NICE_6992191851114594948_Summed.wav</td>\n",
       "      <td>-1.0</td>\n",
       "      <td>2021-08-03 13:15:29.567</td>\n",
       "      <td>2021-08-03 13:24:30.727</td>\n",
       "      <td>Incoming</td>\n",
       "      <td>00:09:01</td>\n",
       "      <td>NaN</td>\n",
       "      <td>NaN</td>\n",
       "    </tr>\n",
       "    <tr>\n",
       "      <th>2</th>\n",
       "      <td>6.992249e+18</td>\n",
       "      <td>True</td>\n",
       "      <td>{'transcripts': [{'transcript': \"Hi, thank you...</td>\n",
       "      <td>calldata/bmo/2021-08-03</td>\n",
       "      <td>Hi, thank you calling BMO HR See you are speak...</td>\n",
       "      <td>2021-08-16</td>\n",
       "      <td>NICE_6992248660307291849_Summed.wav</td>\n",
       "      <td>-1.0</td>\n",
       "      <td>2021-08-03 16:55:57.657</td>\n",
       "      <td>2021-08-03 16:58:08.330</td>\n",
       "      <td>Incoming</td>\n",
       "      <td>00:02:10</td>\n",
       "      <td>NaN</td>\n",
       "      <td>NaN</td>\n",
       "    </tr>\n",
       "    <tr>\n",
       "      <th>3</th>\n",
       "      <td>6.992561e+18</td>\n",
       "      <td>True</td>\n",
       "      <td>{'transcripts': [{'transcript': \"Thank you for...</td>\n",
       "      <td>calldata/bmo/2021-08-04</td>\n",
       "      <td>Thank you for calling dependent verification? ...</td>\n",
       "      <td>2021-08-16</td>\n",
       "      <td>NICE_6992561338221399089_Summed.wav</td>\n",
       "      <td>-1.0</td>\n",
       "      <td>2021-08-04 13:09:24.333</td>\n",
       "      <td>2021-08-04 13:14:10.013</td>\n",
       "      <td>Incoming</td>\n",
       "      <td>00:04:45</td>\n",
       "      <td>NaN</td>\n",
       "      <td>NaN</td>\n",
       "    </tr>\n",
       "    <tr>\n",
       "      <th>4</th>\n",
       "      <td>6.992564e+18</td>\n",
       "      <td>True</td>\n",
       "      <td>{'transcripts': [{'transcript': \"Hi, thank you...</td>\n",
       "      <td>calldata/bmo/2021-08-04</td>\n",
       "      <td>Hi, thank you for calling Charge you are speak...</td>\n",
       "      <td>2021-08-16</td>\n",
       "      <td>NICE_6992563666093675733_Summed.wav</td>\n",
       "      <td>-1.0</td>\n",
       "      <td>2021-08-04 13:18:20.947</td>\n",
       "      <td>2021-08-04 13:23:54.830</td>\n",
       "      <td>Incoming</td>\n",
       "      <td>00:05:33</td>\n",
       "      <td>NaN</td>\n",
       "      <td>NaN</td>\n",
       "    </tr>\n",
       "    <tr>\n",
       "      <th>...</th>\n",
       "      <td>...</td>\n",
       "      <td>...</td>\n",
       "      <td>...</td>\n",
       "      <td>...</td>\n",
       "      <td>...</td>\n",
       "      <td>...</td>\n",
       "      <td>...</td>\n",
       "      <td>...</td>\n",
       "      <td>...</td>\n",
       "      <td>...</td>\n",
       "      <td>...</td>\n",
       "      <td>...</td>\n",
       "      <td>...</td>\n",
       "      <td>...</td>\n",
       "    </tr>\n",
       "    <tr>\n",
       "      <th>21353</th>\n",
       "      <td>7.000127e+18</td>\n",
       "      <td>True</td>\n",
       "      <td>{'transcripts': [{'transcript': \"good afternoo...</td>\n",
       "      <td>calldata/meijer/2021-08-24</td>\n",
       "      <td>good afternoon, this is [PII] how may I help y...</td>\n",
       "      <td>2021-08-25</td>\n",
       "      <td>NICE_7000126751314620475_Summed.wav</td>\n",
       "      <td>388759067.0</td>\n",
       "      <td>2021-08-24 22:27:02.827</td>\n",
       "      <td>2021-08-24 22:37:27.813</td>\n",
       "      <td>Incoming</td>\n",
       "      <td>00:10:24</td>\n",
       "      <td>NaN</td>\n",
       "      <td>NaN</td>\n",
       "    </tr>\n",
       "    <tr>\n",
       "      <th>21354</th>\n",
       "      <td>7.000127e+18</td>\n",
       "      <td>True</td>\n",
       "      <td>{'transcripts': [{'transcript': \"Hello? Hello?...</td>\n",
       "      <td>calldata/meijer/2021-08-24</td>\n",
       "      <td>Hello? Hello? Hello, I can hear you for callin...</td>\n",
       "      <td>2021-08-25</td>\n",
       "      <td>NICE_7000127065449119431_Summed.wav</td>\n",
       "      <td>388759148.0</td>\n",
       "      <td>2021-08-24 22:28:10.557</td>\n",
       "      <td>2021-08-24 22:30:32.973</td>\n",
       "      <td>Incoming</td>\n",
       "      <td>00:02:22</td>\n",
       "      <td>NaN</td>\n",
       "      <td>NaN</td>\n",
       "    </tr>\n",
       "    <tr>\n",
       "      <th>21355</th>\n",
       "      <td>7.000128e+18</td>\n",
       "      <td>True</td>\n",
       "      <td>{'transcripts': [{'transcript': \"Alright, so t...</td>\n",
       "      <td>calldata/meijer/2021-08-24</td>\n",
       "      <td>Alright, so that's been successfully set up fo...</td>\n",
       "      <td>2021-08-25</td>\n",
       "      <td>NICE_7000127696809311972_Summed.wav</td>\n",
       "      <td>388759148.0</td>\n",
       "      <td>2021-08-24 22:30:37.763</td>\n",
       "      <td>2021-08-24 22:39:05.407</td>\n",
       "      <td>Incoming</td>\n",
       "      <td>00:08:27</td>\n",
       "      <td>Initiate Commencement</td>\n",
       "      <td>CM - Retirement</td>\n",
       "    </tr>\n",
       "    <tr>\n",
       "      <th>21356</th>\n",
       "      <td>7.000128e+18</td>\n",
       "      <td>True</td>\n",
       "      <td>{'transcripts': [{'transcript': \"continue to h...</td>\n",
       "      <td>calldata/meijer/2021-08-24</td>\n",
       "      <td>continue to hold. Did you know the easiest and...</td>\n",
       "      <td>2021-08-25</td>\n",
       "      <td>NICE_7000127700502393271_Summed.wav</td>\n",
       "      <td>388758648.0</td>\n",
       "      <td>2021-08-24 22:30:38.390</td>\n",
       "      <td>2021-08-24 22:47:00.840</td>\n",
       "      <td>Incoming</td>\n",
       "      <td>00:16:22</td>\n",
       "      <td>NaN</td>\n",
       "      <td>NaN</td>\n",
       "    </tr>\n",
       "    <tr>\n",
       "      <th>21357</th>\n",
       "      <td>7.000128e+18</td>\n",
       "      <td>True</td>\n",
       "      <td>{'transcripts': [{'transcript': \"Thank you for...</td>\n",
       "      <td>calldata/meijer/2021-08-24</td>\n",
       "      <td>Thank you for calling Rewards Service Center. ...</td>\n",
       "      <td>2021-08-25</td>\n",
       "      <td>NICE_7000128499857031302_Summed.wav</td>\n",
       "      <td>388757660.0</td>\n",
       "      <td>2021-08-24 22:33:47.293</td>\n",
       "      <td>2021-08-24 22:38:52.670</td>\n",
       "      <td>Incoming</td>\n",
       "      <td>00:05:05</td>\n",
       "      <td>Could Not Authenticate</td>\n",
       "      <td>CM - Access</td>\n",
       "    </tr>\n",
       "  </tbody>\n",
       "</table>\n",
       "<p>21358 rows × 14 columns</p>\n",
       "</div>"
      ],
      "text/plain": [
       "         Segment ID isRedacted  \\\n",
       "0      6.991817e+18       True   \n",
       "1      6.992192e+18       True   \n",
       "2      6.992249e+18       True   \n",
       "3      6.992561e+18       True   \n",
       "4      6.992564e+18       True   \n",
       "...             ...        ...   \n",
       "21353  7.000127e+18       True   \n",
       "21354  7.000127e+18       True   \n",
       "21355  7.000128e+18       True   \n",
       "21356  7.000128e+18       True   \n",
       "21357  7.000128e+18       True   \n",
       "\n",
       "                                                 results  \\\n",
       "0      {'transcripts': [{'transcript': \"Thank you for...   \n",
       "1      {'transcripts': [{'transcript': \"Thank you for...   \n",
       "2      {'transcripts': [{'transcript': \"Hi, thank you...   \n",
       "3      {'transcripts': [{'transcript': \"Thank you for...   \n",
       "4      {'transcripts': [{'transcript': \"Hi, thank you...   \n",
       "...                                                  ...   \n",
       "21353  {'transcripts': [{'transcript': \"good afternoo...   \n",
       "21354  {'transcripts': [{'transcript': \"Hello? Hello?...   \n",
       "21355  {'transcripts': [{'transcript': \"Alright, so t...   \n",
       "21356  {'transcripts': [{'transcript': \"continue to h...   \n",
       "21357  {'transcripts': [{'transcript': \"Thank you for...   \n",
       "\n",
       "                       sub_bucket  \\\n",
       "0         calldata/bmo/2021-08-02   \n",
       "1         calldata/bmo/2021-08-03   \n",
       "2         calldata/bmo/2021-08-03   \n",
       "3         calldata/bmo/2021-08-04   \n",
       "4         calldata/bmo/2021-08-04   \n",
       "...                           ...   \n",
       "21353  calldata/meijer/2021-08-24   \n",
       "21354  calldata/meijer/2021-08-24   \n",
       "21355  calldata/meijer/2021-08-24   \n",
       "21356  calldata/meijer/2021-08-24   \n",
       "21357  calldata/meijer/2021-08-24   \n",
       "\n",
       "                                             transcripts Date_jobName  \\\n",
       "0      Thank you for calling the benefit center. My n...   2021-08-16   \n",
       "1      Thank you for calling dependent verification s...   2021-08-16   \n",
       "2      Hi, thank you calling BMO HR See you are speak...   2021-08-16   \n",
       "3      Thank you for calling dependent verification? ...   2021-08-16   \n",
       "4      Hi, thank you for calling Charge you are speak...   2021-08-16   \n",
       "...                                                  ...          ...   \n",
       "21353  good afternoon, this is [PII] how may I help y...   2021-08-25   \n",
       "21354  Hello? Hello? Hello, I can hear you for callin...   2021-08-25   \n",
       "21355  Alright, so that's been successfully set up fo...   2021-08-25   \n",
       "21356  continue to hold. Did you know the easiest and...   2021-08-25   \n",
       "21357  Thank you for calling Rewards Service Center. ...   2021-08-25   \n",
       "\n",
       "                                 File Name  Universal ID  \\\n",
       "0      NICE_6991817428750645949_Summed.wav          -1.0   \n",
       "1      NICE_6992191851114594948_Summed.wav          -1.0   \n",
       "2      NICE_6992248660307291849_Summed.wav          -1.0   \n",
       "3      NICE_6992561338221399089_Summed.wav          -1.0   \n",
       "4      NICE_6992563666093675733_Summed.wav          -1.0   \n",
       "...                                    ...           ...   \n",
       "21353  NICE_7000126751314620475_Summed.wav   388759067.0   \n",
       "21354  NICE_7000127065449119431_Summed.wav   388759148.0   \n",
       "21355  NICE_7000127696809311972_Summed.wav   388759148.0   \n",
       "21356  NICE_7000127700502393271_Summed.wav   388758648.0   \n",
       "21357  NICE_7000128499857031302_Summed.wav   388757660.0   \n",
       "\n",
       "           Segment Start Time         Segment Stop Time  \\\n",
       "0      2021-08-02 13:02:32.090  2021-08-02 13:19:56.160   \n",
       "1      2021-08-03 13:15:29.567  2021-08-03 13:24:30.727   \n",
       "2      2021-08-03 16:55:57.657  2021-08-03 16:58:08.330   \n",
       "3      2021-08-04 13:09:24.333  2021-08-04 13:14:10.013   \n",
       "4      2021-08-04 13:18:20.947  2021-08-04 13:23:54.830   \n",
       "...                        ...                      ...   \n",
       "21353  2021-08-24 22:27:02.827  2021-08-24 22:37:27.813   \n",
       "21354  2021-08-24 22:28:10.557  2021-08-24 22:30:32.973   \n",
       "21355  2021-08-24 22:30:37.763  2021-08-24 22:39:05.407   \n",
       "21356  2021-08-24 22:30:38.390  2021-08-24 22:47:00.840   \n",
       "21357  2021-08-24 22:33:47.293  2021-08-24 22:38:52.670   \n",
       "\n",
       "      Segment Call Direction Type ID Segment Duration         PrimarySubtopic  \\\n",
       "0                           Incoming         00:17:24                     NaN   \n",
       "1                           Incoming         00:09:01                     NaN   \n",
       "2                           Incoming         00:02:10                     NaN   \n",
       "3                           Incoming         00:04:45                     NaN   \n",
       "4                           Incoming         00:05:33                     NaN   \n",
       "...                              ...              ...                     ...   \n",
       "21353                       Incoming         00:10:24                     NaN   \n",
       "21354                       Incoming         00:02:22                     NaN   \n",
       "21355                       Incoming         00:08:27   Initiate Commencement   \n",
       "21356                       Incoming         00:16:22                     NaN   \n",
       "21357                       Incoming         00:05:05  Could Not Authenticate   \n",
       "\n",
       "          PrimaryTopic  \n",
       "0                  NaN  \n",
       "1                  NaN  \n",
       "2                  NaN  \n",
       "3                  NaN  \n",
       "4                  NaN  \n",
       "...                ...  \n",
       "21353              NaN  \n",
       "21354              NaN  \n",
       "21355  CM - Retirement  \n",
       "21356              NaN  \n",
       "21357      CM - Access  \n",
       "\n",
       "[21358 rows x 14 columns]"
      ]
     },
     "execution_count": 2,
     "metadata": {},
     "output_type": "execute_result"
    }
   ],
   "source": [
    "df"
   ]
  },
  {
   "cell_type": "code",
   "execution_count": 5,
   "metadata": {},
   "outputs": [
    {
     "data": {
      "text/plain": [
       "(0, 14)"
      ]
     },
     "execution_count": 5,
     "metadata": {},
     "output_type": "execute_result"
    }
   ],
   "source": [
    "bmo_df=df[df['Segment ID'].isin(segment_universal_ids['Segment ID'])]\n",
    "bmo_df.shape"
   ]
  },
  {
   "cell_type": "code",
   "execution_count": null,
   "metadata": {},
   "outputs": [],
   "source": []
  }
 ],
 "metadata": {
  "instance_type": "ml.m5.16xlarge",
  "kernelspec": {
   "display_name": "Python 3 (Data Science)",
   "language": "python",
   "name": "python3__SAGEMAKER_INTERNAL__arn:aws:sagemaker:us-east-1:081325390199:image/datascience-1.0"
  },
  "language_info": {
   "codemirror_mode": {
    "name": "ipython",
    "version": 3
   },
   "file_extension": ".py",
   "mimetype": "text/x-python",
   "name": "python",
   "nbconvert_exporter": "python",
   "pygments_lexer": "ipython3",
   "version": "3.7.10"
  }
 },
 "nbformat": 4,
 "nbformat_minor": 4
}
