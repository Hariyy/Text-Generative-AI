{
 "cells": [
  {
   "cell_type": "code",
   "execution_count": 4,
   "id": "4e9499a1-d9f5-4ce9-b86f-e22c0182b656",
   "metadata": {
    "tags": []
   },
   "outputs": [],
   "source": [
    "# !pip install --upgrade pip\n",
    "# !pip install loguru\n",
    "# !pip install xgboost\n",
    "# !pip install mapply\n",
    "# !pip install pandas>=1.5.0"
   ]
  },
  {
   "cell_type": "code",
   "execution_count": 5,
   "id": "5b037286-c9cf-4086-a956-2bedf85a7a2f",
   "metadata": {
    "tags": []
   },
   "outputs": [],
   "source": [
    "import pandas as pd\n",
    "import mapply\n",
    "from datetime import datetime as dt\n",
    "from loguru import logger\n",
    "from sklearn.metrics import roc_auc_score, f1_score, accuracy_score\n",
    "from sklearn.model_selection import train_test_split\n",
    "from IPython.display import display\n",
    "import warnings\n",
    "warnings.filterwarnings(\"ignore\")"
   ]
  },
  {
   "cell_type": "code",
   "execution_count": 6,
   "id": "a69c00dd-39fb-4b69-bb7f-d02726a07895",
   "metadata": {
    "tags": []
   },
   "outputs": [],
   "source": [
    "mapply.init(\n",
    "    n_workers=-1,\n",
    "    chunk_size=1000,\n",
    "    max_chunks_per_worker=100,\n",
    "    progressbar=True\n",
    ")"
   ]
  },
  {
   "cell_type": "code",
   "execution_count": 7,
   "id": "3e5b3902-6e81-4ea9-8206-8f8be2bcd502",
   "metadata": {
    "tags": []
   },
   "outputs": [],
   "source": [
    "def datestring_to_datetime(s):\n",
    "    return dt.strptime(s, '%m/%d/%Y')"
   ]
  },
  {
   "cell_type": "code",
   "execution_count": 8,
   "id": "faef7033-a43d-48a3-8b75-95f2fe77b322",
   "metadata": {
    "tags": []
   },
   "outputs": [],
   "source": [
    "dataset = \"s3://adl-core-sagemaker-studio/external/srivatsava/athena-query-results/Unsaved/2023/06/26/fab31066-4fe3-4ce0-b6f3-c5dcaa2d3a14.csv\"\n",
    "df = pd.read_csv(dataset)\n",
    "df = df[pd.notnull(df['enrolid'])]\n",
    "df.columns = ['patient_id', 'dx1', 'dx2', 'dx3', 'dx4', 'adm_dt', 'discharge_dt']"
   ]
  },
  {
   "cell_type": "code",
   "execution_count": 9,
   "id": "f7731121-4825-4ae1-ba35-754b0dd7e0f8",
   "metadata": {
    "tags": []
   },
   "outputs": [
    {
     "data": {
      "application/vnd.jupyter.widget-view+json": {
       "model_id": "ac51e8ae894f4a679d4f61daf484f44c",
       "version_major": 2,
       "version_minor": 0
      },
      "text/plain": [
       "HBox(children=(FloatProgress(value=0.0, layout=Layout(flex='2'), max=900.0), HTML(value='')), layout=Layout(di…"
      ]
     },
     "metadata": {},
     "output_type": "display_data"
    },
    {
     "name": "stdout",
     "output_type": "stream",
     "text": [
      "\n"
     ]
    },
    {
     "data": {
      "application/vnd.jupyter.widget-view+json": {
       "model_id": "461643c59f0d4a20a186650d90649a85",
       "version_major": 2,
       "version_minor": 0
      },
      "text/plain": [
       "HBox(children=(FloatProgress(value=0.0, layout=Layout(flex='2'), max=900.0), HTML(value='')), layout=Layout(di…"
      ]
     },
     "metadata": {},
     "output_type": "display_data"
    },
    {
     "name": "stdout",
     "output_type": "stream",
     "text": [
      "\n"
     ]
    }
   ],
   "source": [
    "df[\"adm_dt\"] = df[\"adm_dt\"].mapply(lambda x: datestring_to_datetime(x))\n",
    "df[\"discharge_dt\"] = df[\"discharge_dt\"].mapply(lambda x: datestring_to_datetime(x))"
   ]
  },
  {
   "cell_type": "code",
   "execution_count": 10,
   "id": "c12840d8-7081-4501-9cfb-b45bb3060cd0",
   "metadata": {
    "tags": []
   },
   "outputs": [
    {
     "data": {
      "application/vnd.jupyter.widget-view+json": {
       "model_id": "2a8ebb25d5744584bdfbf06261158065",
       "version_major": 2,
       "version_minor": 0
      },
      "text/plain": [
       "HBox(children=(FloatProgress(value=0.0, layout=Layout(flex='2'), max=900.0), HTML(value='')), layout=Layout(di…"
      ]
     },
     "metadata": {},
     "output_type": "display_data"
    },
    {
     "name": "stdout",
     "output_type": "stream",
     "text": [
      "\n"
     ]
    }
   ],
   "source": [
    "df['patient_id'] = df['patient_id'].mapply(lambda x: str(int(x)))"
   ]
  },
  {
   "cell_type": "code",
   "execution_count": 11,
   "id": "62e0d0c3-d40a-4f85-b531-9da2dcb2c821",
   "metadata": {
    "tags": []
   },
   "outputs": [],
   "source": [
    "# def check_target_diseases(patient_df, start_date, end_date, target_disease):\n",
    "#     relevant_visits = patient_df[(patient_df['adm_dt'] >= start_date) & (patient_df['discharge_dt'] < end_date)]\n",
    "#     return int(any(code == target_disease for code in relevant_visits['diagnosis_code']))"
   ]
  },
  {
   "cell_type": "code",
   "execution_count": 12,
   "id": "fc1745d7-e465-4d1d-be52-2ee1fb3c0685",
   "metadata": {
    "tags": []
   },
   "outputs": [],
   "source": [
    "ICD_COLS = ['dx1', 'dx2', 'dx3', 'dx4']"
   ]
  },
  {
   "cell_type": "code",
   "execution_count": 13,
   "id": "3b9c5799-9043-47b5-b6c6-6d9e081c380d",
   "metadata": {
    "tags": []
   },
   "outputs": [
    {
     "name": "stdout",
     "output_type": "stream",
     "text": [
      "CPU times: user 26.7 s, sys: 7.95 s, total: 34.7 s\n",
      "Wall time: 34.5 s\n"
     ]
    }
   ],
   "source": [
    "%%time\n",
    "df2 = pd.melt(df, \n",
    "              id_vars=['patient_id', 'adm_dt', 'discharge_dt'],\n",
    "              value_vars=ICD_COLS,\n",
    "              value_name='diagnosis_code').drop('variable', axis=1).dropna()"
   ]
  },
  {
   "cell_type": "code",
   "execution_count": 14,
   "id": "b504d120-2f99-4c1c-a8a2-6dd68963f2ca",
   "metadata": {
    "tags": []
   },
   "outputs": [],
   "source": [
    "import random\n",
    "random.seed(42)\n",
    "\n",
    "all_patients = df2.patient_id.unique().tolist()\n",
    "sample_patients = random.sample(all_patients,100000)"
   ]
  },
  {
   "cell_type": "code",
   "execution_count": 15,
   "id": "b43c1ed6-86a1-4fdd-b63b-dcc6a7f8d553",
   "metadata": {
    "tags": []
   },
   "outputs": [],
   "source": [
    "df2 = df2[df2['patient_id'].isin(sample_patients)].reset_index(drop='index')"
   ]
  },
  {
   "cell_type": "code",
   "execution_count": 16,
   "id": "5a987763-b6d3-4145-a127-0da67d6d9b26",
   "metadata": {
    "tags": []
   },
   "outputs": [],
   "source": [
    "labels = ['N18','I50', 'J44', 'M16', 'M17']"
   ]
  },
  {
   "cell_type": "code",
   "execution_count": 17,
   "id": "184ed117-260d-4d12-923b-9b85f18c124a",
   "metadata": {
    "tags": []
   },
   "outputs": [
    {
     "data": {
      "application/vnd.jupyter.widget-view+json": {
       "model_id": "3b418df9bca04155b703c9f79a6d1932",
       "version_major": 2,
       "version_minor": 0
      },
      "text/plain": [
       "HBox(children=(FloatProgress(value=0.0, layout=Layout(flex='2'), max=900.0), HTML(value='')), layout=Layout(di…"
      ]
     },
     "metadata": {},
     "output_type": "display_data"
    },
    {
     "name": "stdout",
     "output_type": "stream",
     "text": [
      "\n"
     ]
    }
   ],
   "source": [
    "df2['diag3'] = df2['diagnosis_code'].mapply(lambda x: x[:3])"
   ]
  },
  {
   "cell_type": "code",
   "execution_count": 18,
   "id": "5ecdc0b0-9efd-42be-9c28-f42ad2dd2044",
   "metadata": {
    "tags": []
   },
   "outputs": [
    {
     "name": "stdout",
     "output_type": "stream",
     "text": [
      "(16769, 5)\n",
      "(27351, 5)\n",
      "(10733, 5)\n",
      "(5059, 5)\n",
      "(7200, 5)\n"
     ]
    }
   ],
   "source": [
    "for lab in labels:\n",
    "    print(df2[df2['diag3']==lab].shape)"
   ]
  },
  {
   "cell_type": "code",
   "execution_count": 19,
   "id": "4823cc0b-c55c-4096-ac61-c063982d3800",
   "metadata": {
    "tags": []
   },
   "outputs": [
    {
     "data": {
      "text/html": [
       "<div>\n",
       "<style scoped>\n",
       "    .dataframe tbody tr th:only-of-type {\n",
       "        vertical-align: middle;\n",
       "    }\n",
       "\n",
       "    .dataframe tbody tr th {\n",
       "        vertical-align: top;\n",
       "    }\n",
       "\n",
       "    .dataframe thead th {\n",
       "        text-align: right;\n",
       "    }\n",
       "</style>\n",
       "<table border=\"1\" class=\"dataframe\">\n",
       "  <thead>\n",
       "    <tr style=\"text-align: right;\">\n",
       "      <th></th>\n",
       "      <th>patient_id</th>\n",
       "      <th>adm_dt</th>\n",
       "      <th>discharge_dt</th>\n",
       "      <th>diagnosis_code</th>\n",
       "      <th>diag3</th>\n",
       "    </tr>\n",
       "  </thead>\n",
       "  <tbody>\n",
       "    <tr>\n",
       "      <th>0</th>\n",
       "      <td>837601</td>\n",
       "      <td>2019-04-10</td>\n",
       "      <td>2019-04-13</td>\n",
       "      <td>J9601</td>\n",
       "      <td>J96</td>\n",
       "    </tr>\n",
       "    <tr>\n",
       "      <th>1</th>\n",
       "      <td>68321501</td>\n",
       "      <td>2019-05-29</td>\n",
       "      <td>2019-06-06</td>\n",
       "      <td>N183</td>\n",
       "      <td>N18</td>\n",
       "    </tr>\n",
       "    <tr>\n",
       "      <th>2</th>\n",
       "      <td>68321501</td>\n",
       "      <td>2019-08-19</td>\n",
       "      <td>2019-08-29</td>\n",
       "      <td>A4189</td>\n",
       "      <td>A41</td>\n",
       "    </tr>\n",
       "    <tr>\n",
       "      <th>3</th>\n",
       "      <td>68321501</td>\n",
       "      <td>2019-09-13</td>\n",
       "      <td>2019-09-20</td>\n",
       "      <td>I340</td>\n",
       "      <td>I34</td>\n",
       "    </tr>\n",
       "    <tr>\n",
       "      <th>4</th>\n",
       "      <td>243536201</td>\n",
       "      <td>2019-09-23</td>\n",
       "      <td>2019-09-23</td>\n",
       "      <td>K922</td>\n",
       "      <td>K92</td>\n",
       "    </tr>\n",
       "  </tbody>\n",
       "</table>\n",
       "</div>"
      ],
      "text/plain": [
       "  patient_id     adm_dt discharge_dt diagnosis_code diag3\n",
       "0     837601 2019-04-10   2019-04-13          J9601   J96\n",
       "1   68321501 2019-05-29   2019-06-06           N183   N18\n",
       "2   68321501 2019-08-19   2019-08-29          A4189   A41\n",
       "3   68321501 2019-09-13   2019-09-20           I340   I34\n",
       "4  243536201 2019-09-23   2019-09-23           K922   K92"
      ]
     },
     "execution_count": 19,
     "metadata": {},
     "output_type": "execute_result"
    }
   ],
   "source": [
    "df2.head()"
   ]
  },
  {
   "cell_type": "code",
   "execution_count": 20,
   "id": "de32fde1-8625-4904-80ad-1adf46c4071d",
   "metadata": {
    "tags": []
   },
   "outputs": [
    {
     "data": {
      "text/plain": [
       "(67112, 5)"
      ]
     },
     "execution_count": 20,
     "metadata": {},
     "output_type": "execute_result"
    }
   ],
   "source": [
    "df2_labels = df2[df2['diag3'].isin(labels)]\n",
    "df2_labels.shape"
   ]
  },
  {
   "cell_type": "code",
   "execution_count": 21,
   "id": "65508492-01a2-4c66-9e67-5f79ab578592",
   "metadata": {
    "tags": []
   },
   "outputs": [
    {
     "data": {
      "text/html": [
       "<div>\n",
       "<style scoped>\n",
       "    .dataframe tbody tr th:only-of-type {\n",
       "        vertical-align: middle;\n",
       "    }\n",
       "\n",
       "    .dataframe tbody tr th {\n",
       "        vertical-align: top;\n",
       "    }\n",
       "\n",
       "    .dataframe thead th {\n",
       "        text-align: right;\n",
       "    }\n",
       "</style>\n",
       "<table border=\"1\" class=\"dataframe\">\n",
       "  <thead>\n",
       "    <tr style=\"text-align: right;\">\n",
       "      <th></th>\n",
       "      <th>patient_id</th>\n",
       "      <th>diag3</th>\n",
       "      <th>adm_dt</th>\n",
       "    </tr>\n",
       "  </thead>\n",
       "  <tbody>\n",
       "    <tr>\n",
       "      <th>0</th>\n",
       "      <td>1005559304</td>\n",
       "      <td>I50</td>\n",
       "      <td>2019-01-29</td>\n",
       "    </tr>\n",
       "    <tr>\n",
       "      <th>1</th>\n",
       "      <td>1005559304</td>\n",
       "      <td>N18</td>\n",
       "      <td>2019-01-29</td>\n",
       "    </tr>\n",
       "    <tr>\n",
       "      <th>2</th>\n",
       "      <td>1005926202</td>\n",
       "      <td>I50</td>\n",
       "      <td>2018-09-28</td>\n",
       "    </tr>\n",
       "    <tr>\n",
       "      <th>3</th>\n",
       "      <td>1005926202</td>\n",
       "      <td>N18</td>\n",
       "      <td>2018-09-28</td>\n",
       "    </tr>\n",
       "    <tr>\n",
       "      <th>4</th>\n",
       "      <td>1011351001</td>\n",
       "      <td>I50</td>\n",
       "      <td>2019-11-08</td>\n",
       "    </tr>\n",
       "  </tbody>\n",
       "</table>\n",
       "</div>"
      ],
      "text/plain": [
       "   patient_id diag3     adm_dt\n",
       "0  1005559304   I50 2019-01-29\n",
       "1  1005559304   N18 2019-01-29\n",
       "2  1005926202   I50 2018-09-28\n",
       "3  1005926202   N18 2018-09-28\n",
       "4  1011351001   I50 2019-11-08"
      ]
     },
     "execution_count": 21,
     "metadata": {},
     "output_type": "execute_result"
    }
   ],
   "source": [
    "df2_fod = df2_labels.groupby(['patient_id','diag3']).agg({'adm_dt':'min'}).reset_index()\n",
    "df2_fod.head()"
   ]
  },
  {
   "cell_type": "code",
   "execution_count": 22,
   "id": "13eac213-000a-45a2-b428-28c8fac12281",
   "metadata": {
    "tags": []
   },
   "outputs": [],
   "source": [
    "df2_fod.columns = ['patient_id','diag3','fod']"
   ]
  },
  {
   "cell_type": "code",
   "execution_count": 23,
   "id": "e526fce8-0777-4db0-9bab-caab462a3df2",
   "metadata": {
    "tags": []
   },
   "outputs": [],
   "source": [
    "df2_fod2 = df2_fod.pivot(index='patient_id',columns = ['diag3'], values=['fod']).reset_index()"
   ]
  },
  {
   "cell_type": "code",
   "execution_count": 24,
   "id": "fdae34cc-7400-4f24-82b7-6782ff2f38bd",
   "metadata": {
    "tags": []
   },
   "outputs": [
    {
     "data": {
      "text/html": [
       "<div>\n",
       "<style scoped>\n",
       "    .dataframe tbody tr th:only-of-type {\n",
       "        vertical-align: middle;\n",
       "    }\n",
       "\n",
       "    .dataframe tbody tr th {\n",
       "        vertical-align: top;\n",
       "    }\n",
       "\n",
       "    .dataframe thead tr th {\n",
       "        text-align: left;\n",
       "    }\n",
       "</style>\n",
       "<table border=\"1\" class=\"dataframe\">\n",
       "  <thead>\n",
       "    <tr>\n",
       "      <th></th>\n",
       "      <th>patient_id</th>\n",
       "      <th colspan=\"5\" halign=\"left\">fod</th>\n",
       "    </tr>\n",
       "    <tr>\n",
       "      <th>diag3</th>\n",
       "      <th></th>\n",
       "      <th>I50</th>\n",
       "      <th>J44</th>\n",
       "      <th>M16</th>\n",
       "      <th>M17</th>\n",
       "      <th>N18</th>\n",
       "    </tr>\n",
       "  </thead>\n",
       "  <tbody>\n",
       "    <tr>\n",
       "      <th>0</th>\n",
       "      <td>1005559304</td>\n",
       "      <td>2019-01-29</td>\n",
       "      <td>NaT</td>\n",
       "      <td>NaT</td>\n",
       "      <td>NaT</td>\n",
       "      <td>2019-01-29</td>\n",
       "    </tr>\n",
       "    <tr>\n",
       "      <th>1</th>\n",
       "      <td>1005926202</td>\n",
       "      <td>2018-09-28</td>\n",
       "      <td>NaT</td>\n",
       "      <td>NaT</td>\n",
       "      <td>NaT</td>\n",
       "      <td>2018-09-28</td>\n",
       "    </tr>\n",
       "    <tr>\n",
       "      <th>2</th>\n",
       "      <td>1011351001</td>\n",
       "      <td>2019-11-08</td>\n",
       "      <td>NaT</td>\n",
       "      <td>NaT</td>\n",
       "      <td>NaT</td>\n",
       "      <td>NaT</td>\n",
       "    </tr>\n",
       "    <tr>\n",
       "      <th>3</th>\n",
       "      <td>1011380202</td>\n",
       "      <td>NaT</td>\n",
       "      <td>NaT</td>\n",
       "      <td>2019-10-28</td>\n",
       "      <td>NaT</td>\n",
       "      <td>NaT</td>\n",
       "    </tr>\n",
       "    <tr>\n",
       "      <th>4</th>\n",
       "      <td>1011388002</td>\n",
       "      <td>NaT</td>\n",
       "      <td>NaT</td>\n",
       "      <td>NaT</td>\n",
       "      <td>NaT</td>\n",
       "      <td>2018-09-14</td>\n",
       "    </tr>\n",
       "  </tbody>\n",
       "</table>\n",
       "</div>"
      ],
      "text/plain": [
       "       patient_id        fod                              \n",
       "diag3                    I50 J44        M16 M17        N18\n",
       "0      1005559304 2019-01-29 NaT        NaT NaT 2019-01-29\n",
       "1      1005926202 2018-09-28 NaT        NaT NaT 2018-09-28\n",
       "2      1011351001 2019-11-08 NaT        NaT NaT        NaT\n",
       "3      1011380202        NaT NaT 2019-10-28 NaT        NaT\n",
       "4      1011388002        NaT NaT        NaT NaT 2018-09-14"
      ]
     },
     "execution_count": 24,
     "metadata": {},
     "output_type": "execute_result"
    }
   ],
   "source": [
    "df2_fod2.head()"
   ]
  },
  {
   "cell_type": "code",
   "execution_count": 25,
   "id": "48b44a8a-14c6-469b-89a5-fa30444f9f1c",
   "metadata": {
    "tags": []
   },
   "outputs": [],
   "source": [
    "df2_fod2.columns = df2_fod2.columns.droplevel()"
   ]
  },
  {
   "cell_type": "code",
   "execution_count": 26,
   "id": "3c1048f5-8856-4161-a866-056373c3df8f",
   "metadata": {
    "tags": []
   },
   "outputs": [
    {
     "data": {
      "text/html": [
       "<div>\n",
       "<style scoped>\n",
       "    .dataframe tbody tr th:only-of-type {\n",
       "        vertical-align: middle;\n",
       "    }\n",
       "\n",
       "    .dataframe tbody tr th {\n",
       "        vertical-align: top;\n",
       "    }\n",
       "\n",
       "    .dataframe thead th {\n",
       "        text-align: right;\n",
       "    }\n",
       "</style>\n",
       "<table border=\"1\" class=\"dataframe\">\n",
       "  <thead>\n",
       "    <tr style=\"text-align: right;\">\n",
       "      <th>diag3</th>\n",
       "      <th></th>\n",
       "      <th>I50</th>\n",
       "      <th>J44</th>\n",
       "      <th>M16</th>\n",
       "      <th>M17</th>\n",
       "      <th>N18</th>\n",
       "    </tr>\n",
       "  </thead>\n",
       "  <tbody>\n",
       "    <tr>\n",
       "      <th>0</th>\n",
       "      <td>1005559304</td>\n",
       "      <td>2019-01-29</td>\n",
       "      <td>NaT</td>\n",
       "      <td>NaT</td>\n",
       "      <td>NaT</td>\n",
       "      <td>2019-01-29</td>\n",
       "    </tr>\n",
       "    <tr>\n",
       "      <th>1</th>\n",
       "      <td>1005926202</td>\n",
       "      <td>2018-09-28</td>\n",
       "      <td>NaT</td>\n",
       "      <td>NaT</td>\n",
       "      <td>NaT</td>\n",
       "      <td>2018-09-28</td>\n",
       "    </tr>\n",
       "    <tr>\n",
       "      <th>2</th>\n",
       "      <td>1011351001</td>\n",
       "      <td>2019-11-08</td>\n",
       "      <td>NaT</td>\n",
       "      <td>NaT</td>\n",
       "      <td>NaT</td>\n",
       "      <td>NaT</td>\n",
       "    </tr>\n",
       "    <tr>\n",
       "      <th>3</th>\n",
       "      <td>1011380202</td>\n",
       "      <td>NaT</td>\n",
       "      <td>NaT</td>\n",
       "      <td>2019-10-28</td>\n",
       "      <td>NaT</td>\n",
       "      <td>NaT</td>\n",
       "    </tr>\n",
       "    <tr>\n",
       "      <th>4</th>\n",
       "      <td>1011388002</td>\n",
       "      <td>NaT</td>\n",
       "      <td>NaT</td>\n",
       "      <td>NaT</td>\n",
       "      <td>NaT</td>\n",
       "      <td>2018-09-14</td>\n",
       "    </tr>\n",
       "  </tbody>\n",
       "</table>\n",
       "</div>"
      ],
      "text/plain": [
       "diag3                    I50 J44        M16 M17        N18\n",
       "0      1005559304 2019-01-29 NaT        NaT NaT 2019-01-29\n",
       "1      1005926202 2018-09-28 NaT        NaT NaT 2018-09-28\n",
       "2      1011351001 2019-11-08 NaT        NaT NaT        NaT\n",
       "3      1011380202        NaT NaT 2019-10-28 NaT        NaT\n",
       "4      1011388002        NaT NaT        NaT NaT 2018-09-14"
      ]
     },
     "execution_count": 26,
     "metadata": {},
     "output_type": "execute_result"
    }
   ],
   "source": [
    "df2_fod2.head()"
   ]
  },
  {
   "cell_type": "code",
   "execution_count": 27,
   "id": "ad644196-1649-434e-b8e6-66eb6824108b",
   "metadata": {
    "tags": []
   },
   "outputs": [],
   "source": [
    "label_imputations = ['target_'+lab for lab in labels]"
   ]
  },
  {
   "cell_type": "code",
   "execution_count": 28,
   "id": "efb79c1a-b403-4abc-a492-dc16fd4094a1",
   "metadata": {
    "tags": []
   },
   "outputs": [],
   "source": [
    "df2_fod2.columns = ['patient_id']+sorted(label_imputations)"
   ]
  },
  {
   "cell_type": "code",
   "execution_count": 74,
   "id": "e9cdf063-4ee5-4a32-877b-7b0a6f85745d",
   "metadata": {
    "tags": []
   },
   "outputs": [
    {
     "data": {
      "text/html": [
       "<div>\n",
       "<style scoped>\n",
       "    .dataframe tbody tr th:only-of-type {\n",
       "        vertical-align: middle;\n",
       "    }\n",
       "\n",
       "    .dataframe tbody tr th {\n",
       "        vertical-align: top;\n",
       "    }\n",
       "\n",
       "    .dataframe thead th {\n",
       "        text-align: right;\n",
       "    }\n",
       "</style>\n",
       "<table border=\"1\" class=\"dataframe\">\n",
       "  <thead>\n",
       "    <tr style=\"text-align: right;\">\n",
       "      <th></th>\n",
       "      <th>patient_id</th>\n",
       "      <th>target_I50</th>\n",
       "      <th>target_J44</th>\n",
       "      <th>target_M16</th>\n",
       "      <th>target_M17</th>\n",
       "      <th>target_N18</th>\n",
       "    </tr>\n",
       "  </thead>\n",
       "  <tbody>\n",
       "    <tr>\n",
       "      <th>0</th>\n",
       "      <td>1005559304</td>\n",
       "      <td>2019-01-29</td>\n",
       "      <td>2030-12-31</td>\n",
       "      <td>2030-12-31</td>\n",
       "      <td>2030-12-31</td>\n",
       "      <td>2019-01-29</td>\n",
       "    </tr>\n",
       "    <tr>\n",
       "      <th>1</th>\n",
       "      <td>1005926202</td>\n",
       "      <td>2018-09-28</td>\n",
       "      <td>2030-12-31</td>\n",
       "      <td>2030-12-31</td>\n",
       "      <td>2030-12-31</td>\n",
       "      <td>2018-09-28</td>\n",
       "    </tr>\n",
       "    <tr>\n",
       "      <th>2</th>\n",
       "      <td>1011351001</td>\n",
       "      <td>2019-11-08</td>\n",
       "      <td>2030-12-31</td>\n",
       "      <td>2030-12-31</td>\n",
       "      <td>2030-12-31</td>\n",
       "      <td>2030-12-31</td>\n",
       "    </tr>\n",
       "    <tr>\n",
       "      <th>3</th>\n",
       "      <td>1011380202</td>\n",
       "      <td>2030-12-31</td>\n",
       "      <td>2030-12-31</td>\n",
       "      <td>2019-10-28</td>\n",
       "      <td>2030-12-31</td>\n",
       "      <td>2030-12-31</td>\n",
       "    </tr>\n",
       "    <tr>\n",
       "      <th>4</th>\n",
       "      <td>1011388002</td>\n",
       "      <td>2030-12-31</td>\n",
       "      <td>2030-12-31</td>\n",
       "      <td>2030-12-31</td>\n",
       "      <td>2030-12-31</td>\n",
       "      <td>2018-09-14</td>\n",
       "    </tr>\n",
       "    <tr>\n",
       "      <th>5</th>\n",
       "      <td>1011395401</td>\n",
       "      <td>2018-09-17</td>\n",
       "      <td>2030-12-31</td>\n",
       "      <td>2030-12-31</td>\n",
       "      <td>2030-12-31</td>\n",
       "      <td>2018-12-25</td>\n",
       "    </tr>\n",
       "    <tr>\n",
       "      <th>6</th>\n",
       "      <td>1011452701</td>\n",
       "      <td>2030-12-31</td>\n",
       "      <td>2030-12-31</td>\n",
       "      <td>2030-12-31</td>\n",
       "      <td>2030-12-31</td>\n",
       "      <td>2019-10-02</td>\n",
       "    </tr>\n",
       "    <tr>\n",
       "      <th>7</th>\n",
       "      <td>1011464401</td>\n",
       "      <td>2018-01-02</td>\n",
       "      <td>2030-12-31</td>\n",
       "      <td>2030-12-31</td>\n",
       "      <td>2030-12-31</td>\n",
       "      <td>2018-01-02</td>\n",
       "    </tr>\n",
       "    <tr>\n",
       "      <th>8</th>\n",
       "      <td>1011509401</td>\n",
       "      <td>2019-06-05</td>\n",
       "      <td>2019-06-05</td>\n",
       "      <td>2030-12-31</td>\n",
       "      <td>2030-12-31</td>\n",
       "      <td>2019-06-05</td>\n",
       "    </tr>\n",
       "    <tr>\n",
       "      <th>9</th>\n",
       "      <td>1011669301</td>\n",
       "      <td>2030-12-31</td>\n",
       "      <td>2030-12-31</td>\n",
       "      <td>2030-12-31</td>\n",
       "      <td>2030-12-31</td>\n",
       "      <td>2019-02-15</td>\n",
       "    </tr>\n",
       "  </tbody>\n",
       "</table>\n",
       "</div>"
      ],
      "text/plain": [
       "   patient_id target_I50 target_J44 target_M16 target_M17 target_N18\n",
       "0  1005559304 2019-01-29 2030-12-31 2030-12-31 2030-12-31 2019-01-29\n",
       "1  1005926202 2018-09-28 2030-12-31 2030-12-31 2030-12-31 2018-09-28\n",
       "2  1011351001 2019-11-08 2030-12-31 2030-12-31 2030-12-31 2030-12-31\n",
       "3  1011380202 2030-12-31 2030-12-31 2019-10-28 2030-12-31 2030-12-31\n",
       "4  1011388002 2030-12-31 2030-12-31 2030-12-31 2030-12-31 2018-09-14\n",
       "5  1011395401 2018-09-17 2030-12-31 2030-12-31 2030-12-31 2018-12-25\n",
       "6  1011452701 2030-12-31 2030-12-31 2030-12-31 2030-12-31 2019-10-02\n",
       "7  1011464401 2018-01-02 2030-12-31 2030-12-31 2030-12-31 2018-01-02\n",
       "8  1011509401 2019-06-05 2019-06-05 2030-12-31 2030-12-31 2019-06-05\n",
       "9  1011669301 2030-12-31 2030-12-31 2030-12-31 2030-12-31 2019-02-15"
      ]
     },
     "execution_count": 74,
     "metadata": {},
     "output_type": "execute_result"
    }
   ],
   "source": [
    "df2_fod2.head(10)"
   ]
  },
  {
   "cell_type": "code",
   "execution_count": 30,
   "id": "70852bda-85be-476a-977f-65997e4100dd",
   "metadata": {
    "tags": []
   },
   "outputs": [
    {
     "data": {
      "text/plain": [
       "datetime.datetime(2023, 7, 24, 14, 5, 52, 802952)"
      ]
     },
     "execution_count": 30,
     "metadata": {},
     "output_type": "execute_result"
    }
   ],
   "source": [
    "from datetime import datetime\n",
    "datetime.today()"
   ]
  },
  {
   "cell_type": "code",
   "execution_count": 31,
   "id": "85efc7fe-c55e-4a3e-9f03-564a2fac0b2c",
   "metadata": {
    "tags": []
   },
   "outputs": [],
   "source": [
    "df2_fod2.fillna(pd.to_datetime('2030-12-31'), inplace = True)"
   ]
  },
  {
   "cell_type": "code",
   "execution_count": 32,
   "id": "c722ceba-2938-41c5-8b18-abcd0c833b5f",
   "metadata": {
    "tags": []
   },
   "outputs": [
    {
     "data": {
      "text/plain": [
       "(2383653, 5)"
      ]
     },
     "execution_count": 32,
     "metadata": {},
     "output_type": "execute_result"
    }
   ],
   "source": [
    "df3 = pd.merge(df2, df2_fod2, on = ['patient_id'], how = 'left')\n",
    "df2.shape"
   ]
  },
  {
   "cell_type": "code",
   "execution_count": 33,
   "id": "6f085e58-8c68-411e-afc8-758c929dba38",
   "metadata": {
    "tags": []
   },
   "outputs": [
    {
     "data": {
      "text/plain": [
       "(2383653, 10)"
      ]
     },
     "execution_count": 33,
     "metadata": {},
     "output_type": "execute_result"
    }
   ],
   "source": [
    "df3.shape"
   ]
  },
  {
   "cell_type": "code",
   "execution_count": 34,
   "id": "037db001-efd3-4a4e-8df8-b16db1b5a53c",
   "metadata": {
    "tags": []
   },
   "outputs": [
    {
     "data": {
      "text/html": [
       "<div>\n",
       "<style scoped>\n",
       "    .dataframe tbody tr th:only-of-type {\n",
       "        vertical-align: middle;\n",
       "    }\n",
       "\n",
       "    .dataframe tbody tr th {\n",
       "        vertical-align: top;\n",
       "    }\n",
       "\n",
       "    .dataframe thead th {\n",
       "        text-align: right;\n",
       "    }\n",
       "</style>\n",
       "<table border=\"1\" class=\"dataframe\">\n",
       "  <thead>\n",
       "    <tr style=\"text-align: right;\">\n",
       "      <th></th>\n",
       "      <th>patient_id</th>\n",
       "      <th>adm_dt</th>\n",
       "      <th>discharge_dt</th>\n",
       "      <th>diagnosis_code</th>\n",
       "      <th>diag3</th>\n",
       "      <th>target_I50</th>\n",
       "      <th>target_J44</th>\n",
       "      <th>target_M16</th>\n",
       "      <th>target_M17</th>\n",
       "      <th>target_N18</th>\n",
       "    </tr>\n",
       "  </thead>\n",
       "  <tbody>\n",
       "    <tr>\n",
       "      <th>0</th>\n",
       "      <td>837601</td>\n",
       "      <td>2019-04-10</td>\n",
       "      <td>2019-04-13</td>\n",
       "      <td>J9601</td>\n",
       "      <td>J96</td>\n",
       "      <td>2030-12-31</td>\n",
       "      <td>2030-12-31</td>\n",
       "      <td>2030-12-31</td>\n",
       "      <td>2030-12-31</td>\n",
       "      <td>2018-07-19</td>\n",
       "    </tr>\n",
       "    <tr>\n",
       "      <th>1</th>\n",
       "      <td>68321501</td>\n",
       "      <td>2019-05-29</td>\n",
       "      <td>2019-06-06</td>\n",
       "      <td>N183</td>\n",
       "      <td>N18</td>\n",
       "      <td>2019-08-19</td>\n",
       "      <td>2019-08-19</td>\n",
       "      <td>2030-12-31</td>\n",
       "      <td>2030-12-31</td>\n",
       "      <td>2019-05-29</td>\n",
       "    </tr>\n",
       "    <tr>\n",
       "      <th>2</th>\n",
       "      <td>68321501</td>\n",
       "      <td>2019-08-19</td>\n",
       "      <td>2019-08-29</td>\n",
       "      <td>A4189</td>\n",
       "      <td>A41</td>\n",
       "      <td>2019-08-19</td>\n",
       "      <td>2019-08-19</td>\n",
       "      <td>2030-12-31</td>\n",
       "      <td>2030-12-31</td>\n",
       "      <td>2019-05-29</td>\n",
       "    </tr>\n",
       "    <tr>\n",
       "      <th>3</th>\n",
       "      <td>68321501</td>\n",
       "      <td>2019-09-13</td>\n",
       "      <td>2019-09-20</td>\n",
       "      <td>I340</td>\n",
       "      <td>I34</td>\n",
       "      <td>2019-08-19</td>\n",
       "      <td>2019-08-19</td>\n",
       "      <td>2030-12-31</td>\n",
       "      <td>2030-12-31</td>\n",
       "      <td>2019-05-29</td>\n",
       "    </tr>\n",
       "    <tr>\n",
       "      <th>4</th>\n",
       "      <td>243536201</td>\n",
       "      <td>2019-09-23</td>\n",
       "      <td>2019-09-23</td>\n",
       "      <td>K922</td>\n",
       "      <td>K92</td>\n",
       "      <td>2030-12-31</td>\n",
       "      <td>2030-12-31</td>\n",
       "      <td>2030-12-31</td>\n",
       "      <td>2030-12-31</td>\n",
       "      <td>2021-06-16</td>\n",
       "    </tr>\n",
       "  </tbody>\n",
       "</table>\n",
       "</div>"
      ],
      "text/plain": [
       "  patient_id     adm_dt discharge_dt diagnosis_code diag3 target_I50  \\\n",
       "0     837601 2019-04-10   2019-04-13          J9601   J96 2030-12-31   \n",
       "1   68321501 2019-05-29   2019-06-06           N183   N18 2019-08-19   \n",
       "2   68321501 2019-08-19   2019-08-29          A4189   A41 2019-08-19   \n",
       "3   68321501 2019-09-13   2019-09-20           I340   I34 2019-08-19   \n",
       "4  243536201 2019-09-23   2019-09-23           K922   K92 2030-12-31   \n",
       "\n",
       "  target_J44 target_M16 target_M17 target_N18  \n",
       "0 2030-12-31 2030-12-31 2030-12-31 2018-07-19  \n",
       "1 2019-08-19 2030-12-31 2030-12-31 2019-05-29  \n",
       "2 2019-08-19 2030-12-31 2030-12-31 2019-05-29  \n",
       "3 2019-08-19 2030-12-31 2030-12-31 2019-05-29  \n",
       "4 2030-12-31 2030-12-31 2030-12-31 2021-06-16  "
      ]
     },
     "execution_count": 34,
     "metadata": {},
     "output_type": "execute_result"
    }
   ],
   "source": [
    "df3.head(5)"
   ]
  },
  {
   "cell_type": "code",
   "execution_count": 35,
   "id": "34fac030-195e-4b27-b160-2afeb04d1412",
   "metadata": {
    "tags": []
   },
   "outputs": [],
   "source": [
    "df3.fillna(pd.to_datetime('2030-12-31'), inplace = True)"
   ]
  },
  {
   "cell_type": "code",
   "execution_count": 36,
   "id": "7c373de7-254a-40ba-86b5-d6e575793c32",
   "metadata": {
    "tags": []
   },
   "outputs": [],
   "source": [
    "df3['month_id'] = (df3['adm_dt'].dt.year-2018)*12 + df3['adm_dt'].dt.month"
   ]
  },
  {
   "cell_type": "code",
   "execution_count": 37,
   "id": "456913a1-1713-4195-80fa-de8d4134f22a",
   "metadata": {
    "tags": []
   },
   "outputs": [
    {
     "data": {
      "text/html": [
       "<div>\n",
       "<style scoped>\n",
       "    .dataframe tbody tr th:only-of-type {\n",
       "        vertical-align: middle;\n",
       "    }\n",
       "\n",
       "    .dataframe tbody tr th {\n",
       "        vertical-align: top;\n",
       "    }\n",
       "\n",
       "    .dataframe thead th {\n",
       "        text-align: right;\n",
       "    }\n",
       "</style>\n",
       "<table border=\"1\" class=\"dataframe\">\n",
       "  <thead>\n",
       "    <tr style=\"text-align: right;\">\n",
       "      <th></th>\n",
       "      <th>patient_id</th>\n",
       "      <th>adm_dt</th>\n",
       "      <th>discharge_dt</th>\n",
       "      <th>diagnosis_code</th>\n",
       "      <th>diag3</th>\n",
       "      <th>target_I50</th>\n",
       "      <th>target_J44</th>\n",
       "      <th>target_M16</th>\n",
       "      <th>target_M17</th>\n",
       "      <th>target_N18</th>\n",
       "      <th>month_id</th>\n",
       "    </tr>\n",
       "  </thead>\n",
       "  <tbody>\n",
       "    <tr>\n",
       "      <th>0</th>\n",
       "      <td>837601</td>\n",
       "      <td>2019-04-10</td>\n",
       "      <td>2019-04-13</td>\n",
       "      <td>J9601</td>\n",
       "      <td>J96</td>\n",
       "      <td>2030-12-31</td>\n",
       "      <td>2030-12-31</td>\n",
       "      <td>2030-12-31</td>\n",
       "      <td>2030-12-31</td>\n",
       "      <td>2018-07-19</td>\n",
       "      <td>16</td>\n",
       "    </tr>\n",
       "    <tr>\n",
       "      <th>1</th>\n",
       "      <td>68321501</td>\n",
       "      <td>2019-05-29</td>\n",
       "      <td>2019-06-06</td>\n",
       "      <td>N183</td>\n",
       "      <td>N18</td>\n",
       "      <td>2019-08-19</td>\n",
       "      <td>2019-08-19</td>\n",
       "      <td>2030-12-31</td>\n",
       "      <td>2030-12-31</td>\n",
       "      <td>2019-05-29</td>\n",
       "      <td>17</td>\n",
       "    </tr>\n",
       "    <tr>\n",
       "      <th>2</th>\n",
       "      <td>68321501</td>\n",
       "      <td>2019-08-19</td>\n",
       "      <td>2019-08-29</td>\n",
       "      <td>A4189</td>\n",
       "      <td>A41</td>\n",
       "      <td>2019-08-19</td>\n",
       "      <td>2019-08-19</td>\n",
       "      <td>2030-12-31</td>\n",
       "      <td>2030-12-31</td>\n",
       "      <td>2019-05-29</td>\n",
       "      <td>20</td>\n",
       "    </tr>\n",
       "    <tr>\n",
       "      <th>3</th>\n",
       "      <td>68321501</td>\n",
       "      <td>2019-09-13</td>\n",
       "      <td>2019-09-20</td>\n",
       "      <td>I340</td>\n",
       "      <td>I34</td>\n",
       "      <td>2019-08-19</td>\n",
       "      <td>2019-08-19</td>\n",
       "      <td>2030-12-31</td>\n",
       "      <td>2030-12-31</td>\n",
       "      <td>2019-05-29</td>\n",
       "      <td>21</td>\n",
       "    </tr>\n",
       "    <tr>\n",
       "      <th>4</th>\n",
       "      <td>243536201</td>\n",
       "      <td>2019-09-23</td>\n",
       "      <td>2019-09-23</td>\n",
       "      <td>K922</td>\n",
       "      <td>K92</td>\n",
       "      <td>2030-12-31</td>\n",
       "      <td>2030-12-31</td>\n",
       "      <td>2030-12-31</td>\n",
       "      <td>2030-12-31</td>\n",
       "      <td>2021-06-16</td>\n",
       "      <td>21</td>\n",
       "    </tr>\n",
       "  </tbody>\n",
       "</table>\n",
       "</div>"
      ],
      "text/plain": [
       "  patient_id     adm_dt discharge_dt diagnosis_code diag3 target_I50  \\\n",
       "0     837601 2019-04-10   2019-04-13          J9601   J96 2030-12-31   \n",
       "1   68321501 2019-05-29   2019-06-06           N183   N18 2019-08-19   \n",
       "2   68321501 2019-08-19   2019-08-29          A4189   A41 2019-08-19   \n",
       "3   68321501 2019-09-13   2019-09-20           I340   I34 2019-08-19   \n",
       "4  243536201 2019-09-23   2019-09-23           K922   K92 2030-12-31   \n",
       "\n",
       "  target_J44 target_M16 target_M17 target_N18  month_id  \n",
       "0 2030-12-31 2030-12-31 2030-12-31 2018-07-19        16  \n",
       "1 2019-08-19 2030-12-31 2030-12-31 2019-05-29        17  \n",
       "2 2019-08-19 2030-12-31 2030-12-31 2019-05-29        20  \n",
       "3 2019-08-19 2030-12-31 2030-12-31 2019-05-29        21  \n",
       "4 2030-12-31 2030-12-31 2030-12-31 2021-06-16        21  "
      ]
     },
     "execution_count": 37,
     "metadata": {},
     "output_type": "execute_result"
    }
   ],
   "source": [
    "df3.head()"
   ]
  },
  {
   "cell_type": "code",
   "execution_count": 38,
   "id": "c93dc3d2-e6a8-41df-a9c6-ce11d03100d9",
   "metadata": {
    "tags": []
   },
   "outputs": [],
   "source": [
    "import numpy as np\n",
    "for col in sorted(label_imputations):\n",
    "    dx = col.split('_')[-1]\n",
    "    new_col = 'month_'+dx\n",
    "    df3[new_col] = (df3[col].dt.year-2018)*12+df3[col].dt.month"
   ]
  },
  {
   "cell_type": "code",
   "execution_count": 39,
   "id": "538e530a-3f28-40b2-99d3-18b4483803c8",
   "metadata": {
    "tags": []
   },
   "outputs": [],
   "source": [
    "all_patients = pd.DataFrame(df3['patient_id'].unique().tolist())\n",
    "all_months = pd.DataFrame(np.arange(13,25).tolist())\n",
    "\n",
    "all_months.columns = ['month_id']\n",
    "all_patients.columns = ['patient_id']\n",
    "\n",
    "all_months['key'] = 1\n",
    "all_patients['key'] = 1\n",
    "  \n",
    "# to obtain the cross join we will merge \n",
    "# on the key and drop it.\n",
    "result = pd.merge(all_months, all_patients, on ='key').drop(\"key\", 1)\n",
    "\n",
    "result.columns = ['current_month','patient_id']"
   ]
  },
  {
   "cell_type": "code",
   "execution_count": 40,
   "id": "6f972f3b-8d9c-4e8e-b5a8-792e7ee07c06",
   "metadata": {
    "tags": []
   },
   "outputs": [],
   "source": [
    "df4 = pd.merge(result, df3, on = 'patient_id')"
   ]
  },
  {
   "cell_type": "code",
   "execution_count": 41,
   "id": "51bb7c84-76cd-479d-91be-db116b9cfb22",
   "metadata": {
    "tags": []
   },
   "outputs": [],
   "source": [
    "import numpy as np\n",
    "for col in sorted(label_imputations):\n",
    "    dx = col.split('_')[-1]\n",
    "    new_col = 'final_target_'+dx\n",
    "    month_dx = 'month_'+dx\n",
    "    df4[new_col] = np.where((df4[month_dx]>df4['current_month']) & (df4[month_dx]<(df4['current_month']+4)),1,0)"
   ]
  },
  {
   "cell_type": "code",
   "execution_count": 42,
   "id": "9db54e83-bdad-4219-9a67-47042d5c31a7",
   "metadata": {
    "tags": []
   },
   "outputs": [
    {
     "data": {
      "text/html": [
       "<div>\n",
       "<style scoped>\n",
       "    .dataframe tbody tr th:only-of-type {\n",
       "        vertical-align: middle;\n",
       "    }\n",
       "\n",
       "    .dataframe tbody tr th {\n",
       "        vertical-align: top;\n",
       "    }\n",
       "\n",
       "    .dataframe thead th {\n",
       "        text-align: right;\n",
       "    }\n",
       "</style>\n",
       "<table border=\"1\" class=\"dataframe\">\n",
       "  <thead>\n",
       "    <tr style=\"text-align: right;\">\n",
       "      <th></th>\n",
       "      <th>current_month</th>\n",
       "      <th>patient_id</th>\n",
       "      <th>adm_dt</th>\n",
       "      <th>discharge_dt</th>\n",
       "      <th>diagnosis_code</th>\n",
       "      <th>diag3</th>\n",
       "      <th>target_I50</th>\n",
       "      <th>target_J44</th>\n",
       "      <th>target_M16</th>\n",
       "      <th>target_M17</th>\n",
       "      <th>...</th>\n",
       "      <th>month_I50</th>\n",
       "      <th>month_J44</th>\n",
       "      <th>month_M16</th>\n",
       "      <th>month_M17</th>\n",
       "      <th>month_N18</th>\n",
       "      <th>final_target_I50</th>\n",
       "      <th>final_target_J44</th>\n",
       "      <th>final_target_M16</th>\n",
       "      <th>final_target_M17</th>\n",
       "      <th>final_target_N18</th>\n",
       "    </tr>\n",
       "  </thead>\n",
       "  <tbody>\n",
       "    <tr>\n",
       "      <th>0</th>\n",
       "      <td>13</td>\n",
       "      <td>837601</td>\n",
       "      <td>2019-04-10</td>\n",
       "      <td>2019-04-13</td>\n",
       "      <td>J9601</td>\n",
       "      <td>J96</td>\n",
       "      <td>2030-12-31</td>\n",
       "      <td>2030-12-31</td>\n",
       "      <td>2030-12-31</td>\n",
       "      <td>2030-12-31</td>\n",
       "      <td>...</td>\n",
       "      <td>156</td>\n",
       "      <td>156</td>\n",
       "      <td>156</td>\n",
       "      <td>156</td>\n",
       "      <td>7</td>\n",
       "      <td>0</td>\n",
       "      <td>0</td>\n",
       "      <td>0</td>\n",
       "      <td>0</td>\n",
       "      <td>0</td>\n",
       "    </tr>\n",
       "    <tr>\n",
       "      <th>1</th>\n",
       "      <td>13</td>\n",
       "      <td>837601</td>\n",
       "      <td>2019-04-10</td>\n",
       "      <td>2019-04-13</td>\n",
       "      <td>J9621</td>\n",
       "      <td>J96</td>\n",
       "      <td>2030-12-31</td>\n",
       "      <td>2030-12-31</td>\n",
       "      <td>2030-12-31</td>\n",
       "      <td>2030-12-31</td>\n",
       "      <td>...</td>\n",
       "      <td>156</td>\n",
       "      <td>156</td>\n",
       "      <td>156</td>\n",
       "      <td>156</td>\n",
       "      <td>7</td>\n",
       "      <td>0</td>\n",
       "      <td>0</td>\n",
       "      <td>0</td>\n",
       "      <td>0</td>\n",
       "      <td>0</td>\n",
       "    </tr>\n",
       "    <tr>\n",
       "      <th>2</th>\n",
       "      <td>13</td>\n",
       "      <td>837601</td>\n",
       "      <td>2019-04-10</td>\n",
       "      <td>2019-04-13</td>\n",
       "      <td>J9621</td>\n",
       "      <td>J96</td>\n",
       "      <td>2030-12-31</td>\n",
       "      <td>2030-12-31</td>\n",
       "      <td>2030-12-31</td>\n",
       "      <td>2030-12-31</td>\n",
       "      <td>...</td>\n",
       "      <td>156</td>\n",
       "      <td>156</td>\n",
       "      <td>156</td>\n",
       "      <td>156</td>\n",
       "      <td>7</td>\n",
       "      <td>0</td>\n",
       "      <td>0</td>\n",
       "      <td>0</td>\n",
       "      <td>0</td>\n",
       "      <td>0</td>\n",
       "    </tr>\n",
       "    <tr>\n",
       "      <th>3</th>\n",
       "      <td>13</td>\n",
       "      <td>837601</td>\n",
       "      <td>2019-04-10</td>\n",
       "      <td>2019-04-13</td>\n",
       "      <td>R918</td>\n",
       "      <td>R91</td>\n",
       "      <td>2030-12-31</td>\n",
       "      <td>2030-12-31</td>\n",
       "      <td>2030-12-31</td>\n",
       "      <td>2030-12-31</td>\n",
       "      <td>...</td>\n",
       "      <td>156</td>\n",
       "      <td>156</td>\n",
       "      <td>156</td>\n",
       "      <td>156</td>\n",
       "      <td>7</td>\n",
       "      <td>0</td>\n",
       "      <td>0</td>\n",
       "      <td>0</td>\n",
       "      <td>0</td>\n",
       "      <td>0</td>\n",
       "    </tr>\n",
       "    <tr>\n",
       "      <th>4</th>\n",
       "      <td>13</td>\n",
       "      <td>837601</td>\n",
       "      <td>2019-04-10</td>\n",
       "      <td>2019-04-13</td>\n",
       "      <td>J9621</td>\n",
       "      <td>J96</td>\n",
       "      <td>2030-12-31</td>\n",
       "      <td>2030-12-31</td>\n",
       "      <td>2030-12-31</td>\n",
       "      <td>2030-12-31</td>\n",
       "      <td>...</td>\n",
       "      <td>156</td>\n",
       "      <td>156</td>\n",
       "      <td>156</td>\n",
       "      <td>156</td>\n",
       "      <td>7</td>\n",
       "      <td>0</td>\n",
       "      <td>0</td>\n",
       "      <td>0</td>\n",
       "      <td>0</td>\n",
       "      <td>0</td>\n",
       "    </tr>\n",
       "  </tbody>\n",
       "</table>\n",
       "<p>5 rows × 22 columns</p>\n",
       "</div>"
      ],
      "text/plain": [
       "   current_month patient_id     adm_dt discharge_dt diagnosis_code diag3  \\\n",
       "0             13     837601 2019-04-10   2019-04-13          J9601   J96   \n",
       "1             13     837601 2019-04-10   2019-04-13          J9621   J96   \n",
       "2             13     837601 2019-04-10   2019-04-13          J9621   J96   \n",
       "3             13     837601 2019-04-10   2019-04-13           R918   R91   \n",
       "4             13     837601 2019-04-10   2019-04-13          J9621   J96   \n",
       "\n",
       "  target_I50 target_J44 target_M16 target_M17  ... month_I50  month_J44  \\\n",
       "0 2030-12-31 2030-12-31 2030-12-31 2030-12-31  ...       156        156   \n",
       "1 2030-12-31 2030-12-31 2030-12-31 2030-12-31  ...       156        156   \n",
       "2 2030-12-31 2030-12-31 2030-12-31 2030-12-31  ...       156        156   \n",
       "3 2030-12-31 2030-12-31 2030-12-31 2030-12-31  ...       156        156   \n",
       "4 2030-12-31 2030-12-31 2030-12-31 2030-12-31  ...       156        156   \n",
       "\n",
       "   month_M16  month_M17  month_N18  final_target_I50  final_target_J44  \\\n",
       "0        156        156          7                 0                 0   \n",
       "1        156        156          7                 0                 0   \n",
       "2        156        156          7                 0                 0   \n",
       "3        156        156          7                 0                 0   \n",
       "4        156        156          7                 0                 0   \n",
       "\n",
       "   final_target_M16  final_target_M17  final_target_N18  \n",
       "0                 0                 0                 0  \n",
       "1                 0                 0                 0  \n",
       "2                 0                 0                 0  \n",
       "3                 0                 0                 0  \n",
       "4                 0                 0                 0  \n",
       "\n",
       "[5 rows x 22 columns]"
      ]
     },
     "execution_count": 42,
     "metadata": {},
     "output_type": "execute_result"
    }
   ],
   "source": [
    "df4.head()"
   ]
  },
  {
   "cell_type": "code",
   "execution_count": 43,
   "id": "e9040f5a-44ae-4473-9ca4-f8b57b95139a",
   "metadata": {
    "tags": []
   },
   "outputs": [],
   "source": [
    "df4['adm_month'] = (df4['adm_dt'].dt.year-2018)*12+df4['adm_dt'].dt.month"
   ]
  },
  {
   "cell_type": "code",
   "execution_count": 44,
   "id": "0df363f6-b1f8-42de-9265-8e840516a60c",
   "metadata": {
    "tags": []
   },
   "outputs": [],
   "source": [
    "df4_targets = df4[['current_month','patient_id'] + [f'final_target_{label}' for label in labels]]"
   ]
  },
  {
   "cell_type": "code",
   "execution_count": 45,
   "id": "25734b96-2de8-4124-8782-ace3a525548d",
   "metadata": {
    "tags": []
   },
   "outputs": [
    {
     "data": {
      "text/html": [
       "<div>\n",
       "<style scoped>\n",
       "    .dataframe tbody tr th:only-of-type {\n",
       "        vertical-align: middle;\n",
       "    }\n",
       "\n",
       "    .dataframe tbody tr th {\n",
       "        vertical-align: top;\n",
       "    }\n",
       "\n",
       "    .dataframe thead th {\n",
       "        text-align: right;\n",
       "    }\n",
       "</style>\n",
       "<table border=\"1\" class=\"dataframe\">\n",
       "  <thead>\n",
       "    <tr style=\"text-align: right;\">\n",
       "      <th></th>\n",
       "      <th>current_month</th>\n",
       "      <th>patient_id</th>\n",
       "      <th>adm_dt</th>\n",
       "      <th>discharge_dt</th>\n",
       "      <th>diagnosis_code</th>\n",
       "      <th>diag3</th>\n",
       "      <th>target_I50</th>\n",
       "      <th>target_J44</th>\n",
       "      <th>target_M16</th>\n",
       "      <th>target_M17</th>\n",
       "      <th>...</th>\n",
       "      <th>month_J44</th>\n",
       "      <th>month_M16</th>\n",
       "      <th>month_M17</th>\n",
       "      <th>month_N18</th>\n",
       "      <th>final_target_I50</th>\n",
       "      <th>final_target_J44</th>\n",
       "      <th>final_target_M16</th>\n",
       "      <th>final_target_M17</th>\n",
       "      <th>final_target_N18</th>\n",
       "      <th>adm_month</th>\n",
       "    </tr>\n",
       "  </thead>\n",
       "  <tbody>\n",
       "    <tr>\n",
       "      <th>0</th>\n",
       "      <td>13</td>\n",
       "      <td>837601</td>\n",
       "      <td>2019-04-10</td>\n",
       "      <td>2019-04-13</td>\n",
       "      <td>J9601</td>\n",
       "      <td>J96</td>\n",
       "      <td>2030-12-31</td>\n",
       "      <td>2030-12-31</td>\n",
       "      <td>2030-12-31</td>\n",
       "      <td>2030-12-31</td>\n",
       "      <td>...</td>\n",
       "      <td>156</td>\n",
       "      <td>156</td>\n",
       "      <td>156</td>\n",
       "      <td>7</td>\n",
       "      <td>0</td>\n",
       "      <td>0</td>\n",
       "      <td>0</td>\n",
       "      <td>0</td>\n",
       "      <td>0</td>\n",
       "      <td>16</td>\n",
       "    </tr>\n",
       "    <tr>\n",
       "      <th>1</th>\n",
       "      <td>13</td>\n",
       "      <td>837601</td>\n",
       "      <td>2019-04-10</td>\n",
       "      <td>2019-04-13</td>\n",
       "      <td>J9621</td>\n",
       "      <td>J96</td>\n",
       "      <td>2030-12-31</td>\n",
       "      <td>2030-12-31</td>\n",
       "      <td>2030-12-31</td>\n",
       "      <td>2030-12-31</td>\n",
       "      <td>...</td>\n",
       "      <td>156</td>\n",
       "      <td>156</td>\n",
       "      <td>156</td>\n",
       "      <td>7</td>\n",
       "      <td>0</td>\n",
       "      <td>0</td>\n",
       "      <td>0</td>\n",
       "      <td>0</td>\n",
       "      <td>0</td>\n",
       "      <td>16</td>\n",
       "    </tr>\n",
       "    <tr>\n",
       "      <th>2</th>\n",
       "      <td>13</td>\n",
       "      <td>837601</td>\n",
       "      <td>2019-04-10</td>\n",
       "      <td>2019-04-13</td>\n",
       "      <td>J9621</td>\n",
       "      <td>J96</td>\n",
       "      <td>2030-12-31</td>\n",
       "      <td>2030-12-31</td>\n",
       "      <td>2030-12-31</td>\n",
       "      <td>2030-12-31</td>\n",
       "      <td>...</td>\n",
       "      <td>156</td>\n",
       "      <td>156</td>\n",
       "      <td>156</td>\n",
       "      <td>7</td>\n",
       "      <td>0</td>\n",
       "      <td>0</td>\n",
       "      <td>0</td>\n",
       "      <td>0</td>\n",
       "      <td>0</td>\n",
       "      <td>16</td>\n",
       "    </tr>\n",
       "    <tr>\n",
       "      <th>3</th>\n",
       "      <td>13</td>\n",
       "      <td>837601</td>\n",
       "      <td>2019-04-10</td>\n",
       "      <td>2019-04-13</td>\n",
       "      <td>R918</td>\n",
       "      <td>R91</td>\n",
       "      <td>2030-12-31</td>\n",
       "      <td>2030-12-31</td>\n",
       "      <td>2030-12-31</td>\n",
       "      <td>2030-12-31</td>\n",
       "      <td>...</td>\n",
       "      <td>156</td>\n",
       "      <td>156</td>\n",
       "      <td>156</td>\n",
       "      <td>7</td>\n",
       "      <td>0</td>\n",
       "      <td>0</td>\n",
       "      <td>0</td>\n",
       "      <td>0</td>\n",
       "      <td>0</td>\n",
       "      <td>16</td>\n",
       "    </tr>\n",
       "    <tr>\n",
       "      <th>4</th>\n",
       "      <td>13</td>\n",
       "      <td>837601</td>\n",
       "      <td>2019-04-10</td>\n",
       "      <td>2019-04-13</td>\n",
       "      <td>J9621</td>\n",
       "      <td>J96</td>\n",
       "      <td>2030-12-31</td>\n",
       "      <td>2030-12-31</td>\n",
       "      <td>2030-12-31</td>\n",
       "      <td>2030-12-31</td>\n",
       "      <td>...</td>\n",
       "      <td>156</td>\n",
       "      <td>156</td>\n",
       "      <td>156</td>\n",
       "      <td>7</td>\n",
       "      <td>0</td>\n",
       "      <td>0</td>\n",
       "      <td>0</td>\n",
       "      <td>0</td>\n",
       "      <td>0</td>\n",
       "      <td>16</td>\n",
       "    </tr>\n",
       "  </tbody>\n",
       "</table>\n",
       "<p>5 rows × 23 columns</p>\n",
       "</div>"
      ],
      "text/plain": [
       "   current_month patient_id     adm_dt discharge_dt diagnosis_code diag3  \\\n",
       "0             13     837601 2019-04-10   2019-04-13          J9601   J96   \n",
       "1             13     837601 2019-04-10   2019-04-13          J9621   J96   \n",
       "2             13     837601 2019-04-10   2019-04-13          J9621   J96   \n",
       "3             13     837601 2019-04-10   2019-04-13           R918   R91   \n",
       "4             13     837601 2019-04-10   2019-04-13          J9621   J96   \n",
       "\n",
       "  target_I50 target_J44 target_M16 target_M17  ... month_J44  month_M16  \\\n",
       "0 2030-12-31 2030-12-31 2030-12-31 2030-12-31  ...       156        156   \n",
       "1 2030-12-31 2030-12-31 2030-12-31 2030-12-31  ...       156        156   \n",
       "2 2030-12-31 2030-12-31 2030-12-31 2030-12-31  ...       156        156   \n",
       "3 2030-12-31 2030-12-31 2030-12-31 2030-12-31  ...       156        156   \n",
       "4 2030-12-31 2030-12-31 2030-12-31 2030-12-31  ...       156        156   \n",
       "\n",
       "   month_M17  month_N18  final_target_I50  final_target_J44  final_target_M16  \\\n",
       "0        156          7                 0                 0                 0   \n",
       "1        156          7                 0                 0                 0   \n",
       "2        156          7                 0                 0                 0   \n",
       "3        156          7                 0                 0                 0   \n",
       "4        156          7                 0                 0                 0   \n",
       "\n",
       "   final_target_M17  final_target_N18  adm_month  \n",
       "0                 0                 0         16  \n",
       "1                 0                 0         16  \n",
       "2                 0                 0         16  \n",
       "3                 0                 0         16  \n",
       "4                 0                 0         16  \n",
       "\n",
       "[5 rows x 23 columns]"
      ]
     },
     "execution_count": 45,
     "metadata": {},
     "output_type": "execute_result"
    }
   ],
   "source": [
    "df4.head()"
   ]
  },
  {
   "cell_type": "code",
   "execution_count": 46,
   "id": "e20fe1c0-9296-4937-af40-e934b78e13fd",
   "metadata": {
    "tags": []
   },
   "outputs": [],
   "source": [
    "df4_ind_vars = df4[df4['current_month']>df4['adm_month']][['current_month','patient_id','diag3']].reset_index(drop='index')"
   ]
  },
  {
   "cell_type": "code",
   "execution_count": 47,
   "id": "0112b760-6cf6-450a-9698-658b60207269",
   "metadata": {
    "tags": []
   },
   "outputs": [
    {
     "data": {
      "text/html": [
       "<div>\n",
       "<style scoped>\n",
       "    .dataframe tbody tr th:only-of-type {\n",
       "        vertical-align: middle;\n",
       "    }\n",
       "\n",
       "    .dataframe tbody tr th {\n",
       "        vertical-align: top;\n",
       "    }\n",
       "\n",
       "    .dataframe thead th {\n",
       "        text-align: right;\n",
       "    }\n",
       "</style>\n",
       "<table border=\"1\" class=\"dataframe\">\n",
       "  <thead>\n",
       "    <tr style=\"text-align: right;\">\n",
       "      <th></th>\n",
       "      <th>current_month</th>\n",
       "      <th>patient_id</th>\n",
       "      <th>diag3</th>\n",
       "    </tr>\n",
       "  </thead>\n",
       "  <tbody>\n",
       "    <tr>\n",
       "      <th>0</th>\n",
       "      <td>13</td>\n",
       "      <td>837601</td>\n",
       "      <td>K43</td>\n",
       "    </tr>\n",
       "    <tr>\n",
       "      <th>1</th>\n",
       "      <td>13</td>\n",
       "      <td>837601</td>\n",
       "      <td>I44</td>\n",
       "    </tr>\n",
       "    <tr>\n",
       "      <th>2</th>\n",
       "      <td>13</td>\n",
       "      <td>837601</td>\n",
       "      <td>K56</td>\n",
       "    </tr>\n",
       "    <tr>\n",
       "      <th>3</th>\n",
       "      <td>13</td>\n",
       "      <td>837601</td>\n",
       "      <td>K43</td>\n",
       "    </tr>\n",
       "    <tr>\n",
       "      <th>4</th>\n",
       "      <td>13</td>\n",
       "      <td>837601</td>\n",
       "      <td>K56</td>\n",
       "    </tr>\n",
       "  </tbody>\n",
       "</table>\n",
       "</div>"
      ],
      "text/plain": [
       "   current_month patient_id diag3\n",
       "0             13     837601   K43\n",
       "1             13     837601   I44\n",
       "2             13     837601   K56\n",
       "3             13     837601   K43\n",
       "4             13     837601   K56"
      ]
     },
     "execution_count": 47,
     "metadata": {},
     "output_type": "execute_result"
    }
   ],
   "source": [
    "df4_ind_vars.head()"
   ]
  },
  {
   "cell_type": "code",
   "execution_count": 48,
   "id": "d94ddc41-f8d7-494c-afb4-a3d962df2e6a",
   "metadata": {
    "tags": []
   },
   "outputs": [],
   "source": [
    "df4_targets = df4_targets.drop_duplicates()"
   ]
  },
  {
   "cell_type": "code",
   "execution_count": 49,
   "id": "29a02db2-b752-40b7-a668-15c5fb26f786",
   "metadata": {
    "tags": []
   },
   "outputs": [
    {
     "data": {
      "text/plain": [
       "(1200000, 7)"
      ]
     },
     "execution_count": 49,
     "metadata": {},
     "output_type": "execute_result"
    }
   ],
   "source": [
    "df4_targets.shape"
   ]
  },
  {
   "cell_type": "code",
   "execution_count": 50,
   "id": "9fc16f00-1df7-46fa-a03e-5b49fa34d00c",
   "metadata": {
    "tags": []
   },
   "outputs": [
    {
     "data": {
      "text/plain": [
       "837601        12\n",
       "3945780302    12\n",
       "4158050103    12\n",
       "4154551103    12\n",
       "4121391502    12\n",
       "              ..\n",
       "3987425204    12\n",
       "3985046901    12\n",
       "3983760501    12\n",
       "3954901102    12\n",
       "3090280602    12\n",
       "Name: patient_id, Length: 100000, dtype: int64"
      ]
     },
     "execution_count": 50,
     "metadata": {},
     "output_type": "execute_result"
    }
   ],
   "source": [
    "df4_targets['patient_id'].value_counts()"
   ]
  },
  {
   "cell_type": "code",
   "execution_count": 51,
   "id": "172e1a85-4b6a-4c3d-ae52-a0bbf275fbf5",
   "metadata": {
    "tags": []
   },
   "outputs": [
    {
     "data": {
      "text/html": [
       "<div>\n",
       "<style scoped>\n",
       "    .dataframe tbody tr th:only-of-type {\n",
       "        vertical-align: middle;\n",
       "    }\n",
       "\n",
       "    .dataframe tbody tr th {\n",
       "        vertical-align: top;\n",
       "    }\n",
       "\n",
       "    .dataframe thead th {\n",
       "        text-align: right;\n",
       "    }\n",
       "</style>\n",
       "<table border=\"1\" class=\"dataframe\">\n",
       "  <thead>\n",
       "    <tr style=\"text-align: right;\">\n",
       "      <th></th>\n",
       "      <th>current_month</th>\n",
       "      <th>patient_id</th>\n",
       "      <th>final_target_N18</th>\n",
       "      <th>final_target_I50</th>\n",
       "      <th>final_target_J44</th>\n",
       "      <th>final_target_M16</th>\n",
       "      <th>final_target_M17</th>\n",
       "    </tr>\n",
       "  </thead>\n",
       "  <tbody>\n",
       "    <tr>\n",
       "      <th>0</th>\n",
       "      <td>13</td>\n",
       "      <td>837601</td>\n",
       "      <td>0</td>\n",
       "      <td>0</td>\n",
       "      <td>0</td>\n",
       "      <td>0</td>\n",
       "      <td>0</td>\n",
       "    </tr>\n",
       "    <tr>\n",
       "      <th>82</th>\n",
       "      <td>14</td>\n",
       "      <td>837601</td>\n",
       "      <td>0</td>\n",
       "      <td>0</td>\n",
       "      <td>0</td>\n",
       "      <td>0</td>\n",
       "      <td>0</td>\n",
       "    </tr>\n",
       "    <tr>\n",
       "      <th>164</th>\n",
       "      <td>15</td>\n",
       "      <td>837601</td>\n",
       "      <td>0</td>\n",
       "      <td>0</td>\n",
       "      <td>0</td>\n",
       "      <td>0</td>\n",
       "      <td>0</td>\n",
       "    </tr>\n",
       "    <tr>\n",
       "      <th>246</th>\n",
       "      <td>16</td>\n",
       "      <td>837601</td>\n",
       "      <td>0</td>\n",
       "      <td>0</td>\n",
       "      <td>0</td>\n",
       "      <td>0</td>\n",
       "      <td>0</td>\n",
       "    </tr>\n",
       "    <tr>\n",
       "      <th>328</th>\n",
       "      <td>17</td>\n",
       "      <td>837601</td>\n",
       "      <td>0</td>\n",
       "      <td>0</td>\n",
       "      <td>0</td>\n",
       "      <td>0</td>\n",
       "      <td>0</td>\n",
       "    </tr>\n",
       "  </tbody>\n",
       "</table>\n",
       "</div>"
      ],
      "text/plain": [
       "     current_month patient_id  final_target_N18  final_target_I50  \\\n",
       "0               13     837601                 0                 0   \n",
       "82              14     837601                 0                 0   \n",
       "164             15     837601                 0                 0   \n",
       "246             16     837601                 0                 0   \n",
       "328             17     837601                 0                 0   \n",
       "\n",
       "     final_target_J44  final_target_M16  final_target_M17  \n",
       "0                   0                 0                 0  \n",
       "82                  0                 0                 0  \n",
       "164                 0                 0                 0  \n",
       "246                 0                 0                 0  \n",
       "328                 0                 0                 0  "
      ]
     },
     "execution_count": 51,
     "metadata": {},
     "output_type": "execute_result"
    }
   ],
   "source": [
    "df4_targets.head()"
   ]
  },
  {
   "cell_type": "code",
   "execution_count": 52,
   "id": "4fd0bef3-03d4-4517-adb3-eb4b80c97d8f",
   "metadata": {
    "tags": []
   },
   "outputs": [
    {
     "data": {
      "text/html": [
       "<div>\n",
       "<style scoped>\n",
       "    .dataframe tbody tr th:only-of-type {\n",
       "        vertical-align: middle;\n",
       "    }\n",
       "\n",
       "    .dataframe tbody tr th {\n",
       "        vertical-align: top;\n",
       "    }\n",
       "\n",
       "    .dataframe thead th {\n",
       "        text-align: right;\n",
       "    }\n",
       "</style>\n",
       "<table border=\"1\" class=\"dataframe\">\n",
       "  <thead>\n",
       "    <tr style=\"text-align: right;\">\n",
       "      <th></th>\n",
       "      <th>current_month</th>\n",
       "      <th>patient_id</th>\n",
       "      <th>diag3</th>\n",
       "    </tr>\n",
       "  </thead>\n",
       "  <tbody>\n",
       "    <tr>\n",
       "      <th>0</th>\n",
       "      <td>13</td>\n",
       "      <td>837601</td>\n",
       "      <td>K43</td>\n",
       "    </tr>\n",
       "    <tr>\n",
       "      <th>1</th>\n",
       "      <td>13</td>\n",
       "      <td>837601</td>\n",
       "      <td>I44</td>\n",
       "    </tr>\n",
       "    <tr>\n",
       "      <th>2</th>\n",
       "      <td>13</td>\n",
       "      <td>837601</td>\n",
       "      <td>K56</td>\n",
       "    </tr>\n",
       "    <tr>\n",
       "      <th>3</th>\n",
       "      <td>13</td>\n",
       "      <td>837601</td>\n",
       "      <td>K43</td>\n",
       "    </tr>\n",
       "    <tr>\n",
       "      <th>4</th>\n",
       "      <td>13</td>\n",
       "      <td>837601</td>\n",
       "      <td>K56</td>\n",
       "    </tr>\n",
       "  </tbody>\n",
       "</table>\n",
       "</div>"
      ],
      "text/plain": [
       "   current_month patient_id diag3\n",
       "0             13     837601   K43\n",
       "1             13     837601   I44\n",
       "2             13     837601   K56\n",
       "3             13     837601   K43\n",
       "4             13     837601   K56"
      ]
     },
     "execution_count": 52,
     "metadata": {},
     "output_type": "execute_result"
    }
   ],
   "source": [
    "df4_ind_vars.head()"
   ]
  },
  {
   "cell_type": "code",
   "execution_count": 53,
   "id": "6f0b8ec1-1f72-4870-964c-5813c8b50222",
   "metadata": {
    "tags": []
   },
   "outputs": [],
   "source": [
    "df4_ind_vars['dummy'] = 1"
   ]
  },
  {
   "cell_type": "code",
   "execution_count": 54,
   "id": "caeb044c-b126-4fbb-ac27-04a76c383e23",
   "metadata": {
    "tags": []
   },
   "outputs": [
    {
     "data": {
      "text/plain": [
       "((217, 2), (1657, 2))"
      ]
     },
     "execution_count": 54,
     "metadata": {},
     "output_type": "execute_result"
    }
   ],
   "source": [
    "t = df4_ind_vars['diag3'].value_counts(1).cumsum().reset_index()\n",
    "t.columns = ['dx','cum_percent']\n",
    "t[t['cum_percent']<0.8].shape, t.shape"
   ]
  },
  {
   "cell_type": "code",
   "execution_count": 55,
   "id": "2ae22c8c-4fc2-4695-9f44-f8d3845a44a2",
   "metadata": {
    "tags": []
   },
   "outputs": [],
   "source": [
    "dx_consider = t[t['cum_percent']<0.8]['dx'].tolist() + labels"
   ]
  },
  {
   "cell_type": "code",
   "execution_count": 56,
   "id": "cc3d5f9e-255a-46d3-83dc-14e4b69b809c",
   "metadata": {
    "tags": []
   },
   "outputs": [],
   "source": [
    "df4_ind_vars['diag3'] = np.where(df4_ind_vars['diag3'].isin(dx_consider), df4_ind_vars['diag3'], 'other')"
   ]
  },
  {
   "cell_type": "code",
   "execution_count": 57,
   "id": "69b78fcc-3b31-4ad7-8f56-f474d98b4bf9",
   "metadata": {
    "tags": []
   },
   "outputs": [],
   "source": [
    "df4_ind_vars2 = df4_ind_vars.copy()"
   ]
  },
  {
   "cell_type": "code",
   "execution_count": 58,
   "id": "40afcbf4-4640-4c79-a01d-b9f587c839a6",
   "metadata": {
    "tags": []
   },
   "outputs": [],
   "source": [
    "# for col in dx_consider:\n",
    "#     print(col)\n",
    "#     df4_ind_vars[col] = np.where(df4_ind_vars['diag3']==col,1,0)\n",
    "\n",
    "# df4_ind_vars.shape\n",
    "\n",
    "# df4_ind_vars.head()\n",
    "\n",
    "# df4_ind_vars.drop(columns = ['diag3','dummy'], axis = 1, inplace= True)\n",
    "\n",
    "# df4_ind_vars.shape\n",
    "\n",
    "# df4_ind_vars.groupby(['current_month','patient_id']).sum()"
   ]
  },
  {
   "cell_type": "code",
   "execution_count": 59,
   "id": "44fe298c-0fb1-4283-8ada-7bc20c11631e",
   "metadata": {
    "tags": []
   },
   "outputs": [
    {
     "data": {
      "text/html": [
       "<div>\n",
       "<style scoped>\n",
       "    .dataframe tbody tr th:only-of-type {\n",
       "        vertical-align: middle;\n",
       "    }\n",
       "\n",
       "    .dataframe tbody tr th {\n",
       "        vertical-align: top;\n",
       "    }\n",
       "\n",
       "    .dataframe thead th {\n",
       "        text-align: right;\n",
       "    }\n",
       "</style>\n",
       "<table border=\"1\" class=\"dataframe\">\n",
       "  <thead>\n",
       "    <tr style=\"text-align: right;\">\n",
       "      <th></th>\n",
       "      <th>current_month</th>\n",
       "      <th>patient_id</th>\n",
       "      <th>diag3</th>\n",
       "      <th>dummy</th>\n",
       "    </tr>\n",
       "  </thead>\n",
       "  <tbody>\n",
       "    <tr>\n",
       "      <th>0</th>\n",
       "      <td>13</td>\n",
       "      <td>837601</td>\n",
       "      <td>other</td>\n",
       "      <td>1</td>\n",
       "    </tr>\n",
       "    <tr>\n",
       "      <th>1</th>\n",
       "      <td>13</td>\n",
       "      <td>837601</td>\n",
       "      <td>I44</td>\n",
       "      <td>1</td>\n",
       "    </tr>\n",
       "    <tr>\n",
       "      <th>2</th>\n",
       "      <td>13</td>\n",
       "      <td>837601</td>\n",
       "      <td>K56</td>\n",
       "      <td>1</td>\n",
       "    </tr>\n",
       "    <tr>\n",
       "      <th>3</th>\n",
       "      <td>13</td>\n",
       "      <td>837601</td>\n",
       "      <td>other</td>\n",
       "      <td>1</td>\n",
       "    </tr>\n",
       "    <tr>\n",
       "      <th>4</th>\n",
       "      <td>13</td>\n",
       "      <td>837601</td>\n",
       "      <td>K56</td>\n",
       "      <td>1</td>\n",
       "    </tr>\n",
       "  </tbody>\n",
       "</table>\n",
       "</div>"
      ],
      "text/plain": [
       "   current_month patient_id  diag3  dummy\n",
       "0             13     837601  other      1\n",
       "1             13     837601    I44      1\n",
       "2             13     837601    K56      1\n",
       "3             13     837601  other      1\n",
       "4             13     837601    K56      1"
      ]
     },
     "execution_count": 59,
     "metadata": {},
     "output_type": "execute_result"
    }
   ],
   "source": [
    "df4_ind_vars.head()"
   ]
  },
  {
   "cell_type": "code",
   "execution_count": 60,
   "id": "9d01c703-e437-4582-a2d5-43d471589f93",
   "metadata": {
    "tags": []
   },
   "outputs": [],
   "source": [
    "pivot_df = df4_ind_vars.pivot_table(index=['patient_id', 'current_month'],\n",
    "                              columns = 'diag3',\n",
    "                              values = 'dummy',\n",
    "                              aggfunc = 'max')"
   ]
  },
  {
   "cell_type": "code",
   "execution_count": 61,
   "id": "0102beb6-d6cf-4e57-acf3-9ead8fd2d888",
   "metadata": {
    "tags": []
   },
   "outputs": [],
   "source": [
    "pivot_df = pivot_df.reset_index().fillna(0)"
   ]
  },
  {
   "cell_type": "code",
   "execution_count": 62,
   "id": "517c8aa0-570e-4670-82be-ee43d393f843",
   "metadata": {
    "tags": []
   },
   "outputs": [],
   "source": [
    "X = pd.merge(pivot_df, df4_targets, on=['patient_id', 'current_month'], how='inner')"
   ]
  },
  {
   "cell_type": "code",
   "execution_count": 63,
   "id": "8887d3c7-ef9d-42ce-8d67-c1019a706705",
   "metadata": {
    "tags": []
   },
   "outputs": [
    {
     "data": {
      "text/html": [
       "<div>\n",
       "<style scoped>\n",
       "    .dataframe tbody tr th:only-of-type {\n",
       "        vertical-align: middle;\n",
       "    }\n",
       "\n",
       "    .dataframe tbody tr th {\n",
       "        vertical-align: top;\n",
       "    }\n",
       "\n",
       "    .dataframe thead th {\n",
       "        text-align: right;\n",
       "    }\n",
       "</style>\n",
       "<table border=\"1\" class=\"dataframe\">\n",
       "  <thead>\n",
       "    <tr style=\"text-align: right;\">\n",
       "      <th></th>\n",
       "      <th>patient_id</th>\n",
       "      <th>current_month</th>\n",
       "      <th>A04</th>\n",
       "      <th>A41</th>\n",
       "      <th>B95</th>\n",
       "      <th>B96</th>\n",
       "      <th>C18</th>\n",
       "      <th>C34</th>\n",
       "      <th>C50</th>\n",
       "      <th>C78</th>\n",
       "      <th>...</th>\n",
       "      <th>Z95</th>\n",
       "      <th>Z96</th>\n",
       "      <th>Z98</th>\n",
       "      <th>Z99</th>\n",
       "      <th>other</th>\n",
       "      <th>final_target_N18</th>\n",
       "      <th>final_target_I50</th>\n",
       "      <th>final_target_J44</th>\n",
       "      <th>final_target_M16</th>\n",
       "      <th>final_target_M17</th>\n",
       "    </tr>\n",
       "  </thead>\n",
       "  <tbody>\n",
       "    <tr>\n",
       "      <th>0</th>\n",
       "      <td>1005559304</td>\n",
       "      <td>14</td>\n",
       "      <td>0.0</td>\n",
       "      <td>0.0</td>\n",
       "      <td>0.0</td>\n",
       "      <td>0.0</td>\n",
       "      <td>0.0</td>\n",
       "      <td>0.0</td>\n",
       "      <td>0.0</td>\n",
       "      <td>0.0</td>\n",
       "      <td>...</td>\n",
       "      <td>0.0</td>\n",
       "      <td>0.0</td>\n",
       "      <td>0.0</td>\n",
       "      <td>0.0</td>\n",
       "      <td>0.0</td>\n",
       "      <td>0</td>\n",
       "      <td>0</td>\n",
       "      <td>0</td>\n",
       "      <td>0</td>\n",
       "      <td>0</td>\n",
       "    </tr>\n",
       "    <tr>\n",
       "      <th>1</th>\n",
       "      <td>1005559304</td>\n",
       "      <td>15</td>\n",
       "      <td>0.0</td>\n",
       "      <td>0.0</td>\n",
       "      <td>0.0</td>\n",
       "      <td>0.0</td>\n",
       "      <td>0.0</td>\n",
       "      <td>0.0</td>\n",
       "      <td>0.0</td>\n",
       "      <td>0.0</td>\n",
       "      <td>...</td>\n",
       "      <td>0.0</td>\n",
       "      <td>0.0</td>\n",
       "      <td>0.0</td>\n",
       "      <td>0.0</td>\n",
       "      <td>0.0</td>\n",
       "      <td>0</td>\n",
       "      <td>0</td>\n",
       "      <td>0</td>\n",
       "      <td>0</td>\n",
       "      <td>0</td>\n",
       "    </tr>\n",
       "    <tr>\n",
       "      <th>2</th>\n",
       "      <td>1005559304</td>\n",
       "      <td>16</td>\n",
       "      <td>0.0</td>\n",
       "      <td>0.0</td>\n",
       "      <td>0.0</td>\n",
       "      <td>0.0</td>\n",
       "      <td>0.0</td>\n",
       "      <td>0.0</td>\n",
       "      <td>0.0</td>\n",
       "      <td>0.0</td>\n",
       "      <td>...</td>\n",
       "      <td>0.0</td>\n",
       "      <td>0.0</td>\n",
       "      <td>0.0</td>\n",
       "      <td>0.0</td>\n",
       "      <td>0.0</td>\n",
       "      <td>0</td>\n",
       "      <td>0</td>\n",
       "      <td>0</td>\n",
       "      <td>0</td>\n",
       "      <td>0</td>\n",
       "    </tr>\n",
       "    <tr>\n",
       "      <th>3</th>\n",
       "      <td>1005559304</td>\n",
       "      <td>17</td>\n",
       "      <td>0.0</td>\n",
       "      <td>0.0</td>\n",
       "      <td>0.0</td>\n",
       "      <td>0.0</td>\n",
       "      <td>0.0</td>\n",
       "      <td>0.0</td>\n",
       "      <td>0.0</td>\n",
       "      <td>0.0</td>\n",
       "      <td>...</td>\n",
       "      <td>0.0</td>\n",
       "      <td>0.0</td>\n",
       "      <td>0.0</td>\n",
       "      <td>0.0</td>\n",
       "      <td>0.0</td>\n",
       "      <td>0</td>\n",
       "      <td>0</td>\n",
       "      <td>0</td>\n",
       "      <td>0</td>\n",
       "      <td>0</td>\n",
       "    </tr>\n",
       "    <tr>\n",
       "      <th>4</th>\n",
       "      <td>1005559304</td>\n",
       "      <td>18</td>\n",
       "      <td>0.0</td>\n",
       "      <td>0.0</td>\n",
       "      <td>0.0</td>\n",
       "      <td>0.0</td>\n",
       "      <td>0.0</td>\n",
       "      <td>0.0</td>\n",
       "      <td>0.0</td>\n",
       "      <td>0.0</td>\n",
       "      <td>...</td>\n",
       "      <td>0.0</td>\n",
       "      <td>0.0</td>\n",
       "      <td>0.0</td>\n",
       "      <td>0.0</td>\n",
       "      <td>0.0</td>\n",
       "      <td>0</td>\n",
       "      <td>0</td>\n",
       "      <td>0</td>\n",
       "      <td>0</td>\n",
       "      <td>0</td>\n",
       "    </tr>\n",
       "  </tbody>\n",
       "</table>\n",
       "<p>5 rows × 225 columns</p>\n",
       "</div>"
      ],
      "text/plain": [
       "   patient_id  current_month  A04  A41  B95  B96  C18  C34  C50  C78  ...  \\\n",
       "0  1005559304             14  0.0  0.0  0.0  0.0  0.0  0.0  0.0  0.0  ...   \n",
       "1  1005559304             15  0.0  0.0  0.0  0.0  0.0  0.0  0.0  0.0  ...   \n",
       "2  1005559304             16  0.0  0.0  0.0  0.0  0.0  0.0  0.0  0.0  ...   \n",
       "3  1005559304             17  0.0  0.0  0.0  0.0  0.0  0.0  0.0  0.0  ...   \n",
       "4  1005559304             18  0.0  0.0  0.0  0.0  0.0  0.0  0.0  0.0  ...   \n",
       "\n",
       "   Z95  Z96  Z98  Z99  other  final_target_N18  final_target_I50  \\\n",
       "0  0.0  0.0  0.0  0.0    0.0                 0                 0   \n",
       "1  0.0  0.0  0.0  0.0    0.0                 0                 0   \n",
       "2  0.0  0.0  0.0  0.0    0.0                 0                 0   \n",
       "3  0.0  0.0  0.0  0.0    0.0                 0                 0   \n",
       "4  0.0  0.0  0.0  0.0    0.0                 0                 0   \n",
       "\n",
       "   final_target_J44  final_target_M16  final_target_M17  \n",
       "0                 0                 0                 0  \n",
       "1                 0                 0                 0  \n",
       "2                 0                 0                 0  \n",
       "3                 0                 0                 0  \n",
       "4                 0                 0                 0  \n",
       "\n",
       "[5 rows x 225 columns]"
      ]
     },
     "execution_count": 63,
     "metadata": {},
     "output_type": "execute_result"
    }
   ],
   "source": [
    "X.head()"
   ]
  },
  {
   "cell_type": "code",
   "execution_count": 64,
   "id": "cbbc6baf-6fc6-488d-bab3-cdc4ae680649",
   "metadata": {
    "tags": []
   },
   "outputs": [],
   "source": [
    "X = X.drop(columns=['patient_id', 'current_month'])"
   ]
  },
  {
   "cell_type": "code",
   "execution_count": 65,
   "id": "ad2e517f-a725-45f4-94e1-8ad66c6f8c87",
   "metadata": {
    "tags": []
   },
   "outputs": [],
   "source": [
    "df_train, df_test = train_test_split(X,\n",
    "                                     # stratify=X['final_target_I50'],\n",
    "                                     test_size=0.2,\n",
    "                                     random_state=7)"
   ]
  },
  {
   "cell_type": "code",
   "execution_count": 66,
   "id": "c63dfd44-47ba-43c0-b739-73fadb9df80f",
   "metadata": {
    "tags": []
   },
   "outputs": [],
   "source": [
    "import xgboost as xgb\n",
    "\n",
    "xgb_estimator = xgb.XGBClassifier(objective='binary:logistic',\n",
    "                          use_label_encoder=False,\n",
    "                          max_depth=1)"
   ]
  },
  {
   "cell_type": "code",
   "execution_count": 67,
   "id": "901c6e6f-e28b-4207-bcf8-2950d9a2b3ea",
   "metadata": {
    "tags": []
   },
   "outputs": [],
   "source": [
    "from sklearn.multioutput import MultiOutputClassifier"
   ]
  },
  {
   "cell_type": "code",
   "execution_count": 68,
   "id": "485e93cc-083f-48ce-866f-9808a079c290",
   "metadata": {
    "tags": []
   },
   "outputs": [],
   "source": [
    "X_train, y_train = df_train.drop(columns=[f'final_target_{label}' for label in labels]), df_train[[f'final_target_{label}' for label in labels]]"
   ]
  },
  {
   "cell_type": "code",
   "execution_count": 69,
   "id": "80a0ed95-81d8-451a-b89f-4ea29704f7c3",
   "metadata": {
    "tags": []
   },
   "outputs": [],
   "source": [
    "X_test, y_test = df_test.drop(columns=[f'final_target_{label}' for label in labels]), df_train[[f'final_target_{label}' for label in labels]]"
   ]
  },
  {
   "cell_type": "code",
   "execution_count": 70,
   "id": "a9d7b036-a302-4783-81b3-ea5987528d86",
   "metadata": {
    "tags": []
   },
   "outputs": [
    {
     "data": {
      "text/plain": [
       "MultiOutputClassifier(estimator=XGBClassifier(base_score=None, booster=None,\n",
       "                                              callbacks=None,\n",
       "                                              colsample_bylevel=None,\n",
       "                                              colsample_bynode=None,\n",
       "                                              colsample_bytree=None,\n",
       "                                              early_stopping_rounds=None,\n",
       "                                              enable_categorical=False,\n",
       "                                              eval_metric=None, gamma=None,\n",
       "                                              gpu_id=None, grow_policy=None,\n",
       "                                              importance_type=None,\n",
       "                                              interaction_constraints=None,\n",
       "                                              learning_rate=None, max_bin=None,\n",
       "                                              max_cat_to_onehot=None,\n",
       "                                              max_delta_step=None, max_depth=1,\n",
       "                                              max_leaves=None,\n",
       "                                              min_child_weight=None,\n",
       "                                              missing=nan,\n",
       "                                              monotone_constraints=None,\n",
       "                                              n_estimators=100, n_jobs=None,\n",
       "                                              num_parallel_tree=None,\n",
       "                                              objective='binary:logistic',\n",
       "                                              predictor=None, random_state=None,\n",
       "                                              reg_alpha=None, ...),\n",
       "                      n_jobs=None)"
      ]
     },
     "execution_count": 70,
     "metadata": {},
     "output_type": "execute_result"
    }
   ],
   "source": [
    "model = MultiOutputClassifier(xgb_estimator)\n",
    "model.fit(X_train, y_train)"
   ]
  },
  {
   "cell_type": "code",
   "execution_count": 71,
   "id": "a21ca435-593c-40c7-b719-91ccfcc92fc8",
   "metadata": {
    "tags": []
   },
   "outputs": [
    {
     "name": "stdout",
     "output_type": "stream",
     "text": [
      "N18: 0.9156434946041732\n",
      "I50: 0.9033970088623829\n",
      "J44: 0.8836446061301105\n",
      "M16: 0.8948416280592258\n",
      "M17: 0.8895435389936615\n"
     ]
    }
   ],
   "source": [
    "y_pred = model.predict_proba(X_train)\n",
    "for ix, label in enumerate(labels):\n",
    "    label_ = f'final_target_{label}'\n",
    "    print (f\"{label}: {roc_auc_score(y_train[label_], y_pred[ix][:, 1])}\")"
   ]
  },
  {
   "cell_type": "code",
   "execution_count": 72,
   "id": "f256061d-ed3a-4975-9e96-ab7f7b4911d0",
   "metadata": {
    "tags": []
   },
   "outputs": [],
   "source": [
    "from IPython.display import display"
   ]
  },
  {
   "cell_type": "code",
   "execution_count": 73,
   "id": "c4d6b544-f69d-42e7-b067-cbac502d7c32",
   "metadata": {
    "tags": []
   },
   "outputs": [
    {
     "name": "stdout",
     "output_type": "stream",
     "text": [
      "N18\n"
     ]
    },
    {
     "data": {
      "text/html": [
       "<div>\n",
       "<style scoped>\n",
       "    .dataframe tbody tr th:only-of-type {\n",
       "        vertical-align: middle;\n",
       "    }\n",
       "\n",
       "    .dataframe tbody tr th {\n",
       "        vertical-align: top;\n",
       "    }\n",
       "\n",
       "    .dataframe thead th {\n",
       "        text-align: right;\n",
       "    }\n",
       "</style>\n",
       "<table border=\"1\" class=\"dataframe\">\n",
       "  <thead>\n",
       "    <tr style=\"text-align: right;\">\n",
       "      <th></th>\n",
       "      <th>col</th>\n",
       "      <th>imp</th>\n",
       "    </tr>\n",
       "  </thead>\n",
       "  <tbody>\n",
       "    <tr>\n",
       "      <th>61</th>\n",
       "      <td>I48</td>\n",
       "      <td>0.081131</td>\n",
       "    </tr>\n",
       "    <tr>\n",
       "      <th>63</th>\n",
       "      <td>I50</td>\n",
       "      <td>0.070599</td>\n",
       "    </tr>\n",
       "    <tr>\n",
       "      <th>116</th>\n",
       "      <td>N17</td>\n",
       "      <td>0.068864</td>\n",
       "    </tr>\n",
       "    <tr>\n",
       "      <th>22</th>\n",
       "      <td>E11</td>\n",
       "      <td>0.064729</td>\n",
       "    </tr>\n",
       "    <tr>\n",
       "      <th>46</th>\n",
       "      <td>I12</td>\n",
       "      <td>0.052745</td>\n",
       "    </tr>\n",
       "    <tr>\n",
       "      <th>64</th>\n",
       "      <td>I51</td>\n",
       "      <td>0.052466</td>\n",
       "    </tr>\n",
       "    <tr>\n",
       "      <th>28</th>\n",
       "      <td>E87</td>\n",
       "      <td>0.047805</td>\n",
       "    </tr>\n",
       "    <tr>\n",
       "      <th>197</th>\n",
       "      <td>Z37</td>\n",
       "      <td>0.047738</td>\n",
       "    </tr>\n",
       "    <tr>\n",
       "      <th>117</th>\n",
       "      <td>N18</td>\n",
       "      <td>0.040967</td>\n",
       "    </tr>\n",
       "    <tr>\n",
       "      <th>120</th>\n",
       "      <td>N39</td>\n",
       "      <td>0.039510</td>\n",
       "    </tr>\n",
       "  </tbody>\n",
       "</table>\n",
       "</div>"
      ],
      "text/plain": [
       "     col       imp\n",
       "61   I48  0.081131\n",
       "63   I50  0.070599\n",
       "116  N17  0.068864\n",
       "22   E11  0.064729\n",
       "46   I12  0.052745\n",
       "64   I51  0.052466\n",
       "28   E87  0.047805\n",
       "197  Z37  0.047738\n",
       "117  N18  0.040967\n",
       "120  N39  0.039510"
      ]
     },
     "metadata": {},
     "output_type": "display_data"
    },
    {
     "name": "stdout",
     "output_type": "stream",
     "text": [
      "----------------------------------------------------------------------------------------------------------------------------------\n",
      "I50\n"
     ]
    },
    {
     "data": {
      "text/html": [
       "<div>\n",
       "<style scoped>\n",
       "    .dataframe tbody tr th:only-of-type {\n",
       "        vertical-align: middle;\n",
       "    }\n",
       "\n",
       "    .dataframe tbody tr th {\n",
       "        vertical-align: top;\n",
       "    }\n",
       "\n",
       "    .dataframe thead th {\n",
       "        text-align: right;\n",
       "    }\n",
       "</style>\n",
       "<table border=\"1\" class=\"dataframe\">\n",
       "  <thead>\n",
       "    <tr style=\"text-align: right;\">\n",
       "      <th></th>\n",
       "      <th>col</th>\n",
       "      <th>imp</th>\n",
       "    </tr>\n",
       "  </thead>\n",
       "  <tbody>\n",
       "    <tr>\n",
       "      <th>116</th>\n",
       "      <td>N17</td>\n",
       "      <td>0.088022</td>\n",
       "    </tr>\n",
       "    <tr>\n",
       "      <th>44</th>\n",
       "      <td>I10</td>\n",
       "      <td>0.083752</td>\n",
       "    </tr>\n",
       "    <tr>\n",
       "      <th>22</th>\n",
       "      <td>E11</td>\n",
       "      <td>0.072175</td>\n",
       "    </tr>\n",
       "    <tr>\n",
       "      <th>64</th>\n",
       "      <td>I51</td>\n",
       "      <td>0.047766</td>\n",
       "    </tr>\n",
       "    <tr>\n",
       "      <th>153</th>\n",
       "      <td>R06</td>\n",
       "      <td>0.047598</td>\n",
       "    </tr>\n",
       "    <tr>\n",
       "      <th>120</th>\n",
       "      <td>N39</td>\n",
       "      <td>0.043170</td>\n",
       "    </tr>\n",
       "    <tr>\n",
       "      <th>50</th>\n",
       "      <td>I25</td>\n",
       "      <td>0.042891</td>\n",
       "    </tr>\n",
       "    <tr>\n",
       "      <th>113</th>\n",
       "      <td>M79</td>\n",
       "      <td>0.042110</td>\n",
       "    </tr>\n",
       "    <tr>\n",
       "      <th>197</th>\n",
       "      <td>Z37</td>\n",
       "      <td>0.036537</td>\n",
       "    </tr>\n",
       "    <tr>\n",
       "      <th>15</th>\n",
       "      <td>D64</td>\n",
       "      <td>0.031952</td>\n",
       "    </tr>\n",
       "  </tbody>\n",
       "</table>\n",
       "</div>"
      ],
      "text/plain": [
       "     col       imp\n",
       "116  N17  0.088022\n",
       "44   I10  0.083752\n",
       "22   E11  0.072175\n",
       "64   I51  0.047766\n",
       "153  R06  0.047598\n",
       "120  N39  0.043170\n",
       "50   I25  0.042891\n",
       "113  M79  0.042110\n",
       "197  Z37  0.036537\n",
       "15   D64  0.031952"
      ]
     },
     "metadata": {},
     "output_type": "display_data"
    },
    {
     "name": "stdout",
     "output_type": "stream",
     "text": [
      "----------------------------------------------------------------------------------------------------------------------------------\n",
      "J44\n"
     ]
    },
    {
     "data": {
      "text/html": [
       "<div>\n",
       "<style scoped>\n",
       "    .dataframe tbody tr th:only-of-type {\n",
       "        vertical-align: middle;\n",
       "    }\n",
       "\n",
       "    .dataframe tbody tr th {\n",
       "        vertical-align: top;\n",
       "    }\n",
       "\n",
       "    .dataframe thead th {\n",
       "        text-align: right;\n",
       "    }\n",
       "</style>\n",
       "<table border=\"1\" class=\"dataframe\">\n",
       "  <thead>\n",
       "    <tr style=\"text-align: right;\">\n",
       "      <th></th>\n",
       "      <th>col</th>\n",
       "      <th>imp</th>\n",
       "    </tr>\n",
       "  </thead>\n",
       "  <tbody>\n",
       "    <tr>\n",
       "      <th>71</th>\n",
       "      <td>J18</td>\n",
       "      <td>0.069912</td>\n",
       "    </tr>\n",
       "    <tr>\n",
       "      <th>44</th>\n",
       "      <td>I10</td>\n",
       "      <td>0.069025</td>\n",
       "    </tr>\n",
       "    <tr>\n",
       "      <th>154</th>\n",
       "      <td>R07</td>\n",
       "      <td>0.052354</td>\n",
       "    </tr>\n",
       "    <tr>\n",
       "      <th>153</th>\n",
       "      <td>R06</td>\n",
       "      <td>0.046050</td>\n",
       "    </tr>\n",
       "    <tr>\n",
       "      <th>19</th>\n",
       "      <td>D72</td>\n",
       "      <td>0.045825</td>\n",
       "    </tr>\n",
       "    <tr>\n",
       "      <th>197</th>\n",
       "      <td>Z37</td>\n",
       "      <td>0.044190</td>\n",
       "    </tr>\n",
       "    <tr>\n",
       "      <th>32</th>\n",
       "      <td>F17</td>\n",
       "      <td>0.035713</td>\n",
       "    </tr>\n",
       "    <tr>\n",
       "      <th>38</th>\n",
       "      <td>G40</td>\n",
       "      <td>0.035657</td>\n",
       "    </tr>\n",
       "    <tr>\n",
       "      <th>63</th>\n",
       "      <td>I50</td>\n",
       "      <td>0.035486</td>\n",
       "    </tr>\n",
       "    <tr>\n",
       "      <th>170</th>\n",
       "      <td>R53</td>\n",
       "      <td>0.035160</td>\n",
       "    </tr>\n",
       "  </tbody>\n",
       "</table>\n",
       "</div>"
      ],
      "text/plain": [
       "     col       imp\n",
       "71   J18  0.069912\n",
       "44   I10  0.069025\n",
       "154  R07  0.052354\n",
       "153  R06  0.046050\n",
       "19   D72  0.045825\n",
       "197  Z37  0.044190\n",
       "32   F17  0.035713\n",
       "38   G40  0.035657\n",
       "63   I50  0.035486\n",
       "170  R53  0.035160"
      ]
     },
     "metadata": {},
     "output_type": "display_data"
    },
    {
     "name": "stdout",
     "output_type": "stream",
     "text": [
      "----------------------------------------------------------------------------------------------------------------------------------\n",
      "M16\n"
     ]
    },
    {
     "data": {
      "text/html": [
       "<div>\n",
       "<style scoped>\n",
       "    .dataframe tbody tr th:only-of-type {\n",
       "        vertical-align: middle;\n",
       "    }\n",
       "\n",
       "    .dataframe tbody tr th {\n",
       "        vertical-align: top;\n",
       "    }\n",
       "\n",
       "    .dataframe thead th {\n",
       "        text-align: right;\n",
       "    }\n",
       "</style>\n",
       "<table border=\"1\" class=\"dataframe\">\n",
       "  <thead>\n",
       "    <tr style=\"text-align: right;\">\n",
       "      <th></th>\n",
       "      <th>col</th>\n",
       "      <th>imp</th>\n",
       "    </tr>\n",
       "  </thead>\n",
       "  <tbody>\n",
       "    <tr>\n",
       "      <th>111</th>\n",
       "      <td>M54</td>\n",
       "      <td>0.080233</td>\n",
       "    </tr>\n",
       "    <tr>\n",
       "      <th>42</th>\n",
       "      <td>G89</td>\n",
       "      <td>0.071768</td>\n",
       "    </tr>\n",
       "    <tr>\n",
       "      <th>104</th>\n",
       "      <td>M17</td>\n",
       "      <td>0.070106</td>\n",
       "    </tr>\n",
       "    <tr>\n",
       "      <th>25</th>\n",
       "      <td>E78</td>\n",
       "      <td>0.069540</td>\n",
       "    </tr>\n",
       "    <tr>\n",
       "      <th>109</th>\n",
       "      <td>M48</td>\n",
       "      <td>0.058259</td>\n",
       "    </tr>\n",
       "    <tr>\n",
       "      <th>197</th>\n",
       "      <td>Z37</td>\n",
       "      <td>0.043025</td>\n",
       "    </tr>\n",
       "    <tr>\n",
       "      <th>44</th>\n",
       "      <td>I10</td>\n",
       "      <td>0.038551</td>\n",
       "    </tr>\n",
       "    <tr>\n",
       "      <th>198</th>\n",
       "      <td>Z38</td>\n",
       "      <td>0.029306</td>\n",
       "    </tr>\n",
       "    <tr>\n",
       "      <th>70</th>\n",
       "      <td>I95</td>\n",
       "      <td>0.026706</td>\n",
       "    </tr>\n",
       "    <tr>\n",
       "      <th>105</th>\n",
       "      <td>M19</td>\n",
       "      <td>0.025211</td>\n",
       "    </tr>\n",
       "  </tbody>\n",
       "</table>\n",
       "</div>"
      ],
      "text/plain": [
       "     col       imp\n",
       "111  M54  0.080233\n",
       "42   G89  0.071768\n",
       "104  M17  0.070106\n",
       "25   E78  0.069540\n",
       "109  M48  0.058259\n",
       "197  Z37  0.043025\n",
       "44   I10  0.038551\n",
       "198  Z38  0.029306\n",
       "70   I95  0.026706\n",
       "105  M19  0.025211"
      ]
     },
     "metadata": {},
     "output_type": "display_data"
    },
    {
     "name": "stdout",
     "output_type": "stream",
     "text": [
      "----------------------------------------------------------------------------------------------------------------------------------\n",
      "M17\n"
     ]
    },
    {
     "data": {
      "text/html": [
       "<div>\n",
       "<style scoped>\n",
       "    .dataframe tbody tr th:only-of-type {\n",
       "        vertical-align: middle;\n",
       "    }\n",
       "\n",
       "    .dataframe tbody tr th {\n",
       "        vertical-align: top;\n",
       "    }\n",
       "\n",
       "    .dataframe thead th {\n",
       "        text-align: right;\n",
       "    }\n",
       "</style>\n",
       "<table border=\"1\" class=\"dataframe\">\n",
       "  <thead>\n",
       "    <tr style=\"text-align: right;\">\n",
       "      <th></th>\n",
       "      <th>col</th>\n",
       "      <th>imp</th>\n",
       "    </tr>\n",
       "  </thead>\n",
       "  <tbody>\n",
       "    <tr>\n",
       "      <th>24</th>\n",
       "      <td>E66</td>\n",
       "      <td>0.061076</td>\n",
       "    </tr>\n",
       "    <tr>\n",
       "      <th>45</th>\n",
       "      <td>I11</td>\n",
       "      <td>0.055287</td>\n",
       "    </tr>\n",
       "    <tr>\n",
       "      <th>113</th>\n",
       "      <td>M79</td>\n",
       "      <td>0.052257</td>\n",
       "    </tr>\n",
       "    <tr>\n",
       "      <th>107</th>\n",
       "      <td>M43</td>\n",
       "      <td>0.051860</td>\n",
       "    </tr>\n",
       "    <tr>\n",
       "      <th>210</th>\n",
       "      <td>Z87</td>\n",
       "      <td>0.044461</td>\n",
       "    </tr>\n",
       "    <tr>\n",
       "      <th>166</th>\n",
       "      <td>R42</td>\n",
       "      <td>0.040451</td>\n",
       "    </tr>\n",
       "    <tr>\n",
       "      <th>118</th>\n",
       "      <td>N20</td>\n",
       "      <td>0.040046</td>\n",
       "    </tr>\n",
       "    <tr>\n",
       "      <th>41</th>\n",
       "      <td>G47</td>\n",
       "      <td>0.039802</td>\n",
       "    </tr>\n",
       "    <tr>\n",
       "      <th>178</th>\n",
       "      <td>R74</td>\n",
       "      <td>0.037465</td>\n",
       "    </tr>\n",
       "    <tr>\n",
       "      <th>106</th>\n",
       "      <td>M25</td>\n",
       "      <td>0.037362</td>\n",
       "    </tr>\n",
       "  </tbody>\n",
       "</table>\n",
       "</div>"
      ],
      "text/plain": [
       "     col       imp\n",
       "24   E66  0.061076\n",
       "45   I11  0.055287\n",
       "113  M79  0.052257\n",
       "107  M43  0.051860\n",
       "210  Z87  0.044461\n",
       "166  R42  0.040451\n",
       "118  N20  0.040046\n",
       "41   G47  0.039802\n",
       "178  R74  0.037465\n",
       "106  M25  0.037362"
      ]
     },
     "metadata": {},
     "output_type": "display_data"
    },
    {
     "name": "stdout",
     "output_type": "stream",
     "text": [
      "----------------------------------------------------------------------------------------------------------------------------------\n"
     ]
    }
   ],
   "source": [
    "for ix, label in enumerate(labels):\n",
    "    print (label)\n",
    "    df_imp = pd.DataFrame({\"col\": X_train.columns, \"imp\": model.estimators_[ix].feature_importances_})\n",
    "    display (df_imp.sort_values(by='imp', ascending=False)[0:10])\n",
    "    print (('-'*130))"
   ]
  },
  {
   "cell_type": "code",
   "execution_count": null,
   "id": "5f666df4-5861-4fe6-a43b-32bcb3cad5af",
   "metadata": {},
   "outputs": [],
   "source": []
  }
 ],
 "metadata": {
  "availableInstances": [
   {
    "_defaultOrder": 0,
    "_isFastLaunch": true,
    "category": "General purpose",
    "gpuNum": 0,
    "hideHardwareSpecs": false,
    "memoryGiB": 4,
    "name": "ml.t3.medium",
    "vcpuNum": 2
   },
   {
    "_defaultOrder": 1,
    "_isFastLaunch": false,
    "category": "General purpose",
    "gpuNum": 0,
    "hideHardwareSpecs": false,
    "memoryGiB": 8,
    "name": "ml.t3.large",
    "vcpuNum": 2
   },
   {
    "_defaultOrder": 2,
    "_isFastLaunch": false,
    "category": "General purpose",
    "gpuNum": 0,
    "hideHardwareSpecs": false,
    "memoryGiB": 16,
    "name": "ml.t3.xlarge",
    "vcpuNum": 4
   },
   {
    "_defaultOrder": 3,
    "_isFastLaunch": false,
    "category": "General purpose",
    "gpuNum": 0,
    "hideHardwareSpecs": false,
    "memoryGiB": 32,
    "name": "ml.t3.2xlarge",
    "vcpuNum": 8
   },
   {
    "_defaultOrder": 4,
    "_isFastLaunch": true,
    "category": "General purpose",
    "gpuNum": 0,
    "hideHardwareSpecs": false,
    "memoryGiB": 8,
    "name": "ml.m5.large",
    "vcpuNum": 2
   },
   {
    "_defaultOrder": 5,
    "_isFastLaunch": false,
    "category": "General purpose",
    "gpuNum": 0,
    "hideHardwareSpecs": false,
    "memoryGiB": 16,
    "name": "ml.m5.xlarge",
    "vcpuNum": 4
   },
   {
    "_defaultOrder": 6,
    "_isFastLaunch": false,
    "category": "General purpose",
    "gpuNum": 0,
    "hideHardwareSpecs": false,
    "memoryGiB": 32,
    "name": "ml.m5.2xlarge",
    "vcpuNum": 8
   },
   {
    "_defaultOrder": 7,
    "_isFastLaunch": false,
    "category": "General purpose",
    "gpuNum": 0,
    "hideHardwareSpecs": false,
    "memoryGiB": 64,
    "name": "ml.m5.4xlarge",
    "vcpuNum": 16
   },
   {
    "_defaultOrder": 8,
    "_isFastLaunch": false,
    "category": "General purpose",
    "gpuNum": 0,
    "hideHardwareSpecs": false,
    "memoryGiB": 128,
    "name": "ml.m5.8xlarge",
    "vcpuNum": 32
   },
   {
    "_defaultOrder": 9,
    "_isFastLaunch": false,
    "category": "General purpose",
    "gpuNum": 0,
    "hideHardwareSpecs": false,
    "memoryGiB": 192,
    "name": "ml.m5.12xlarge",
    "vcpuNum": 48
   },
   {
    "_defaultOrder": 10,
    "_isFastLaunch": false,
    "category": "General purpose",
    "gpuNum": 0,
    "hideHardwareSpecs": false,
    "memoryGiB": 256,
    "name": "ml.m5.16xlarge",
    "vcpuNum": 64
   },
   {
    "_defaultOrder": 11,
    "_isFastLaunch": false,
    "category": "General purpose",
    "gpuNum": 0,
    "hideHardwareSpecs": false,
    "memoryGiB": 384,
    "name": "ml.m5.24xlarge",
    "vcpuNum": 96
   },
   {
    "_defaultOrder": 12,
    "_isFastLaunch": false,
    "category": "General purpose",
    "gpuNum": 0,
    "hideHardwareSpecs": false,
    "memoryGiB": 8,
    "name": "ml.m5d.large",
    "vcpuNum": 2
   },
   {
    "_defaultOrder": 13,
    "_isFastLaunch": false,
    "category": "General purpose",
    "gpuNum": 0,
    "hideHardwareSpecs": false,
    "memoryGiB": 16,
    "name": "ml.m5d.xlarge",
    "vcpuNum": 4
   },
   {
    "_defaultOrder": 14,
    "_isFastLaunch": false,
    "category": "General purpose",
    "gpuNum": 0,
    "hideHardwareSpecs": false,
    "memoryGiB": 32,
    "name": "ml.m5d.2xlarge",
    "vcpuNum": 8
   },
   {
    "_defaultOrder": 15,
    "_isFastLaunch": false,
    "category": "General purpose",
    "gpuNum": 0,
    "hideHardwareSpecs": false,
    "memoryGiB": 64,
    "name": "ml.m5d.4xlarge",
    "vcpuNum": 16
   },
   {
    "_defaultOrder": 16,
    "_isFastLaunch": false,
    "category": "General purpose",
    "gpuNum": 0,
    "hideHardwareSpecs": false,
    "memoryGiB": 128,
    "name": "ml.m5d.8xlarge",
    "vcpuNum": 32
   },
   {
    "_defaultOrder": 17,
    "_isFastLaunch": false,
    "category": "General purpose",
    "gpuNum": 0,
    "hideHardwareSpecs": false,
    "memoryGiB": 192,
    "name": "ml.m5d.12xlarge",
    "vcpuNum": 48
   },
   {
    "_defaultOrder": 18,
    "_isFastLaunch": false,
    "category": "General purpose",
    "gpuNum": 0,
    "hideHardwareSpecs": false,
    "memoryGiB": 256,
    "name": "ml.m5d.16xlarge",
    "vcpuNum": 64
   },
   {
    "_defaultOrder": 19,
    "_isFastLaunch": false,
    "category": "General purpose",
    "gpuNum": 0,
    "hideHardwareSpecs": false,
    "memoryGiB": 384,
    "name": "ml.m5d.24xlarge",
    "vcpuNum": 96
   },
   {
    "_defaultOrder": 20,
    "_isFastLaunch": false,
    "category": "General purpose",
    "gpuNum": 0,
    "hideHardwareSpecs": true,
    "memoryGiB": 0,
    "name": "ml.geospatial.interactive",
    "supportedImageNames": [
     "sagemaker-geospatial-v1-0"
    ],
    "vcpuNum": 0
   },
   {
    "_defaultOrder": 21,
    "_isFastLaunch": true,
    "category": "Compute optimized",
    "gpuNum": 0,
    "hideHardwareSpecs": false,
    "memoryGiB": 4,
    "name": "ml.c5.large",
    "vcpuNum": 2
   },
   {
    "_defaultOrder": 22,
    "_isFastLaunch": false,
    "category": "Compute optimized",
    "gpuNum": 0,
    "hideHardwareSpecs": false,
    "memoryGiB": 8,
    "name": "ml.c5.xlarge",
    "vcpuNum": 4
   },
   {
    "_defaultOrder": 23,
    "_isFastLaunch": false,
    "category": "Compute optimized",
    "gpuNum": 0,
    "hideHardwareSpecs": false,
    "memoryGiB": 16,
    "name": "ml.c5.2xlarge",
    "vcpuNum": 8
   },
   {
    "_defaultOrder": 24,
    "_isFastLaunch": false,
    "category": "Compute optimized",
    "gpuNum": 0,
    "hideHardwareSpecs": false,
    "memoryGiB": 32,
    "name": "ml.c5.4xlarge",
    "vcpuNum": 16
   },
   {
    "_defaultOrder": 25,
    "_isFastLaunch": false,
    "category": "Compute optimized",
    "gpuNum": 0,
    "hideHardwareSpecs": false,
    "memoryGiB": 72,
    "name": "ml.c5.9xlarge",
    "vcpuNum": 36
   },
   {
    "_defaultOrder": 26,
    "_isFastLaunch": false,
    "category": "Compute optimized",
    "gpuNum": 0,
    "hideHardwareSpecs": false,
    "memoryGiB": 96,
    "name": "ml.c5.12xlarge",
    "vcpuNum": 48
   },
   {
    "_defaultOrder": 27,
    "_isFastLaunch": false,
    "category": "Compute optimized",
    "gpuNum": 0,
    "hideHardwareSpecs": false,
    "memoryGiB": 144,
    "name": "ml.c5.18xlarge",
    "vcpuNum": 72
   },
   {
    "_defaultOrder": 28,
    "_isFastLaunch": false,
    "category": "Compute optimized",
    "gpuNum": 0,
    "hideHardwareSpecs": false,
    "memoryGiB": 192,
    "name": "ml.c5.24xlarge",
    "vcpuNum": 96
   },
   {
    "_defaultOrder": 29,
    "_isFastLaunch": true,
    "category": "Accelerated computing",
    "gpuNum": 1,
    "hideHardwareSpecs": false,
    "memoryGiB": 16,
    "name": "ml.g4dn.xlarge",
    "vcpuNum": 4
   },
   {
    "_defaultOrder": 30,
    "_isFastLaunch": false,
    "category": "Accelerated computing",
    "gpuNum": 1,
    "hideHardwareSpecs": false,
    "memoryGiB": 32,
    "name": "ml.g4dn.2xlarge",
    "vcpuNum": 8
   },
   {
    "_defaultOrder": 31,
    "_isFastLaunch": false,
    "category": "Accelerated computing",
    "gpuNum": 1,
    "hideHardwareSpecs": false,
    "memoryGiB": 64,
    "name": "ml.g4dn.4xlarge",
    "vcpuNum": 16
   },
   {
    "_defaultOrder": 32,
    "_isFastLaunch": false,
    "category": "Accelerated computing",
    "gpuNum": 1,
    "hideHardwareSpecs": false,
    "memoryGiB": 128,
    "name": "ml.g4dn.8xlarge",
    "vcpuNum": 32
   },
   {
    "_defaultOrder": 33,
    "_isFastLaunch": false,
    "category": "Accelerated computing",
    "gpuNum": 4,
    "hideHardwareSpecs": false,
    "memoryGiB": 192,
    "name": "ml.g4dn.12xlarge",
    "vcpuNum": 48
   },
   {
    "_defaultOrder": 34,
    "_isFastLaunch": false,
    "category": "Accelerated computing",
    "gpuNum": 1,
    "hideHardwareSpecs": false,
    "memoryGiB": 256,
    "name": "ml.g4dn.16xlarge",
    "vcpuNum": 64
   },
   {
    "_defaultOrder": 35,
    "_isFastLaunch": false,
    "category": "Accelerated computing",
    "gpuNum": 1,
    "hideHardwareSpecs": false,
    "memoryGiB": 61,
    "name": "ml.p3.2xlarge",
    "vcpuNum": 8
   },
   {
    "_defaultOrder": 36,
    "_isFastLaunch": false,
    "category": "Accelerated computing",
    "gpuNum": 4,
    "hideHardwareSpecs": false,
    "memoryGiB": 244,
    "name": "ml.p3.8xlarge",
    "vcpuNum": 32
   },
   {
    "_defaultOrder": 37,
    "_isFastLaunch": false,
    "category": "Accelerated computing",
    "gpuNum": 8,
    "hideHardwareSpecs": false,
    "memoryGiB": 488,
    "name": "ml.p3.16xlarge",
    "vcpuNum": 64
   },
   {
    "_defaultOrder": 38,
    "_isFastLaunch": false,
    "category": "Accelerated computing",
    "gpuNum": 8,
    "hideHardwareSpecs": false,
    "memoryGiB": 768,
    "name": "ml.p3dn.24xlarge",
    "vcpuNum": 96
   },
   {
    "_defaultOrder": 39,
    "_isFastLaunch": false,
    "category": "Memory Optimized",
    "gpuNum": 0,
    "hideHardwareSpecs": false,
    "memoryGiB": 16,
    "name": "ml.r5.large",
    "vcpuNum": 2
   },
   {
    "_defaultOrder": 40,
    "_isFastLaunch": false,
    "category": "Memory Optimized",
    "gpuNum": 0,
    "hideHardwareSpecs": false,
    "memoryGiB": 32,
    "name": "ml.r5.xlarge",
    "vcpuNum": 4
   },
   {
    "_defaultOrder": 41,
    "_isFastLaunch": false,
    "category": "Memory Optimized",
    "gpuNum": 0,
    "hideHardwareSpecs": false,
    "memoryGiB": 64,
    "name": "ml.r5.2xlarge",
    "vcpuNum": 8
   },
   {
    "_defaultOrder": 42,
    "_isFastLaunch": false,
    "category": "Memory Optimized",
    "gpuNum": 0,
    "hideHardwareSpecs": false,
    "memoryGiB": 128,
    "name": "ml.r5.4xlarge",
    "vcpuNum": 16
   },
   {
    "_defaultOrder": 43,
    "_isFastLaunch": false,
    "category": "Memory Optimized",
    "gpuNum": 0,
    "hideHardwareSpecs": false,
    "memoryGiB": 256,
    "name": "ml.r5.8xlarge",
    "vcpuNum": 32
   },
   {
    "_defaultOrder": 44,
    "_isFastLaunch": false,
    "category": "Memory Optimized",
    "gpuNum": 0,
    "hideHardwareSpecs": false,
    "memoryGiB": 384,
    "name": "ml.r5.12xlarge",
    "vcpuNum": 48
   },
   {
    "_defaultOrder": 45,
    "_isFastLaunch": false,
    "category": "Memory Optimized",
    "gpuNum": 0,
    "hideHardwareSpecs": false,
    "memoryGiB": 512,
    "name": "ml.r5.16xlarge",
    "vcpuNum": 64
   },
   {
    "_defaultOrder": 46,
    "_isFastLaunch": false,
    "category": "Memory Optimized",
    "gpuNum": 0,
    "hideHardwareSpecs": false,
    "memoryGiB": 768,
    "name": "ml.r5.24xlarge",
    "vcpuNum": 96
   },
   {
    "_defaultOrder": 47,
    "_isFastLaunch": false,
    "category": "Accelerated computing",
    "gpuNum": 1,
    "hideHardwareSpecs": false,
    "memoryGiB": 16,
    "name": "ml.g5.xlarge",
    "vcpuNum": 4
   },
   {
    "_defaultOrder": 48,
    "_isFastLaunch": false,
    "category": "Accelerated computing",
    "gpuNum": 1,
    "hideHardwareSpecs": false,
    "memoryGiB": 32,
    "name": "ml.g5.2xlarge",
    "vcpuNum": 8
   },
   {
    "_defaultOrder": 49,
    "_isFastLaunch": false,
    "category": "Accelerated computing",
    "gpuNum": 1,
    "hideHardwareSpecs": false,
    "memoryGiB": 64,
    "name": "ml.g5.4xlarge",
    "vcpuNum": 16
   },
   {
    "_defaultOrder": 50,
    "_isFastLaunch": false,
    "category": "Accelerated computing",
    "gpuNum": 1,
    "hideHardwareSpecs": false,
    "memoryGiB": 128,
    "name": "ml.g5.8xlarge",
    "vcpuNum": 32
   },
   {
    "_defaultOrder": 51,
    "_isFastLaunch": false,
    "category": "Accelerated computing",
    "gpuNum": 1,
    "hideHardwareSpecs": false,
    "memoryGiB": 256,
    "name": "ml.g5.16xlarge",
    "vcpuNum": 64
   },
   {
    "_defaultOrder": 52,
    "_isFastLaunch": false,
    "category": "Accelerated computing",
    "gpuNum": 4,
    "hideHardwareSpecs": false,
    "memoryGiB": 192,
    "name": "ml.g5.12xlarge",
    "vcpuNum": 48
   },
   {
    "_defaultOrder": 53,
    "_isFastLaunch": false,
    "category": "Accelerated computing",
    "gpuNum": 4,
    "hideHardwareSpecs": false,
    "memoryGiB": 384,
    "name": "ml.g5.24xlarge",
    "vcpuNum": 96
   },
   {
    "_defaultOrder": 54,
    "_isFastLaunch": false,
    "category": "Accelerated computing",
    "gpuNum": 8,
    "hideHardwareSpecs": false,
    "memoryGiB": 768,
    "name": "ml.g5.48xlarge",
    "vcpuNum": 192
   },
   {
    "_defaultOrder": 55,
    "_isFastLaunch": false,
    "category": "Accelerated computing",
    "gpuNum": 8,
    "hideHardwareSpecs": false,
    "memoryGiB": 1152,
    "name": "ml.p4d.24xlarge",
    "vcpuNum": 96
   },
   {
    "_defaultOrder": 56,
    "_isFastLaunch": false,
    "category": "Accelerated computing",
    "gpuNum": 8,
    "hideHardwareSpecs": false,
    "memoryGiB": 1152,
    "name": "ml.p4de.24xlarge",
    "vcpuNum": 96
   }
  ],
  "instance_type": "ml.m5.4xlarge",
  "kernelspec": {
   "display_name": "Python 3 (Data Science)",
   "language": "python",
   "name": "python3__SAGEMAKER_INTERNAL__arn:aws:sagemaker:us-east-1:081325390199:image/datascience-1.0"
  },
  "language_info": {
   "codemirror_mode": {
    "name": "ipython",
    "version": 3
   },
   "file_extension": ".py",
   "mimetype": "text/x-python",
   "name": "python",
   "nbconvert_exporter": "python",
   "pygments_lexer": "ipython3",
   "version": "3.7.10"
  }
 },
 "nbformat": 4,
 "nbformat_minor": 5
}
