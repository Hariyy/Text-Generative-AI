{
 "cells": [
  {
   "cell_type": "code",
   "execution_count": 37,
   "metadata": {},
   "outputs": [],
   "source": [
    "from nltk.corpus import wordnet as wn"
   ]
  },
  {
   "cell_type": "code",
   "execution_count": 4,
   "metadata": {},
   "outputs": [],
   "source": [
    "import pandas as pd"
   ]
  },
  {
   "cell_type": "code",
   "execution_count": 5,
   "metadata": {},
   "outputs": [],
   "source": [
    "df = pd.read_excel('ciba_table.xlsx')"
   ]
  },
  {
   "cell_type": "code",
   "execution_count": 17,
   "metadata": {},
   "outputs": [
    {
     "data": {
      "text/html": [
       "<div>\n",
       "<style scoped>\n",
       "    .dataframe tbody tr th:only-of-type {\n",
       "        vertical-align: middle;\n",
       "    }\n",
       "\n",
       "    .dataframe tbody tr th {\n",
       "        vertical-align: top;\n",
       "    }\n",
       "\n",
       "    .dataframe thead th {\n",
       "        text-align: right;\n",
       "    }\n",
       "</style>\n",
       "<table border=\"1\" class=\"dataframe\">\n",
       "  <thead>\n",
       "    <tr style=\"text-align: right;\">\n",
       "      <th></th>\n",
       "      <th>client_id</th>\n",
       "      <th>person_internal_id</th>\n",
       "      <th>web_session_id</th>\n",
       "      <th>page_name</th>\n",
       "      <th>category</th>\n",
       "    </tr>\n",
       "  </thead>\n",
       "  <tbody>\n",
       "    <tr>\n",
       "      <th>0</th>\n",
       "      <td>1487</td>\n",
       "      <td>NaN</td>\n",
       "      <td>58D311A22B17515E82FF817D6344E1C3.82322_LR_PU_C...</td>\n",
       "      <td>BAC Workday Outage</td>\n",
       "      <td>Caregiving</td>\n",
       "    </tr>\n",
       "    <tr>\n",
       "      <th>1</th>\n",
       "      <td>1487</td>\n",
       "      <td>NaN</td>\n",
       "      <td>58D311A22B17515E82FF817D6344E1C3.82322_LR_PU_C...</td>\n",
       "      <td>BAC Workday Outage</td>\n",
       "      <td>Caregiving</td>\n",
       "    </tr>\n",
       "    <tr>\n",
       "      <th>2</th>\n",
       "      <td>1487</td>\n",
       "      <td>NaN</td>\n",
       "      <td>58D311A22B17515E82FF817D6344E1C3.82322_LR_PU_C...</td>\n",
       "      <td>BAC Workday Outage</td>\n",
       "      <td>Caregiving</td>\n",
       "    </tr>\n",
       "    <tr>\n",
       "      <th>3</th>\n",
       "      <td>1487</td>\n",
       "      <td>NaN</td>\n",
       "      <td>58D311A22B17515E82FF817D6344E1C3.82322_LR_PU_C...</td>\n",
       "      <td>BAC Workday Outage</td>\n",
       "      <td>Caregiving</td>\n",
       "    </tr>\n",
       "    <tr>\n",
       "      <th>4</th>\n",
       "      <td>1487</td>\n",
       "      <td>NaN</td>\n",
       "      <td>58D311A22B17515E82FF817D6344E1C3.82322_LR_PU_C...</td>\n",
       "      <td>BAC Workday Outage</td>\n",
       "      <td>Caregiving</td>\n",
       "    </tr>\n",
       "  </tbody>\n",
       "</table>\n",
       "</div>"
      ],
      "text/plain": [
       "   client_id  person_internal_id  \\\n",
       "0       1487                 NaN   \n",
       "1       1487                 NaN   \n",
       "2       1487                 NaN   \n",
       "3       1487                 NaN   \n",
       "4       1487                 NaN   \n",
       "\n",
       "                                      web_session_id           page_name  \\\n",
       "0  58D311A22B17515E82FF817D6344E1C3.82322_LR_PU_C...  BAC Workday Outage   \n",
       "1  58D311A22B17515E82FF817D6344E1C3.82322_LR_PU_C...  BAC Workday Outage   \n",
       "2  58D311A22B17515E82FF817D6344E1C3.82322_LR_PU_C...  BAC Workday Outage   \n",
       "3  58D311A22B17515E82FF817D6344E1C3.82322_LR_PU_C...  BAC Workday Outage   \n",
       "4  58D311A22B17515E82FF817D6344E1C3.82322_LR_PU_C...  BAC Workday Outage   \n",
       "\n",
       "     category  \n",
       "0  Caregiving  \n",
       "1  Caregiving  \n",
       "2  Caregiving  \n",
       "3  Caregiving  \n",
       "4  Caregiving  "
      ]
     },
     "execution_count": 17,
     "metadata": {},
     "output_type": "execute_result"
    }
   ],
   "source": [
    "df.head()"
   ]
  },
  {
   "cell_type": "code",
   "execution_count": 19,
   "metadata": {},
   "outputs": [],
   "source": [
    "df1 = df['page_name']"
   ]
  },
  {
   "cell_type": "code",
   "execution_count": 22,
   "metadata": {},
   "outputs": [
    {
     "data": {
      "text/plain": [
       "0    BAC Workday Outage\n",
       "1    BAC Workday Outage\n",
       "2    BAC Workday Outage\n",
       "3    BAC Workday Outage\n",
       "4    BAC Workday Outage\n",
       "Name: page_name, dtype: object"
      ]
     },
     "execution_count": 22,
     "metadata": {},
     "output_type": "execute_result"
    }
   ],
   "source": [
    "df1.head()"
   ]
  },
  {
   "cell_type": "code",
   "execution_count": 35,
   "metadata": {},
   "outputs": [
    {
     "name": "stdout",
     "output_type": "stream",
     "text": [
      "/bin/bash: -c: line 0: syntax error near unexpected token `'wordnet''\n",
      "/bin/bash: -c: line 0: `nltk.download('wordnet')'\n"
     ]
    }
   ],
   "source": [
    "!nltk.download('wordnet')"
   ]
  },
  {
   "cell_type": "code",
   "execution_count": 48,
   "metadata": {},
   "outputs": [
    {
     "data": {
      "text/plain": [
       "'BAC Workday Outage'"
      ]
     },
     "execution_count": 48,
     "metadata": {},
     "output_type": "execute_result"
    }
   ],
   "source": [
    "df1[0]"
   ]
  },
  {
   "cell_type": "code",
   "execution_count": 68,
   "metadata": {},
   "outputs": [
    {
     "ename": "AttributeError",
     "evalue": "'list' object has no attribute 'lower'",
     "output_type": "error",
     "traceback": [
      "\u001b[0;31m---------------------------------------------------------------------------\u001b[0m",
      "\u001b[0;31mAttributeError\u001b[0m                            Traceback (most recent call last)",
      "\u001b[0;32m<ipython-input-68-044a482a4698>\u001b[0m in \u001b[0;36m<module>\u001b[0;34m\u001b[0m\n\u001b[1;32m      1\u001b[0m \u001b[0msynonyms\u001b[0m \u001b[0;34m=\u001b[0m \u001b[0;34m[\u001b[0m\u001b[0;34m]\u001b[0m\u001b[0;34m\u001b[0m\u001b[0;34m\u001b[0m\u001b[0m\n\u001b[1;32m      2\u001b[0m \u001b[0;34m\u001b[0m\u001b[0m\n\u001b[0;32m----> 3\u001b[0;31m \u001b[0;32mfor\u001b[0m \u001b[0msyn\u001b[0m \u001b[0;32min\u001b[0m \u001b[0mwn\u001b[0m\u001b[0;34m.\u001b[0m\u001b[0msynsets\u001b[0m\u001b[0;34m(\u001b[0m\u001b[0mlist\u001b[0m\u001b[0;34m(\u001b[0m\u001b[0mdf1\u001b[0m\u001b[0;34m)\u001b[0m\u001b[0;34m)\u001b[0m\u001b[0;34m:\u001b[0m\u001b[0;34m\u001b[0m\u001b[0;34m\u001b[0m\u001b[0m\n\u001b[0m\u001b[1;32m      4\u001b[0m     \u001b[0;32mfor\u001b[0m \u001b[0mi\u001b[0m \u001b[0;32min\u001b[0m \u001b[0msyn\u001b[0m\u001b[0;34m.\u001b[0m\u001b[0mlemmas\u001b[0m\u001b[0;34m(\u001b[0m\u001b[0;34m)\u001b[0m\u001b[0;34m:\u001b[0m\u001b[0;34m\u001b[0m\u001b[0;34m\u001b[0m\u001b[0m\n\u001b[1;32m      5\u001b[0m         \u001b[0msynonyms\u001b[0m\u001b[0;34m.\u001b[0m\u001b[0mappend\u001b[0m\u001b[0;34m(\u001b[0m\u001b[0mi\u001b[0m\u001b[0;34m.\u001b[0m\u001b[0mname\u001b[0m\u001b[0;34m(\u001b[0m\u001b[0;34m)\u001b[0m\u001b[0;34m)\u001b[0m\u001b[0;34m\u001b[0m\u001b[0;34m\u001b[0m\u001b[0m\n",
      "\u001b[0;32m/opt/conda/lib/python3.7/site-packages/nltk/corpus/reader/wordnet.py\u001b[0m in \u001b[0;36msynsets\u001b[0;34m(self, lemma, pos, lang, check_exceptions)\u001b[0m\n\u001b[1;32m   1691\u001b[0m         \u001b[0mof\u001b[0m \u001b[0mthat\u001b[0m \u001b[0mlanguage\u001b[0m \u001b[0mwill\u001b[0m \u001b[0mbe\u001b[0m \u001b[0mreturned\u001b[0m\u001b[0;34m.\u001b[0m\u001b[0;34m\u001b[0m\u001b[0;34m\u001b[0m\u001b[0m\n\u001b[1;32m   1692\u001b[0m         \"\"\"\n\u001b[0;32m-> 1693\u001b[0;31m         \u001b[0mlemma\u001b[0m \u001b[0;34m=\u001b[0m \u001b[0mlemma\u001b[0m\u001b[0;34m.\u001b[0m\u001b[0mlower\u001b[0m\u001b[0;34m(\u001b[0m\u001b[0;34m)\u001b[0m\u001b[0;34m\u001b[0m\u001b[0;34m\u001b[0m\u001b[0m\n\u001b[0m\u001b[1;32m   1694\u001b[0m \u001b[0;34m\u001b[0m\u001b[0m\n\u001b[1;32m   1695\u001b[0m         \u001b[0;32mif\u001b[0m \u001b[0mlang\u001b[0m \u001b[0;34m==\u001b[0m \u001b[0;34m\"eng\"\u001b[0m\u001b[0;34m:\u001b[0m\u001b[0;34m\u001b[0m\u001b[0;34m\u001b[0m\u001b[0m\n",
      "\u001b[0;31mAttributeError\u001b[0m: 'list' object has no attribute 'lower'"
     ]
    }
   ],
   "source": [
    "synonyms = []\n",
    "\n",
    "for syn in wn.synsets(list(df1)):\n",
    "    for i in syn.lemmas():\n",
    "        synonyms.append(i.name())\n",
    "\n",
    "print(set(synonyms))\n"
   ]
  },
  {
   "cell_type": "code",
   "execution_count": 69,
   "metadata": {},
   "outputs": [],
   "source": [
    "embeddings_dict = {}"
   ]
  },
  {
   "cell_type": "code",
   "execution_count": 70,
   "metadata": {},
   "outputs": [],
   "source": [
    "import numpy as np\n",
    "from scipy import spatial\n",
    "import matplotlib.pyplot as plt\n",
    "from sklearn.manifold import TSNE"
   ]
  },
  {
   "cell_type": "code",
   "execution_count": 81,
   "metadata": {},
   "outputs": [
    {
     "name": "stdout",
     "output_type": "stream",
     "text": [
      "Loaded 53 word vectors.\n"
     ]
    }
   ],
   "source": [
    "f=list(df1)\n",
    "for line in f:\n",
    "        values=line.split()\n",
    "        word=values[0]\n",
    "        vectors=np.asarray(values[1:],'str')\n",
    "        embeddings_dict[word]=vectors\n",
    "#f.close()\n",
    "print('Loaded %s word vectors.' % len(embeddings_dict))"
   ]
  },
  {
   "cell_type": "code",
   "execution_count": 83,
   "metadata": {},
   "outputs": [
    {
     "data": {
      "text/plain": [
       "['BAC',\n",
       " 'financial_wellbeing',\n",
       " 'support-for-you-family-post',\n",
       " 'Workday',\n",
       " 'wellbeingofferings',\n",
       " 'Page',\n",
       " 'HolidayNotPR',\n",
       " 'emot-well-being-IST',\n",
       " 'financialwellbeing',\n",
       " 'workday-logoff-routing']"
      ]
     },
     "execution_count": 83,
     "metadata": {},
     "output_type": "execute_result"
    }
   ],
   "source": [
    "list(embeddings_dict.keys())[:10]"
   ]
  },
  {
   "cell_type": "code",
   "execution_count": 84,
   "metadata": {},
   "outputs": [
    {
     "data": {
      "text/plain": [
       "array(['Workday', 'Outage'], dtype='<U7')"
      ]
     },
     "execution_count": 84,
     "metadata": {},
     "output_type": "execute_result"
    }
   ],
   "source": [
    "embeddings_dict['BAC']"
   ]
  },
  {
   "cell_type": "code",
   "execution_count": 86,
   "metadata": {},
   "outputs": [
    {
     "data": {
      "text/plain": [
       "2"
      ]
     },
     "execution_count": 86,
     "metadata": {},
     "output_type": "execute_result"
    }
   ],
   "source": [
    "len(embeddings_dict['BAC'])"
   ]
  },
  {
   "cell_type": "code",
   "execution_count": 87,
   "metadata": {},
   "outputs": [],
   "source": [
    "def find_closest_embeddings(embedding): \n",
    "    return sorted(embeddings_dict.keys(), key=lambda word: spatial.distance.euclidean(embeddings_dict[word], embedding))"
   ]
  },
  {
   "cell_type": "code",
   "execution_count": 91,
   "metadata": {},
   "outputs": [
    {
     "ename": "UFuncTypeError",
     "evalue": "ufunc 'subtract' did not contain a loop with signature matching types (dtype('<U7'), dtype('<U69')) -> None",
     "output_type": "error",
     "traceback": [
      "\u001b[0;31m---------------------------------------------------------------------------\u001b[0m",
      "\u001b[0;31mUFuncTypeError\u001b[0m                            Traceback (most recent call last)",
      "\u001b[0;32m<ipython-input-91-4339a26526b6>\u001b[0m in \u001b[0;36m<module>\u001b[0;34m\u001b[0m\n\u001b[0;32m----> 1\u001b[0;31m \u001b[0mprint\u001b[0m\u001b[0;34m(\u001b[0m\u001b[0mfind_closest_embeddings\u001b[0m\u001b[0;34m(\u001b[0m\u001b[0membeddings_dict\u001b[0m\u001b[0;34m[\u001b[0m\u001b[0;34m\"financial_wellbeing\"\u001b[0m\u001b[0;34m]\u001b[0m\u001b[0;34m)\u001b[0m\u001b[0;34m[\u001b[0m\u001b[0;36m1\u001b[0m\u001b[0;34m:\u001b[0m\u001b[0;36m6\u001b[0m\u001b[0;34m]\u001b[0m\u001b[0;34m)\u001b[0m\u001b[0;34m\u001b[0m\u001b[0;34m\u001b[0m\u001b[0m\n\u001b[0m",
      "\u001b[0;32m<ipython-input-87-087e8eec172b>\u001b[0m in \u001b[0;36mfind_closest_embeddings\u001b[0;34m(embedding)\u001b[0m\n\u001b[1;32m      1\u001b[0m \u001b[0;32mdef\u001b[0m \u001b[0mfind_closest_embeddings\u001b[0m\u001b[0;34m(\u001b[0m\u001b[0membedding\u001b[0m\u001b[0;34m)\u001b[0m\u001b[0;34m:\u001b[0m\u001b[0;34m\u001b[0m\u001b[0;34m\u001b[0m\u001b[0m\n\u001b[0;32m----> 2\u001b[0;31m     \u001b[0;32mreturn\u001b[0m \u001b[0msorted\u001b[0m\u001b[0;34m(\u001b[0m\u001b[0membeddings_dict\u001b[0m\u001b[0;34m.\u001b[0m\u001b[0mkeys\u001b[0m\u001b[0;34m(\u001b[0m\u001b[0;34m)\u001b[0m\u001b[0;34m,\u001b[0m \u001b[0mkey\u001b[0m\u001b[0;34m=\u001b[0m\u001b[0;32mlambda\u001b[0m \u001b[0mword\u001b[0m\u001b[0;34m:\u001b[0m \u001b[0mspatial\u001b[0m\u001b[0;34m.\u001b[0m\u001b[0mdistance\u001b[0m\u001b[0;34m.\u001b[0m\u001b[0meuclidean\u001b[0m\u001b[0;34m(\u001b[0m\u001b[0membeddings_dict\u001b[0m\u001b[0;34m[\u001b[0m\u001b[0mword\u001b[0m\u001b[0;34m]\u001b[0m\u001b[0;34m,\u001b[0m \u001b[0membedding\u001b[0m\u001b[0;34m)\u001b[0m\u001b[0;34m)\u001b[0m\u001b[0;34m\u001b[0m\u001b[0;34m\u001b[0m\u001b[0m\n\u001b[0m",
      "\u001b[0;32m<ipython-input-87-087e8eec172b>\u001b[0m in \u001b[0;36m<lambda>\u001b[0;34m(word)\u001b[0m\n\u001b[1;32m      1\u001b[0m \u001b[0;32mdef\u001b[0m \u001b[0mfind_closest_embeddings\u001b[0m\u001b[0;34m(\u001b[0m\u001b[0membedding\u001b[0m\u001b[0;34m)\u001b[0m\u001b[0;34m:\u001b[0m\u001b[0;34m\u001b[0m\u001b[0;34m\u001b[0m\u001b[0m\n\u001b[0;32m----> 2\u001b[0;31m     \u001b[0;32mreturn\u001b[0m \u001b[0msorted\u001b[0m\u001b[0;34m(\u001b[0m\u001b[0membeddings_dict\u001b[0m\u001b[0;34m.\u001b[0m\u001b[0mkeys\u001b[0m\u001b[0;34m(\u001b[0m\u001b[0;34m)\u001b[0m\u001b[0;34m,\u001b[0m \u001b[0mkey\u001b[0m\u001b[0;34m=\u001b[0m\u001b[0;32mlambda\u001b[0m \u001b[0mword\u001b[0m\u001b[0;34m:\u001b[0m \u001b[0mspatial\u001b[0m\u001b[0;34m.\u001b[0m\u001b[0mdistance\u001b[0m\u001b[0;34m.\u001b[0m\u001b[0meuclidean\u001b[0m\u001b[0;34m(\u001b[0m\u001b[0membeddings_dict\u001b[0m\u001b[0;34m[\u001b[0m\u001b[0mword\u001b[0m\u001b[0;34m]\u001b[0m\u001b[0;34m,\u001b[0m \u001b[0membedding\u001b[0m\u001b[0;34m)\u001b[0m\u001b[0;34m)\u001b[0m\u001b[0;34m\u001b[0m\u001b[0;34m\u001b[0m\u001b[0m\n\u001b[0m",
      "\u001b[0;32m/opt/conda/lib/python3.7/site-packages/scipy/spatial/distance.py\u001b[0m in \u001b[0;36meuclidean\u001b[0;34m(u, v, w)\u001b[0m\n\u001b[1;32m    618\u001b[0m \u001b[0;34m\u001b[0m\u001b[0m\n\u001b[1;32m    619\u001b[0m     \"\"\"\n\u001b[0;32m--> 620\u001b[0;31m     \u001b[0;32mreturn\u001b[0m \u001b[0mminkowski\u001b[0m\u001b[0;34m(\u001b[0m\u001b[0mu\u001b[0m\u001b[0;34m,\u001b[0m \u001b[0mv\u001b[0m\u001b[0;34m,\u001b[0m \u001b[0mp\u001b[0m\u001b[0;34m=\u001b[0m\u001b[0;36m2\u001b[0m\u001b[0;34m,\u001b[0m \u001b[0mw\u001b[0m\u001b[0;34m=\u001b[0m\u001b[0mw\u001b[0m\u001b[0;34m)\u001b[0m\u001b[0;34m\u001b[0m\u001b[0;34m\u001b[0m\u001b[0m\n\u001b[0m\u001b[1;32m    621\u001b[0m \u001b[0;34m\u001b[0m\u001b[0m\n\u001b[1;32m    622\u001b[0m \u001b[0;34m\u001b[0m\u001b[0m\n",
      "\u001b[0;32m/opt/conda/lib/python3.7/site-packages/scipy/spatial/distance.py\u001b[0m in \u001b[0;36mminkowski\u001b[0;34m(u, v, p, w)\u001b[0m\n\u001b[1;32m    510\u001b[0m     \u001b[0;32mif\u001b[0m \u001b[0mp\u001b[0m \u001b[0;34m<\u001b[0m \u001b[0;36m1\u001b[0m\u001b[0;34m:\u001b[0m\u001b[0;34m\u001b[0m\u001b[0;34m\u001b[0m\u001b[0m\n\u001b[1;32m    511\u001b[0m         \u001b[0;32mraise\u001b[0m \u001b[0mValueError\u001b[0m\u001b[0;34m(\u001b[0m\u001b[0;34m\"p must be at least 1\"\u001b[0m\u001b[0;34m)\u001b[0m\u001b[0;34m\u001b[0m\u001b[0;34m\u001b[0m\u001b[0m\n\u001b[0;32m--> 512\u001b[0;31m     \u001b[0mu_v\u001b[0m \u001b[0;34m=\u001b[0m \u001b[0mu\u001b[0m \u001b[0;34m-\u001b[0m \u001b[0mv\u001b[0m\u001b[0;34m\u001b[0m\u001b[0;34m\u001b[0m\u001b[0m\n\u001b[0m\u001b[1;32m    513\u001b[0m     \u001b[0;32mif\u001b[0m \u001b[0mw\u001b[0m \u001b[0;32mis\u001b[0m \u001b[0;32mnot\u001b[0m \u001b[0;32mNone\u001b[0m\u001b[0;34m:\u001b[0m\u001b[0;34m\u001b[0m\u001b[0;34m\u001b[0m\u001b[0m\n\u001b[1;32m    514\u001b[0m         \u001b[0mw\u001b[0m \u001b[0;34m=\u001b[0m \u001b[0m_validate_weights\u001b[0m\u001b[0;34m(\u001b[0m\u001b[0mw\u001b[0m\u001b[0;34m)\u001b[0m\u001b[0;34m\u001b[0m\u001b[0;34m\u001b[0m\u001b[0m\n",
      "\u001b[0;31mUFuncTypeError\u001b[0m: ufunc 'subtract' did not contain a loop with signature matching types (dtype('<U7'), dtype('<U69')) -> None"
     ]
    }
   ],
   "source": [
    "print(find_closest_embeddings(embeddings_dict[\"financial_wellbeing\"])[1:6])"
   ]
  },
  {
   "cell_type": "code",
   "execution_count": 4,
   "metadata": {},
   "outputs": [
    {
     "ename": "ModuleNotFoundError",
     "evalue": "No module named 'torchtext'",
     "output_type": "error",
     "traceback": [
      "\u001b[0;31m---------------------------------------------------------------------------\u001b[0m",
      "\u001b[0;31mModuleNotFoundError\u001b[0m                       Traceback (most recent call last)",
      "\u001b[0;32m<ipython-input-4-3845b3af12f6>\u001b[0m in \u001b[0;36m<module>\u001b[0;34m\u001b[0m\n\u001b[0;32m----> 1\u001b[0;31m \u001b[0;32mfrom\u001b[0m \u001b[0mtorchtext\u001b[0m \u001b[0;32mimport\u001b[0m \u001b[0mvocab\u001b[0m\u001b[0;34m\u001b[0m\u001b[0;34m\u001b[0m\u001b[0m\n\u001b[0m",
      "\u001b[0;31mModuleNotFoundError\u001b[0m: No module named 'torchtext'"
     ]
    }
   ],
   "source": [
    "from torchtext import vocab"
   ]
  },
  {
   "cell_type": "code",
   "execution_count": 96,
   "metadata": {},
   "outputs": [],
   "source": [
    "import torch\n",
    "import torchtext"
   ]
  },
  {
   "cell_type": "code",
   "execution_count": 3,
   "metadata": {},
   "outputs": [
    {
     "ename": "NameError",
     "evalue": "name 'vocab' is not defined",
     "output_type": "error",
     "traceback": [
      "\u001b[0;31m---------------------------------------------------------------------------\u001b[0m",
      "\u001b[0;31mNameError\u001b[0m                                 Traceback (most recent call last)",
      "\u001b[0;32m<ipython-input-3-9157e3557457>\u001b[0m in \u001b[0;36m<module>\u001b[0;34m\u001b[0m\n\u001b[0;32m----> 1\u001b[0;31m glove = vocab.GloVe(name=\"6B\",\n\u001b[0m\u001b[1;32m      2\u001b[0m                               dim=50)\n",
      "\u001b[0;31mNameError\u001b[0m: name 'vocab' is not defined"
     ]
    }
   ],
   "source": [
    "glove = vocab.GloVe(name=\"6B\",\n",
    "                              dim=50)"
   ]
  },
  {
   "cell_type": "code",
   "execution_count": 109,
   "metadata": {},
   "outputs": [
    {
     "name": "stderr",
     "output_type": "stream",
     "text": [
      ".vector_cache/glove.840B.300d.zip: 0.00B [00:00, ?B/s]\n"
     ]
    },
    {
     "ename": "HTTPError",
     "evalue": "HTTP Error 503: Service Unavailable",
     "output_type": "error",
     "traceback": [
      "\u001b[0;31m---------------------------------------------------------------------------\u001b[0m",
      "\u001b[0;31mHTTPError\u001b[0m                                 Traceback (most recent call last)",
      "\u001b[0;32m<ipython-input-109-b27cac96d19b>\u001b[0m in \u001b[0;36m<module>\u001b[0;34m\u001b[0m\n\u001b[1;32m      1\u001b[0m \u001b[0;32mfrom\u001b[0m \u001b[0mtorchtext\u001b[0m\u001b[0;34m.\u001b[0m\u001b[0mvocab\u001b[0m \u001b[0;32mimport\u001b[0m \u001b[0mGloVe\u001b[0m\u001b[0;34m\u001b[0m\u001b[0;34m\u001b[0m\u001b[0m\n\u001b[0;32m----> 2\u001b[0;31m \u001b[0mglove\u001b[0m \u001b[0;34m=\u001b[0m \u001b[0mGloVe\u001b[0m\u001b[0;34m(\u001b[0m\u001b[0;34m)\u001b[0m\u001b[0;34m\u001b[0m\u001b[0;34m\u001b[0m\u001b[0m\n\u001b[0m\u001b[1;32m      3\u001b[0m \u001b[0;32mdef\u001b[0m \u001b[0mprint_closest_words\u001b[0m\u001b[0;34m(\u001b[0m\u001b[0mvec\u001b[0m\u001b[0;34m,\u001b[0m \u001b[0mn\u001b[0m\u001b[0;34m=\u001b[0m\u001b[0;36m5\u001b[0m\u001b[0;34m)\u001b[0m\u001b[0;34m:\u001b[0m\u001b[0;34m\u001b[0m\u001b[0;34m\u001b[0m\u001b[0m\n\u001b[1;32m      4\u001b[0m     \u001b[0mdists\u001b[0m \u001b[0;34m=\u001b[0m \u001b[0mtorch\u001b[0m\u001b[0;34m.\u001b[0m\u001b[0mnorm\u001b[0m\u001b[0;34m(\u001b[0m\u001b[0mglove\u001b[0m\u001b[0;34m.\u001b[0m\u001b[0mvectors\u001b[0m \u001b[0;34m-\u001b[0m \u001b[0mvec\u001b[0m\u001b[0;34m,\u001b[0m \u001b[0mdim\u001b[0m\u001b[0;34m=\u001b[0m\u001b[0;36m1\u001b[0m\u001b[0;34m)\u001b[0m     \u001b[0;31m# compute distances to all words\u001b[0m\u001b[0;34m\u001b[0m\u001b[0;34m\u001b[0m\u001b[0m\n\u001b[1;32m      5\u001b[0m     \u001b[0mlst\u001b[0m \u001b[0;34m=\u001b[0m \u001b[0msorted\u001b[0m\u001b[0;34m(\u001b[0m\u001b[0menumerate\u001b[0m\u001b[0;34m(\u001b[0m\u001b[0mdists\u001b[0m\u001b[0;34m.\u001b[0m\u001b[0mnumpy\u001b[0m\u001b[0;34m(\u001b[0m\u001b[0;34m)\u001b[0m\u001b[0;34m)\u001b[0m\u001b[0;34m,\u001b[0m \u001b[0mkey\u001b[0m\u001b[0;34m=\u001b[0m\u001b[0;32mlambda\u001b[0m \u001b[0mx\u001b[0m\u001b[0;34m:\u001b[0m \u001b[0mx\u001b[0m\u001b[0;34m[\u001b[0m\u001b[0;36m1\u001b[0m\u001b[0;34m]\u001b[0m\u001b[0;34m)\u001b[0m \u001b[0;31m# sort by distance\u001b[0m\u001b[0;34m\u001b[0m\u001b[0;34m\u001b[0m\u001b[0m\n",
      "\u001b[0;32m/opt/conda/lib/python3.7/site-packages/torchtext/vocab/vectors.py\u001b[0m in \u001b[0;36m__init__\u001b[0;34m(self, name, dim, **kwargs)\u001b[0m\n\u001b[1;32m    218\u001b[0m         \u001b[0murl\u001b[0m \u001b[0;34m=\u001b[0m \u001b[0mself\u001b[0m\u001b[0;34m.\u001b[0m\u001b[0murl\u001b[0m\u001b[0;34m[\u001b[0m\u001b[0mname\u001b[0m\u001b[0;34m]\u001b[0m\u001b[0;34m\u001b[0m\u001b[0;34m\u001b[0m\u001b[0m\n\u001b[1;32m    219\u001b[0m         \u001b[0mname\u001b[0m \u001b[0;34m=\u001b[0m \u001b[0;34m\"glove.{}.{}d.txt\"\u001b[0m\u001b[0;34m.\u001b[0m\u001b[0mformat\u001b[0m\u001b[0;34m(\u001b[0m\u001b[0mname\u001b[0m\u001b[0;34m,\u001b[0m \u001b[0mstr\u001b[0m\u001b[0;34m(\u001b[0m\u001b[0mdim\u001b[0m\u001b[0;34m)\u001b[0m\u001b[0;34m)\u001b[0m\u001b[0;34m\u001b[0m\u001b[0;34m\u001b[0m\u001b[0m\n\u001b[0;32m--> 220\u001b[0;31m         \u001b[0msuper\u001b[0m\u001b[0;34m(\u001b[0m\u001b[0mGloVe\u001b[0m\u001b[0;34m,\u001b[0m \u001b[0mself\u001b[0m\u001b[0;34m)\u001b[0m\u001b[0;34m.\u001b[0m\u001b[0m__init__\u001b[0m\u001b[0;34m(\u001b[0m\u001b[0mname\u001b[0m\u001b[0;34m,\u001b[0m \u001b[0murl\u001b[0m\u001b[0;34m=\u001b[0m\u001b[0murl\u001b[0m\u001b[0;34m,\u001b[0m \u001b[0;34m**\u001b[0m\u001b[0mkwargs\u001b[0m\u001b[0;34m)\u001b[0m\u001b[0;34m\u001b[0m\u001b[0;34m\u001b[0m\u001b[0m\n\u001b[0m\u001b[1;32m    221\u001b[0m \u001b[0;34m\u001b[0m\u001b[0m\n\u001b[1;32m    222\u001b[0m \u001b[0;34m\u001b[0m\u001b[0m\n",
      "\u001b[0;32m/opt/conda/lib/python3.7/site-packages/torchtext/vocab/vectors.py\u001b[0m in \u001b[0;36m__init__\u001b[0;34m(self, name, cache, url, unk_init, max_vectors)\u001b[0m\n\u001b[1;32m     57\u001b[0m         \u001b[0mself\u001b[0m\u001b[0;34m.\u001b[0m\u001b[0mdim\u001b[0m \u001b[0;34m=\u001b[0m \u001b[0;32mNone\u001b[0m\u001b[0;34m\u001b[0m\u001b[0;34m\u001b[0m\u001b[0m\n\u001b[1;32m     58\u001b[0m         \u001b[0mself\u001b[0m\u001b[0;34m.\u001b[0m\u001b[0munk_init\u001b[0m \u001b[0;34m=\u001b[0m \u001b[0mtorch\u001b[0m\u001b[0;34m.\u001b[0m\u001b[0mTensor\u001b[0m\u001b[0;34m.\u001b[0m\u001b[0mzero_\u001b[0m \u001b[0;32mif\u001b[0m \u001b[0munk_init\u001b[0m \u001b[0;32mis\u001b[0m \u001b[0;32mNone\u001b[0m \u001b[0;32melse\u001b[0m \u001b[0munk_init\u001b[0m\u001b[0;34m\u001b[0m\u001b[0;34m\u001b[0m\u001b[0m\n\u001b[0;32m---> 59\u001b[0;31m         \u001b[0mself\u001b[0m\u001b[0;34m.\u001b[0m\u001b[0mcache\u001b[0m\u001b[0;34m(\u001b[0m\u001b[0mname\u001b[0m\u001b[0;34m,\u001b[0m \u001b[0mcache\u001b[0m\u001b[0;34m,\u001b[0m \u001b[0murl\u001b[0m\u001b[0;34m=\u001b[0m\u001b[0murl\u001b[0m\u001b[0;34m,\u001b[0m \u001b[0mmax_vectors\u001b[0m\u001b[0;34m=\u001b[0m\u001b[0mmax_vectors\u001b[0m\u001b[0;34m)\u001b[0m\u001b[0;34m\u001b[0m\u001b[0;34m\u001b[0m\u001b[0m\n\u001b[0m\u001b[1;32m     60\u001b[0m \u001b[0;34m\u001b[0m\u001b[0m\n\u001b[1;32m     61\u001b[0m     \u001b[0;32mdef\u001b[0m \u001b[0m__getitem__\u001b[0m\u001b[0;34m(\u001b[0m\u001b[0mself\u001b[0m\u001b[0;34m,\u001b[0m \u001b[0mtoken\u001b[0m\u001b[0;34m)\u001b[0m\u001b[0;34m:\u001b[0m\u001b[0;34m\u001b[0m\u001b[0;34m\u001b[0m\u001b[0m\n",
      "\u001b[0;32m/opt/conda/lib/python3.7/site-packages/torchtext/vocab/vectors.py\u001b[0m in \u001b[0;36mcache\u001b[0;34m(self, name, cache, url, max_vectors)\u001b[0m\n\u001b[1;32m     93\u001b[0m                     \u001b[0;32mwith\u001b[0m \u001b[0mtqdm\u001b[0m\u001b[0;34m(\u001b[0m\u001b[0munit\u001b[0m\u001b[0;34m=\u001b[0m\u001b[0;34m\"B\"\u001b[0m\u001b[0;34m,\u001b[0m \u001b[0munit_scale\u001b[0m\u001b[0;34m=\u001b[0m\u001b[0;32mTrue\u001b[0m\u001b[0;34m,\u001b[0m \u001b[0mminiters\u001b[0m\u001b[0;34m=\u001b[0m\u001b[0;36m1\u001b[0m\u001b[0;34m,\u001b[0m \u001b[0mdesc\u001b[0m\u001b[0;34m=\u001b[0m\u001b[0mdest\u001b[0m\u001b[0;34m)\u001b[0m \u001b[0;32mas\u001b[0m \u001b[0mt\u001b[0m\u001b[0;34m:\u001b[0m\u001b[0;34m\u001b[0m\u001b[0;34m\u001b[0m\u001b[0m\n\u001b[1;32m     94\u001b[0m                         \u001b[0;32mtry\u001b[0m\u001b[0;34m:\u001b[0m\u001b[0;34m\u001b[0m\u001b[0;34m\u001b[0m\u001b[0m\n\u001b[0;32m---> 95\u001b[0;31m                             \u001b[0murlretrieve\u001b[0m\u001b[0;34m(\u001b[0m\u001b[0murl\u001b[0m\u001b[0;34m,\u001b[0m \u001b[0mdest\u001b[0m\u001b[0;34m,\u001b[0m \u001b[0mreporthook\u001b[0m\u001b[0;34m=\u001b[0m\u001b[0mreporthook\u001b[0m\u001b[0;34m(\u001b[0m\u001b[0mt\u001b[0m\u001b[0;34m)\u001b[0m\u001b[0;34m)\u001b[0m\u001b[0;34m\u001b[0m\u001b[0;34m\u001b[0m\u001b[0m\n\u001b[0m\u001b[1;32m     96\u001b[0m                         \u001b[0;32mexcept\u001b[0m \u001b[0mKeyboardInterrupt\u001b[0m \u001b[0;32mas\u001b[0m \u001b[0me\u001b[0m\u001b[0;34m:\u001b[0m  \u001b[0;31m# remove the partial zip file\u001b[0m\u001b[0;34m\u001b[0m\u001b[0;34m\u001b[0m\u001b[0m\n\u001b[1;32m     97\u001b[0m                             \u001b[0mos\u001b[0m\u001b[0;34m.\u001b[0m\u001b[0mremove\u001b[0m\u001b[0;34m(\u001b[0m\u001b[0mdest\u001b[0m\u001b[0;34m)\u001b[0m\u001b[0;34m\u001b[0m\u001b[0;34m\u001b[0m\u001b[0m\n",
      "\u001b[0;32m/opt/conda/lib/python3.7/urllib/request.py\u001b[0m in \u001b[0;36murlretrieve\u001b[0;34m(url, filename, reporthook, data)\u001b[0m\n\u001b[1;32m    245\u001b[0m     \u001b[0murl_type\u001b[0m\u001b[0;34m,\u001b[0m \u001b[0mpath\u001b[0m \u001b[0;34m=\u001b[0m \u001b[0msplittype\u001b[0m\u001b[0;34m(\u001b[0m\u001b[0murl\u001b[0m\u001b[0;34m)\u001b[0m\u001b[0;34m\u001b[0m\u001b[0;34m\u001b[0m\u001b[0m\n\u001b[1;32m    246\u001b[0m \u001b[0;34m\u001b[0m\u001b[0m\n\u001b[0;32m--> 247\u001b[0;31m     \u001b[0;32mwith\u001b[0m \u001b[0mcontextlib\u001b[0m\u001b[0;34m.\u001b[0m\u001b[0mclosing\u001b[0m\u001b[0;34m(\u001b[0m\u001b[0murlopen\u001b[0m\u001b[0;34m(\u001b[0m\u001b[0murl\u001b[0m\u001b[0;34m,\u001b[0m \u001b[0mdata\u001b[0m\u001b[0;34m)\u001b[0m\u001b[0;34m)\u001b[0m \u001b[0;32mas\u001b[0m \u001b[0mfp\u001b[0m\u001b[0;34m:\u001b[0m\u001b[0;34m\u001b[0m\u001b[0;34m\u001b[0m\u001b[0m\n\u001b[0m\u001b[1;32m    248\u001b[0m         \u001b[0mheaders\u001b[0m \u001b[0;34m=\u001b[0m \u001b[0mfp\u001b[0m\u001b[0;34m.\u001b[0m\u001b[0minfo\u001b[0m\u001b[0;34m(\u001b[0m\u001b[0;34m)\u001b[0m\u001b[0;34m\u001b[0m\u001b[0;34m\u001b[0m\u001b[0m\n\u001b[1;32m    249\u001b[0m \u001b[0;34m\u001b[0m\u001b[0m\n",
      "\u001b[0;32m/opt/conda/lib/python3.7/urllib/request.py\u001b[0m in \u001b[0;36murlopen\u001b[0;34m(url, data, timeout, cafile, capath, cadefault, context)\u001b[0m\n\u001b[1;32m    220\u001b[0m     \u001b[0;32melse\u001b[0m\u001b[0;34m:\u001b[0m\u001b[0;34m\u001b[0m\u001b[0;34m\u001b[0m\u001b[0m\n\u001b[1;32m    221\u001b[0m         \u001b[0mopener\u001b[0m \u001b[0;34m=\u001b[0m \u001b[0m_opener\u001b[0m\u001b[0;34m\u001b[0m\u001b[0;34m\u001b[0m\u001b[0m\n\u001b[0;32m--> 222\u001b[0;31m     \u001b[0;32mreturn\u001b[0m \u001b[0mopener\u001b[0m\u001b[0;34m.\u001b[0m\u001b[0mopen\u001b[0m\u001b[0;34m(\u001b[0m\u001b[0murl\u001b[0m\u001b[0;34m,\u001b[0m \u001b[0mdata\u001b[0m\u001b[0;34m,\u001b[0m \u001b[0mtimeout\u001b[0m\u001b[0;34m)\u001b[0m\u001b[0;34m\u001b[0m\u001b[0;34m\u001b[0m\u001b[0m\n\u001b[0m\u001b[1;32m    223\u001b[0m \u001b[0;34m\u001b[0m\u001b[0m\n\u001b[1;32m    224\u001b[0m \u001b[0;32mdef\u001b[0m \u001b[0minstall_opener\u001b[0m\u001b[0;34m(\u001b[0m\u001b[0mopener\u001b[0m\u001b[0;34m)\u001b[0m\u001b[0;34m:\u001b[0m\u001b[0;34m\u001b[0m\u001b[0;34m\u001b[0m\u001b[0m\n",
      "\u001b[0;32m/opt/conda/lib/python3.7/urllib/request.py\u001b[0m in \u001b[0;36mopen\u001b[0;34m(self, fullurl, data, timeout)\u001b[0m\n\u001b[1;32m    529\u001b[0m         \u001b[0;32mfor\u001b[0m \u001b[0mprocessor\u001b[0m \u001b[0;32min\u001b[0m \u001b[0mself\u001b[0m\u001b[0;34m.\u001b[0m\u001b[0mprocess_response\u001b[0m\u001b[0;34m.\u001b[0m\u001b[0mget\u001b[0m\u001b[0;34m(\u001b[0m\u001b[0mprotocol\u001b[0m\u001b[0;34m,\u001b[0m \u001b[0;34m[\u001b[0m\u001b[0;34m]\u001b[0m\u001b[0;34m)\u001b[0m\u001b[0;34m:\u001b[0m\u001b[0;34m\u001b[0m\u001b[0;34m\u001b[0m\u001b[0m\n\u001b[1;32m    530\u001b[0m             \u001b[0mmeth\u001b[0m \u001b[0;34m=\u001b[0m \u001b[0mgetattr\u001b[0m\u001b[0;34m(\u001b[0m\u001b[0mprocessor\u001b[0m\u001b[0;34m,\u001b[0m \u001b[0mmeth_name\u001b[0m\u001b[0;34m)\u001b[0m\u001b[0;34m\u001b[0m\u001b[0;34m\u001b[0m\u001b[0m\n\u001b[0;32m--> 531\u001b[0;31m             \u001b[0mresponse\u001b[0m \u001b[0;34m=\u001b[0m \u001b[0mmeth\u001b[0m\u001b[0;34m(\u001b[0m\u001b[0mreq\u001b[0m\u001b[0;34m,\u001b[0m \u001b[0mresponse\u001b[0m\u001b[0;34m)\u001b[0m\u001b[0;34m\u001b[0m\u001b[0;34m\u001b[0m\u001b[0m\n\u001b[0m\u001b[1;32m    532\u001b[0m \u001b[0;34m\u001b[0m\u001b[0m\n\u001b[1;32m    533\u001b[0m         \u001b[0;32mreturn\u001b[0m \u001b[0mresponse\u001b[0m\u001b[0;34m\u001b[0m\u001b[0;34m\u001b[0m\u001b[0m\n",
      "\u001b[0;32m/opt/conda/lib/python3.7/urllib/request.py\u001b[0m in \u001b[0;36mhttp_response\u001b[0;34m(self, request, response)\u001b[0m\n\u001b[1;32m    639\u001b[0m         \u001b[0;32mif\u001b[0m \u001b[0;32mnot\u001b[0m \u001b[0;34m(\u001b[0m\u001b[0;36m200\u001b[0m \u001b[0;34m<=\u001b[0m \u001b[0mcode\u001b[0m \u001b[0;34m<\u001b[0m \u001b[0;36m300\u001b[0m\u001b[0;34m)\u001b[0m\u001b[0;34m:\u001b[0m\u001b[0;34m\u001b[0m\u001b[0;34m\u001b[0m\u001b[0m\n\u001b[1;32m    640\u001b[0m             response = self.parent.error(\n\u001b[0;32m--> 641\u001b[0;31m                 'http', request, response, code, msg, hdrs)\n\u001b[0m\u001b[1;32m    642\u001b[0m \u001b[0;34m\u001b[0m\u001b[0m\n\u001b[1;32m    643\u001b[0m         \u001b[0;32mreturn\u001b[0m \u001b[0mresponse\u001b[0m\u001b[0;34m\u001b[0m\u001b[0;34m\u001b[0m\u001b[0m\n",
      "\u001b[0;32m/opt/conda/lib/python3.7/urllib/request.py\u001b[0m in \u001b[0;36merror\u001b[0;34m(self, proto, *args)\u001b[0m\n\u001b[1;32m    567\u001b[0m         \u001b[0;32mif\u001b[0m \u001b[0mhttp_err\u001b[0m\u001b[0;34m:\u001b[0m\u001b[0;34m\u001b[0m\u001b[0;34m\u001b[0m\u001b[0m\n\u001b[1;32m    568\u001b[0m             \u001b[0margs\u001b[0m \u001b[0;34m=\u001b[0m \u001b[0;34m(\u001b[0m\u001b[0mdict\u001b[0m\u001b[0;34m,\u001b[0m \u001b[0;34m'default'\u001b[0m\u001b[0;34m,\u001b[0m \u001b[0;34m'http_error_default'\u001b[0m\u001b[0;34m)\u001b[0m \u001b[0;34m+\u001b[0m \u001b[0morig_args\u001b[0m\u001b[0;34m\u001b[0m\u001b[0;34m\u001b[0m\u001b[0m\n\u001b[0;32m--> 569\u001b[0;31m             \u001b[0;32mreturn\u001b[0m \u001b[0mself\u001b[0m\u001b[0;34m.\u001b[0m\u001b[0m_call_chain\u001b[0m\u001b[0;34m(\u001b[0m\u001b[0;34m*\u001b[0m\u001b[0margs\u001b[0m\u001b[0;34m)\u001b[0m\u001b[0;34m\u001b[0m\u001b[0;34m\u001b[0m\u001b[0m\n\u001b[0m\u001b[1;32m    570\u001b[0m \u001b[0;34m\u001b[0m\u001b[0m\n\u001b[1;32m    571\u001b[0m \u001b[0;31m# XXX probably also want an abstract factory that knows when it makes\u001b[0m\u001b[0;34m\u001b[0m\u001b[0;34m\u001b[0m\u001b[0;34m\u001b[0m\u001b[0m\n",
      "\u001b[0;32m/opt/conda/lib/python3.7/urllib/request.py\u001b[0m in \u001b[0;36m_call_chain\u001b[0;34m(self, chain, kind, meth_name, *args)\u001b[0m\n\u001b[1;32m    501\u001b[0m         \u001b[0;32mfor\u001b[0m \u001b[0mhandler\u001b[0m \u001b[0;32min\u001b[0m \u001b[0mhandlers\u001b[0m\u001b[0;34m:\u001b[0m\u001b[0;34m\u001b[0m\u001b[0;34m\u001b[0m\u001b[0m\n\u001b[1;32m    502\u001b[0m             \u001b[0mfunc\u001b[0m \u001b[0;34m=\u001b[0m \u001b[0mgetattr\u001b[0m\u001b[0;34m(\u001b[0m\u001b[0mhandler\u001b[0m\u001b[0;34m,\u001b[0m \u001b[0mmeth_name\u001b[0m\u001b[0;34m)\u001b[0m\u001b[0;34m\u001b[0m\u001b[0;34m\u001b[0m\u001b[0m\n\u001b[0;32m--> 503\u001b[0;31m             \u001b[0mresult\u001b[0m \u001b[0;34m=\u001b[0m \u001b[0mfunc\u001b[0m\u001b[0;34m(\u001b[0m\u001b[0;34m*\u001b[0m\u001b[0margs\u001b[0m\u001b[0;34m)\u001b[0m\u001b[0;34m\u001b[0m\u001b[0;34m\u001b[0m\u001b[0m\n\u001b[0m\u001b[1;32m    504\u001b[0m             \u001b[0;32mif\u001b[0m \u001b[0mresult\u001b[0m \u001b[0;32mis\u001b[0m \u001b[0;32mnot\u001b[0m \u001b[0;32mNone\u001b[0m\u001b[0;34m:\u001b[0m\u001b[0;34m\u001b[0m\u001b[0;34m\u001b[0m\u001b[0m\n\u001b[1;32m    505\u001b[0m                 \u001b[0;32mreturn\u001b[0m \u001b[0mresult\u001b[0m\u001b[0;34m\u001b[0m\u001b[0;34m\u001b[0m\u001b[0m\n",
      "\u001b[0;32m/opt/conda/lib/python3.7/urllib/request.py\u001b[0m in \u001b[0;36mhttp_error_default\u001b[0;34m(self, req, fp, code, msg, hdrs)\u001b[0m\n\u001b[1;32m    647\u001b[0m \u001b[0;32mclass\u001b[0m \u001b[0mHTTPDefaultErrorHandler\u001b[0m\u001b[0;34m(\u001b[0m\u001b[0mBaseHandler\u001b[0m\u001b[0;34m)\u001b[0m\u001b[0;34m:\u001b[0m\u001b[0;34m\u001b[0m\u001b[0;34m\u001b[0m\u001b[0m\n\u001b[1;32m    648\u001b[0m     \u001b[0;32mdef\u001b[0m \u001b[0mhttp_error_default\u001b[0m\u001b[0;34m(\u001b[0m\u001b[0mself\u001b[0m\u001b[0;34m,\u001b[0m \u001b[0mreq\u001b[0m\u001b[0;34m,\u001b[0m \u001b[0mfp\u001b[0m\u001b[0;34m,\u001b[0m \u001b[0mcode\u001b[0m\u001b[0;34m,\u001b[0m \u001b[0mmsg\u001b[0m\u001b[0;34m,\u001b[0m \u001b[0mhdrs\u001b[0m\u001b[0;34m)\u001b[0m\u001b[0;34m:\u001b[0m\u001b[0;34m\u001b[0m\u001b[0;34m\u001b[0m\u001b[0m\n\u001b[0;32m--> 649\u001b[0;31m         \u001b[0;32mraise\u001b[0m \u001b[0mHTTPError\u001b[0m\u001b[0;34m(\u001b[0m\u001b[0mreq\u001b[0m\u001b[0;34m.\u001b[0m\u001b[0mfull_url\u001b[0m\u001b[0;34m,\u001b[0m \u001b[0mcode\u001b[0m\u001b[0;34m,\u001b[0m \u001b[0mmsg\u001b[0m\u001b[0;34m,\u001b[0m \u001b[0mhdrs\u001b[0m\u001b[0;34m,\u001b[0m \u001b[0mfp\u001b[0m\u001b[0;34m)\u001b[0m\u001b[0;34m\u001b[0m\u001b[0;34m\u001b[0m\u001b[0m\n\u001b[0m\u001b[1;32m    650\u001b[0m \u001b[0;34m\u001b[0m\u001b[0m\n\u001b[1;32m    651\u001b[0m \u001b[0;32mclass\u001b[0m \u001b[0mHTTPRedirectHandler\u001b[0m\u001b[0;34m(\u001b[0m\u001b[0mBaseHandler\u001b[0m\u001b[0;34m)\u001b[0m\u001b[0;34m:\u001b[0m\u001b[0;34m\u001b[0m\u001b[0;34m\u001b[0m\u001b[0m\n",
      "\u001b[0;31mHTTPError\u001b[0m: HTTP Error 503: Service Unavailable"
     ]
    }
   ],
   "source": [
    "from torchtext.vocab import GloVe\n",
    "glove = GloVe()\n",
    "def print_closest_words(vec, n=5):\n",
    "    dists = torch.norm(glove.vectors - vec, dim=1)     # compute distances to all words\n",
    "    lst = sorted(enumerate(dists.numpy()), key=lambda x: x[1]) # sort by distance\n",
    "    for idx, difference in lst[1:n+1]:                         # take the top n\n",
    "        print(glove.itos[idx], difference)"
   ]
  },
  {
   "cell_type": "code",
   "execution_count": 107,
   "metadata": {},
   "outputs": [
    {
     "ename": "TypeError",
     "evalue": "'type' object is not subscriptable",
     "output_type": "error",
     "traceback": [
      "\u001b[0;31m---------------------------------------------------------------------------\u001b[0m",
      "\u001b[0;31mTypeError\u001b[0m                                 Traceback (most recent call last)",
      "\u001b[0;32m<ipython-input-107-d05581a3f752>\u001b[0m in \u001b[0;36m<module>\u001b[0;34m\u001b[0m\n\u001b[0;32m----> 1\u001b[0;31m \u001b[0mprint_closest_words\u001b[0m\u001b[0;34m(\u001b[0m\u001b[0mglove\u001b[0m\u001b[0;34m[\u001b[0m\u001b[0;34m\"cat\"\u001b[0m\u001b[0;34m]\u001b[0m\u001b[0;34m,\u001b[0m \u001b[0mn\u001b[0m\u001b[0;34m=\u001b[0m\u001b[0;36m10\u001b[0m\u001b[0;34m)\u001b[0m\u001b[0;34m\u001b[0m\u001b[0;34m\u001b[0m\u001b[0m\n\u001b[0m",
      "\u001b[0;31mTypeError\u001b[0m: 'type' object is not subscriptable"
     ]
    }
   ],
   "source": [
    "print_closest_words(glove[\"cat\"], n=10)"
   ]
  },
  {
   "cell_type": "code",
   "execution_count": 7,
   "metadata": {},
   "outputs": [
    {
     "ename": "ModuleNotFoundError",
     "evalue": "No module named 'spacy'",
     "output_type": "error",
     "traceback": [
      "\u001b[0;31m---------------------------------------------------------------------------\u001b[0m",
      "\u001b[0;31mModuleNotFoundError\u001b[0m                       Traceback (most recent call last)",
      "\u001b[0;32m<ipython-input-7-e4c801bd61f2>\u001b[0m in \u001b[0;36m<module>\u001b[0;34m\u001b[0m\n\u001b[0;32m----> 1\u001b[0;31m \u001b[0;32mimport\u001b[0m \u001b[0mspacy\u001b[0m\u001b[0;34m\u001b[0m\u001b[0;34m\u001b[0m\u001b[0m\n\u001b[0m\u001b[1;32m      2\u001b[0m \u001b[0mnlp\u001b[0m \u001b[0;34m=\u001b[0m \u001b[0mspacy\u001b[0m\u001b[0;34m.\u001b[0m\u001b[0mload\u001b[0m\u001b[0;34m(\u001b[0m\u001b[0;34m'en_core_web_sm'\u001b[0m\u001b[0;34m)\u001b[0m\u001b[0;34m\u001b[0m\u001b[0;34m\u001b[0m\u001b[0m\n",
      "\u001b[0;31mModuleNotFoundError\u001b[0m: No module named 'spacy'"
     ]
    }
   ],
   "source": [
    "import spacy\n",
    "nlp = spacy.load('en_core_web_sm')"
   ]
  },
  {
   "cell_type": "code",
   "execution_count": 13,
   "metadata": {},
   "outputs": [],
   "source": [
    "import os\n",
    "\n",
    "import sys\n",
    "\n",
    "import certifi\n",
    "\n",
    "os.environ['REQUESTS_CA_BUNDLE'] = os.path.join(os.path.dirname(sys.argv[0]), certifi.where())"
   ]
  },
  {
   "cell_type": "code",
   "execution_count": 15,
   "metadata": {},
   "outputs": [
    {
     "name": "stdout",
     "output_type": "stream",
     "text": [
      "Keyring is skipped due to an exception: 'keyring.backends'\n",
      "Looking in indexes: https://artifactory.alight.com/artifactory/api/pypi/python-pypi-remote/simple\n",
      "Collecting en-core-web-sm==3.5.0\n",
      "  Downloading https://github.com/explosion/spacy-models/releases/download/en_core_web_sm-3.5.0/en_core_web_sm-3.5.0-py3-none-any.whl (12.8 MB)\n",
      "\u001b[2K     \u001b[90m━━━━━━━━━━━━━━━━━━━━━━━━━━━━━━━━━━━━━━━━\u001b[0m \u001b[32m12.8/12.8 MB\u001b[0m \u001b[31m40.2 MB/s\u001b[0m eta \u001b[36m0:00:00\u001b[0m00:01\u001b[0m0:01\u001b[0m\n",
      "\u001b[?25hRequirement already satisfied: spacy<3.6.0,>=3.5.0 in /opt/conda/lib/python3.7/site-packages (from en-core-web-sm==3.5.0) (3.5.0)\n",
      "Requirement already satisfied: typer<0.8.0,>=0.3.0 in /opt/conda/lib/python3.7/site-packages (from spacy<3.6.0,>=3.5.0->en-core-web-sm==3.5.0) (0.7.0)\n",
      "Requirement already satisfied: jinja2 in /opt/conda/lib/python3.7/site-packages (from spacy<3.6.0,>=3.5.0->en-core-web-sm==3.5.0) (3.1.2)\n",
      "Requirement already satisfied: requests<3.0.0,>=2.13.0 in /opt/conda/lib/python3.7/site-packages (from spacy<3.6.0,>=3.5.0->en-core-web-sm==3.5.0) (2.28.1)\n",
      "Requirement already satisfied: pathy>=0.10.0 in /opt/conda/lib/python3.7/site-packages (from spacy<3.6.0,>=3.5.0->en-core-web-sm==3.5.0) (0.10.1)\n",
      "Requirement already satisfied: typing-extensions<4.5.0,>=3.7.4.1 in /opt/conda/lib/python3.7/site-packages (from spacy<3.6.0,>=3.5.0->en-core-web-sm==3.5.0) (4.4.0)\n",
      "Requirement already satisfied: wasabi<1.2.0,>=0.9.1 in /opt/conda/lib/python3.7/site-packages (from spacy<3.6.0,>=3.5.0->en-core-web-sm==3.5.0) (1.1.1)\n",
      "Requirement already satisfied: spacy-loggers<2.0.0,>=1.0.0 in /opt/conda/lib/python3.7/site-packages (from spacy<3.6.0,>=3.5.0->en-core-web-sm==3.5.0) (1.0.4)\n",
      "Requirement already satisfied: langcodes<4.0.0,>=3.2.0 in /opt/conda/lib/python3.7/site-packages (from spacy<3.6.0,>=3.5.0->en-core-web-sm==3.5.0) (3.3.0)\n",
      "Requirement already satisfied: preshed<3.1.0,>=3.0.2 in /opt/conda/lib/python3.7/site-packages (from spacy<3.6.0,>=3.5.0->en-core-web-sm==3.5.0) (3.0.8)\n",
      "Requirement already satisfied: spacy-legacy<3.1.0,>=3.0.11 in /opt/conda/lib/python3.7/site-packages (from spacy<3.6.0,>=3.5.0->en-core-web-sm==3.5.0) (3.0.12)\n",
      "Requirement already satisfied: pydantic!=1.8,!=1.8.1,<1.11.0,>=1.7.4 in /opt/conda/lib/python3.7/site-packages (from spacy<3.6.0,>=3.5.0->en-core-web-sm==3.5.0) (1.10.4)\n",
      "Requirement already satisfied: packaging>=20.0 in /opt/conda/lib/python3.7/site-packages (from spacy<3.6.0,>=3.5.0->en-core-web-sm==3.5.0) (20.1)\n",
      "Requirement already satisfied: numpy>=1.15.0 in /opt/conda/lib/python3.7/site-packages (from spacy<3.6.0,>=3.5.0->en-core-web-sm==3.5.0) (1.21.6)\n",
      "Requirement already satisfied: thinc<8.2.0,>=8.1.0 in /opt/conda/lib/python3.7/site-packages (from spacy<3.6.0,>=3.5.0->en-core-web-sm==3.5.0) (8.1.7)\n",
      "Requirement already satisfied: srsly<3.0.0,>=2.4.3 in /opt/conda/lib/python3.7/site-packages (from spacy<3.6.0,>=3.5.0->en-core-web-sm==3.5.0) (2.4.5)\n",
      "Requirement already satisfied: smart-open<7.0.0,>=5.2.1 in /opt/conda/lib/python3.7/site-packages (from spacy<3.6.0,>=3.5.0->en-core-web-sm==3.5.0) (6.3.0)\n",
      "Requirement already satisfied: setuptools in /opt/conda/lib/python3.7/site-packages (from spacy<3.6.0,>=3.5.0->en-core-web-sm==3.5.0) (59.3.0)\n",
      "Requirement already satisfied: tqdm<5.0.0,>=4.38.0 in /opt/conda/lib/python3.7/site-packages (from spacy<3.6.0,>=3.5.0->en-core-web-sm==3.5.0) (4.42.1)\n",
      "Requirement already satisfied: catalogue<2.1.0,>=2.0.6 in /opt/conda/lib/python3.7/site-packages (from spacy<3.6.0,>=3.5.0->en-core-web-sm==3.5.0) (2.0.8)\n",
      "Requirement already satisfied: murmurhash<1.1.0,>=0.28.0 in /opt/conda/lib/python3.7/site-packages (from spacy<3.6.0,>=3.5.0->en-core-web-sm==3.5.0) (1.0.9)\n",
      "Requirement already satisfied: cymem<2.1.0,>=2.0.2 in /opt/conda/lib/python3.7/site-packages (from spacy<3.6.0,>=3.5.0->en-core-web-sm==3.5.0) (2.0.7)\n",
      "Requirement already satisfied: zipp>=0.5 in /opt/conda/lib/python3.7/site-packages (from catalogue<2.1.0,>=2.0.6->spacy<3.6.0,>=3.5.0->en-core-web-sm==3.5.0) (3.11.0)\n",
      "Requirement already satisfied: pyparsing>=2.0.2 in /opt/conda/lib/python3.7/site-packages (from packaging>=20.0->spacy<3.6.0,>=3.5.0->en-core-web-sm==3.5.0) (2.4.6)\n",
      "Requirement already satisfied: six in /opt/conda/lib/python3.7/site-packages (from packaging>=20.0->spacy<3.6.0,>=3.5.0->en-core-web-sm==3.5.0) (1.14.0)\n",
      "Requirement already satisfied: idna<4,>=2.5 in /opt/conda/lib/python3.7/site-packages (from requests<3.0.0,>=2.13.0->spacy<3.6.0,>=3.5.0->en-core-web-sm==3.5.0) (2.8)\n",
      "Requirement already satisfied: urllib3<1.27,>=1.21.1 in /opt/conda/lib/python3.7/site-packages (from requests<3.0.0,>=2.13.0->spacy<3.6.0,>=3.5.0->en-core-web-sm==3.5.0) (1.26.13)\n",
      "Requirement already satisfied: charset-normalizer<3,>=2 in /opt/conda/lib/python3.7/site-packages (from requests<3.0.0,>=2.13.0->spacy<3.6.0,>=3.5.0->en-core-web-sm==3.5.0) (2.0.4)\n",
      "Requirement already satisfied: certifi>=2017.4.17 in /opt/conda/lib/python3.7/site-packages (from requests<3.0.0,>=2.13.0->spacy<3.6.0,>=3.5.0->en-core-web-sm==3.5.0) (2022.9.24)\n",
      "Requirement already satisfied: blis<0.8.0,>=0.7.8 in /opt/conda/lib/python3.7/site-packages (from thinc<8.2.0,>=8.1.0->spacy<3.6.0,>=3.5.0->en-core-web-sm==3.5.0) (0.7.9)\n",
      "Requirement already satisfied: confection<1.0.0,>=0.0.1 in /opt/conda/lib/python3.7/site-packages (from thinc<8.2.0,>=8.1.0->spacy<3.6.0,>=3.5.0->en-core-web-sm==3.5.0) (0.0.4)\n",
      "Requirement already satisfied: click<9.0.0,>=7.1.1 in /opt/conda/lib/python3.7/site-packages (from typer<0.8.0,>=0.3.0->spacy<3.6.0,>=3.5.0->en-core-web-sm==3.5.0) (8.1.3)\n",
      "Requirement already satisfied: MarkupSafe>=2.0 in /opt/conda/lib/python3.7/site-packages (from jinja2->spacy<3.6.0,>=3.5.0->en-core-web-sm==3.5.0) (2.1.1)\n",
      "Requirement already satisfied: importlib-metadata in /opt/conda/lib/python3.7/site-packages (from click<9.0.0,>=7.1.1->typer<0.8.0,>=0.3.0->spacy<3.6.0,>=3.5.0->en-core-web-sm==3.5.0) (5.1.0)\n",
      "Installing collected packages: en-core-web-sm\n",
      "Successfully installed en-core-web-sm-3.5.0\n",
      "\u001b[33mWARNING: Running pip as the 'root' user can result in broken permissions and conflicting behaviour with the system package manager. It is recommended to use a virtual environment instead: https://pip.pypa.io/warnings/venv\u001b[0m\u001b[33m\n",
      "\u001b[0m\u001b[38;5;2m✔ Download and installation successful\u001b[0m\n",
      "You can now load the package via spacy.load('en_core_web_sm')\n"
     ]
    }
   ],
   "source": [
    "!python -m spacy download en_core_web_sm"
   ]
  },
  {
   "cell_type": "code",
   "execution_count": 16,
   "metadata": {},
   "outputs": [],
   "source": [
    "import spacy\n",
    "nlp = spacy.load(\"en_core_web_sm\")"
   ]
  },
  {
   "cell_type": "code",
   "execution_count": 24,
   "metadata": {},
   "outputs": [],
   "source": [
    "df1 = df['page_name'].unique()"
   ]
  },
  {
   "cell_type": "code",
   "execution_count": 18,
   "metadata": {},
   "outputs": [
    {
     "data": {
      "text/plain": [
       "array(['BAC Workday Outage',\n",
       "       'financial_wellbeing - https://leplb0180.upoint.alight.com/web/homedepot/financial_wellbeing',\n",
       "       'financial_wellbeing', 'support-for-you-family-post',\n",
       "       'Workday Logoff', 'wellbeingofferings',\n",
       "       'Page -  - https://leplb0070.portal.hewitt.com/ah-angular-afirst-web/#/web/walgreensfamily/future-coverage',\n",
       "       'HolidayNotPR', 'emot-well-being-IST', 'financialwellbeing',\n",
       "       'workday-logoff-routing', 'fin-wellbeing', 'financial-wellbeing',\n",
       "       'financial-wellbeing - https://leplb0330.upoint.alight.com/web/hii/financial-wellbeing',\n",
       "       'wellbeing',\n",
       "       'bac-workday-outage - https://leplb0250.upoint.alight.com/web/bac/bac-workday-outage#/routing',\n",
       "       'family', 'float-holiday-information',\n",
       "       'financialwellbeing - https://leplb0770.upoint.alight.com/web/citigroup/financialwellbeing',\n",
       "       'wellbeing-rewards',\n",
       "       'Page -  - https://leplb0070.upoint.alight.com/ah-angular-afirst-web/#/web/walgreensfamily/home',\n",
       "       'wellbeing - https://leplb0060.portal.hewitt.com/web/allstate/wellbeing',\n",
       "       'preauth-wellbeing', 'preauth-wellbeing-routing', 'cm-well-being',\n",
       "       'financialwellbeing - https://leplb0260.upoint.alight.com/web/upmc/financialwellbeing',\n",
       "       'IST_EAP', 'well-being-tab',\n",
       "       'well-being-tab - https://leplb0030.upoint.alight.com/web/ally/well-being-tab',\n",
       "       'EAPPAGE', 'health_wellbeing',\n",
       "       'health_wellbeing - https://leplb0180.upoint.alight.com/web/homedepot/health_wellbeing',\n",
       "       'float-holiday-information - https://leplb0720.upoint.alight.com/web/exelon/float-holiday-information',\n",
       "       'my-well-being', 'ytrwellbeing',\n",
       "       'emotional_wellbeing - https://leplb0270.upoint.alight.com/web/hearstbenefits//emotional_wellbeing',\n",
       "       'financial_wellbeing - https://leplb0270.upoint.alight.com/web/hearstbenefits//financial_wellbeing',\n",
       "       'health_wellbeing - https://leplb0180.portal.hewitt.com/web/homedepot/health_wellbeing',\n",
       "       'OthrBeneEAP', 'Vacation & Holiday',\n",
       "       'contentPage - Fitness savings and flexible support',\n",
       "       'contact-us-primary - https://leplb0070.upoint.alight.com/web/walgreensfamily/contact-us-primary',\n",
       "       'ybr - https://leplb0070.upoint.alight.com/web/walgreensfamily/ybr',\n",
       "       'health-and-insurance-lnd-pg - https://leplb0070.upoint.alight.com/web/walgreensfamily/health-and-insurance-lnd-pg',\n",
       "       'life-changes - https://leplb0070.upoint.alight.com/web/walgreensfamily/life-changes',\n",
       "       'gmc - https://leplb0070.upoint.alight.com/web/walgreensfamily/gmc',\n",
       "       'home - https://leplb0070.upoint.alight.com/web/walgreensfamily/home',\n",
       "       'wellbeingofferings - https://leplb0420.upoint.alight.com/web/target/wellbeingofferings',\n",
       "       'wellbeing-incentive',\n",
       "       'well-being - https://leplb0640.upoint.alight.com/web/landolakes/well-being',\n",
       "       'well-being2',\n",
       "       'contentPage - CE Employee Assistance Program (EAP)',\n",
       "       'contentPage - Holidays',\n",
       "       'contentPage - Supplemental Medical Plans',\n",
       "       'contentPage - Holiday Calendars',\n",
       "       'contentPage - Pay & Holiday Calendars', 'wellbeing_ce',\n",
       "       'Health: Plan Details Screen - Supplemental',\n",
       "       'home - https://leplb0070.portal.hewitt.com/web/walgreensfamily/home',\n",
       "       'health-enrollment-flow - https://leplb0070.portal.hewitt.com/web/walgreensfamily/health-enrollment-flow',\n",
       "       'health-enrollment - https://leplb0070.portal.hewitt.com/web/walgreensfamily/health-enrollment',\n",
       "       'my-wellbeing', 'emotional', 'IST_EAPInfoPg', 'IST_PAGE_EAP',\n",
       "       'financialwellbeing - https://leplb0770.portal.hewitt.com/web/citigroup/financialwellbeing',\n",
       "       'contentPage - Physical well-being',\n",
       "       'contentPage - 2023 Stores Non-CA and Non-MA (non-union) Holiday Calendar',\n",
       "       'IST_PREAUTH_EAP',\n",
       "       'Page -  - https://leplb0070.portal.hewitt.com/ah-angular-afirst-web/#/web/walgreensfamily/home',\n",
       "       'financialwellbeing - https://leplb0800.portal.hewitt.com/web/ahrp/financialwellbeing',\n",
       "       'Page -  - https://leplb0070.upoint.alight.com/ah-angular-afirst-web/#/web/walgreensfamily/current-coverage-page',\n",
       "       'financialwellbeing - https://leplb0190.upoint.alight.com/web/usbank/financialwellbeing',\n",
       "       'fam-support-IST',\n",
       "       'Page -  - https://leplb0070.upoint.alight.com/ah-angular-afirst-web/#/web/walgreensfamily/future-coverage',\n",
       "       'ysalandingpage - https://leplb0070.portal.hewitt.com/web/walgreensfamily/ysalandingpage',\n",
       "       'health-and-insurance-lnd-pg - https://leplb0070.portal.hewitt.com/web/walgreensfamily/health-and-insurance-lnd-pg',\n",
       "       'Page -  - https://leplb0070.upoint.alight.com/ah-angular-afirst-web/#/web/walgreensfamily/insuranceOtherBenefits',\n",
       "       'health-rienrollment?eventClsnCd=ANEN&linkId=HM_RIENRL_WLCMPG_ANEN&tileid=AE_Banner_1b___Enroll_now_through_Thursday__Dec_3_e0de8ae02733&tileTechnicalName=AE_Banner_1b___Enroll_now_through_Thursday__Dec_3_e0de8ae02733&baseClntInd=Client&technicalNameForLink=HM_RIENRL_WLCMPG_ANEN&userFriendlyNameForLink=Link%20for%20HM_RIENRL_WLCMPG_ANEN&domain=Ben-HM&baseClientIndicator=Base&isUCCELink=true',\n",
       "       'communitysupport',\n",
       "       'HmPortalEnroll025PlanElectionOtherOptionChoicePage_EAP'],\n",
       "      dtype=object)"
      ]
     },
     "execution_count": 18,
     "metadata": {},
     "output_type": "execute_result"
    }
   ],
   "source": [
    "df['page_name'].unique()"
   ]
  },
  {
   "cell_type": "code",
   "execution_count": 19,
   "metadata": {},
   "outputs": [],
   "source": [
    "docs = list(nlp.pipe(df.page_name))"
   ]
  },
  {
   "cell_type": "code",
   "execution_count": 21,
   "metadata": {},
   "outputs": [],
   "source": [
    "docs = set(docs)"
   ]
  },
  {
   "cell_type": "code",
   "execution_count": 27,
   "metadata": {},
   "outputs": [
    {
     "data": {
      "text/plain": [
       "array(['BAC Workday Outage',\n",
       "       'financial_wellbeing - https://leplb0180.upoint.alight.com/web/homedepot/financial_wellbeing',\n",
       "       'financial_wellbeing', 'support-for-you-family-post',\n",
       "       'Workday Logoff', 'wellbeingofferings',\n",
       "       'Page -  - https://leplb0070.portal.hewitt.com/ah-angular-afirst-web/#/web/walgreensfamily/future-coverage',\n",
       "       'HolidayNotPR', 'emot-well-being-IST', 'financialwellbeing',\n",
       "       'workday-logoff-routing', 'fin-wellbeing', 'financial-wellbeing',\n",
       "       'financial-wellbeing - https://leplb0330.upoint.alight.com/web/hii/financial-wellbeing',\n",
       "       'wellbeing',\n",
       "       'bac-workday-outage - https://leplb0250.upoint.alight.com/web/bac/bac-workday-outage#/routing',\n",
       "       'family', 'float-holiday-information',\n",
       "       'financialwellbeing - https://leplb0770.upoint.alight.com/web/citigroup/financialwellbeing',\n",
       "       'wellbeing-rewards',\n",
       "       'Page -  - https://leplb0070.upoint.alight.com/ah-angular-afirst-web/#/web/walgreensfamily/home',\n",
       "       'wellbeing - https://leplb0060.portal.hewitt.com/web/allstate/wellbeing',\n",
       "       'preauth-wellbeing', 'preauth-wellbeing-routing', 'cm-well-being',\n",
       "       'financialwellbeing - https://leplb0260.upoint.alight.com/web/upmc/financialwellbeing',\n",
       "       'IST_EAP', 'well-being-tab',\n",
       "       'well-being-tab - https://leplb0030.upoint.alight.com/web/ally/well-being-tab',\n",
       "       'EAPPAGE', 'health_wellbeing',\n",
       "       'health_wellbeing - https://leplb0180.upoint.alight.com/web/homedepot/health_wellbeing',\n",
       "       'float-holiday-information - https://leplb0720.upoint.alight.com/web/exelon/float-holiday-information',\n",
       "       'my-well-being', 'ytrwellbeing',\n",
       "       'emotional_wellbeing - https://leplb0270.upoint.alight.com/web/hearstbenefits//emotional_wellbeing',\n",
       "       'financial_wellbeing - https://leplb0270.upoint.alight.com/web/hearstbenefits//financial_wellbeing',\n",
       "       'health_wellbeing - https://leplb0180.portal.hewitt.com/web/homedepot/health_wellbeing',\n",
       "       'OthrBeneEAP', 'Vacation & Holiday',\n",
       "       'contentPage - Fitness savings and flexible support',\n",
       "       'contact-us-primary - https://leplb0070.upoint.alight.com/web/walgreensfamily/contact-us-primary',\n",
       "       'ybr - https://leplb0070.upoint.alight.com/web/walgreensfamily/ybr',\n",
       "       'health-and-insurance-lnd-pg - https://leplb0070.upoint.alight.com/web/walgreensfamily/health-and-insurance-lnd-pg',\n",
       "       'life-changes - https://leplb0070.upoint.alight.com/web/walgreensfamily/life-changes',\n",
       "       'gmc - https://leplb0070.upoint.alight.com/web/walgreensfamily/gmc',\n",
       "       'home - https://leplb0070.upoint.alight.com/web/walgreensfamily/home',\n",
       "       'wellbeingofferings - https://leplb0420.upoint.alight.com/web/target/wellbeingofferings',\n",
       "       'wellbeing-incentive',\n",
       "       'well-being - https://leplb0640.upoint.alight.com/web/landolakes/well-being',\n",
       "       'well-being2',\n",
       "       'contentPage - CE Employee Assistance Program (EAP)',\n",
       "       'contentPage - Holidays',\n",
       "       'contentPage - Supplemental Medical Plans',\n",
       "       'contentPage - Holiday Calendars',\n",
       "       'contentPage - Pay & Holiday Calendars', 'wellbeing_ce',\n",
       "       'Health: Plan Details Screen - Supplemental',\n",
       "       'home - https://leplb0070.portal.hewitt.com/web/walgreensfamily/home',\n",
       "       'health-enrollment-flow - https://leplb0070.portal.hewitt.com/web/walgreensfamily/health-enrollment-flow',\n",
       "       'health-enrollment - https://leplb0070.portal.hewitt.com/web/walgreensfamily/health-enrollment',\n",
       "       'my-wellbeing', 'emotional', 'IST_EAPInfoPg', 'IST_PAGE_EAP',\n",
       "       'financialwellbeing - https://leplb0770.portal.hewitt.com/web/citigroup/financialwellbeing',\n",
       "       'contentPage - Physical well-being',\n",
       "       'contentPage - 2023 Stores Non-CA and Non-MA (non-union) Holiday Calendar',\n",
       "       'IST_PREAUTH_EAP',\n",
       "       'Page -  - https://leplb0070.portal.hewitt.com/ah-angular-afirst-web/#/web/walgreensfamily/home',\n",
       "       'financialwellbeing - https://leplb0800.portal.hewitt.com/web/ahrp/financialwellbeing',\n",
       "       'Page -  - https://leplb0070.upoint.alight.com/ah-angular-afirst-web/#/web/walgreensfamily/current-coverage-page',\n",
       "       'financialwellbeing - https://leplb0190.upoint.alight.com/web/usbank/financialwellbeing',\n",
       "       'fam-support-IST',\n",
       "       'Page -  - https://leplb0070.upoint.alight.com/ah-angular-afirst-web/#/web/walgreensfamily/future-coverage',\n",
       "       'ysalandingpage - https://leplb0070.portal.hewitt.com/web/walgreensfamily/ysalandingpage',\n",
       "       'health-and-insurance-lnd-pg - https://leplb0070.portal.hewitt.com/web/walgreensfamily/health-and-insurance-lnd-pg',\n",
       "       'Page -  - https://leplb0070.upoint.alight.com/ah-angular-afirst-web/#/web/walgreensfamily/insuranceOtherBenefits',\n",
       "       'health-rienrollment?eventClsnCd=ANEN&linkId=HM_RIENRL_WLCMPG_ANEN&tileid=AE_Banner_1b___Enroll_now_through_Thursday__Dec_3_e0de8ae02733&tileTechnicalName=AE_Banner_1b___Enroll_now_through_Thursday__Dec_3_e0de8ae02733&baseClntInd=Client&technicalNameForLink=HM_RIENRL_WLCMPG_ANEN&userFriendlyNameForLink=Link%20for%20HM_RIENRL_WLCMPG_ANEN&domain=Ben-HM&baseClientIndicator=Base&isUCCELink=true',\n",
       "       'communitysupport',\n",
       "       'HmPortalEnroll025PlanElectionOtherOptionChoicePage_EAP'],\n",
       "      dtype=object)"
      ]
     },
     "execution_count": 27,
     "metadata": {},
     "output_type": "execute_result"
    }
   ],
   "source": [
    "df1"
   ]
  },
  {
   "cell_type": "code",
   "execution_count": 11,
   "metadata": {},
   "outputs": [],
   "source": [
    "x =['parenting', 'family']"
   ]
  },
  {
   "cell_type": "code",
   "execution_count": 17,
   "metadata": {},
   "outputs": [
    {
     "name": "stdout",
     "output_type": "stream",
     "text": [
      "{'nurture', 'bring_up', 'raise', 'parent', 'rear'}\n"
     ]
    }
   ],
   "source": [
    "from nltk.corpus import wordnet\n",
    "#Creating a list \n",
    "synonyms = []\n",
    "for syn in wordnet.synsets('parenting'):\n",
    "    for lm in syn.lemmas():\n",
    "             synonyms.append(lm.name())\n",
    "print (set(synonyms))"
   ]
  },
  {
   "cell_type": "code",
   "execution_count": 6,
   "metadata": {},
   "outputs": [
    {
     "name": "stdout",
     "output_type": "stream",
     "text": [
      "set()\n"
     ]
    }
   ],
   "source": [
    "from nltk.corpus import wordnet\n",
    "#Creating a list \n",
    "synonyms = []\n",
    "for syn in wordnet.synsets('emotional wellbeing'):\n",
    "    for lm in syn.lemmas():\n",
    "             synonyms.append(lm.name())\n",
    "print (set(synonyms))"
   ]
  },
  {
   "cell_type": "code",
   "execution_count": null,
   "metadata": {},
   "outputs": [],
   "source": []
  },
  {
   "cell_type": "code",
   "execution_count": null,
   "metadata": {},
   "outputs": [],
   "source": []
  },
  {
   "cell_type": "code",
   "execution_count": null,
   "metadata": {},
   "outputs": [],
   "source": []
  },
  {
   "cell_type": "code",
   "execution_count": null,
   "metadata": {},
   "outputs": [],
   "source": []
  },
  {
   "cell_type": "markdown",
   "metadata": {},
   "source": [
    "# IVA ALL CLIENTS"
   ]
  },
  {
   "cell_type": "code",
   "execution_count": 7,
   "metadata": {},
   "outputs": [],
   "source": [
    "import pandas as pd"
   ]
  },
  {
   "cell_type": "code",
   "execution_count": 8,
   "metadata": {},
   "outputs": [],
   "source": [
    "df = pd.read_csv('s3://adl-core-sagemaker-studio/external/Avinash/IVA_Allclients.csv')"
   ]
  },
  {
   "cell_type": "code",
   "execution_count": 9,
   "metadata": {},
   "outputs": [
    {
     "data": {
      "text/plain": [
       "(1000000, 9)"
      ]
     },
     "execution_count": 9,
     "metadata": {},
     "output_type": "execute_result"
    }
   ],
   "source": [
    "df.shape"
   ]
  },
  {
   "cell_type": "code",
   "execution_count": 10,
   "metadata": {},
   "outputs": [
    {
     "data": {
      "text/html": [
       "<div>\n",
       "<style scoped>\n",
       "    .dataframe tbody tr th:only-of-type {\n",
       "        vertical-align: middle;\n",
       "    }\n",
       "\n",
       "    .dataframe tbody tr th {\n",
       "        vertical-align: top;\n",
       "    }\n",
       "\n",
       "    .dataframe thead th {\n",
       "        text-align: right;\n",
       "    }\n",
       "</style>\n",
       "<table border=\"1\" class=\"dataframe\">\n",
       "  <thead>\n",
       "    <tr style=\"text-align: right;\">\n",
       "      <th></th>\n",
       "      <th>client_id</th>\n",
       "      <th>session_id</th>\n",
       "      <th>input</th>\n",
       "      <th>next_unit_hit</th>\n",
       "      <th>previous_unit_hit</th>\n",
       "      <th>response_condition</th>\n",
       "      <th>response_text</th>\n",
       "      <th>related_links</th>\n",
       "      <th>category</th>\n",
       "    </tr>\n",
       "  </thead>\n",
       "  <tbody>\n",
       "    <tr>\n",
       "      <th>0</th>\n",
       "      <td>695</td>\n",
       "      <td>18263409</td>\n",
       "      <td>Health Savings Account Contributions</td>\n",
       "      <td>Manage Health Savings Account (HSA) Contributions</td>\n",
       "      <td>Health Savings Account (HSA) Contributions</td>\n",
       "      <td>Response 01</td>\n",
       "      <td>Health Savings Account contributions may inclu...</td>\n",
       "      <td>Change Health Savings Account Contributions (U...</td>\n",
       "      <td>Unidentified</td>\n",
       "    </tr>\n",
       "    <tr>\n",
       "      <th>1</th>\n",
       "      <td>10162</td>\n",
       "      <td>18263564</td>\n",
       "      <td>WelcomeUser</td>\n",
       "      <td>AppEvent WelcomeUserFollowUp</td>\n",
       "      <td>NaN</td>\n",
       "      <td>Response 01</td>\n",
       "      <td>Welcome to Cintas Service Center. As your auto...</td>\n",
       "      <td>NaN</td>\n",
       "      <td>Caregiving</td>\n",
       "    </tr>\n",
       "    <tr>\n",
       "      <th>2</th>\n",
       "      <td>567</td>\n",
       "      <td>18263630</td>\n",
       "      <td>LiveChatSessionEnded</td>\n",
       "      <td>Contact Us</td>\n",
       "      <td>NaN</td>\n",
       "      <td>Live Chat Survey Unavailable - English</td>\n",
       "      <td>Welcome back! If you have additional questions...</td>\n",
       "      <td>NaN</td>\n",
       "      <td>Unidentified</td>\n",
       "    </tr>\n",
       "    <tr>\n",
       "      <th>3</th>\n",
       "      <td>3974</td>\n",
       "      <td>18263658</td>\n",
       "      <td>basic life insurance</td>\n",
       "      <td>NaN</td>\n",
       "      <td>Coverage for Supplement Life Insurance</td>\n",
       "      <td>Response 01</td>\n",
       "      <td>Basic life insurance pays benefits to benefici...</td>\n",
       "      <td>NaN</td>\n",
       "      <td>Personal/Health wellness</td>\n",
       "    </tr>\n",
       "    <tr>\n",
       "      <th>4</th>\n",
       "      <td>16878</td>\n",
       "      <td>18263731</td>\n",
       "      <td>WelcomeUser</td>\n",
       "      <td>AppEvent WelcomeUserFollowUp</td>\n",
       "      <td>NaN</td>\n",
       "      <td>Response 01</td>\n",
       "      <td>Welcome to Thermo Fisher Service Center. As yo...</td>\n",
       "      <td>NaN</td>\n",
       "      <td>Caregiving</td>\n",
       "    </tr>\n",
       "  </tbody>\n",
       "</table>\n",
       "</div>"
      ],
      "text/plain": [
       "   client_id  session_id                                 input  \\\n",
       "0        695    18263409  Health Savings Account Contributions   \n",
       "1      10162    18263564                           WelcomeUser   \n",
       "2        567    18263630                  LiveChatSessionEnded   \n",
       "3       3974    18263658                  basic life insurance   \n",
       "4      16878    18263731                           WelcomeUser   \n",
       "\n",
       "                                       next_unit_hit  \\\n",
       "0  Manage Health Savings Account (HSA) Contributions   \n",
       "1                       AppEvent WelcomeUserFollowUp   \n",
       "2                                         Contact Us   \n",
       "3                                                NaN   \n",
       "4                       AppEvent WelcomeUserFollowUp   \n",
       "\n",
       "                            previous_unit_hit  \\\n",
       "0  Health Savings Account (HSA) Contributions   \n",
       "1                                         NaN   \n",
       "2                                         NaN   \n",
       "3      Coverage for Supplement Life Insurance   \n",
       "4                                         NaN   \n",
       "\n",
       "                       response_condition  \\\n",
       "0                             Response 01   \n",
       "1                             Response 01   \n",
       "2  Live Chat Survey Unavailable - English   \n",
       "3                             Response 01   \n",
       "4                             Response 01   \n",
       "\n",
       "                                       response_text  \\\n",
       "0  Health Savings Account contributions may inclu...   \n",
       "1  Welcome to Cintas Service Center. As your auto...   \n",
       "2  Welcome back! If you have additional questions...   \n",
       "3  Basic life insurance pays benefits to benefici...   \n",
       "4  Welcome to Thermo Fisher Service Center. As yo...   \n",
       "\n",
       "                                       related_links                  category  \n",
       "0  Change Health Savings Account Contributions (U...              Unidentified  \n",
       "1                                                NaN                Caregiving  \n",
       "2                                                NaN              Unidentified  \n",
       "3                                                NaN  Personal/Health wellness  \n",
       "4                                                NaN                Caregiving  "
      ]
     },
     "execution_count": 10,
     "metadata": {},
     "output_type": "execute_result"
    }
   ],
   "source": [
    "df.head()"
   ]
  },
  {
   "cell_type": "code",
   "execution_count": 11,
   "metadata": {},
   "outputs": [
    {
     "data": {
      "text/plain": [
       "Unidentified                606422\n",
       "Caregiving                  292255\n",
       "Personal/Health wellness     92556\n",
       "Finance                       7824\n",
       "Maternity/Fertility            929\n",
       "Condition Management             8\n",
       "Mental/Behavioral health         6\n",
       "Name: category, dtype: int64"
      ]
     },
     "execution_count": 11,
     "metadata": {},
     "output_type": "execute_result"
    }
   ],
   "source": [
    "df['category'].value_counts()"
   ]
  },
  {
   "cell_type": "code",
   "execution_count": 12,
   "metadata": {},
   "outputs": [
    {
     "data": {
      "text/html": [
       "<div>\n",
       "<style scoped>\n",
       "    .dataframe tbody tr th:only-of-type {\n",
       "        vertical-align: middle;\n",
       "    }\n",
       "\n",
       "    .dataframe tbody tr th {\n",
       "        vertical-align: top;\n",
       "    }\n",
       "\n",
       "    .dataframe thead th {\n",
       "        text-align: right;\n",
       "    }\n",
       "</style>\n",
       "<table border=\"1\" class=\"dataframe\">\n",
       "  <thead>\n",
       "    <tr style=\"text-align: right;\">\n",
       "      <th></th>\n",
       "      <th>client_id</th>\n",
       "      <th>session_id</th>\n",
       "      <th>input</th>\n",
       "      <th>next_unit_hit</th>\n",
       "      <th>previous_unit_hit</th>\n",
       "      <th>response_condition</th>\n",
       "      <th>response_text</th>\n",
       "      <th>related_links</th>\n",
       "      <th>category</th>\n",
       "    </tr>\n",
       "  </thead>\n",
       "  <tbody>\n",
       "    <tr>\n",
       "      <th>26970</th>\n",
       "      <td>16707</td>\n",
       "      <td>15453080</td>\n",
       "      <td>Ver historial de transacciones del plan de aho...</td>\n",
       "      <td>NaN</td>\n",
       "      <td>Savings Account Clarifier</td>\n",
       "      <td>Response 01 - Spanish</td>\n",
       "      <td>Parece que usted está interesado en la activid...</td>\n",
       "      <td>NaN</td>\n",
       "      <td>Mental/Behavioral health</td>\n",
       "    </tr>\n",
       "    <tr>\n",
       "      <th>95588</th>\n",
       "      <td>16707</td>\n",
       "      <td>15552000</td>\n",
       "      <td>Actividad de la cuenta</td>\n",
       "      <td>Manage Savings Plan Contributions</td>\n",
       "      <td>View Current Savings Plan</td>\n",
       "      <td>Response 01 - Spanish</td>\n",
       "      <td>Parece que usted está interesado en la activid...</td>\n",
       "      <td>NaN</td>\n",
       "      <td>Mental/Behavioral health</td>\n",
       "    </tr>\n",
       "    <tr>\n",
       "      <th>175144</th>\n",
       "      <td>5977</td>\n",
       "      <td>16729058</td>\n",
       "      <td>employee assistance program</td>\n",
       "      <td>NaN</td>\n",
       "      <td>NaN</td>\n",
       "      <td>NaN</td>\n",
       "      <td>You and your household members have access to ...</td>\n",
       "      <td>NaN</td>\n",
       "      <td>Mental/Behavioral health</td>\n",
       "    </tr>\n",
       "    <tr>\n",
       "      <th>294989</th>\n",
       "      <td>5977</td>\n",
       "      <td>17680005</td>\n",
       "      <td>Lyra EAP</td>\n",
       "      <td>NaN</td>\n",
       "      <td>NaN</td>\n",
       "      <td>NaN</td>\n",
       "      <td>You and your household members have access to ...</td>\n",
       "      <td>NaN</td>\n",
       "      <td>Mental/Behavioral health</td>\n",
       "    </tr>\n",
       "    <tr>\n",
       "      <th>410086</th>\n",
       "      <td>1479</td>\n",
       "      <td>16829009</td>\n",
       "      <td>Necesito cambiar Voluntary Employee Life Insur...</td>\n",
       "      <td>I Don't Know</td>\n",
       "      <td>AppEvent WelcomeUserFollowUp</td>\n",
       "      <td>Response 01 - Spanish</td>\n",
       "      <td>El seguro de vida opcional o complementario es...</td>\n",
       "      <td>NaN</td>\n",
       "      <td>Mental/Behavioral health</td>\n",
       "    </tr>\n",
       "    <tr>\n",
       "      <th>761019</th>\n",
       "      <td>16707</td>\n",
       "      <td>15552000</td>\n",
       "      <td>Actividad de la cuenta</td>\n",
       "      <td>NaN</td>\n",
       "      <td>Contact Us Page - Related Link Only</td>\n",
       "      <td>Response 01 - Spanish</td>\n",
       "      <td>Parece que usted está interesado en la activid...</td>\n",
       "      <td>NaN</td>\n",
       "      <td>Mental/Behavioral health</td>\n",
       "    </tr>\n",
       "  </tbody>\n",
       "</table>\n",
       "</div>"
      ],
      "text/plain": [
       "        client_id  session_id  \\\n",
       "26970       16707    15453080   \n",
       "95588       16707    15552000   \n",
       "175144       5977    16729058   \n",
       "294989       5977    17680005   \n",
       "410086       1479    16829009   \n",
       "761019      16707    15552000   \n",
       "\n",
       "                                                    input  \\\n",
       "26970   Ver historial de transacciones del plan de aho...   \n",
       "95588                              Actividad de la cuenta   \n",
       "175144                        employee assistance program   \n",
       "294989                                           Lyra EAP   \n",
       "410086  Necesito cambiar Voluntary Employee Life Insur...   \n",
       "761019                             Actividad de la cuenta   \n",
       "\n",
       "                            next_unit_hit  \\\n",
       "26970                                 NaN   \n",
       "95588   Manage Savings Plan Contributions   \n",
       "175144                                NaN   \n",
       "294989                                NaN   \n",
       "410086                       I Don't Know   \n",
       "761019                                NaN   \n",
       "\n",
       "                          previous_unit_hit     response_condition  \\\n",
       "26970             Savings Account Clarifier  Response 01 - Spanish   \n",
       "95588             View Current Savings Plan  Response 01 - Spanish   \n",
       "175144                                  NaN                    NaN   \n",
       "294989                                  NaN                    NaN   \n",
       "410086         AppEvent WelcomeUserFollowUp  Response 01 - Spanish   \n",
       "761019  Contact Us Page - Related Link Only  Response 01 - Spanish   \n",
       "\n",
       "                                            response_text related_links  \\\n",
       "26970   Parece que usted está interesado en la activid...           NaN   \n",
       "95588   Parece que usted está interesado en la activid...           NaN   \n",
       "175144  You and your household members have access to ...           NaN   \n",
       "294989  You and your household members have access to ...           NaN   \n",
       "410086  El seguro de vida opcional o complementario es...           NaN   \n",
       "761019  Parece que usted está interesado en la activid...           NaN   \n",
       "\n",
       "                        category  \n",
       "26970   Mental/Behavioral health  \n",
       "95588   Mental/Behavioral health  \n",
       "175144  Mental/Behavioral health  \n",
       "294989  Mental/Behavioral health  \n",
       "410086  Mental/Behavioral health  \n",
       "761019  Mental/Behavioral health  "
      ]
     },
     "execution_count": 12,
     "metadata": {},
     "output_type": "execute_result"
    }
   ],
   "source": [
    "df[df['category']=='Mental/Behavioral health']"
   ]
  },
  {
   "cell_type": "code",
   "execution_count": 13,
   "metadata": {},
   "outputs": [],
   "source": [
    "iva = pd.read_csv('s3://adl-core-sagemaker-studio/external/Avinash/IVA_Allclient_1.csv')"
   ]
  },
  {
   "cell_type": "code",
   "execution_count": 14,
   "metadata": {},
   "outputs": [
    {
     "data": {
      "text/plain": [
       "(1000000, 9)"
      ]
     },
     "execution_count": 14,
     "metadata": {},
     "output_type": "execute_result"
    }
   ],
   "source": [
    "iva.shape"
   ]
  },
  {
   "cell_type": "code",
   "execution_count": 15,
   "metadata": {},
   "outputs": [
    {
     "data": {
      "text/html": [
       "<div>\n",
       "<style scoped>\n",
       "    .dataframe tbody tr th:only-of-type {\n",
       "        vertical-align: middle;\n",
       "    }\n",
       "\n",
       "    .dataframe tbody tr th {\n",
       "        vertical-align: top;\n",
       "    }\n",
       "\n",
       "    .dataframe thead th {\n",
       "        text-align: right;\n",
       "    }\n",
       "</style>\n",
       "<table border=\"1\" class=\"dataframe\">\n",
       "  <thead>\n",
       "    <tr style=\"text-align: right;\">\n",
       "      <th></th>\n",
       "      <th>client_id</th>\n",
       "      <th>session_id</th>\n",
       "      <th>input</th>\n",
       "      <th>next_unit_hit</th>\n",
       "      <th>previous_unit_hit</th>\n",
       "      <th>response_condition</th>\n",
       "      <th>response_text</th>\n",
       "      <th>related_links</th>\n",
       "      <th>category</th>\n",
       "    </tr>\n",
       "  </thead>\n",
       "  <tbody>\n",
       "    <tr>\n",
       "      <th>0</th>\n",
       "      <td>5317</td>\n",
       "      <td>18263427</td>\n",
       "      <td>GradingComplete</td>\n",
       "      <td>NaN</td>\n",
       "      <td>Education Assistance Program</td>\n",
       "      <td>Inline Survey - Helpful</td>\n",
       "      <td>Thank you for your feedback!</td>\n",
       "      <td>NaN</td>\n",
       "      <td>Unidentified</td>\n",
       "    </tr>\n",
       "    <tr>\n",
       "      <th>1</th>\n",
       "      <td>1700</td>\n",
       "      <td>18263716</td>\n",
       "      <td>Tax forms</td>\n",
       "      <td>W-2 Form Clarifier</td>\n",
       "      <td>W-2 Form Clarifier</td>\n",
       "      <td>Response 01</td>\n",
       "      <td>Which tax form are you asking about?</td>\n",
       "      <td>W-2 Forms (Unit: W-2 Form Clarifier) W-4 Forms...</td>\n",
       "      <td>Unidentified</td>\n",
       "    </tr>\n",
       "    <tr>\n",
       "      <th>2</th>\n",
       "      <td>16754</td>\n",
       "      <td>18263752</td>\n",
       "      <td>WelcomeUser</td>\n",
       "      <td>AppEvent WelcomeUserFollowUp</td>\n",
       "      <td>NaN</td>\n",
       "      <td>Mobile App - Response 01</td>\n",
       "      <td>Welcome to Siemens Energy Benefits Service Cen...</td>\n",
       "      <td>NaN</td>\n",
       "      <td>Caregiving</td>\n",
       "    </tr>\n",
       "    <tr>\n",
       "      <th>3</th>\n",
       "      <td>1283</td>\n",
       "      <td>18263708</td>\n",
       "      <td>GradingComplete</td>\n",
       "      <td>NaN</td>\n",
       "      <td>Manage Benefits Due to Life Event</td>\n",
       "      <td>Inline Survey - Helpful</td>\n",
       "      <td>Thank you for your feedback!</td>\n",
       "      <td>NaN</td>\n",
       "      <td>Unidentified</td>\n",
       "    </tr>\n",
       "    <tr>\n",
       "      <th>4</th>\n",
       "      <td>567</td>\n",
       "      <td>18263862</td>\n",
       "      <td>CHAT WITH US</td>\n",
       "      <td>AppEvent FormResults</td>\n",
       "      <td>Contact Us</td>\n",
       "      <td>Live Chat - Available</td>\n",
       "      <td>NaN</td>\n",
       "      <td>NaN</td>\n",
       "      <td>Unidentified</td>\n",
       "    </tr>\n",
       "  </tbody>\n",
       "</table>\n",
       "</div>"
      ],
      "text/plain": [
       "   client_id  session_id            input                 next_unit_hit  \\\n",
       "0       5317    18263427  GradingComplete                           NaN   \n",
       "1       1700    18263716        Tax forms            W-2 Form Clarifier   \n",
       "2      16754    18263752      WelcomeUser  AppEvent WelcomeUserFollowUp   \n",
       "3       1283    18263708  GradingComplete                           NaN   \n",
       "4        567    18263862     CHAT WITH US          AppEvent FormResults   \n",
       "\n",
       "                   previous_unit_hit        response_condition  \\\n",
       "0       Education Assistance Program   Inline Survey - Helpful   \n",
       "1                 W-2 Form Clarifier               Response 01   \n",
       "2                                NaN  Mobile App - Response 01   \n",
       "3  Manage Benefits Due to Life Event   Inline Survey - Helpful   \n",
       "4                         Contact Us     Live Chat - Available   \n",
       "\n",
       "                                       response_text  \\\n",
       "0                       Thank you for your feedback!   \n",
       "1               Which tax form are you asking about?   \n",
       "2  Welcome to Siemens Energy Benefits Service Cen...   \n",
       "3                       Thank you for your feedback!   \n",
       "4                                                NaN   \n",
       "\n",
       "                                       related_links      category  \n",
       "0                                                NaN  Unidentified  \n",
       "1  W-2 Forms (Unit: W-2 Form Clarifier) W-4 Forms...  Unidentified  \n",
       "2                                                NaN    Caregiving  \n",
       "3                                                NaN  Unidentified  \n",
       "4                                                NaN  Unidentified  "
      ]
     },
     "execution_count": 15,
     "metadata": {},
     "output_type": "execute_result"
    }
   ],
   "source": [
    "iva.head()"
   ]
  },
  {
   "cell_type": "code",
   "execution_count": 16,
   "metadata": {},
   "outputs": [
    {
     "data": {
      "text/plain": [
       "Unidentified                608984\n",
       "Caregiving                  292227\n",
       "Personal/Health wellness     90074\n",
       "Finance                       8158\n",
       "Mental/Behavioral health       350\n",
       "Maternity/Fertility            200\n",
       "Condition Management             7\n",
       "Name: category, dtype: int64"
      ]
     },
     "execution_count": 16,
     "metadata": {},
     "output_type": "execute_result"
    }
   ],
   "source": [
    "iva['category'].value_counts()"
   ]
  },
  {
   "cell_type": "code",
   "execution_count": null,
   "metadata": {},
   "outputs": [],
   "source": []
  },
  {
   "cell_type": "code",
   "execution_count": null,
   "metadata": {},
   "outputs": [],
   "source": []
  },
  {
   "cell_type": "code",
   "execution_count": null,
   "metadata": {},
   "outputs": [],
   "source": []
  },
  {
   "cell_type": "markdown",
   "metadata": {},
   "source": [
    "# SYnonyms"
   ]
  },
  {
   "cell_type": "code",
   "execution_count": 37,
   "metadata": {},
   "outputs": [],
   "source": [
    "from nltk.corpus import wordnet"
   ]
  },
  {
   "cell_type": "code",
   "execution_count": 6,
   "metadata": {},
   "outputs": [
    {
     "name": "stdout",
     "output_type": "stream",
     "text": [
      "{'child', 'kid', 'tyke', 'nestling', 'nipper', 'youngster', 'small_fry', 'tiddler', 'minor', 'shaver', 'baby', 'tike', 'fry'}\n"
     ]
    }
   ],
   "source": [
    "#Creating a list \n",
    "synonyms = []\n",
    "for syn in wordnet.synsets('child'):\n",
    "    for lm in syn.lemmas():\n",
    "             synonyms.append(lm.name())\n",
    "print (set(synonyms))"
   ]
  },
  {
   "cell_type": "code",
   "execution_count": 7,
   "metadata": {},
   "outputs": [
    {
     "name": "stdout",
     "output_type": "stream",
     "text": [
      "{'concern', 'aid', 'give_care', 'wish', 'precaution', 'maintenance', 'upkeep', 'forethought', 'charge', 'attention', 'tutelage', 'care', 'like', 'worry', 'deal', 'guardianship', 'fear', 'handle', 'tending', 'caution', 'manage'}\n"
     ]
    }
   ],
   "source": [
    "#Creating a list \n",
    "synonyms = []\n",
    "for syn in wordnet.synsets('care'):\n",
    "    for lm in syn.lemmas():\n",
    "             synonyms.append(lm.name())\n",
    "print (set(synonyms))"
   ]
  },
  {
   "cell_type": "code",
   "execution_count": 10,
   "metadata": {},
   "outputs": [
    {
     "name": "stdout",
     "output_type": "stream",
     "text": [
      "{'private_instructor', 'coach', 'tutor'}\n"
     ]
    }
   ],
   "source": [
    "#Creating a list \n",
    "synonyms = []\n",
    "for syn in wordnet.synsets('tutor'):\n",
    "    for lm in syn.lemmas():\n",
    "             synonyms.append(lm.name())\n",
    "print (set(synonyms))"
   ]
  },
  {
   "cell_type": "code",
   "execution_count": 11,
   "metadata": {},
   "outputs": [
    {
     "name": "stdout",
     "output_type": "stream",
     "text": [
      "{'mob', 'syndicate', 'kinsperson', 'category', 'family_unit', 'family_line', 'household', 'kin', 'family', 'house', 'kinsfolk', 'folk', 'kinfolk', 'phratry', 'crime_syndicate', 'home', 'class', 'menage', 'fellowship', 'sept'}\n"
     ]
    }
   ],
   "source": [
    "#Creating a list \n",
    "synonyms = []\n",
    "for syn in wordnet.synsets('family'):\n",
    "    for lm in syn.lemmas():\n",
    "             synonyms.append(lm.name())\n",
    "print (set(synonyms))"
   ]
  },
  {
   "cell_type": "code",
   "execution_count": 12,
   "metadata": {},
   "outputs": [
    {
     "name": "stdout",
     "output_type": "stream",
     "text": [
      "{'endorse', 'put_up', 'reinforcement', 'confirm', 'digest', 'subscribe', 'livelihood', 'back_up', 'substantiate', 'bread_and_butter', 'suffer', 'plump_for', 'sustain', 'living', 'backing', 'keep', 'underpin', 'support', 'musical_accompaniment', 'fend_for', 'stand', 'abide', 'corroborate', 'affirm', 'financial_backing', 'endure', 'tolerate', 'documentation', 'hold_up', 'backup', 'plunk_for', 'financial_support', 'accompaniment', 'patronise', 'sustenance', 'stomach', 'patronize', 'stick_out', 'brook', 'patronage', 'back', 'bear_out', 'keep_going', 'funding', 'supporting', 'bear', 'indorse', 'hold', 'reenforcement', 'defend'}\n"
     ]
    }
   ],
   "source": [
    "#Creating a list \n",
    "synonyms = []\n",
    "for syn in wordnet.synsets('support'):\n",
    "    for lm in syn.lemmas():\n",
    "             synonyms.append(lm.name())\n",
    "print (set(synonyms))"
   ]
  },
  {
   "cell_type": "code",
   "execution_count": 13,
   "metadata": {},
   "outputs": [
    {
     "name": "stdout",
     "output_type": "stream",
     "text": [
      "{\"baby's_room\", 'greenhouse', 'nursery', 'glasshouse'}\n"
     ]
    }
   ],
   "source": [
    "#Creating a list \n",
    "synonyms = []\n",
    "for syn in wordnet.synsets('nursery'):\n",
    "    for lm in syn.lemmas():\n",
    "             synonyms.append(lm.name())\n",
    "print (set(synonyms))"
   ]
  },
  {
   "cell_type": "code",
   "execution_count": 14,
   "metadata": {},
   "outputs": [
    {
     "name": "stdout",
     "output_type": "stream",
     "text": [
      "{'school_day', 'civilize', 'schooling', 'train', 'schoolhouse', 'educate', 'civilise', 'school', 'cultivate', 'schooltime', 'shoal'}\n"
     ]
    }
   ],
   "source": [
    "#Creating a list \n",
    "synonyms = []\n",
    "for syn in wordnet.synsets('school'):\n",
    "    for lm in syn.lemmas():\n",
    "             synonyms.append(lm.name())\n",
    "print (set(synonyms))"
   ]
  },
  {
   "cell_type": "code",
   "execution_count": 16,
   "metadata": {},
   "outputs": [
    {
     "name": "stdout",
     "output_type": "stream",
     "text": [
      "{'infant', 'baby', 'babe'}\n"
     ]
    }
   ],
   "source": [
    "#Creating a list \n",
    "synonyms = []\n",
    "for syn in wordnet.synsets('infant'):\n",
    "    for lm in syn.lemmas():\n",
    "             synonyms.append(lm.name())\n",
    "print (set(synonyms))"
   ]
  },
  {
   "cell_type": "code",
   "execution_count": 39,
   "metadata": {},
   "outputs": [
    {
     "name": "stdout",
     "output_type": "stream",
     "text": [
      "{'assistance', 'assist', 'help', 'aid'}\n"
     ]
    }
   ],
   "source": [
    "#Creating a list \n",
    "synonyms = []\n",
    "for syn in wordnet.synsets('assistance'):\n",
    "    for lm in syn.lemmas():\n",
    "             synonyms.append(lm.name())\n",
    "print (set(synonyms))"
   ]
  },
  {
   "cell_type": "code",
   "execution_count": 42,
   "metadata": {},
   "outputs": [],
   "source": [
    "import pandas as pd"
   ]
  },
  {
   "cell_type": "code",
   "execution_count": 43,
   "metadata": {},
   "outputs": [],
   "source": [
    "iva_3 = pd.read_csv('iva_3.csv')"
   ]
  },
  {
   "cell_type": "code",
   "execution_count": 44,
   "metadata": {},
   "outputs": [
    {
     "data": {
      "text/html": [
       "<div>\n",
       "<style scoped>\n",
       "    .dataframe tbody tr th:only-of-type {\n",
       "        vertical-align: middle;\n",
       "    }\n",
       "\n",
       "    .dataframe tbody tr th {\n",
       "        vertical-align: top;\n",
       "    }\n",
       "\n",
       "    .dataframe thead th {\n",
       "        text-align: right;\n",
       "    }\n",
       "</style>\n",
       "<table border=\"1\" class=\"dataframe\">\n",
       "  <thead>\n",
       "    <tr style=\"text-align: right;\">\n",
       "      <th></th>\n",
       "      <th>client_id</th>\n",
       "      <th>session_id</th>\n",
       "      <th>input</th>\n",
       "      <th>next_unit_hit</th>\n",
       "      <th>previous_unit_hit</th>\n",
       "      <th>response_condition</th>\n",
       "      <th>response_text</th>\n",
       "      <th>related_links</th>\n",
       "      <th>time_submitted_cst</th>\n",
       "    </tr>\n",
       "  </thead>\n",
       "  <tbody>\n",
       "    <tr>\n",
       "      <th>0</th>\n",
       "      <td>1141</td>\n",
       "      <td>839632</td>\n",
       "      <td>Child Care Spending Account</td>\n",
       "      <td>Health Care Spending Account Clarifier</td>\n",
       "      <td>View Account Clarifier</td>\n",
       "      <td>Core</td>\n",
       "      <td>Which account or plan are you asking about?</td>\n",
       "      <td>Pension Plan (Unit: View Pension Plan) Health ...</td>\n",
       "      <td>2017-12-05 07:25:54</td>\n",
       "    </tr>\n",
       "    <tr>\n",
       "      <th>1</th>\n",
       "      <td>3349</td>\n",
       "      <td>835276</td>\n",
       "      <td>again, I just need instructions on how to pull...</td>\n",
       "      <td>Second Tier Clarifier</td>\n",
       "      <td>IVA Not Helpful</td>\n",
       "      <td>Standard</td>\n",
       "      <td>I am not positive that I understand what you a...</td>\n",
       "      <td>How to Chat with Me (Unit: How to Chat with th...</td>\n",
       "      <td>2017-12-04 08:03:53</td>\n",
       "    </tr>\n",
       "    <tr>\n",
       "      <th>2</th>\n",
       "      <td>5977</td>\n",
       "      <td>874400</td>\n",
       "      <td>Cancel health coach appointment</td>\n",
       "      <td>Cancel Clarifier</td>\n",
       "      <td>AppEvent WelcomeUser</td>\n",
       "      <td>Core</td>\n",
       "      <td>There are 2 ways to cancel your benefits cover...</td>\n",
       "      <td>Annual Benefits Enrollment (Unit: Annual Enrol...</td>\n",
       "      <td>2017-12-20 08:50:39</td>\n",
       "    </tr>\n",
       "    <tr>\n",
       "      <th>3</th>\n",
       "      <td>3349</td>\n",
       "      <td>1046078</td>\n",
       "      <td>according to the instruction in that blooklet ...</td>\n",
       "      <td>I Don't Know</td>\n",
       "      <td>Health Reimbursement Account Clarifier</td>\n",
       "      <td>AT&amp;T Inc.</td>\n",
       "      <td>Please select the SPD - Health and Welfare Sum...</td>\n",
       "      <td>NaN</td>\n",
       "      <td>2018-02-14 14:12:30</td>\n",
       "    </tr>\n",
       "    <tr>\n",
       "      <th>4</th>\n",
       "      <td>245</td>\n",
       "      <td>1054023</td>\n",
       "      <td>I want to know if I will have baby how much is...</td>\n",
       "      <td>Benefits Clarifier</td>\n",
       "      <td>AppEvent WelcomeUser</td>\n",
       "      <td>Core</td>\n",
       "      <td>Choose from the links below for more benefits ...</td>\n",
       "      <td>Pension Benefits (Unit: Pension Clarifier) Den...</td>\n",
       "      <td>2018-02-16 22:06:21</td>\n",
       "    </tr>\n",
       "  </tbody>\n",
       "</table>\n",
       "</div>"
      ],
      "text/plain": [
       "   client_id  session_id                                              input  \\\n",
       "0       1141      839632                        Child Care Spending Account   \n",
       "1       3349      835276  again, I just need instructions on how to pull...   \n",
       "2       5977      874400                    Cancel health coach appointment   \n",
       "3       3349     1046078  according to the instruction in that blooklet ...   \n",
       "4        245     1054023  I want to know if I will have baby how much is...   \n",
       "\n",
       "                            next_unit_hit  \\\n",
       "0  Health Care Spending Account Clarifier   \n",
       "1                   Second Tier Clarifier   \n",
       "2                        Cancel Clarifier   \n",
       "3                            I Don't Know   \n",
       "4                      Benefits Clarifier   \n",
       "\n",
       "                        previous_unit_hit response_condition  \\\n",
       "0                  View Account Clarifier               Core   \n",
       "1                         IVA Not Helpful           Standard   \n",
       "2                    AppEvent WelcomeUser               Core   \n",
       "3  Health Reimbursement Account Clarifier          AT&T Inc.   \n",
       "4                    AppEvent WelcomeUser               Core   \n",
       "\n",
       "                                       response_text  \\\n",
       "0        Which account or plan are you asking about?   \n",
       "1  I am not positive that I understand what you a...   \n",
       "2  There are 2 ways to cancel your benefits cover...   \n",
       "3  Please select the SPD - Health and Welfare Sum...   \n",
       "4  Choose from the links below for more benefits ...   \n",
       "\n",
       "                                       related_links   time_submitted_cst  \n",
       "0  Pension Plan (Unit: View Pension Plan) Health ...  2017-12-05 07:25:54  \n",
       "1  How to Chat with Me (Unit: How to Chat with th...  2017-12-04 08:03:53  \n",
       "2  Annual Benefits Enrollment (Unit: Annual Enrol...  2017-12-20 08:50:39  \n",
       "3                                                NaN  2018-02-14 14:12:30  \n",
       "4  Pension Benefits (Unit: Pension Clarifier) Den...  2018-02-16 22:06:21  "
      ]
     },
     "execution_count": 44,
     "metadata": {},
     "output_type": "execute_result"
    }
   ],
   "source": [
    "iva_3.head()"
   ]
  },
  {
   "cell_type": "code",
   "execution_count": 45,
   "metadata": {},
   "outputs": [],
   "source": [
    "import csv, sqlite3"
   ]
  },
  {
   "cell_type": "code",
   "execution_count": 46,
   "metadata": {},
   "outputs": [
    {
     "ename": "FileNotFoundError",
     "evalue": "[Errno 2] No such file or directory: 'iva_1.csv'",
     "output_type": "error",
     "traceback": [
      "\u001b[0;31m---------------------------------------------------------------------------\u001b[0m",
      "\u001b[0;31mFileNotFoundError\u001b[0m                         Traceback (most recent call last)",
      "Input \u001b[0;32mIn [46]\u001b[0m, in \u001b[0;36m<cell line: 5>\u001b[0;34m()\u001b[0m\n\u001b[1;32m      2\u001b[0m cur \u001b[38;5;241m=\u001b[39m con\u001b[38;5;241m.\u001b[39mcursor()\n\u001b[1;32m      3\u001b[0m cur\u001b[38;5;241m.\u001b[39mexecute(\u001b[38;5;124m\"\u001b[39m\u001b[38;5;124mCREATE TABLE t (col1, col2,col3,col4,col5,col6,col7,col8);\u001b[39m\u001b[38;5;124m\"\u001b[39m)\n\u001b[0;32m----> 5\u001b[0m \u001b[38;5;28;01mwith\u001b[39;00m \u001b[38;5;28;43mopen\u001b[39;49m\u001b[43m(\u001b[49m\u001b[38;5;124;43m'\u001b[39;49m\u001b[38;5;124;43miva_1.csv\u001b[39;49m\u001b[38;5;124;43m'\u001b[39;49m\u001b[43m,\u001b[49m\u001b[38;5;124;43m'\u001b[39;49m\u001b[38;5;124;43mr\u001b[39;49m\u001b[38;5;124;43m'\u001b[39;49m\u001b[43m)\u001b[49m \u001b[38;5;28;01mas\u001b[39;00m fin:\n\u001b[1;32m      6\u001b[0m     dr \u001b[38;5;241m=\u001b[39m csv\u001b[38;5;241m.\u001b[39mreader(fin)\n\u001b[1;32m      7\u001b[0m     dicts \u001b[38;5;241m=\u001b[39m ({\u001b[38;5;124m'\u001b[39m\u001b[38;5;124mcol1\u001b[39m\u001b[38;5;124m'\u001b[39m: line[\u001b[38;5;241m0\u001b[39m], \u001b[38;5;124m'\u001b[39m\u001b[38;5;124mcol2\u001b[39m\u001b[38;5;124m'\u001b[39m: line[\u001b[38;5;241m1\u001b[39m],\u001b[38;5;124m'\u001b[39m\u001b[38;5;124mcol3\u001b[39m\u001b[38;5;124m'\u001b[39m: line[\u001b[38;5;241m2\u001b[39m],\u001b[38;5;124m'\u001b[39m\u001b[38;5;124mcol4\u001b[39m\u001b[38;5;124m'\u001b[39m: line[\u001b[38;5;241m3\u001b[39m],\u001b[38;5;124m'\u001b[39m\u001b[38;5;124mcol5\u001b[39m\u001b[38;5;124m'\u001b[39m: line[\u001b[38;5;241m4\u001b[39m],\u001b[38;5;124m'\u001b[39m\u001b[38;5;124mcol6\u001b[39m\u001b[38;5;124m'\u001b[39m: line[\u001b[38;5;241m5\u001b[39m],\u001b[38;5;124m'\u001b[39m\u001b[38;5;124mcol7\u001b[39m\u001b[38;5;124m'\u001b[39m: line[\u001b[38;5;241m6\u001b[39m],\\\n\u001b[1;32m      8\u001b[0m               \u001b[38;5;124m'\u001b[39m\u001b[38;5;124mcol8\u001b[39m\u001b[38;5;124m'\u001b[39m: line[\u001b[38;5;241m7\u001b[39m]} \u001b[38;5;28;01mfor\u001b[39;00m line \u001b[38;5;129;01min\u001b[39;00m dr)\n",
      "\u001b[0;31mFileNotFoundError\u001b[0m: [Errno 2] No such file or directory: 'iva_1.csv'"
     ]
    }
   ],
   "source": [
    "con = sqlite3.connect(\":memory:\")\n",
    "cur = con.cursor()\n",
    "cur.execute(\"CREATE TABLE t (col1, col2,col3,col4,col5,col6,col7,col8);\")\n",
    "\n",
    "with open('iva_1.csv','r') as fin:\n",
    "    dr = csv.reader(fin)\n",
    "    dicts = ({'col1': line[0], 'col2': line[1],'col3': line[2],'col4': line[3],'col5': line[4],'col6': line[5],'col7': line[6],\\\n",
    "              'col8': line[7]} for line in dr)\n",
    "    to_db = ((i['col1'], i['col2'],i['col3'],i['col4'],i['col5'],i['col6'],i['col7'],i['col8']) for i in dicts)\n",
    "\n",
    "    cur.executemany(\"INSERT INTO t (col1, col2,col3,col4,col5,col6,col7,col8) VALUES (?, ?,?,?,?,?,?,?);\", to_db)\n",
    "    con.commit()"
   ]
  },
  {
   "cell_type": "code",
   "execution_count": 47,
   "metadata": {},
   "outputs": [],
   "source": [
    "con = sqlite3.connect(\":memory:\")\n",
    "cur = con.cursor()"
   ]
  },
  {
   "cell_type": "code",
   "execution_count": 48,
   "metadata": {},
   "outputs": [
    {
     "data": {
      "text/plain": [
       "69726"
      ]
     },
     "execution_count": 48,
     "metadata": {},
     "output_type": "execute_result"
    }
   ],
   "source": [
    "iva_3.to_sql('iva_3',con)"
   ]
  },
  {
   "cell_type": "code",
   "execution_count": 49,
   "metadata": {},
   "outputs": [
    {
     "data": {
      "text/html": [
       "<div>\n",
       "<style scoped>\n",
       "    .dataframe tbody tr th:only-of-type {\n",
       "        vertical-align: middle;\n",
       "    }\n",
       "\n",
       "    .dataframe tbody tr th {\n",
       "        vertical-align: top;\n",
       "    }\n",
       "\n",
       "    .dataframe thead th {\n",
       "        text-align: right;\n",
       "    }\n",
       "</style>\n",
       "<table border=\"1\" class=\"dataframe\">\n",
       "  <thead>\n",
       "    <tr style=\"text-align: right;\">\n",
       "      <th></th>\n",
       "      <th>index</th>\n",
       "      <th>client_id</th>\n",
       "      <th>session_id</th>\n",
       "      <th>input</th>\n",
       "      <th>next_unit_hit</th>\n",
       "      <th>previous_unit_hit</th>\n",
       "      <th>response_condition</th>\n",
       "      <th>response_text</th>\n",
       "      <th>related_links</th>\n",
       "      <th>time_submitted_cst</th>\n",
       "    </tr>\n",
       "  </thead>\n",
       "  <tbody>\n",
       "    <tr>\n",
       "      <th>0</th>\n",
       "      <td>0</td>\n",
       "      <td>1141</td>\n",
       "      <td>839632</td>\n",
       "      <td>Child Care Spending Account</td>\n",
       "      <td>Health Care Spending Account Clarifier</td>\n",
       "      <td>View Account Clarifier</td>\n",
       "      <td>Core</td>\n",
       "      <td>Which account or plan are you asking about?</td>\n",
       "      <td>Pension Plan (Unit: View Pension Plan) Health ...</td>\n",
       "      <td>2017-12-05 07:25:54</td>\n",
       "    </tr>\n",
       "    <tr>\n",
       "      <th>1</th>\n",
       "      <td>1</td>\n",
       "      <td>3349</td>\n",
       "      <td>835276</td>\n",
       "      <td>again, I just need instructions on how to pull...</td>\n",
       "      <td>Second Tier Clarifier</td>\n",
       "      <td>IVA Not Helpful</td>\n",
       "      <td>Standard</td>\n",
       "      <td>I am not positive that I understand what you a...</td>\n",
       "      <td>How to Chat with Me (Unit: How to Chat with th...</td>\n",
       "      <td>2017-12-04 08:03:53</td>\n",
       "    </tr>\n",
       "    <tr>\n",
       "      <th>2</th>\n",
       "      <td>2</td>\n",
       "      <td>5977</td>\n",
       "      <td>874400</td>\n",
       "      <td>Cancel health coach appointment</td>\n",
       "      <td>Cancel Clarifier</td>\n",
       "      <td>AppEvent WelcomeUser</td>\n",
       "      <td>Core</td>\n",
       "      <td>There are 2 ways to cancel your benefits cover...</td>\n",
       "      <td>Annual Benefits Enrollment (Unit: Annual Enrol...</td>\n",
       "      <td>2017-12-20 08:50:39</td>\n",
       "    </tr>\n",
       "    <tr>\n",
       "      <th>3</th>\n",
       "      <td>3</td>\n",
       "      <td>3349</td>\n",
       "      <td>1046078</td>\n",
       "      <td>according to the instruction in that blooklet ...</td>\n",
       "      <td>I Don't Know</td>\n",
       "      <td>Health Reimbursement Account Clarifier</td>\n",
       "      <td>AT&amp;T Inc.</td>\n",
       "      <td>Please select the SPD - Health and Welfare Sum...</td>\n",
       "      <td>None</td>\n",
       "      <td>2018-02-14 14:12:30</td>\n",
       "    </tr>\n",
       "    <tr>\n",
       "      <th>4</th>\n",
       "      <td>4</td>\n",
       "      <td>245</td>\n",
       "      <td>1054023</td>\n",
       "      <td>I want to know if I will have baby how much is...</td>\n",
       "      <td>Benefits Clarifier</td>\n",
       "      <td>AppEvent WelcomeUser</td>\n",
       "      <td>Core</td>\n",
       "      <td>Choose from the links below for more benefits ...</td>\n",
       "      <td>Pension Benefits (Unit: Pension Clarifier) Den...</td>\n",
       "      <td>2018-02-16 22:06:21</td>\n",
       "    </tr>\n",
       "    <tr>\n",
       "      <th>5</th>\n",
       "      <td>5</td>\n",
       "      <td>1849</td>\n",
       "      <td>1013017</td>\n",
       "      <td>I have three outstanding loans and I want to p...</td>\n",
       "      <td>Sequential Hits</td>\n",
       "      <td>Request a General Purpose Loan</td>\n",
       "      <td>Response Unavailable</td>\n",
       "      <td>Sorry, but I can't access the information you'...</td>\n",
       "      <td>None</td>\n",
       "      <td>2018-02-05 12:36:06</td>\n",
       "    </tr>\n",
       "    <tr>\n",
       "      <th>6</th>\n",
       "      <td>6</td>\n",
       "      <td>10288</td>\n",
       "      <td>1039793</td>\n",
       "      <td>I need instructions on how withdraw my funds f...</td>\n",
       "      <td>Rollovers out of the Savings Plan</td>\n",
       "      <td>AppEvent WelcomeUser</td>\n",
       "      <td>Standard</td>\n",
       "      <td>I found a few topics related to your question....</td>\n",
       "      <td>Request a Withdrawal from Savings Plan (Unit: ...</td>\n",
       "      <td>2018-02-12 19:38:17</td>\n",
       "    </tr>\n",
       "    <tr>\n",
       "      <th>7</th>\n",
       "      <td>7</td>\n",
       "      <td>1340</td>\n",
       "      <td>1621598</td>\n",
       "      <td>you need some more training Lisa</td>\n",
       "      <td>None</td>\n",
       "      <td>Impasse</td>\n",
       "      <td>Standard</td>\n",
       "      <td>I don't understand your question. Please try a...</td>\n",
       "      <td>How to Chat with Me (Unit: How to Chat with th...</td>\n",
       "      <td>2018-08-09 14:15:46</td>\n",
       "    </tr>\n",
       "    <tr>\n",
       "      <th>8</th>\n",
       "      <td>8</td>\n",
       "      <td>9086</td>\n",
       "      <td>1626892</td>\n",
       "      <td>How much can i recieved from child care subsidy</td>\n",
       "      <td>None</td>\n",
       "      <td>I Don't Know</td>\n",
       "      <td>Standard</td>\n",
       "      <td>Sorry, but I didn't quite understand. I'll res...</td>\n",
       "      <td>Contact Us (Url: https://leplb0330.upoint.alig...</td>\n",
       "      <td>2018-08-10 15:37:50</td>\n",
       "    </tr>\n",
       "    <tr>\n",
       "      <th>9</th>\n",
       "      <td>9</td>\n",
       "      <td>3349</td>\n",
       "      <td>1634578</td>\n",
       "      <td>I need to change my permanent address, but I a...</td>\n",
       "      <td>I Don't Know</td>\n",
       "      <td>AppEvent WelcomeUser</td>\n",
       "      <td>Standard</td>\n",
       "      <td>I found a few topics related to your question....</td>\n",
       "      <td>Contact Us (Unit: Contact Us) Updating Address...</td>\n",
       "      <td>2018-08-13 12:44:14</td>\n",
       "    </tr>\n",
       "  </tbody>\n",
       "</table>\n",
       "</div>"
      ],
      "text/plain": [
       "   index  client_id  session_id  \\\n",
       "0      0       1141      839632   \n",
       "1      1       3349      835276   \n",
       "2      2       5977      874400   \n",
       "3      3       3349     1046078   \n",
       "4      4        245     1054023   \n",
       "5      5       1849     1013017   \n",
       "6      6      10288     1039793   \n",
       "7      7       1340     1621598   \n",
       "8      8       9086     1626892   \n",
       "9      9       3349     1634578   \n",
       "\n",
       "                                               input  \\\n",
       "0                        Child Care Spending Account   \n",
       "1  again, I just need instructions on how to pull...   \n",
       "2                    Cancel health coach appointment   \n",
       "3  according to the instruction in that blooklet ...   \n",
       "4  I want to know if I will have baby how much is...   \n",
       "5  I have three outstanding loans and I want to p...   \n",
       "6  I need instructions on how withdraw my funds f...   \n",
       "7                   you need some more training Lisa   \n",
       "8    How much can i recieved from child care subsidy   \n",
       "9  I need to change my permanent address, but I a...   \n",
       "\n",
       "                            next_unit_hit  \\\n",
       "0  Health Care Spending Account Clarifier   \n",
       "1                   Second Tier Clarifier   \n",
       "2                        Cancel Clarifier   \n",
       "3                            I Don't Know   \n",
       "4                      Benefits Clarifier   \n",
       "5                         Sequential Hits   \n",
       "6       Rollovers out of the Savings Plan   \n",
       "7                                    None   \n",
       "8                                    None   \n",
       "9                            I Don't Know   \n",
       "\n",
       "                        previous_unit_hit    response_condition  \\\n",
       "0                  View Account Clarifier                  Core   \n",
       "1                         IVA Not Helpful              Standard   \n",
       "2                    AppEvent WelcomeUser                  Core   \n",
       "3  Health Reimbursement Account Clarifier             AT&T Inc.   \n",
       "4                    AppEvent WelcomeUser                  Core   \n",
       "5          Request a General Purpose Loan  Response Unavailable   \n",
       "6                    AppEvent WelcomeUser              Standard   \n",
       "7                                 Impasse              Standard   \n",
       "8                            I Don't Know              Standard   \n",
       "9                    AppEvent WelcomeUser              Standard   \n",
       "\n",
       "                                       response_text  \\\n",
       "0        Which account or plan are you asking about?   \n",
       "1  I am not positive that I understand what you a...   \n",
       "2  There are 2 ways to cancel your benefits cover...   \n",
       "3  Please select the SPD - Health and Welfare Sum...   \n",
       "4  Choose from the links below for more benefits ...   \n",
       "5  Sorry, but I can't access the information you'...   \n",
       "6  I found a few topics related to your question....   \n",
       "7  I don't understand your question. Please try a...   \n",
       "8  Sorry, but I didn't quite understand. I'll res...   \n",
       "9  I found a few topics related to your question....   \n",
       "\n",
       "                                       related_links   time_submitted_cst  \n",
       "0  Pension Plan (Unit: View Pension Plan) Health ...  2017-12-05 07:25:54  \n",
       "1  How to Chat with Me (Unit: How to Chat with th...  2017-12-04 08:03:53  \n",
       "2  Annual Benefits Enrollment (Unit: Annual Enrol...  2017-12-20 08:50:39  \n",
       "3                                               None  2018-02-14 14:12:30  \n",
       "4  Pension Benefits (Unit: Pension Clarifier) Den...  2018-02-16 22:06:21  \n",
       "5                                               None  2018-02-05 12:36:06  \n",
       "6  Request a Withdrawal from Savings Plan (Unit: ...  2018-02-12 19:38:17  \n",
       "7  How to Chat with Me (Unit: How to Chat with th...  2018-08-09 14:15:46  \n",
       "8  Contact Us (Url: https://leplb0330.upoint.alig...  2018-08-10 15:37:50  \n",
       "9  Contact Us (Unit: Contact Us) Updating Address...  2018-08-13 12:44:14  "
      ]
     },
     "execution_count": 49,
     "metadata": {},
     "output_type": "execute_result"
    }
   ],
   "source": [
    "pd.read_sql('select * from iva_3 limit 10',con)"
   ]
  },
  {
   "cell_type": "code",
   "execution_count": 50,
   "metadata": {},
   "outputs": [],
   "source": [
    "df = pd.read_sql(\"select *,date(time_submitted_cst) as time_submitted,\\\n",
    "                    case when input like '%child%care%' or input like '%day%' or input like '%support%' or input like '%toddler%' or input like '%minor%' or input like '%tutor%' then 'Caregiving'\\\n",
    "                         when input like '%EAP%' or input like '%employee%assistance%' or input like '%mental%health%' then 'Mental Health'\\\n",
    "                         when input like '%pregnancy%' or input like '%baby%' or input like '%family%' then 'maternity'\\\n",
    "                         when input like '%well%being%' or  input like '%emotion%' or  input like '%new%hire%'\\\n",
    "                         or input like '%well%being%' or  input like '%emotion%'then 'Well being' else 'Unidentified' end as 'category' from iva_3\",con)"
   ]
  },
  {
   "cell_type": "code",
   "execution_count": 51,
   "metadata": {},
   "outputs": [
    {
     "data": {
      "text/html": [
       "<div>\n",
       "<style scoped>\n",
       "    .dataframe tbody tr th:only-of-type {\n",
       "        vertical-align: middle;\n",
       "    }\n",
       "\n",
       "    .dataframe tbody tr th {\n",
       "        vertical-align: top;\n",
       "    }\n",
       "\n",
       "    .dataframe thead th {\n",
       "        text-align: right;\n",
       "    }\n",
       "</style>\n",
       "<table border=\"1\" class=\"dataframe\">\n",
       "  <thead>\n",
       "    <tr style=\"text-align: right;\">\n",
       "      <th></th>\n",
       "      <th>index</th>\n",
       "      <th>client_id</th>\n",
       "      <th>session_id</th>\n",
       "      <th>input</th>\n",
       "      <th>next_unit_hit</th>\n",
       "      <th>previous_unit_hit</th>\n",
       "      <th>response_condition</th>\n",
       "      <th>response_text</th>\n",
       "      <th>related_links</th>\n",
       "      <th>time_submitted_cst</th>\n",
       "      <th>time_submitted</th>\n",
       "      <th>category</th>\n",
       "    </tr>\n",
       "  </thead>\n",
       "  <tbody>\n",
       "    <tr>\n",
       "      <th>0</th>\n",
       "      <td>0</td>\n",
       "      <td>1141</td>\n",
       "      <td>839632</td>\n",
       "      <td>Child Care Spending Account</td>\n",
       "      <td>Health Care Spending Account Clarifier</td>\n",
       "      <td>View Account Clarifier</td>\n",
       "      <td>Core</td>\n",
       "      <td>Which account or plan are you asking about?</td>\n",
       "      <td>Pension Plan (Unit: View Pension Plan) Health ...</td>\n",
       "      <td>2017-12-05 07:25:54</td>\n",
       "      <td>2017-12-05</td>\n",
       "      <td>Caregiving</td>\n",
       "    </tr>\n",
       "    <tr>\n",
       "      <th>1</th>\n",
       "      <td>1</td>\n",
       "      <td>3349</td>\n",
       "      <td>835276</td>\n",
       "      <td>again, I just need instructions on how to pull...</td>\n",
       "      <td>Second Tier Clarifier</td>\n",
       "      <td>IVA Not Helpful</td>\n",
       "      <td>Standard</td>\n",
       "      <td>I am not positive that I understand what you a...</td>\n",
       "      <td>How to Chat with Me (Unit: How to Chat with th...</td>\n",
       "      <td>2017-12-04 08:03:53</td>\n",
       "      <td>2017-12-04</td>\n",
       "      <td>Unidentified</td>\n",
       "    </tr>\n",
       "    <tr>\n",
       "      <th>2</th>\n",
       "      <td>2</td>\n",
       "      <td>5977</td>\n",
       "      <td>874400</td>\n",
       "      <td>Cancel health coach appointment</td>\n",
       "      <td>Cancel Clarifier</td>\n",
       "      <td>AppEvent WelcomeUser</td>\n",
       "      <td>Core</td>\n",
       "      <td>There are 2 ways to cancel your benefits cover...</td>\n",
       "      <td>Annual Benefits Enrollment (Unit: Annual Enrol...</td>\n",
       "      <td>2017-12-20 08:50:39</td>\n",
       "      <td>2017-12-20</td>\n",
       "      <td>Unidentified</td>\n",
       "    </tr>\n",
       "    <tr>\n",
       "      <th>3</th>\n",
       "      <td>3</td>\n",
       "      <td>3349</td>\n",
       "      <td>1046078</td>\n",
       "      <td>according to the instruction in that blooklet ...</td>\n",
       "      <td>I Don't Know</td>\n",
       "      <td>Health Reimbursement Account Clarifier</td>\n",
       "      <td>AT&amp;T Inc.</td>\n",
       "      <td>Please select the SPD - Health and Welfare Sum...</td>\n",
       "      <td>None</td>\n",
       "      <td>2018-02-14 14:12:30</td>\n",
       "      <td>2018-02-14</td>\n",
       "      <td>Unidentified</td>\n",
       "    </tr>\n",
       "    <tr>\n",
       "      <th>4</th>\n",
       "      <td>4</td>\n",
       "      <td>245</td>\n",
       "      <td>1054023</td>\n",
       "      <td>I want to know if I will have baby how much is...</td>\n",
       "      <td>Benefits Clarifier</td>\n",
       "      <td>AppEvent WelcomeUser</td>\n",
       "      <td>Core</td>\n",
       "      <td>Choose from the links below for more benefits ...</td>\n",
       "      <td>Pension Benefits (Unit: Pension Clarifier) Den...</td>\n",
       "      <td>2018-02-16 22:06:21</td>\n",
       "      <td>2018-02-16</td>\n",
       "      <td>maternity</td>\n",
       "    </tr>\n",
       "  </tbody>\n",
       "</table>\n",
       "</div>"
      ],
      "text/plain": [
       "   index  client_id  session_id  \\\n",
       "0      0       1141      839632   \n",
       "1      1       3349      835276   \n",
       "2      2       5977      874400   \n",
       "3      3       3349     1046078   \n",
       "4      4        245     1054023   \n",
       "\n",
       "                                               input  \\\n",
       "0                        Child Care Spending Account   \n",
       "1  again, I just need instructions on how to pull...   \n",
       "2                    Cancel health coach appointment   \n",
       "3  according to the instruction in that blooklet ...   \n",
       "4  I want to know if I will have baby how much is...   \n",
       "\n",
       "                            next_unit_hit  \\\n",
       "0  Health Care Spending Account Clarifier   \n",
       "1                   Second Tier Clarifier   \n",
       "2                        Cancel Clarifier   \n",
       "3                            I Don't Know   \n",
       "4                      Benefits Clarifier   \n",
       "\n",
       "                        previous_unit_hit response_condition  \\\n",
       "0                  View Account Clarifier               Core   \n",
       "1                         IVA Not Helpful           Standard   \n",
       "2                    AppEvent WelcomeUser               Core   \n",
       "3  Health Reimbursement Account Clarifier          AT&T Inc.   \n",
       "4                    AppEvent WelcomeUser               Core   \n",
       "\n",
       "                                       response_text  \\\n",
       "0        Which account or plan are you asking about?   \n",
       "1  I am not positive that I understand what you a...   \n",
       "2  There are 2 ways to cancel your benefits cover...   \n",
       "3  Please select the SPD - Health and Welfare Sum...   \n",
       "4  Choose from the links below for more benefits ...   \n",
       "\n",
       "                                       related_links   time_submitted_cst  \\\n",
       "0  Pension Plan (Unit: View Pension Plan) Health ...  2017-12-05 07:25:54   \n",
       "1  How to Chat with Me (Unit: How to Chat with th...  2017-12-04 08:03:53   \n",
       "2  Annual Benefits Enrollment (Unit: Annual Enrol...  2017-12-20 08:50:39   \n",
       "3                                               None  2018-02-14 14:12:30   \n",
       "4  Pension Benefits (Unit: Pension Clarifier) Den...  2018-02-16 22:06:21   \n",
       "\n",
       "  time_submitted      category  \n",
       "0     2017-12-05    Caregiving  \n",
       "1     2017-12-04  Unidentified  \n",
       "2     2017-12-20  Unidentified  \n",
       "3     2018-02-14  Unidentified  \n",
       "4     2018-02-16     maternity  "
      ]
     },
     "execution_count": 51,
     "metadata": {},
     "output_type": "execute_result"
    }
   ],
   "source": [
    "df.head()"
   ]
  },
  {
   "cell_type": "code",
   "execution_count": 52,
   "metadata": {},
   "outputs": [
    {
     "data": {
      "text/plain": [
       "Index(['index', 'client_id', 'session_id', 'input', 'next_unit_hit',\n",
       "       'previous_unit_hit', 'response_condition', 'response_text',\n",
       "       'related_links', 'time_submitted_cst', 'time_submitted', 'category'],\n",
       "      dtype='object')"
      ]
     },
     "execution_count": 52,
     "metadata": {},
     "output_type": "execute_result"
    }
   ],
   "source": [
    "df.columns"
   ]
  },
  {
   "cell_type": "code",
   "execution_count": 53,
   "metadata": {},
   "outputs": [],
   "source": [
    "df.drop(['index','time_submitted_cst'],inplace=True,axis=1)"
   ]
  },
  {
   "cell_type": "code",
   "execution_count": 54,
   "metadata": {},
   "outputs": [
    {
     "data": {
      "text/html": [
       "<div>\n",
       "<style scoped>\n",
       "    .dataframe tbody tr th:only-of-type {\n",
       "        vertical-align: middle;\n",
       "    }\n",
       "\n",
       "    .dataframe tbody tr th {\n",
       "        vertical-align: top;\n",
       "    }\n",
       "\n",
       "    .dataframe thead th {\n",
       "        text-align: right;\n",
       "    }\n",
       "</style>\n",
       "<table border=\"1\" class=\"dataframe\">\n",
       "  <thead>\n",
       "    <tr style=\"text-align: right;\">\n",
       "      <th></th>\n",
       "      <th>client_id</th>\n",
       "      <th>session_id</th>\n",
       "      <th>input</th>\n",
       "      <th>next_unit_hit</th>\n",
       "      <th>previous_unit_hit</th>\n",
       "      <th>response_condition</th>\n",
       "      <th>response_text</th>\n",
       "      <th>related_links</th>\n",
       "      <th>time_submitted</th>\n",
       "      <th>category</th>\n",
       "    </tr>\n",
       "  </thead>\n",
       "  <tbody>\n",
       "    <tr>\n",
       "      <th>0</th>\n",
       "      <td>1141</td>\n",
       "      <td>839632</td>\n",
       "      <td>Child Care Spending Account</td>\n",
       "      <td>Health Care Spending Account Clarifier</td>\n",
       "      <td>View Account Clarifier</td>\n",
       "      <td>Core</td>\n",
       "      <td>Which account or plan are you asking about?</td>\n",
       "      <td>Pension Plan (Unit: View Pension Plan) Health ...</td>\n",
       "      <td>2017-12-05</td>\n",
       "      <td>Caregiving</td>\n",
       "    </tr>\n",
       "    <tr>\n",
       "      <th>1</th>\n",
       "      <td>3349</td>\n",
       "      <td>835276</td>\n",
       "      <td>again, I just need instructions on how to pull...</td>\n",
       "      <td>Second Tier Clarifier</td>\n",
       "      <td>IVA Not Helpful</td>\n",
       "      <td>Standard</td>\n",
       "      <td>I am not positive that I understand what you a...</td>\n",
       "      <td>How to Chat with Me (Unit: How to Chat with th...</td>\n",
       "      <td>2017-12-04</td>\n",
       "      <td>Unidentified</td>\n",
       "    </tr>\n",
       "    <tr>\n",
       "      <th>2</th>\n",
       "      <td>5977</td>\n",
       "      <td>874400</td>\n",
       "      <td>Cancel health coach appointment</td>\n",
       "      <td>Cancel Clarifier</td>\n",
       "      <td>AppEvent WelcomeUser</td>\n",
       "      <td>Core</td>\n",
       "      <td>There are 2 ways to cancel your benefits cover...</td>\n",
       "      <td>Annual Benefits Enrollment (Unit: Annual Enrol...</td>\n",
       "      <td>2017-12-20</td>\n",
       "      <td>Unidentified</td>\n",
       "    </tr>\n",
       "    <tr>\n",
       "      <th>3</th>\n",
       "      <td>3349</td>\n",
       "      <td>1046078</td>\n",
       "      <td>according to the instruction in that blooklet ...</td>\n",
       "      <td>I Don't Know</td>\n",
       "      <td>Health Reimbursement Account Clarifier</td>\n",
       "      <td>AT&amp;T Inc.</td>\n",
       "      <td>Please select the SPD - Health and Welfare Sum...</td>\n",
       "      <td>None</td>\n",
       "      <td>2018-02-14</td>\n",
       "      <td>Unidentified</td>\n",
       "    </tr>\n",
       "    <tr>\n",
       "      <th>4</th>\n",
       "      <td>245</td>\n",
       "      <td>1054023</td>\n",
       "      <td>I want to know if I will have baby how much is...</td>\n",
       "      <td>Benefits Clarifier</td>\n",
       "      <td>AppEvent WelcomeUser</td>\n",
       "      <td>Core</td>\n",
       "      <td>Choose from the links below for more benefits ...</td>\n",
       "      <td>Pension Benefits (Unit: Pension Clarifier) Den...</td>\n",
       "      <td>2018-02-16</td>\n",
       "      <td>maternity</td>\n",
       "    </tr>\n",
       "  </tbody>\n",
       "</table>\n",
       "</div>"
      ],
      "text/plain": [
       "   client_id  session_id                                              input  \\\n",
       "0       1141      839632                        Child Care Spending Account   \n",
       "1       3349      835276  again, I just need instructions on how to pull...   \n",
       "2       5977      874400                    Cancel health coach appointment   \n",
       "3       3349     1046078  according to the instruction in that blooklet ...   \n",
       "4        245     1054023  I want to know if I will have baby how much is...   \n",
       "\n",
       "                            next_unit_hit  \\\n",
       "0  Health Care Spending Account Clarifier   \n",
       "1                   Second Tier Clarifier   \n",
       "2                        Cancel Clarifier   \n",
       "3                            I Don't Know   \n",
       "4                      Benefits Clarifier   \n",
       "\n",
       "                        previous_unit_hit response_condition  \\\n",
       "0                  View Account Clarifier               Core   \n",
       "1                         IVA Not Helpful           Standard   \n",
       "2                    AppEvent WelcomeUser               Core   \n",
       "3  Health Reimbursement Account Clarifier          AT&T Inc.   \n",
       "4                    AppEvent WelcomeUser               Core   \n",
       "\n",
       "                                       response_text  \\\n",
       "0        Which account or plan are you asking about?   \n",
       "1  I am not positive that I understand what you a...   \n",
       "2  There are 2 ways to cancel your benefits cover...   \n",
       "3  Please select the SPD - Health and Welfare Sum...   \n",
       "4  Choose from the links below for more benefits ...   \n",
       "\n",
       "                                       related_links time_submitted  \\\n",
       "0  Pension Plan (Unit: View Pension Plan) Health ...     2017-12-05   \n",
       "1  How to Chat with Me (Unit: How to Chat with th...     2017-12-04   \n",
       "2  Annual Benefits Enrollment (Unit: Annual Enrol...     2017-12-20   \n",
       "3                                               None     2018-02-14   \n",
       "4  Pension Benefits (Unit: Pension Clarifier) Den...     2018-02-16   \n",
       "\n",
       "       category  \n",
       "0    Caregiving  \n",
       "1  Unidentified  \n",
       "2  Unidentified  \n",
       "3  Unidentified  \n",
       "4     maternity  "
      ]
     },
     "execution_count": 54,
     "metadata": {},
     "output_type": "execute_result"
    }
   ],
   "source": [
    "df.head()"
   ]
  },
  {
   "cell_type": "code",
   "execution_count": 55,
   "metadata": {},
   "outputs": [
    {
     "data": {
      "text/plain": [
       "Caregiving       31069\n",
       "Unidentified     27035\n",
       "maternity        11372\n",
       "Well being         203\n",
       "Mental Health       47\n",
       "Name: category, dtype: int64"
      ]
     },
     "execution_count": 55,
     "metadata": {},
     "output_type": "execute_result"
    }
   ],
   "source": [
    "df['category'].value_counts()"
   ]
  },
  {
   "cell_type": "code",
   "execution_count": 57,
   "metadata": {},
   "outputs": [],
   "source": [
    "df.to_csv('iva_final.csv')"
   ]
  },
  {
   "cell_type": "code",
   "execution_count": null,
   "metadata": {},
   "outputs": [],
   "source": []
  },
  {
   "cell_type": "code",
   "execution_count": null,
   "metadata": {},
   "outputs": [],
   "source": []
  },
  {
   "cell_type": "code",
   "execution_count": null,
   "metadata": {},
   "outputs": [],
   "source": []
  },
  {
   "cell_type": "code",
   "execution_count": null,
   "metadata": {},
   "outputs": [],
   "source": []
  },
  {
   "cell_type": "code",
   "execution_count": null,
   "metadata": {},
   "outputs": [],
   "source": []
  },
  {
   "cell_type": "code",
   "execution_count": 31,
   "metadata": {},
   "outputs": [],
   "source": []
  },
  {
   "cell_type": "code",
   "execution_count": null,
   "metadata": {},
   "outputs": [],
   "source": []
  },
  {
   "cell_type": "code",
   "execution_count": null,
   "metadata": {},
   "outputs": [],
   "source": []
  }
 ],
 "metadata": {
  "instance_type": "ml.t3.medium",
  "kernelspec": {
   "display_name": "python3 (adl-core-custom-docker/1)",
   "language": "python",
   "name": "python3__SAGEMAKER_INTERNAL__arn:aws:sagemaker:us-east-1:660999144548:image-version/adl-core-custom-docker/1"
  },
  "language_info": {
   "codemirror_mode": {
    "name": "ipython",
    "version": 3
   },
   "file_extension": ".py",
   "mimetype": "text/x-python",
   "name": "python",
   "nbconvert_exporter": "python",
   "pygments_lexer": "ipython3",
   "version": "3.9.12"
  }
 },
 "nbformat": 4,
 "nbformat_minor": 4
}
